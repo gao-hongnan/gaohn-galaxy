{
 "cells": [
  {
   "cell_type": "code",
   "execution_count": 230,
   "metadata": {},
   "outputs": [],
   "source": [
    "import math\n",
    "import numpy as np\n",
    "import matplotlib.pyplot as plt\n",
    "%matplotlib inline"
   ]
  },
  {
   "cell_type": "code",
   "execution_count": 231,
   "metadata": {},
   "outputs": [],
   "source": [
    "def f(x):\n",
    "  return 3*x**2 - 4*x + 5"
   ]
  },
  {
   "cell_type": "code",
   "execution_count": 232,
   "metadata": {},
   "outputs": [
    {
     "data": {
      "text/plain": [
       "20.0"
      ]
     },
     "execution_count": 232,
     "metadata": {},
     "output_type": "execute_result"
    }
   ],
   "source": [
    "f(3.0)"
   ]
  },
  {
   "cell_type": "code",
   "execution_count": 233,
   "metadata": {},
   "outputs": [
    {
     "data": {
      "text/plain": [
       "<matplotlib.collections.LineCollection at 0x7fbedb6ff700>"
      ]
     },
     "execution_count": 233,
     "metadata": {},
     "output_type": "execute_result"
    },
    {
     "data": {
      "image/png": "[encoded data removed]",
      "text/plain": [
       "<Figure size 640x480 with 1 Axes>"
      ]
     },
     "metadata": {},
     "output_type": "display_data"
    }
   ],
   "source": [
    "xs = np.arange(-5, 5, 0.25) # -5, -4.75, -4.5, ..., 4.5, 4.75\n",
    "ys = f(xs) # apply f to each element of xs\n",
    "\n",
    "plt.plot(xs, ys) # plot the points (xs[i], ys[i])\n",
    "plt.ylim(ymin=0) # set the y-axis lower bound to 0\n",
    "# draw a horizontal line at x=3\n",
    "plt.vlines(3, 0, 20, color='red', linestyles='dashed')"
   ]
  },
  {
   "attachments": {},
   "cell_type": "markdown",
   "metadata": {},
   "source": [
    "At this point, Andrej reminded us to go back and understand the definition of derivatives.\n",
    "Derivatives are a fundamental concept in calculus that help us understand how a function changes as we vary its input. In simpler terms, the derivative of a function measures how much the function changes for a small change in its input.\n",
    "\n",
    "By the definition:\n",
    "\n",
    "$$\n",
    "\\frac{df}{dx} = \\lim_{h \\to 0} \\frac{f(x+h) - f(x)}{h}\n",
    "$$"
   ]
  },
  {
   "attachments": {},
   "cell_type": "markdown",
   "metadata": {},
   "source": [
    "He asked us at the point $x=3$, what does the formula above tell us? It simply means if we give a small\n",
    "nudge $h$ to $x$, how much does the function change? Let's say $h=0.000001$, then before we calculate the derivative, we ask ourselves visually on the graph above, if we add $h$ to $x$, this is shifting right by $h$, how much does the function change by inspection? By inspection, we can easily see that the function output\n",
    "$f(x+h)$ will be a bit higher than $f(x)$ at $3$. So the derivative is positive, meaning it responds positively to a small change in $x$."
   ]
  },
  {
   "cell_type": "code",
   "execution_count": 234,
   "metadata": {},
   "outputs": [
    {
     "data": {
      "text/plain": [
       "14.000003002223593"
      ]
     },
     "execution_count": 234,
     "metadata": {},
     "output_type": "execute_result"
    }
   ],
   "source": [
    "h = 0.000001\n",
    "x = 3\n",
    "(f(x + h) - f(x))/h # indeed is close to 14, the theoratical derivative of f at x=3"
   ]
  },
  {
   "attachments": {},
   "cell_type": "markdown",
   "metadata": {},
   "source": [
    "And at $x=\\frac{2}{3}$, this is where $f$ is at a minimum, so the derivative is zero. This means\n",
    "that if we give a small nudge to $x$, the function output will not change at all"
   ]
  },
  {
   "cell_type": "code",
   "execution_count": 235,
   "metadata": {},
   "outputs": [
    {
     "data": {
      "text/plain": [
       "0.0"
      ]
     },
     "execution_count": 235,
     "metadata": {},
     "output_type": "execute_result"
    }
   ],
   "source": [
    "h = 0.00000001\n",
    "x = 2/3\n",
    "(f(x + h) - f(x))/h"
   ]
  },
  {
   "attachments": {},
   "cell_type": "markdown",
   "metadata": {},
   "source": [
    "Now let $d(a, b, c) = a \\times b + c$ be a multi-variable function where\n",
    "$a,b , c$ are variables."
   ]
  },
  {
   "cell_type": "code",
   "execution_count": 236,
   "metadata": {},
   "outputs": [
    {
     "name": "stdout",
     "output_type": "stream",
     "text": [
      "4.0\n"
     ]
    }
   ],
   "source": [
    "# let's get more complex\n",
    "a = 2.0\n",
    "b = -3.0\n",
    "c = 10.0\n",
    "d = a*b + c\n",
    "print(d)"
   ]
  },
  {
   "attachments": {},
   "cell_type": "markdown",
   "metadata": {},
   "source": [
    "Here is partial differentiation, which is a concept that if your function is a function of multiple variables, you can take the derivative of each variable separately. For example, if we have a function $f(x,y)$, then we can take the derivative of $x$ while holding $y$ constant to get $\\frac{\\partial f}{\\partial x}$. Then this \n",
    "simply reduce your problem to a single variable problem, just like previously."
   ]
  },
  {
   "cell_type": "code",
   "execution_count": 237,
   "metadata": {},
   "outputs": [],
   "source": [
    "h = 0.0001\n",
    "\n",
    "# inputs\n",
    "a = 2.0\n",
    "b = -3.0\n",
    "c = 10.0"
   ]
  },
  {
   "cell_type": "code",
   "execution_count": 238,
   "metadata": {},
   "outputs": [
    {
     "name": "stdout",
     "output_type": "stream",
     "text": [
      "d1 4.0\n",
      "d2 3.999699999999999\n",
      "slope -3.000000000010772\n"
     ]
    }
   ],
   "source": [
    "d1 = a*b + c\n",
    "a += h\n",
    "d2 = a*b + c\n",
    "\n",
    "print('d1', d1)\n",
    "print('d2', d2)\n",
    "print('slope', (d2 - d1)/h)"
   ]
  },
  {
   "cell_type": "code",
   "execution_count": 239,
   "metadata": {},
   "outputs": [
    {
     "name": "stdout",
     "output_type": "stream",
     "text": [
      "d1 3.999699999999999\n",
      "d2 3.99990001\n",
      "slope 2.0001000000124947\n"
     ]
    }
   ],
   "source": [
    "d1 = a*b + c\n",
    "b += h\n",
    "d2 = a*b + c\n",
    "\n",
    "print('d1', d1)\n",
    "print('d2', d2)\n",
    "print('slope', (d2 - d1)/h)"
   ]
  },
  {
   "cell_type": "code",
   "execution_count": 240,
   "metadata": {},
   "outputs": [
    {
     "name": "stdout",
     "output_type": "stream",
     "text": [
      "d1 3.99990001\n",
      "d2 4.00000001\n",
      "slope 0.9999999999976694\n"
     ]
    }
   ],
   "source": [
    "d1 = a*b + c\n",
    "c += h\n",
    "d2 = a*b + c\n",
    "\n",
    "print('d1', d1)\n",
    "print('d2', d2)\n",
    "print('slope', (d2 - d1)/h)"
   ]
  },
  {
   "attachments": {},
   "cell_type": "markdown",
   "metadata": {},
   "source": [
    "## Building Micrograd\n",
    "\n",
    "Note the `Value` class below is analogous to the `Tensor`/`Variable` class in PyTorch."
   ]
  },
  {
   "attachments": {},
   "cell_type": "markdown",
   "metadata": {},
   "source": [
    "### Initial Value Class"
   ]
  },
  {
   "cell_type": "code",
   "execution_count": 241,
   "metadata": {},
   "outputs": [],
   "source": [
    "from typing import Tuple, TypeVar\n",
    "\n",
    "Val = TypeVar('Val', float, int, np.ndarray)"
   ]
  },
  {
   "cell_type": "code",
   "execution_count": 242,
   "metadata": {},
   "outputs": [],
   "source": [
    "class Value:\n",
    "    def __init__(self, data: Val) -> None:\n",
    "        self.data = data\n",
    "\n",
    "    def __repr__(self) -> str:\n",
    "        \"\"\"Represent the object as a string.\"\"\"\n",
    "        return f\"Value(data={self.data})\"\n",
    "\n",
    "    def __add__(self, other: Val) -> Val:\n",
    "        out = Value(data=self.data + other.data)\n",
    "        return out\n",
    "\n",
    "    def __mul__(self, other: Val) -> Val:\n",
    "        out = Value(data=self.data * other.data)\n",
    "        return out"
   ]
  },
  {
   "cell_type": "code",
   "execution_count": 243,
   "metadata": {},
   "outputs": [
    {
     "name": "stdout",
     "output_type": "stream",
     "text": [
      "Value(data=-1.0)\n",
      "Value(data=-1.0)\n",
      "Value(data=4.0)\n",
      "Value(data=4.0)\n"
     ]
    }
   ],
   "source": [
    "a = Value(2.0)\n",
    "b = Value(-3.0)\n",
    "print(a + b)\n",
    "print(a.__add__(b))\n",
    "\n",
    "c = Value(10.0)\n",
    "d = a * b + c  # recall the example earlier d=ab+c\n",
    "print(d)\n",
    "print(a.__mul__(b).__add__(c))"
   ]
  },
  {
   "attachments": {},
   "cell_type": "markdown",
   "metadata": {},
   "source": [
    "### Children"
   ]
  },
  {
   "cell_type": "code",
   "execution_count": 244,
   "metadata": {},
   "outputs": [],
   "source": [
    "class Value:\n",
    "  \n",
    "    def __init__(self, data: Val, _children: Tuple = ()) -> None:\n",
    "        self.data = data\n",
    "        self._prev = set(_children)\n",
    "    \n",
    "    def __repr__(self) -> str:\n",
    "        \"\"\"Represent the object as a string.\"\"\"\n",
    "        return f\"Value(data={self.data})\"\n",
    "\n",
    "\n",
    "    def __add__(self, other: Val) -> Val:\n",
    "        print(self)\n",
    "        out = Value(data=self.data + other.data, _children=(self, other))\n",
    "        print(self)\n",
    "        return out\n",
    "    \n",
    "    def __mul__(self, other: Val) -> Val:\n",
    "        out = Value(data=self.data * other.data, _children=(self, other))\n",
    "        return out"
   ]
  },
  {
   "cell_type": "code",
   "execution_count": 245,
   "metadata": {},
   "outputs": [
    {
     "name": "stdout",
     "output_type": "stream",
     "text": [
      "Value(data=-6.0)\n",
      "Value(data=-6.0)\n",
      "d         =   Value(data=4.0)\n",
      "d._prev   =   {Value(data=-6.0), Value(data=10.0)}\n"
     ]
    }
   ],
   "source": [
    "a = Value(2.0)\n",
    "b = Value(-3.0)\n",
    "c = Value(10.0)\n",
    "d = a * b + c  # recall the example earlier d=ab+c\n",
    "print(f\"d         =   {d}\")\n",
    "print(f\"d._prev   =   {d._prev}\")"
   ]
  },
  {
   "attachments": {},
   "cell_type": "markdown",
   "metadata": {},
   "source": [
    "`d._prev` returned the previous value of `d` in the computation graph. More\n",
    "concretely, `d._prev` calls `set(d._children)` and `_children = (self, other)`\n",
    "where `self` is the current value and `other` is the other value in the computation.\n",
    "In our example, `self` is just the value of the expression `a * b` and `other` is the\n",
    "value of the expression `c`. So `d._prev` returns `{a * b, c}`."
   ]
  },
  {
   "attachments": {},
   "cell_type": "markdown",
   "metadata": {},
   "source": [
    "### Operations\n",
    "\n",
    "We can also add `_op` to the constructor to indicate what operation was done between\n",
    "the `_prev` two pairs of values. In our example, it should be a \"+\" operation."
   ]
  },
  {
   "cell_type": "code",
   "execution_count": 246,
   "metadata": {},
   "outputs": [],
   "source": [
    "class Value:\n",
    "    def __init__(self, data: Val, _children: Tuple = (), _op: str = \"\") -> None:\n",
    "        self.data = data\n",
    "        self._prev = set(_children)\n",
    "        self._op = _op\n",
    "\n",
    "    def __repr__(self) -> str:\n",
    "        \"\"\"Represent the object as a string.\"\"\"\n",
    "        return f\"Value(data={self.data})\"\n",
    "\n",
    "    def __add__(self, other: Val) -> Val:\n",
    "        out = Value(data=self.data + other.data, _children=(self, other), _op=\"+\")\n",
    "        return out\n",
    "\n",
    "    def __mul__(self, other: Val) -> Val:\n",
    "        out = Value(data=self.data * other.data, _children=(self, other), _op=\"*\")\n",
    "        return out\n"
   ]
  },
  {
   "cell_type": "code",
   "execution_count": 247,
   "metadata": {},
   "outputs": [
    {
     "name": "stdout",
     "output_type": "stream",
     "text": [
      "d         =   Value(data=4.0)\n",
      "d._prev   =   {Value(data=10.0), Value(data=-6.0)}\n",
      "d._op     =   +\n"
     ]
    }
   ],
   "source": [
    "a = Value(2.0)\n",
    "b = Value(-3.0)\n",
    "c = Value(10.0)\n",
    "d = a * b + c  # recall the example earlier d=ab+c\n",
    "print(f\"d         =   {d}\")\n",
    "print(f\"d._prev   =   {d._prev}\")\n",
    "print(f\"d._op     =   {d._op}\")"
   ]
  },
  {
   "attachments": {},
   "cell_type": "markdown",
   "metadata": {},
   "source": [
    "### Labels\n",
    "\n",
    "We can also add `_label` to the constructor to indicate what the value is. "
   ]
  },
  {
   "cell_type": "code",
   "execution_count": 248,
   "metadata": {},
   "outputs": [],
   "source": [
    "class Value:\n",
    "    def __init__(\n",
    "        self, data: Val, _children: Tuple = (), _op: str = \"\", label: str = \"\"\n",
    "    ) -> None:\n",
    "        self.data = data\n",
    "        self._prev = set(_children)\n",
    "        self._op = _op\n",
    "        self.label = label\n",
    "\n",
    "    def __repr__(self) -> str:\n",
    "        \"\"\"Represent the object as a string.\"\"\"\n",
    "        return f\"Value(data={self.data})\"\n",
    "\n",
    "    def __add__(self, other: Val) -> Val:\n",
    "        out = Value(data=self.data + other.data, _children=(self, other), _op=\"+\")\n",
    "        return out\n",
    "\n",
    "    def __mul__(self, other: Val) -> Val:\n",
    "        out = Value(data=self.data * other.data, _children=(self, other), _op=\"*\")\n",
    "        return out"
   ]
  },
  {
   "cell_type": "code",
   "execution_count": 249,
   "metadata": {},
   "outputs": [
    {
     "name": "stdout",
     "output_type": "stream",
     "text": [
      "d         =   Value(data=4.0)\n",
      "d._prev   =   {Value(data=-6.0), Value(data=10.0)}\n",
      "d._op     =   +\n",
      "d.label   =   d\n"
     ]
    }
   ],
   "source": [
    "a = Value(2.0, label=\"a\")\n",
    "b = Value(-3.0, label=\"b\")\n",
    "c = Value(10.0, label=\"c\")\n",
    "d = a * b + c  # recall the example earlier d=ab+c\n",
    "d.label = \"d\"\n",
    "print(f\"d         =   {d}\")\n",
    "print(f\"d._prev   =   {d._prev}\")\n",
    "print(f\"d._op     =   {d._op}\")\n",
    "print(f\"d.label   =   {d.label}\")"
   ]
  },
  {
   "attachments": {},
   "cell_type": "markdown",
   "metadata": {},
   "source": [
    "### Grad Attribute\n",
    "\n",
    "We know that we not only need to forward pass, we need to calculate the gradient of the loss function with respect to the input variables. We can do this by adding a `grad` attribute to the `Value` class."
   ]
  },
  {
   "cell_type": "code",
   "execution_count": 250,
   "metadata": {},
   "outputs": [],
   "source": [
    "class Value:\n",
    "    def __init__(\n",
    "        self, data: Val, _children: Tuple = (), _op: str = \"\", label: str = \"\"\n",
    "    ) -> None:\n",
    "        self.data = data\n",
    "        self._prev = set(_children)\n",
    "        self._op = _op\n",
    "        self.label = label\n",
    "\n",
    "        self.grad: Val = 0.0\n",
    "\n",
    "    def __repr__(self) -> str:\n",
    "        \"\"\"Represent the object as a string.\"\"\"\n",
    "        return f\"Value(data={self.data})\"\n",
    "\n",
    "    def __add__(self, other: Val) -> Val:\n",
    "        out = Value(data=self.data + other.data, _children=(self, other), _op=\"+\")\n",
    "        return out\n",
    "\n",
    "    def __mul__(self, other: Val) -> Val:\n",
    "        out = Value(data=self.data * other.data, _children=(self, other), _op=\"*\")\n",
    "        return out\n"
   ]
  },
  {
   "cell_type": "code",
   "execution_count": 251,
   "metadata": {},
   "outputs": [
    {
     "name": "stdout",
     "output_type": "stream",
     "text": [
      "d         =   Value(data=4.0)\n",
      "d._prev   =   {Value(data=-6.0), Value(data=10.0)}\n",
      "d._op     =   +\n",
      "d.label   =   d\n",
      "d.grad    =   0.0\n"
     ]
    }
   ],
   "source": [
    "a = Value(2.0, label=\"a\")\n",
    "b = Value(-3.0, label=\"b\")\n",
    "c = Value(10.0, label=\"c\")\n",
    "d = a * b + c  # recall the example earlier d=ab+c\n",
    "d.label = \"d\"\n",
    "print(f\"d         =   {d}\")\n",
    "print(f\"d._prev   =   {d._prev}\")\n",
    "print(f\"d._op     =   {d._op}\")\n",
    "print(f\"d.label   =   {d.label}\")\n",
    "print(f\"d.grad    =   {d.grad}\")"
   ]
  },
  {
   "attachments": {},
   "cell_type": "markdown",
   "metadata": {},
   "source": [
    "### Graphviz\n",
    "\n",
    "Visualizing the computation graph is a great way to understand what is going on. "
   ]
  },
  {
   "cell_type": "code",
   "execution_count": 252,
   "metadata": {},
   "outputs": [],
   "source": [
    "from graphviz import Digraph\n",
    "\n",
    "def trace(root):\n",
    "    # builds a set of all nodes and edges in a graph\n",
    "    nodes, edges = set(), set()\n",
    "\n",
    "    def build(v):\n",
    "        if v not in nodes:\n",
    "            nodes.add(v)\n",
    "            for child in v._prev:\n",
    "                edges.add((child, v))\n",
    "                build(child)\n",
    "\n",
    "    build(root)\n",
    "    return nodes, edges\n",
    "\n",
    "\n",
    "def draw_dot(root):\n",
    "    dot = Digraph(format=\"svg\", graph_attr={\"rankdir\": \"LR\"})  # LR = left to right\n",
    "\n",
    "    nodes, edges = trace(root)\n",
    "    for n in nodes:\n",
    "        uid = str(id(n))\n",
    "        # for any value in the graph, create a rectangular ('record') node for it\n",
    "        dot.node(\n",
    "            name=uid,\n",
    "            label=\"{ %s | data %.4f | grad %.4f }\" % (n.label, n.data, n.grad),\n",
    "            shape=\"record\",\n",
    "        )\n",
    "        if n._op:\n",
    "            # if this value is a result of some operation, create an op node for it\n",
    "            dot.node(name=uid + n._op, label=n._op)\n",
    "            # and connect this node to it\n",
    "            dot.edge(uid + n._op, uid)\n",
    "\n",
    "    for n1, n2 in edges:\n",
    "        # connect n1 to the op node of n2\n",
    "        dot.edge(str(id(n1)), str(id(n2)) + n2._op)\n",
    "\n",
    "    return dot\n"
   ]
  },
  {
   "cell_type": "code",
   "execution_count": 284,
   "metadata": {},
   "outputs": [
    {
     "name": "stdout",
     "output_type": "stream",
     "text": [
      "d         =   Value(data=4.0)\n",
      "d._prev   =   {Value(data=-6.0), Value(data=10.0)}\n",
      "d._op     =   +\n",
      "d.label   =   d\n",
      "d.grad    =   0.0\n"
     ]
    }
   ],
   "source": [
    "a = Value(2.0, label=\"a\")\n",
    "b = Value(-3.0, label=\"b\")\n",
    "c = Value(10.0, label=\"c\")\n",
    "d = a * b + c  # recall the example earlier d=ab+c\n",
    "d.label = \"d\"\n",
    "print(f\"d         =   {d}\")\n",
    "print(f\"d._prev   =   {d._prev}\")\n",
    "print(f\"d._op     =   {d._op}\")\n",
    "print(f\"d.label   =   {d.label}\")\n",
    "print(f\"d.grad    =   {d.grad}\")"
   ]
  },
  {
   "cell_type": "code",
   "execution_count": 285,
   "metadata": {},
   "outputs": [
    {
     "data": {
      "image/svg+xml": "<?xml version=\"1.0\" encoding=\"UTF-8\" standalone=\"no\"?>\n<!DOCTYPE svg PUBLIC \"-//W3C//DTD SVG 1.1//EN\"\n \"http://www.w3.org/Graphics/SVG/1.1/DTD/svg11.dtd\">\n<!-- Generated by graphviz version 7.1.0 (20230121.1956)\n -->\n<!-- Pages: 1 -->\n<svg width=\"827pt\" height=\"127pt\"\n viewBox=\"0.00 0.00 827.00 127.00\" xmlns=\"http://www.w3.org/2000/svg\" xmlns:xlink=\"http://www.w3.org/1999/xlink\">\n<g id=\"graph0\" class=\"graph\" transform=\"scale(1 1) rotate(0) translate(4 123)\">\n<polygon fill=\"white\" stroke=\"none\" points=\"-4,4 -4,-123 823,-123 823,4 -4,4\"/>\n<!-- 140457702855296 -->\n<g id=\"node1\" class=\"node\">\n<title>140457702855296</title>\n<polygon fill=\"none\" stroke=\"black\" points=\"318.5,-27.5 318.5,-63.5 505.5,-63.5 505.5,-27.5 318.5,-27.5\"/>\n<text text-anchor=\"middle\" x=\"328.5\" y=\"-41.8\" font-family=\"Times,serif\" font-size=\"14.00\"> </text>\n<polyline fill=\"none\" stroke=\"black\" points=\"338.5,-27.5 338.5,-63.5\"/>\n<text text-anchor=\"middle\" x=\"381\" y=\"-41.8\" font-family=\"Times,serif\" font-size=\"14.00\">data &#45;6.0000</text>\n<polyline fill=\"none\" stroke=\"black\" points=\"423.5,-27.5 423.5,-63.5\"/>\n<text text-anchor=\"middle\" x=\"464.5\" y=\"-41.8\" font-family=\"Times,serif\" font-size=\"14.00\">grad 0.0000</text>\n</g>\n<!-- 140457702855488+ -->\n<g id=\"node6\" class=\"node\">\n<title>140457702855488+</title>\n<ellipse fill=\"none\" stroke=\"black\" cx=\"571\" cy=\"-72.5\" rx=\"27\" ry=\"18\"/>\n<text text-anchor=\"middle\" x=\"571\" y=\"-68.8\" font-family=\"Times,serif\" font-size=\"14.00\">+</text>\n</g>\n<!-- 140457702855296&#45;&gt;140457702855488+ -->\n<g id=\"edge6\" class=\"edge\">\n<title>140457702855296&#45;&gt;140457702855488+</title>\n<path fill=\"none\" stroke=\"black\" d=\"M505.24,-61.36C515.15,-63.07 524.76,-64.72 533.41,-66.21\"/>\n<polygon fill=\"black\" stroke=\"black\" points=\"532.61,-69.62 543.05,-67.87 533.79,-62.72 532.61,-69.62\"/>\n</g>\n<!-- 140457702855296* -->\n<g id=\"node2\" class=\"node\">\n<title>140457702855296*</title>\n<ellipse fill=\"none\" stroke=\"black\" cx=\"253\" cy=\"-45.5\" rx=\"27\" ry=\"18\"/>\n<text text-anchor=\"middle\" x=\"253\" y=\"-41.8\" font-family=\"Times,serif\" font-size=\"14.00\">*</text>\n</g>\n<!-- 140457702855296*&#45;&gt;140457702855296 -->\n<g id=\"edge1\" class=\"edge\">\n<title>140457702855296*&#45;&gt;140457702855296</title>\n<path fill=\"none\" stroke=\"black\" d=\"M280.28,-45.5C288.21,-45.5 297.43,-45.5 307.25,-45.5\"/>\n<polygon fill=\"black\" stroke=\"black\" points=\"307.04,-49 317.04,-45.5 307.04,-42 307.04,-49\"/>\n</g>\n<!-- 140457702854816 -->\n<g id=\"node3\" class=\"node\">\n<title>140457702854816</title>\n<polygon fill=\"none\" stroke=\"black\" points=\"0,-55.5 0,-91.5 190,-91.5 190,-55.5 0,-55.5\"/>\n<text text-anchor=\"middle\" x=\"11.5\" y=\"-69.8\" font-family=\"Times,serif\" font-size=\"14.00\">b</text>\n<polyline fill=\"none\" stroke=\"black\" points=\"23,-55.5 23,-91.5\"/>\n<text text-anchor=\"middle\" x=\"65.5\" y=\"-69.8\" font-family=\"Times,serif\" font-size=\"14.00\">data &#45;3.0000</text>\n<polyline fill=\"none\" stroke=\"black\" points=\"108,-55.5 108,-91.5\"/>\n<text text-anchor=\"middle\" x=\"149\" y=\"-69.8\" font-family=\"Times,serif\" font-size=\"14.00\">grad 0.0000</text>\n</g>\n<!-- 140457702854816&#45;&gt;140457702855296* -->\n<g id=\"edge5\" class=\"edge\">\n<title>140457702854816&#45;&gt;140457702855296*</title>\n<path fill=\"none\" stroke=\"black\" d=\"M189.9,-56.65C198.81,-55.05 207.43,-53.5 215.28,-52.09\"/>\n<polygon fill=\"black\" stroke=\"black\" points=\"215.8,-55.55 225.02,-50.34 214.56,-48.66 215.8,-55.55\"/>\n</g>\n<!-- 140457702854960 -->\n<g id=\"node4\" class=\"node\">\n<title>140457702854960</title>\n<polygon fill=\"none\" stroke=\"black\" points=\"2.5,-0.5 2.5,-36.5 187.5,-36.5 187.5,-0.5 2.5,-0.5\"/>\n<text text-anchor=\"middle\" x=\"14\" y=\"-14.8\" font-family=\"Times,serif\" font-size=\"14.00\">a</text>\n<polyline fill=\"none\" stroke=\"black\" points=\"25.5,-0.5 25.5,-36.5\"/>\n<text text-anchor=\"middle\" x=\"65.5\" y=\"-14.8\" font-family=\"Times,serif\" font-size=\"14.00\">data 2.0000</text>\n<polyline fill=\"none\" stroke=\"black\" points=\"105.5,-0.5 105.5,-36.5\"/>\n<text text-anchor=\"middle\" x=\"146.5\" y=\"-14.8\" font-family=\"Times,serif\" font-size=\"14.00\">grad 0.0000</text>\n</g>\n<!-- 140457702854960&#45;&gt;140457702855296* -->\n<g id=\"edge3\" class=\"edge\">\n<title>140457702854960&#45;&gt;140457702855296*</title>\n<path fill=\"none\" stroke=\"black\" d=\"M187.2,-34.28C197.1,-36 206.71,-37.66 215.36,-39.16\"/>\n<polygon fill=\"black\" stroke=\"black\" points=\"214.57,-42.57 225.02,-40.83 215.76,-35.68 214.57,-42.57\"/>\n</g>\n<!-- 140457702855488 -->\n<g id=\"node5\" class=\"node\">\n<title>140457702855488</title>\n<polygon fill=\"none\" stroke=\"black\" points=\"634,-54.5 634,-90.5 819,-90.5 819,-54.5 634,-54.5\"/>\n<text text-anchor=\"middle\" x=\"645.5\" y=\"-68.8\" font-family=\"Times,serif\" font-size=\"14.00\">d</text>\n<polyline fill=\"none\" stroke=\"black\" points=\"657,-54.5 657,-90.5\"/>\n<text text-anchor=\"middle\" x=\"697\" y=\"-68.8\" font-family=\"Times,serif\" font-size=\"14.00\">data 4.0000</text>\n<polyline fill=\"none\" stroke=\"black\" points=\"737,-54.5 737,-90.5\"/>\n<text text-anchor=\"middle\" x=\"778\" y=\"-68.8\" font-family=\"Times,serif\" font-size=\"14.00\">grad 0.0000</text>\n</g>\n<!-- 140457702855488+&#45;&gt;140457702855488 -->\n<g id=\"edge2\" class=\"edge\">\n<title>140457702855488+&#45;&gt;140457702855488</title>\n<path fill=\"none\" stroke=\"black\" d=\"M598.39,-72.5C605.62,-72.5 613.92,-72.5 622.74,-72.5\"/>\n<polygon fill=\"black\" stroke=\"black\" points=\"622.64,-76 632.64,-72.5 622.64,-69 622.64,-76\"/>\n</g>\n<!-- 140457702855008 -->\n<g id=\"node7\" class=\"node\">\n<title>140457702855008</title>\n<polygon fill=\"none\" stroke=\"black\" points=\"316,-82.5 316,-118.5 508,-118.5 508,-82.5 316,-82.5\"/>\n<text text-anchor=\"middle\" x=\"327.5\" y=\"-96.8\" font-family=\"Times,serif\" font-size=\"14.00\">c</text>\n<polyline fill=\"none\" stroke=\"black\" points=\"339,-82.5 339,-118.5\"/>\n<text text-anchor=\"middle\" x=\"382.5\" y=\"-96.8\" font-family=\"Times,serif\" font-size=\"14.00\">data 10.0000</text>\n<polyline fill=\"none\" stroke=\"black\" points=\"426,-82.5 426,-118.5\"/>\n<text text-anchor=\"middle\" x=\"467\" y=\"-96.8\" font-family=\"Times,serif\" font-size=\"14.00\">grad 0.0000</text>\n</g>\n<!-- 140457702855008&#45;&gt;140457702855488+ -->\n<g id=\"edge4\" class=\"edge\">\n<title>140457702855008&#45;&gt;140457702855488+</title>\n<path fill=\"none\" stroke=\"black\" d=\"M507.95,-83.57C516.87,-81.98 525.49,-80.44 533.33,-79.04\"/>\n<polygon fill=\"black\" stroke=\"black\" points=\"533.84,-82.5 543.07,-77.3 532.61,-75.61 533.84,-82.5\"/>\n</g>\n</g>\n</svg>\n",
      "text/plain": [
       "<graphviz.graphs.Digraph at 0x7fbedb7a5820>"
      ]
     },
     "execution_count": 285,
     "metadata": {},
     "output_type": "execute_result"
    }
   ],
   "source": [
    "draw_dot(d)"
   ]
  },
  {
   "attachments": {},
   "cell_type": "markdown",
   "metadata": {},
   "source": [
    "Notice that all the gradients are zero by default."
   ]
  },
  {
   "attachments": {},
   "cell_type": "markdown",
   "metadata": {},
   "source": [
    "### Dummy Loss Function\n",
    "\n",
    "Let us define a dummy loss function that represents the loss of our model from a forward pass. \n",
    "\n",
    "$$\n",
    "\\mathcal{L} = d \\times f = (e+c) \\times f = \\left(\\overbrace{\\underbrace{a \\times b}_{\\text{e}} + c}^{\\text{d}}\\right) \\times f\n",
    "$$\n",
    "\n",
    "to compute the gradient of the loss function $\\mathcal{L}$ with respect to all of the input variables $a$, $b$, $c$, $d$, $e$, and $f$, we can use the chain rule of differentiation. The chain rule states that if we have a function $y = f(g(x))$, then its derivative is given by:\n",
    "\n",
    "$$\\frac{dy}{dx} = \\frac{df}{dg} \\times \\frac{dg}{dx}$$\n",
    "\n",
    "In our case, we have the loss function $\\mathcal{L}$ defined as:\n",
    "\n",
    "$$\\mathcal{L} = d \\times f = (e+c) \\times f = \\left(a \\times b + c\\right) \\times f$$\n",
    "\n",
    "where $d = e + c$ and $e = a \\times b$. To compute the gradient of $\\mathcal{L}$ with respect to all of the input variables, we can use the chain rule as follows:\n",
    "\n",
    "$$\\frac{\\partial \\mathcal{L}}{\\partial f} = d = a \\times b + c$$\n",
    "\n",
    "\n",
    "$$\\frac{\\partial \\mathcal{L}}{\\partial a} = \\frac{\\partial \\mathcal{L}}{\\partial e} \\times \\frac{\\partial e}{\\partial a} = f \\times b$$\n",
    "\n",
    "$$\\frac{\\partial \\mathcal{L}}{\\partial b} = \\frac{\\partial \\mathcal{L}}{\\partial e} \\times \\frac{\\partial e}{\\partial b} = f \\times a$$\n",
    "\n",
    "$$\\frac{\\partial \\mathcal{L}}{\\partial c} = \\frac{\\partial \\mathcal{L}}{\\partial d} \\times \\frac{\\partial d}{\\partial c} = f$$\n",
    "\n",
    "$$\\frac{\\partial \\mathcal{L}}{\\partial d} = f$$\n",
    "\n",
    "$$\\frac{\\partial \\mathcal{L}}{\\partial e} = \\frac{\\partial \\mathcal{L}}{\\partial d} \\times \\frac{\\partial d}{\\partial e} = f$$\n",
    "\n",
    "\n",
    "\n",
    "In the above equations, we use the fact that $\\frac{\\partial d}{\\partial c} = 1$ since $d$ is a linear combination of $c$, and $\\frac{\\partial d}{\\partial e} = 1$ since $d$ is a linear combination of $e$.\n",
    "\n",
    "In code:\n",
    "\n",
    "```python\n",
    "def loss(a, b, c, d, e, f) -> float:\n",
    "    e = a + b\n",
    "    d = e + c\n",
    "    L = d * f\n",
    "    return L\n",
    "```"
   ]
  },
  {
   "cell_type": "code",
   "execution_count": 254,
   "metadata": {},
   "outputs": [
    {
     "data": {
      "text/plain": [
       "Value(data=-8.0)"
      ]
     },
     "execution_count": 254,
     "metadata": {},
     "output_type": "execute_result"
    }
   ],
   "source": [
    "a = Value(2.0, label=\"a\")\n",
    "b = Value(-3.0, label=\"b\")\n",
    "c = Value(10.0, label=\"c\")\n",
    "e = a * b\n",
    "e.label = \"e\"\n",
    "d = e + c\n",
    "d.label = \"d\"\n",
    "f = Value(-2.0, label=\"f\")\n",
    "L = d * f\n",
    "L.label = \"L\"\n",
    "L"
   ]
  },
  {
   "cell_type": "code",
   "execution_count": 286,
   "metadata": {},
   "outputs": [
    {
     "data": {
      "image/svg+xml": "<?xml version=\"1.0\" encoding=\"UTF-8\" standalone=\"no\"?>\n<!DOCTYPE svg PUBLIC \"-//W3C//DTD SVG 1.1//EN\"\n \"http://www.w3.org/Graphics/SVG/1.1/DTD/svg11.dtd\">\n<!-- Generated by graphviz version 7.1.0 (20230121.1956)\n -->\n<!-- Pages: 1 -->\n<svg width=\"1143pt\" height=\"154pt\"\n viewBox=\"0.00 0.00 1143.00 154.00\" xmlns=\"http://www.w3.org/2000/svg\" xmlns:xlink=\"http://www.w3.org/1999/xlink\">\n<g id=\"graph0\" class=\"graph\" transform=\"scale(1 1) rotate(0) translate(4 150)\">\n<polygon fill=\"white\" stroke=\"none\" points=\"-4,4 -4,-150 1139,-150 1139,4 -4,4\"/>\n<!-- 140457702225952 -->\n<g id=\"node1\" class=\"node\">\n<title>140457702225952</title>\n<polygon fill=\"none\" stroke=\"black\" points=\"318.5,-27.5 318.5,-63.5 505.5,-63.5 505.5,-27.5 318.5,-27.5\"/>\n<text text-anchor=\"middle\" x=\"328.5\" y=\"-41.8\" font-family=\"Times,serif\" font-size=\"14.00\"> </text>\n<polyline fill=\"none\" stroke=\"black\" points=\"338.5,-27.5 338.5,-63.5\"/>\n<text text-anchor=\"middle\" x=\"381\" y=\"-41.8\" font-family=\"Times,serif\" font-size=\"14.00\">data &#45;6.0000</text>\n<polyline fill=\"none\" stroke=\"black\" points=\"423.5,-27.5 423.5,-63.5\"/>\n<text text-anchor=\"middle\" x=\"464.5\" y=\"-41.8\" font-family=\"Times,serif\" font-size=\"14.00\">grad 0.0000</text>\n</g>\n<!-- 140457702226768+ -->\n<g id=\"node7\" class=\"node\">\n<title>140457702226768+</title>\n<ellipse fill=\"none\" stroke=\"black\" cx=\"571\" cy=\"-72.5\" rx=\"27\" ry=\"18\"/>\n<text text-anchor=\"middle\" x=\"571\" y=\"-68.8\" font-family=\"Times,serif\" font-size=\"14.00\">+</text>\n</g>\n<!-- 140457702225952&#45;&gt;140457702226768+ -->\n<g id=\"edge6\" class=\"edge\">\n<title>140457702225952&#45;&gt;140457702226768+</title>\n<path fill=\"none\" stroke=\"black\" d=\"M505.24,-61.36C515.15,-63.07 524.76,-64.72 533.41,-66.21\"/>\n<polygon fill=\"black\" stroke=\"black\" points=\"532.61,-69.62 543.05,-67.87 533.79,-62.72 532.61,-69.62\"/>\n</g>\n<!-- 140457702225952* -->\n<g id=\"node2\" class=\"node\">\n<title>140457702225952*</title>\n<ellipse fill=\"none\" stroke=\"black\" cx=\"253\" cy=\"-45.5\" rx=\"27\" ry=\"18\"/>\n<text text-anchor=\"middle\" x=\"253\" y=\"-41.8\" font-family=\"Times,serif\" font-size=\"14.00\">*</text>\n</g>\n<!-- 140457702225952*&#45;&gt;140457702225952 -->\n<g id=\"edge1\" class=\"edge\">\n<title>140457702225952*&#45;&gt;140457702225952</title>\n<path fill=\"none\" stroke=\"black\" d=\"M280.28,-45.5C288.21,-45.5 297.43,-45.5 307.25,-45.5\"/>\n<polygon fill=\"black\" stroke=\"black\" points=\"307.04,-49 317.04,-45.5 307.04,-42 307.04,-49\"/>\n</g>\n<!-- 140457702475424 -->\n<g id=\"node3\" class=\"node\">\n<title>140457702475424</title>\n<polygon fill=\"none\" stroke=\"black\" points=\"316,-82.5 316,-118.5 508,-118.5 508,-82.5 316,-82.5\"/>\n<text text-anchor=\"middle\" x=\"327.5\" y=\"-96.8\" font-family=\"Times,serif\" font-size=\"14.00\">c</text>\n<polyline fill=\"none\" stroke=\"black\" points=\"339,-82.5 339,-118.5\"/>\n<text text-anchor=\"middle\" x=\"382.5\" y=\"-96.8\" font-family=\"Times,serif\" font-size=\"14.00\">data 10.0000</text>\n<polyline fill=\"none\" stroke=\"black\" points=\"426,-82.5 426,-118.5\"/>\n<text text-anchor=\"middle\" x=\"467\" y=\"-96.8\" font-family=\"Times,serif\" font-size=\"14.00\">grad 0.0000</text>\n</g>\n<!-- 140457702475424&#45;&gt;140457702226768+ -->\n<g id=\"edge4\" class=\"edge\">\n<title>140457702475424&#45;&gt;140457702226768+</title>\n<path fill=\"none\" stroke=\"black\" d=\"M507.95,-83.57C516.87,-81.98 525.49,-80.44 533.33,-79.04\"/>\n<polygon fill=\"black\" stroke=\"black\" points=\"533.84,-82.5 543.07,-77.3 532.61,-75.61 533.84,-82.5\"/>\n</g>\n<!-- 140457702226624 -->\n<g id=\"node4\" class=\"node\">\n<title>140457702226624</title>\n<polygon fill=\"none\" stroke=\"black\" points=\"948,-81.5 948,-117.5 1135,-117.5 1135,-81.5 948,-81.5\"/>\n<text text-anchor=\"middle\" x=\"958\" y=\"-95.8\" font-family=\"Times,serif\" font-size=\"14.00\"> </text>\n<polyline fill=\"none\" stroke=\"black\" points=\"968,-81.5 968,-117.5\"/>\n<text text-anchor=\"middle\" x=\"1010.5\" y=\"-95.8\" font-family=\"Times,serif\" font-size=\"14.00\">data &#45;8.0000</text>\n<polyline fill=\"none\" stroke=\"black\" points=\"1053,-81.5 1053,-117.5\"/>\n<text text-anchor=\"middle\" x=\"1094\" y=\"-95.8\" font-family=\"Times,serif\" font-size=\"14.00\">grad 0.0000</text>\n</g>\n<!-- 140457702226624* -->\n<g id=\"node5\" class=\"node\">\n<title>140457702226624*</title>\n<ellipse fill=\"none\" stroke=\"black\" cx=\"885\" cy=\"-99.5\" rx=\"27\" ry=\"18\"/>\n<text text-anchor=\"middle\" x=\"885\" y=\"-95.8\" font-family=\"Times,serif\" font-size=\"14.00\">*</text>\n</g>\n<!-- 140457702226624*&#45;&gt;140457702226624 -->\n<g id=\"edge2\" class=\"edge\">\n<title>140457702226624*&#45;&gt;140457702226624</title>\n<path fill=\"none\" stroke=\"black\" d=\"M912.21,-99.5C919.47,-99.5 927.83,-99.5 936.71,-99.5\"/>\n<polygon fill=\"black\" stroke=\"black\" points=\"936.7,-103 946.7,-99.5 936.7,-96 936.7,-103\"/>\n</g>\n<!-- 140457702226768 -->\n<g id=\"node6\" class=\"node\">\n<title>140457702226768</title>\n<polygon fill=\"none\" stroke=\"black\" points=\"637,-54.5 637,-90.5 819,-90.5 819,-54.5 637,-54.5\"/>\n<text text-anchor=\"middle\" x=\"647\" y=\"-68.8\" font-family=\"Times,serif\" font-size=\"14.00\"> </text>\n<polyline fill=\"none\" stroke=\"black\" points=\"657,-54.5 657,-90.5\"/>\n<text text-anchor=\"middle\" x=\"697\" y=\"-68.8\" font-family=\"Times,serif\" font-size=\"14.00\">data 4.0000</text>\n<polyline fill=\"none\" stroke=\"black\" points=\"737,-54.5 737,-90.5\"/>\n<text text-anchor=\"middle\" x=\"778\" y=\"-68.8\" font-family=\"Times,serif\" font-size=\"14.00\">grad 0.0000</text>\n</g>\n<!-- 140457702226768&#45;&gt;140457702226624* -->\n<g id=\"edge9\" class=\"edge\">\n<title>140457702226768&#45;&gt;140457702226624*</title>\n<path fill=\"none\" stroke=\"black\" d=\"M818.72,-88.13C828.75,-89.88 838.5,-91.57 847.28,-93.1\"/>\n<polygon fill=\"black\" stroke=\"black\" points=\"846.64,-96.54 857.09,-94.81 847.84,-89.65 846.64,-96.54\"/>\n</g>\n<!-- 140457702226768+&#45;&gt;140457702226768 -->\n<g id=\"edge3\" class=\"edge\">\n<title>140457702226768+&#45;&gt;140457702226768</title>\n<path fill=\"none\" stroke=\"black\" d=\"M598.29,-72.5C606.33,-72.5 615.69,-72.5 625.63,-72.5\"/>\n<polygon fill=\"black\" stroke=\"black\" points=\"625.55,-76 635.55,-72.5 625.55,-69 625.55,-76\"/>\n</g>\n<!-- 140457702475136 -->\n<g id=\"node8\" class=\"node\">\n<title>140457702475136</title>\n<polygon fill=\"none\" stroke=\"black\" points=\"2.5,-55.5 2.5,-91.5 187.5,-91.5 187.5,-55.5 2.5,-55.5\"/>\n<text text-anchor=\"middle\" x=\"14\" y=\"-69.8\" font-family=\"Times,serif\" font-size=\"14.00\">a</text>\n<polyline fill=\"none\" stroke=\"black\" points=\"25.5,-55.5 25.5,-91.5\"/>\n<text text-anchor=\"middle\" x=\"65.5\" y=\"-69.8\" font-family=\"Times,serif\" font-size=\"14.00\">data 2.0000</text>\n<polyline fill=\"none\" stroke=\"black\" points=\"105.5,-55.5 105.5,-91.5\"/>\n<text text-anchor=\"middle\" x=\"146.5\" y=\"-69.8\" font-family=\"Times,serif\" font-size=\"14.00\">grad 0.0000</text>\n</g>\n<!-- 140457702475136&#45;&gt;140457702225952* -->\n<g id=\"edge7\" class=\"edge\">\n<title>140457702475136&#45;&gt;140457702225952*</title>\n<path fill=\"none\" stroke=\"black\" d=\"M187.2,-57.13C197.1,-55.35 206.71,-53.63 215.36,-52.08\"/>\n<polygon fill=\"black\" stroke=\"black\" points=\"215.79,-55.55 225.02,-50.34 214.56,-48.66 215.79,-55.55\"/>\n</g>\n<!-- 140457702476192 -->\n<g id=\"node9\" class=\"node\">\n<title>140457702476192</title>\n<polygon fill=\"none\" stroke=\"black\" points=\"634,-109.5 634,-145.5 822,-145.5 822,-109.5 634,-109.5\"/>\n<text text-anchor=\"middle\" x=\"644.5\" y=\"-123.8\" font-family=\"Times,serif\" font-size=\"14.00\">f</text>\n<polyline fill=\"none\" stroke=\"black\" points=\"655,-109.5 655,-145.5\"/>\n<text text-anchor=\"middle\" x=\"697.5\" y=\"-123.8\" font-family=\"Times,serif\" font-size=\"14.00\">data &#45;2.0000</text>\n<polyline fill=\"none\" stroke=\"black\" points=\"740,-109.5 740,-145.5\"/>\n<text text-anchor=\"middle\" x=\"781\" y=\"-123.8\" font-family=\"Times,serif\" font-size=\"14.00\">grad 0.0000</text>\n</g>\n<!-- 140457702476192&#45;&gt;140457702226624* -->\n<g id=\"edge5\" class=\"edge\">\n<title>140457702476192&#45;&gt;140457702226624*</title>\n<path fill=\"none\" stroke=\"black\" d=\"M821.85,-110.73C830.75,-109.12 839.38,-107.56 847.22,-106.14\"/>\n<polygon fill=\"black\" stroke=\"black\" points=\"847.76,-109.6 856.98,-104.38 846.52,-102.71 847.76,-109.6\"/>\n</g>\n<!-- 140457702475232 -->\n<g id=\"node10\" class=\"node\">\n<title>140457702475232</title>\n<polygon fill=\"none\" stroke=\"black\" points=\"0,-0.5 0,-36.5 190,-36.5 190,-0.5 0,-0.5\"/>\n<text text-anchor=\"middle\" x=\"11.5\" y=\"-14.8\" font-family=\"Times,serif\" font-size=\"14.00\">b</text>\n<polyline fill=\"none\" stroke=\"black\" points=\"23,-0.5 23,-36.5\"/>\n<text text-anchor=\"middle\" x=\"65.5\" y=\"-14.8\" font-family=\"Times,serif\" font-size=\"14.00\">data &#45;3.0000</text>\n<polyline fill=\"none\" stroke=\"black\" points=\"108,-0.5 108,-36.5\"/>\n<text text-anchor=\"middle\" x=\"149\" y=\"-14.8\" font-family=\"Times,serif\" font-size=\"14.00\">grad 0.0000</text>\n</g>\n<!-- 140457702475232&#45;&gt;140457702225952* -->\n<g id=\"edge8\" class=\"edge\">\n<title>140457702475232&#45;&gt;140457702225952*</title>\n<path fill=\"none\" stroke=\"black\" d=\"M189.9,-34.75C198.81,-36.29 207.43,-37.79 215.28,-39.14\"/>\n<polygon fill=\"black\" stroke=\"black\" points=\"214.57,-42.57 225.02,-40.83 215.76,-35.68 214.57,-42.57\"/>\n</g>\n</g>\n</svg>\n",
      "text/plain": [
       "<graphviz.graphs.Digraph at 0x7fbedb7b65b0>"
      ]
     },
     "execution_count": 286,
     "metadata": {},
     "output_type": "execute_result"
    }
   ],
   "source": [
    "draw_dot(L)"
   ]
  },
  {
   "cell_type": "code",
   "execution_count": 289,
   "metadata": {},
   "outputs": [],
   "source": [
    "def lol(change_which: str = \"L\", h: float = 0.001):\n",
    "    a = Value(2.0, label=\"a\")\n",
    "    b = Value(-3.0, label=\"b\")\n",
    "    c = Value(10.0, label=\"c\")\n",
    "    e = a * b\n",
    "    e.label = \"e\"\n",
    "    d = e + c\n",
    "    d.label = \"d\"\n",
    "    f = Value(-2.0, label=\"f\")\n",
    "    L = d * f\n",
    "    L.label = \"L\"\n",
    "    L1 = L.data\n",
    "\n",
    "    a = Value(2.0, label=\"a\")\n",
    "    if change_which == \"a\":\n",
    "        a.data += h\n",
    "    b = Value(-3.0, label=\"b\")\n",
    "    if change_which == \"b\":\n",
    "        b.data += h\n",
    "    c = Value(10.0, label=\"c\")\n",
    "    if change_which == \"c\":\n",
    "        c.data += h\n",
    "    e = a * b\n",
    "    e.label = \"e\"\n",
    "    if change_which == \"e\":\n",
    "        e.data += h\n",
    "        \n",
    "    d = e + c\n",
    "    d.label = \"d\"\n",
    "    if change_which == \"d\":\n",
    "        d.data += h\n",
    "    f = Value(-2.0, label=\"f\")\n",
    "    if change_which == \"f\":\n",
    "        f.data += h\n",
    "    L = d * f\n",
    "    if change_which == \"L\":\n",
    "        L.data += h\n",
    "    L.label = \"L\"\n",
    "    L2 = L.data\n",
    "    \n",
    "    derivative = (L2 - L1) / h\n",
    "    print(f\"derivative of L w.r.t. {change_which} is {derivative}\")\n",
    "    return derivative"
   ]
  },
  {
   "attachments": {},
   "cell_type": "markdown",
   "metadata": {},
   "source": [
    "Based on the diagram above, we have all the info we need for forward pass, and now it is time\n",
    "to do the backprop, which is to populate the gradients of the loss function with respect to\n",
    "each variable. "
   ]
  },
  {
   "attachments": {},
   "cell_type": "markdown",
   "metadata": {},
   "source": [
    "`L`: We first ask ourselves, for the given input values at $a=2, b=-3$ and $c=10$, what is the derivative \n",
    "of the loss function $\\mathcal{L}$ with respect to itself?\n",
    "\n",
    "You just need to visualize if I add/shift a small number $h=0.001$ to $\\mathcal{L} = \\left(\\overbrace{\\underbrace{a \\times b}_{\\text{e}} + c}^{\\text{d}}\\right) \\times f$, this is just proportional\n",
    "to the gradient of $\\mathcal{L}$ with respect to itself. So the gradient of $\\mathcal{L}$ with respect to itself is 1."
   ]
  },
  {
   "cell_type": "code",
   "execution_count": 290,
   "metadata": {},
   "outputs": [
    {
     "name": "stdout",
     "output_type": "stream",
     "text": [
      "derivative of L w.r.t. L is 1.000000000000334\n"
     ]
    }
   ],
   "source": [
    "_ = lol(\"L\", 0.001)\n",
    "\n",
    "# set the gradient of L to 1\n",
    "L.grad = 1.0"
   ]
  },
  {
   "attachments": {},
   "cell_type": "markdown",
   "metadata": {},
   "source": [
    "$\\frac{\\partial \\mathcal{L}}{\\partial f}$: We then ask ourselves, for the given input values at $a=2, b=-3$ and $c=10$, what is the derivative of the loss function $\\mathcal{L}$ with respect to $f$?\n",
    "\n",
    "$$\\frac{\\partial \\mathcal{L}}{\\partial f} = d = a \\times b + c$$\n",
    "\n",
    "This is easy to see since $\\mathcal{L} = d \\times f$ and differentiating with respect to $f$ while\n",
    "holding $d$ constant yields us $d$.\n",
    "\n",
    "We can further convince ourselves by seeing the formula:\n",
    "\n",
    "$$\n",
    "\\begin{aligned}\n",
    "\\frac{\\partial \\mathcal{L}}{\\partial f} &= \\lim_{h \\to 0} \\frac{\\mathcal{L}(a, b, c, d, e, f+h) - \\mathcal{L}(a, b, c, d, e, f)}{h} \\\\\n",
    "&= \\lim_{h \\to 0} \\frac{\\mathcal{L}(f+h) - \\mathcal{L}(f)}{h} \\\\\n",
    "&= \\lim_{h \\to 0} \\frac{d \\times (f+h) - d \\times f}{h} \\\\\n",
    "&= \\lim_{h \\to 0} \\frac{d \\times h}{h} \\\\\n",
    "&= d\n",
    "\\end{aligned}\n",
    "$$\n",
    "\n",
    "And we can see that for the values of $a=2, b=-3$, $c=10$ and $f=-2$, the value of $d = a \\times b + c = 2 \\times (-3) + 10 = 4$, so \n",
    "\n",
    "$$\n",
    "\\frac{\\partial \\mathcal{L}}{\\partial f} = d = 4\n",
    "$$\n",
    "\n",
    "We verify below."
   ]
  },
  {
   "cell_type": "code",
   "execution_count": 291,
   "metadata": {},
   "outputs": [
    {
     "name": "stdout",
     "output_type": "stream",
     "text": [
      "derivative of L w.r.t. f is 3.9999999999995595\n"
     ]
    }
   ],
   "source": [
    "_ = lol(\"f\", 0.001)"
   ]
  },
  {
   "attachments": {},
   "cell_type": "markdown",
   "metadata": {},
   "source": [
    "We update our global variable `f`'s `grad` attribute to be 4."
   ]
  },
  {
   "cell_type": "code",
   "execution_count": 294,
   "metadata": {},
   "outputs": [],
   "source": [
    "f.grad = 4"
   ]
  },
  {
   "attachments": {},
   "cell_type": "markdown",
   "metadata": {},
   "source": [
    "$$\n",
    "\\frac{\\partial \\mathcal{L}}{\\partial d}=f\n",
    "$$\n",
    "\n",
    "To derive this, we can first notice that $\\mathcal{L} = d \\times f$, so we can write:\n",
    "\n",
    "$$\n",
    "\\frac{\\partial \\mathcal{L}}{\\partial d}=\\frac{\\partial}{\\partial d}(d \\times f)=f \\frac{\\partial d}{\\partial d}=f\n",
    "$$\n",
    "\n",
    "We can use the same method as above to verify this:\n",
    "\n",
    "$$\n",
    "\\begin{aligned}\n",
    "\\frac{\\partial \\mathcal{L}}{\\partial d} &= \\lim_{h \\to 0} \\frac{\\mathcal{L}(a, b, c, d+h, e, f) - \\mathcal{L}(a, b, c, d, e, f)}{h} \\\\\n",
    "&= \\lim_{h \\to 0} \\frac{\\mathcal{L}(d+h) - \\mathcal{L}(d)}{h} \\\\\n",
    "&= \\lim_{h \\to 0} \\frac{(d+h) \\times f - d \\times f}{h} \\\\\n",
    "&= \\lim_{h \\to 0} \\frac{f \\times h}{h} \\\\\n",
    "&= f\n",
    "\\end{aligned}\n",
    "$$\n",
    "\n",
    "Therefore, with the given values of $a=2, b=-3$, $c=10$ and $f=-2$, we have:\n",
    "\n",
    "$$\n",
    "\\frac{\\partial \\mathcal{L}}{\\partial d}=f=-2\n",
    "$$"
   ]
  },
  {
   "cell_type": "code",
   "execution_count": 293,
   "metadata": {},
   "outputs": [
    {
     "name": "stdout",
     "output_type": "stream",
     "text": [
      "derivative of L w.r.t. d is -2.000000000000668\n"
     ]
    }
   ],
   "source": [
    "_ = lol(\"d\", 0.001)"
   ]
  },
  {
   "attachments": {},
   "cell_type": "markdown",
   "metadata": {},
   "source": [
    "We update our global variable `d`'s `grad` attribute to be $-2$."
   ]
  },
  {
   "cell_type": "code",
   "execution_count": 295,
   "metadata": {},
   "outputs": [],
   "source": [
    "d.grad = -2"
   ]
  },
  {
   "cell_type": "code",
   "execution_count": 296,
   "metadata": {},
   "outputs": [
    {
     "data": {
      "image/svg+xml": "<?xml version=\"1.0\" encoding=\"UTF-8\" standalone=\"no\"?>\n<!DOCTYPE svg PUBLIC \"-//W3C//DTD SVG 1.1//EN\"\n \"http://www.w3.org/Graphics/SVG/1.1/DTD/svg11.dtd\">\n<!-- Generated by graphviz version 7.1.0 (20230121.1956)\n -->\n<!-- Pages: 1 -->\n<svg width=\"1143pt\" height=\"154pt\"\n viewBox=\"0.00 0.00 1143.00 154.00\" xmlns=\"http://www.w3.org/2000/svg\" xmlns:xlink=\"http://www.w3.org/1999/xlink\">\n<g id=\"graph0\" class=\"graph\" transform=\"scale(1 1) rotate(0) translate(4 150)\">\n<polygon fill=\"white\" stroke=\"none\" points=\"-4,4 -4,-150 1139,-150 1139,4 -4,4\"/>\n<!-- 140457702225952 -->\n<g id=\"node1\" class=\"node\">\n<title>140457702225952</title>\n<polygon fill=\"none\" stroke=\"black\" points=\"318.5,-27.5 318.5,-63.5 505.5,-63.5 505.5,-27.5 318.5,-27.5\"/>\n<text text-anchor=\"middle\" x=\"328.5\" y=\"-41.8\" font-family=\"Times,serif\" font-size=\"14.00\"> </text>\n<polyline fill=\"none\" stroke=\"black\" points=\"338.5,-27.5 338.5,-63.5\"/>\n<text text-anchor=\"middle\" x=\"381\" y=\"-41.8\" font-family=\"Times,serif\" font-size=\"14.00\">data &#45;6.0000</text>\n<polyline fill=\"none\" stroke=\"black\" points=\"423.5,-27.5 423.5,-63.5\"/>\n<text text-anchor=\"middle\" x=\"464.5\" y=\"-41.8\" font-family=\"Times,serif\" font-size=\"14.00\">grad 0.0000</text>\n</g>\n<!-- 140457702226768+ -->\n<g id=\"node7\" class=\"node\">\n<title>140457702226768+</title>\n<ellipse fill=\"none\" stroke=\"black\" cx=\"571\" cy=\"-72.5\" rx=\"27\" ry=\"18\"/>\n<text text-anchor=\"middle\" x=\"571\" y=\"-68.8\" font-family=\"Times,serif\" font-size=\"14.00\">+</text>\n</g>\n<!-- 140457702225952&#45;&gt;140457702226768+ -->\n<g id=\"edge6\" class=\"edge\">\n<title>140457702225952&#45;&gt;140457702226768+</title>\n<path fill=\"none\" stroke=\"black\" d=\"M505.24,-61.36C515.15,-63.07 524.76,-64.72 533.41,-66.21\"/>\n<polygon fill=\"black\" stroke=\"black\" points=\"532.61,-69.62 543.05,-67.87 533.79,-62.72 532.61,-69.62\"/>\n</g>\n<!-- 140457702225952* -->\n<g id=\"node2\" class=\"node\">\n<title>140457702225952*</title>\n<ellipse fill=\"none\" stroke=\"black\" cx=\"253\" cy=\"-45.5\" rx=\"27\" ry=\"18\"/>\n<text text-anchor=\"middle\" x=\"253\" y=\"-41.8\" font-family=\"Times,serif\" font-size=\"14.00\">*</text>\n</g>\n<!-- 140457702225952*&#45;&gt;140457702225952 -->\n<g id=\"edge1\" class=\"edge\">\n<title>140457702225952*&#45;&gt;140457702225952</title>\n<path fill=\"none\" stroke=\"black\" d=\"M280.28,-45.5C288.21,-45.5 297.43,-45.5 307.25,-45.5\"/>\n<polygon fill=\"black\" stroke=\"black\" points=\"307.04,-49 317.04,-45.5 307.04,-42 307.04,-49\"/>\n</g>\n<!-- 140457702475424 -->\n<g id=\"node3\" class=\"node\">\n<title>140457702475424</title>\n<polygon fill=\"none\" stroke=\"black\" points=\"316,-82.5 316,-118.5 508,-118.5 508,-82.5 316,-82.5\"/>\n<text text-anchor=\"middle\" x=\"327.5\" y=\"-96.8\" font-family=\"Times,serif\" font-size=\"14.00\">c</text>\n<polyline fill=\"none\" stroke=\"black\" points=\"339,-82.5 339,-118.5\"/>\n<text text-anchor=\"middle\" x=\"382.5\" y=\"-96.8\" font-family=\"Times,serif\" font-size=\"14.00\">data 10.0000</text>\n<polyline fill=\"none\" stroke=\"black\" points=\"426,-82.5 426,-118.5\"/>\n<text text-anchor=\"middle\" x=\"467\" y=\"-96.8\" font-family=\"Times,serif\" font-size=\"14.00\">grad 0.0000</text>\n</g>\n<!-- 140457702475424&#45;&gt;140457702226768+ -->\n<g id=\"edge4\" class=\"edge\">\n<title>140457702475424&#45;&gt;140457702226768+</title>\n<path fill=\"none\" stroke=\"black\" d=\"M507.95,-83.57C516.87,-81.98 525.49,-80.44 533.33,-79.04\"/>\n<polygon fill=\"black\" stroke=\"black\" points=\"533.84,-82.5 543.07,-77.3 532.61,-75.61 533.84,-82.5\"/>\n</g>\n<!-- 140457702226624 -->\n<g id=\"node4\" class=\"node\">\n<title>140457702226624</title>\n<polygon fill=\"none\" stroke=\"black\" points=\"948,-81.5 948,-117.5 1135,-117.5 1135,-81.5 948,-81.5\"/>\n<text text-anchor=\"middle\" x=\"958\" y=\"-95.8\" font-family=\"Times,serif\" font-size=\"14.00\"> </text>\n<polyline fill=\"none\" stroke=\"black\" points=\"968,-81.5 968,-117.5\"/>\n<text text-anchor=\"middle\" x=\"1010.5\" y=\"-95.8\" font-family=\"Times,serif\" font-size=\"14.00\">data &#45;8.0000</text>\n<polyline fill=\"none\" stroke=\"black\" points=\"1053,-81.5 1053,-117.5\"/>\n<text text-anchor=\"middle\" x=\"1094\" y=\"-95.8\" font-family=\"Times,serif\" font-size=\"14.00\">grad 1.0000</text>\n</g>\n<!-- 140457702226624* -->\n<g id=\"node5\" class=\"node\">\n<title>140457702226624*</title>\n<ellipse fill=\"none\" stroke=\"black\" cx=\"885\" cy=\"-99.5\" rx=\"27\" ry=\"18\"/>\n<text text-anchor=\"middle\" x=\"885\" y=\"-95.8\" font-family=\"Times,serif\" font-size=\"14.00\">*</text>\n</g>\n<!-- 140457702226624*&#45;&gt;140457702226624 -->\n<g id=\"edge2\" class=\"edge\">\n<title>140457702226624*&#45;&gt;140457702226624</title>\n<path fill=\"none\" stroke=\"black\" d=\"M912.21,-99.5C919.47,-99.5 927.83,-99.5 936.71,-99.5\"/>\n<polygon fill=\"black\" stroke=\"black\" points=\"936.7,-103 946.7,-99.5 936.7,-96 936.7,-103\"/>\n</g>\n<!-- 140457702226768 -->\n<g id=\"node6\" class=\"node\">\n<title>140457702226768</title>\n<polygon fill=\"none\" stroke=\"black\" points=\"637,-54.5 637,-90.5 819,-90.5 819,-54.5 637,-54.5\"/>\n<text text-anchor=\"middle\" x=\"647\" y=\"-68.8\" font-family=\"Times,serif\" font-size=\"14.00\"> </text>\n<polyline fill=\"none\" stroke=\"black\" points=\"657,-54.5 657,-90.5\"/>\n<text text-anchor=\"middle\" x=\"697\" y=\"-68.8\" font-family=\"Times,serif\" font-size=\"14.00\">data 4.0000</text>\n<polyline fill=\"none\" stroke=\"black\" points=\"737,-54.5 737,-90.5\"/>\n<text text-anchor=\"middle\" x=\"778\" y=\"-68.8\" font-family=\"Times,serif\" font-size=\"14.00\">grad 0.0000</text>\n</g>\n<!-- 140457702226768&#45;&gt;140457702226624* -->\n<g id=\"edge9\" class=\"edge\">\n<title>140457702226768&#45;&gt;140457702226624*</title>\n<path fill=\"none\" stroke=\"black\" d=\"M818.72,-88.13C828.75,-89.88 838.5,-91.57 847.28,-93.1\"/>\n<polygon fill=\"black\" stroke=\"black\" points=\"846.64,-96.54 857.09,-94.81 847.84,-89.65 846.64,-96.54\"/>\n</g>\n<!-- 140457702226768+&#45;&gt;140457702226768 -->\n<g id=\"edge3\" class=\"edge\">\n<title>140457702226768+&#45;&gt;140457702226768</title>\n<path fill=\"none\" stroke=\"black\" d=\"M598.29,-72.5C606.33,-72.5 615.69,-72.5 625.63,-72.5\"/>\n<polygon fill=\"black\" stroke=\"black\" points=\"625.55,-76 635.55,-72.5 625.55,-69 625.55,-76\"/>\n</g>\n<!-- 140457702475136 -->\n<g id=\"node8\" class=\"node\">\n<title>140457702475136</title>\n<polygon fill=\"none\" stroke=\"black\" points=\"2.5,-55.5 2.5,-91.5 187.5,-91.5 187.5,-55.5 2.5,-55.5\"/>\n<text text-anchor=\"middle\" x=\"14\" y=\"-69.8\" font-family=\"Times,serif\" font-size=\"14.00\">a</text>\n<polyline fill=\"none\" stroke=\"black\" points=\"25.5,-55.5 25.5,-91.5\"/>\n<text text-anchor=\"middle\" x=\"65.5\" y=\"-69.8\" font-family=\"Times,serif\" font-size=\"14.00\">data 2.0000</text>\n<polyline fill=\"none\" stroke=\"black\" points=\"105.5,-55.5 105.5,-91.5\"/>\n<text text-anchor=\"middle\" x=\"146.5\" y=\"-69.8\" font-family=\"Times,serif\" font-size=\"14.00\">grad 0.0000</text>\n</g>\n<!-- 140457702475136&#45;&gt;140457702225952* -->\n<g id=\"edge7\" class=\"edge\">\n<title>140457702475136&#45;&gt;140457702225952*</title>\n<path fill=\"none\" stroke=\"black\" d=\"M187.2,-57.13C197.1,-55.35 206.71,-53.63 215.36,-52.08\"/>\n<polygon fill=\"black\" stroke=\"black\" points=\"215.79,-55.55 225.02,-50.34 214.56,-48.66 215.79,-55.55\"/>\n</g>\n<!-- 140457702476192 -->\n<g id=\"node9\" class=\"node\">\n<title>140457702476192</title>\n<polygon fill=\"none\" stroke=\"black\" points=\"634,-109.5 634,-145.5 822,-145.5 822,-109.5 634,-109.5\"/>\n<text text-anchor=\"middle\" x=\"644.5\" y=\"-123.8\" font-family=\"Times,serif\" font-size=\"14.00\">f</text>\n<polyline fill=\"none\" stroke=\"black\" points=\"655,-109.5 655,-145.5\"/>\n<text text-anchor=\"middle\" x=\"697.5\" y=\"-123.8\" font-family=\"Times,serif\" font-size=\"14.00\">data &#45;2.0000</text>\n<polyline fill=\"none\" stroke=\"black\" points=\"740,-109.5 740,-145.5\"/>\n<text text-anchor=\"middle\" x=\"781\" y=\"-123.8\" font-family=\"Times,serif\" font-size=\"14.00\">grad 0.0000</text>\n</g>\n<!-- 140457702476192&#45;&gt;140457702226624* -->\n<g id=\"edge5\" class=\"edge\">\n<title>140457702476192&#45;&gt;140457702226624*</title>\n<path fill=\"none\" stroke=\"black\" d=\"M821.85,-110.73C830.75,-109.12 839.38,-107.56 847.22,-106.14\"/>\n<polygon fill=\"black\" stroke=\"black\" points=\"847.76,-109.6 856.98,-104.38 846.52,-102.71 847.76,-109.6\"/>\n</g>\n<!-- 140457702475232 -->\n<g id=\"node10\" class=\"node\">\n<title>140457702475232</title>\n<polygon fill=\"none\" stroke=\"black\" points=\"0,-0.5 0,-36.5 190,-36.5 190,-0.5 0,-0.5\"/>\n<text text-anchor=\"middle\" x=\"11.5\" y=\"-14.8\" font-family=\"Times,serif\" font-size=\"14.00\">b</text>\n<polyline fill=\"none\" stroke=\"black\" points=\"23,-0.5 23,-36.5\"/>\n<text text-anchor=\"middle\" x=\"65.5\" y=\"-14.8\" font-family=\"Times,serif\" font-size=\"14.00\">data &#45;3.0000</text>\n<polyline fill=\"none\" stroke=\"black\" points=\"108,-0.5 108,-36.5\"/>\n<text text-anchor=\"middle\" x=\"149\" y=\"-14.8\" font-family=\"Times,serif\" font-size=\"14.00\">grad 0.0000</text>\n</g>\n<!-- 140457702475232&#45;&gt;140457702225952* -->\n<g id=\"edge8\" class=\"edge\">\n<title>140457702475232&#45;&gt;140457702225952*</title>\n<path fill=\"none\" stroke=\"black\" d=\"M189.9,-34.75C198.81,-36.29 207.43,-37.79 215.28,-39.14\"/>\n<polygon fill=\"black\" stroke=\"black\" points=\"214.57,-42.57 225.02,-40.83 215.76,-35.68 214.57,-42.57\"/>\n</g>\n</g>\n</svg>\n",
      "text/plain": [
       "<graphviz.graphs.Digraph at 0x7fbedb7c1bb0>"
      ]
     },
     "execution_count": 296,
     "metadata": {},
     "output_type": "execute_result"
    }
   ],
   "source": [
    "draw_dot(L)"
   ]
  },
  {
   "attachments": {},
   "cell_type": "markdown",
   "metadata": {},
   "source": [
    "d"
   ]
  },
  {
   "attachments": {},
   "cell_type": "markdown",
   "metadata": {},
   "source": [
    "Let's start with:\n",
    "\n",
    "\n",
    "\n",
    "Next, we can find:\n",
    "\n",
    "$$\n",
    "\\frac{\\partial \\mathcal{L}}{\\partial c}=\\frac{\\partial}{\\partial c}(d \\times f)=\\frac{\\partial d}{\\partial c} \\times f=1 \\times f=f\n",
    "$$\n",
    "\n",
    "Here, we used the fact that $\\frac{\\partial d}{\\partial c} = 1$, since $c$ appears linearly in the expression for $d$.\n",
    "\n",
    "Moving on, we have:\n",
    "\n",
    "$$\n",
    "\\frac{\\partial \\mathcal{L}}{\\partial b}=\\frac{\\partial}{\\partial b}(d \\times f)=\\frac{\\partial d}{\\partial b} \\times f=a \\times f\n",
    "$$\n",
    "\n",
    "We obtain this by applying the product rule of differentiation, since both $a$ and $b$ appear in the expression for $d$."
   ]
  },
  {
   "cell_type": "code",
   "execution_count": 292,
   "metadata": {},
   "outputs": [
    {
     "name": "stdout",
     "output_type": "stream",
     "text": [
      "derivative of L w.r.t. d is -2.000000000000668\n"
     ]
    }
   ],
   "source": [
    "_ = lol(\"d\", 0.001)"
   ]
  },
  {
   "cell_type": "markdown",
   "metadata": {},
   "source": []
  },
  {
   "attachments": {},
   "cell_type": "markdown",
   "metadata": {},
   "source": [
    "### S\n"
   ]
  },
  {
   "cell_type": "code",
   "execution_count": 258,
   "metadata": {},
   "outputs": [],
   "source": [
    "from graphviz import Digraph\n",
    "\n",
    "def trace(root):\n",
    "    # builds a set of all nodes and edges in a graph\n",
    "    nodes, edges = set(), set()\n",
    "\n",
    "    def build(v):\n",
    "        if v not in nodes:\n",
    "            nodes.add(v)\n",
    "            for child in v._prev:\n",
    "                edges.add((child, v))\n",
    "                build(child)\n",
    "\n",
    "    build(root)\n",
    "    return nodes, edges\n",
    "\n",
    "\n",
    "def draw_dot(root):\n",
    "    dot = Digraph(format=\"svg\", graph_attr={\"rankdir\": \"LR\"})  # LR = left to right\n",
    "\n",
    "    nodes, edges = trace(root)\n",
    "    for n in nodes:\n",
    "        uid = str(id(n))\n",
    "        # for any value in the graph, create a rectangular ('record') node for it\n",
    "        dot.node(\n",
    "            name=uid,\n",
    "            label=\"{ %s | data %.4f | grad %.4f }\" % (n.label, n.data, n.grad),\n",
    "            shape=\"record\",\n",
    "        )\n",
    "        if n._op:\n",
    "            # if this value is a result of some operation, create an op node for it\n",
    "            dot.node(name=uid + n._op, label=n._op)\n",
    "            # and connect this node to it\n",
    "            dot.edge(uid + n._op, uid)\n",
    "\n",
    "    for n1, n2 in edges:\n",
    "        # connect n1 to the op node of n2\n",
    "        dot.edge(str(id(n1)), str(id(n2)) + n2._op)\n",
    "\n",
    "    return dot\n"
   ]
  },
  {
   "cell_type": "code",
   "execution_count": 259,
   "metadata": {},
   "outputs": [
    {
     "data": {
      "image/svg+xml": "<?xml version=\"1.0\" encoding=\"UTF-8\" standalone=\"no\"?>\n<!DOCTYPE svg PUBLIC \"-//W3C//DTD SVG 1.1//EN\"\n \"http://www.w3.org/Graphics/SVG/1.1/DTD/svg11.dtd\">\n<!-- Generated by graphviz version 7.1.0 (20230121.1956)\n -->\n<!-- Pages: 1 -->\n<svg width=\"827pt\" height=\"127pt\"\n viewBox=\"0.00 0.00 827.00 127.00\" xmlns=\"http://www.w3.org/2000/svg\" xmlns:xlink=\"http://www.w3.org/1999/xlink\">\n<g id=\"graph0\" class=\"graph\" transform=\"scale(1 1) rotate(0) translate(4 123)\">\n<polygon fill=\"white\" stroke=\"none\" points=\"-4,4 -4,-123 823,-123 823,4 -4,4\"/>\n<!-- 140457698578544 -->\n<g id=\"node1\" class=\"node\">\n<title>140457698578544</title>\n<polygon fill=\"none\" stroke=\"black\" points=\"316,-82.5 316,-118.5 508,-118.5 508,-82.5 316,-82.5\"/>\n<text text-anchor=\"middle\" x=\"327.5\" y=\"-96.8\" font-family=\"Times,serif\" font-size=\"14.00\">c</text>\n<polyline fill=\"none\" stroke=\"black\" points=\"339,-82.5 339,-118.5\"/>\n<text text-anchor=\"middle\" x=\"382.5\" y=\"-96.8\" font-family=\"Times,serif\" font-size=\"14.00\">data 10.0000</text>\n<polyline fill=\"none\" stroke=\"black\" points=\"426,-82.5 426,-118.5\"/>\n<text text-anchor=\"middle\" x=\"467\" y=\"-96.8\" font-family=\"Times,serif\" font-size=\"14.00\">grad 0.0000</text>\n</g>\n<!-- 140457699930416+ -->\n<g id=\"node5\" class=\"node\">\n<title>140457699930416+</title>\n<ellipse fill=\"none\" stroke=\"black\" cx=\"571\" cy=\"-72.5\" rx=\"27\" ry=\"18\"/>\n<text text-anchor=\"middle\" x=\"571\" y=\"-68.8\" font-family=\"Times,serif\" font-size=\"14.00\">+</text>\n</g>\n<!-- 140457698578544&#45;&gt;140457699930416+ -->\n<g id=\"edge3\" class=\"edge\">\n<title>140457698578544&#45;&gt;140457699930416+</title>\n<path fill=\"none\" stroke=\"black\" d=\"M507.95,-83.57C516.87,-81.98 525.49,-80.44 533.33,-79.04\"/>\n<polygon fill=\"black\" stroke=\"black\" points=\"533.84,-82.5 543.07,-77.3 532.61,-75.61 533.84,-82.5\"/>\n</g>\n<!-- 140457699931856 -->\n<g id=\"node2\" class=\"node\">\n<title>140457699931856</title>\n<polygon fill=\"none\" stroke=\"black\" points=\"317,-27.5 317,-63.5 507,-63.5 507,-27.5 317,-27.5\"/>\n<text text-anchor=\"middle\" x=\"328.5\" y=\"-41.8\" font-family=\"Times,serif\" font-size=\"14.00\">e</text>\n<polyline fill=\"none\" stroke=\"black\" points=\"340,-27.5 340,-63.5\"/>\n<text text-anchor=\"middle\" x=\"382.5\" y=\"-41.8\" font-family=\"Times,serif\" font-size=\"14.00\">data &#45;6.0000</text>\n<polyline fill=\"none\" stroke=\"black\" points=\"425,-27.5 425,-63.5\"/>\n<text text-anchor=\"middle\" x=\"466\" y=\"-41.8\" font-family=\"Times,serif\" font-size=\"14.00\">grad 0.0000</text>\n</g>\n<!-- 140457699931856&#45;&gt;140457699930416+ -->\n<g id=\"edge5\" class=\"edge\">\n<title>140457699931856&#45;&gt;140457699930416+</title>\n<path fill=\"none\" stroke=\"black\" d=\"M506.59,-61.6C515.95,-63.2 525,-64.76 533.21,-66.17\"/>\n<polygon fill=\"black\" stroke=\"black\" points=\"532.6,-69.62 543.05,-67.87 533.79,-62.72 532.6,-69.62\"/>\n</g>\n<!-- 140457699931856* -->\n<g id=\"node3\" class=\"node\">\n<title>140457699931856*</title>\n<ellipse fill=\"none\" stroke=\"black\" cx=\"253\" cy=\"-45.5\" rx=\"27\" ry=\"18\"/>\n<text text-anchor=\"middle\" x=\"253\" y=\"-41.8\" font-family=\"Times,serif\" font-size=\"14.00\">*</text>\n</g>\n<!-- 140457699931856*&#45;&gt;140457699931856 -->\n<g id=\"edge1\" class=\"edge\">\n<title>140457699931856*&#45;&gt;140457699931856</title>\n<path fill=\"none\" stroke=\"black\" d=\"M280.28,-45.5C287.79,-45.5 296.46,-45.5 305.7,-45.5\"/>\n<polygon fill=\"black\" stroke=\"black\" points=\"305.7,-49 315.7,-45.5 305.7,-42 305.7,-49\"/>\n</g>\n<!-- 140457699930416 -->\n<g id=\"node4\" class=\"node\">\n<title>140457699930416</title>\n<polygon fill=\"none\" stroke=\"black\" points=\"634,-54.5 634,-90.5 819,-90.5 819,-54.5 634,-54.5\"/>\n<text text-anchor=\"middle\" x=\"645.5\" y=\"-68.8\" font-family=\"Times,serif\" font-size=\"14.00\">d</text>\n<polyline fill=\"none\" stroke=\"black\" points=\"657,-54.5 657,-90.5\"/>\n<text text-anchor=\"middle\" x=\"697\" y=\"-68.8\" font-family=\"Times,serif\" font-size=\"14.00\">data 4.0000</text>\n<polyline fill=\"none\" stroke=\"black\" points=\"737,-54.5 737,-90.5\"/>\n<text text-anchor=\"middle\" x=\"778\" y=\"-68.8\" font-family=\"Times,serif\" font-size=\"14.00\">grad 0.0000</text>\n</g>\n<!-- 140457699930416+&#45;&gt;140457699930416 -->\n<g id=\"edge2\" class=\"edge\">\n<title>140457699930416+&#45;&gt;140457699930416</title>\n<path fill=\"none\" stroke=\"black\" d=\"M598.39,-72.5C605.62,-72.5 613.92,-72.5 622.74,-72.5\"/>\n<polygon fill=\"black\" stroke=\"black\" points=\"622.64,-76 632.64,-72.5 622.64,-69 622.64,-76\"/>\n</g>\n<!-- 140457702226864 -->\n<g id=\"node6\" class=\"node\">\n<title>140457702226864</title>\n<polygon fill=\"none\" stroke=\"black\" points=\"0,-55.5 0,-91.5 190,-91.5 190,-55.5 0,-55.5\"/>\n<text text-anchor=\"middle\" x=\"11.5\" y=\"-69.8\" font-family=\"Times,serif\" font-size=\"14.00\">b</text>\n<polyline fill=\"none\" stroke=\"black\" points=\"23,-55.5 23,-91.5\"/>\n<text text-anchor=\"middle\" x=\"65.5\" y=\"-69.8\" font-family=\"Times,serif\" font-size=\"14.00\">data &#45;3.0000</text>\n<polyline fill=\"none\" stroke=\"black\" points=\"108,-55.5 108,-91.5\"/>\n<text text-anchor=\"middle\" x=\"149\" y=\"-69.8\" font-family=\"Times,serif\" font-size=\"14.00\">grad 0.0000</text>\n</g>\n<!-- 140457702226864&#45;&gt;140457699931856* -->\n<g id=\"edge6\" class=\"edge\">\n<title>140457702226864&#45;&gt;140457699931856*</title>\n<path fill=\"none\" stroke=\"black\" d=\"M189.9,-56.65C198.81,-55.05 207.43,-53.5 215.28,-52.09\"/>\n<polygon fill=\"black\" stroke=\"black\" points=\"215.8,-55.55 225.02,-50.34 214.56,-48.66 215.8,-55.55\"/>\n</g>\n<!-- 140457683494848 -->\n<g id=\"node7\" class=\"node\">\n<title>140457683494848</title>\n<polygon fill=\"none\" stroke=\"black\" points=\"2.5,-0.5 2.5,-36.5 187.5,-36.5 187.5,-0.5 2.5,-0.5\"/>\n<text text-anchor=\"middle\" x=\"14\" y=\"-14.8\" font-family=\"Times,serif\" font-size=\"14.00\">a</text>\n<polyline fill=\"none\" stroke=\"black\" points=\"25.5,-0.5 25.5,-36.5\"/>\n<text text-anchor=\"middle\" x=\"65.5\" y=\"-14.8\" font-family=\"Times,serif\" font-size=\"14.00\">data 2.0000</text>\n<polyline fill=\"none\" stroke=\"black\" points=\"105.5,-0.5 105.5,-36.5\"/>\n<text text-anchor=\"middle\" x=\"146.5\" y=\"-14.8\" font-family=\"Times,serif\" font-size=\"14.00\">grad 0.0000</text>\n</g>\n<!-- 140457683494848&#45;&gt;140457699931856* -->\n<g id=\"edge4\" class=\"edge\">\n<title>140457683494848&#45;&gt;140457699931856*</title>\n<path fill=\"none\" stroke=\"black\" d=\"M187.2,-34.28C197.1,-36 206.71,-37.66 215.36,-39.16\"/>\n<polygon fill=\"black\" stroke=\"black\" points=\"214.57,-42.57 225.02,-40.83 215.76,-35.68 214.57,-42.57\"/>\n</g>\n</g>\n</svg>\n",
      "text/plain": [
       "<graphviz.graphs.Digraph at 0x7fbedb4f7d60>"
      ]
     },
     "execution_count": 259,
     "metadata": {},
     "output_type": "execute_result"
    }
   ],
   "source": [
    "draw_dot(d)"
   ]
  },
  {
   "cell_type": "code",
   "execution_count": 260,
   "metadata": {},
   "outputs": [
    {
     "data": {
      "text/plain": [
       "Value(data=-8.0)"
      ]
     },
     "execution_count": 260,
     "metadata": {},
     "output_type": "execute_result"
    }
   ],
   "source": [
    "class Value:\n",
    "    def __init__(self, data, _children=(), _op=\"\", label=\"\"):\n",
    "        self.data = data\n",
    "        self.grad = 0.0\n",
    "        self._backward = lambda: None\n",
    "        self._prev = set(_children)\n",
    "        self._op = _op\n",
    "        self.label = label\n",
    "\n",
    "    def __repr__(self):\n",
    "        return f\"Value(data={self.data})\"\n",
    "\n",
    "    def __add__(self, other):\n",
    "        out = Value(self.data + other.data, (self, other), \"+\")\n",
    "\n",
    "        def _backward():\n",
    "            self.grad += 1.0 * out.grad\n",
    "            other.grad += 1.0 * out.grad\n",
    "\n",
    "        out._backward = _backward\n",
    "\n",
    "        return out\n",
    "\n",
    "    def __mul__(self, other):\n",
    "        out = Value(self.data * other.data, (self, other), \"*\")\n",
    "\n",
    "        def _backward():\n",
    "            self.grad += other.data * out.grad\n",
    "            other.grad += self.data * out.grad\n",
    "\n",
    "        out._backward = _backward\n",
    "\n",
    "        return out\n",
    "\n",
    "    def tanh(self):\n",
    "        x = self.data\n",
    "        t = (math.exp(2 * x) - 1) / (math.exp(2 * x) + 1)\n",
    "        out = Value(t, (self,), \"tanh\")\n",
    "\n",
    "        def _backward():\n",
    "            self.grad += (1 - t ** 2) * out.grad\n",
    "\n",
    "        out._backward = _backward\n",
    "\n",
    "        return out\n",
    "\n",
    "    def backward(self):\n",
    "\n",
    "        topo = []\n",
    "        visited = set()\n",
    "\n",
    "        def build_topo(v):\n",
    "            if v not in visited:\n",
    "                visited.add(v)\n",
    "                for child in v._prev:\n",
    "                    build_topo(child)\n",
    "                topo.append(v)\n",
    "\n",
    "        build_topo(self)\n",
    "\n",
    "        self.grad = 1.0\n",
    "        for node in reversed(topo):\n",
    "            node._backward()\n",
    "\n",
    "\n",
    "a = Value(2.0, label=\"a\")\n",
    "b = Value(-3.0, label=\"b\")\n",
    "c = Value(10.0, label=\"c\")\n",
    "e = a * b\n",
    "e.label = \"e\"\n",
    "d = e + c\n",
    "d.label = \"d\"\n",
    "f = Value(-2.0, label=\"f\")\n",
    "L = d * f\n",
    "L.label = \"L\"\n",
    "L\n"
   ]
  },
  {
   "cell_type": "code",
   "execution_count": 261,
   "metadata": {},
   "outputs": [
    {
     "data": {
      "image/svg+xml": "<?xml version=\"1.0\" encoding=\"UTF-8\" standalone=\"no\"?>\n<!DOCTYPE svg PUBLIC \"-//W3C//DTD SVG 1.1//EN\"\n \"http://www.w3.org/Graphics/SVG/1.1/DTD/svg11.dtd\">\n<!-- Generated by graphviz version 7.1.0 (20230121.1956)\n -->\n<!-- Pages: 1 -->\n<svg width=\"1148pt\" height=\"128pt\"\n viewBox=\"0.00 0.00 1148.00 128.00\" xmlns=\"http://www.w3.org/2000/svg\" xmlns:xlink=\"http://www.w3.org/1999/xlink\">\n<g id=\"graph0\" class=\"graph\" transform=\"scale(1 1) rotate(0) translate(4 124)\">\n<polygon fill=\"white\" stroke=\"none\" points=\"-4,4 -4,-124 1144,-124 1144,4 -4,4\"/>\n<!-- 140457702475376 -->\n<g id=\"node1\" class=\"node\">\n<title>140457702475376</title>\n<polygon fill=\"none\" stroke=\"black\" points=\"635.5,-27.5 635.5,-63.5 820.5,-63.5 820.5,-27.5 635.5,-27.5\"/>\n<text text-anchor=\"middle\" x=\"647\" y=\"-41.8\" font-family=\"Times,serif\" font-size=\"14.00\">d</text>\n<polyline fill=\"none\" stroke=\"black\" points=\"658.5,-27.5 658.5,-63.5\"/>\n<text text-anchor=\"middle\" x=\"698.5\" y=\"-41.8\" font-family=\"Times,serif\" font-size=\"14.00\">data 4.0000</text>\n<polyline fill=\"none\" stroke=\"black\" points=\"738.5,-27.5 738.5,-63.5\"/>\n<text text-anchor=\"middle\" x=\"779.5\" y=\"-41.8\" font-family=\"Times,serif\" font-size=\"14.00\">grad 0.0000</text>\n</g>\n<!-- 140457702476480* -->\n<g id=\"node7\" class=\"node\">\n<title>140457702476480*</title>\n<ellipse fill=\"none\" stroke=\"black\" cx=\"885\" cy=\"-72.5\" rx=\"27\" ry=\"18\"/>\n<text text-anchor=\"middle\" x=\"885\" y=\"-68.8\" font-family=\"Times,serif\" font-size=\"14.00\">*</text>\n</g>\n<!-- 140457702475376&#45;&gt;140457702476480* -->\n<g id=\"edge6\" class=\"edge\">\n<title>140457702475376&#45;&gt;140457702476480*</title>\n<path fill=\"none\" stroke=\"black\" d=\"M820.06,-61.36C829.65,-63.03 838.94,-64.65 847.35,-66.12\"/>\n<polygon fill=\"black\" stroke=\"black\" points=\"846.62,-69.54 857.07,-67.81 847.82,-62.65 846.62,-69.54\"/>\n</g>\n<!-- 140457702475376+ -->\n<g id=\"node2\" class=\"node\">\n<title>140457702475376+</title>\n<ellipse fill=\"none\" stroke=\"black\" cx=\"571\" cy=\"-45.5\" rx=\"27\" ry=\"18\"/>\n<text text-anchor=\"middle\" x=\"571\" y=\"-41.8\" font-family=\"Times,serif\" font-size=\"14.00\">+</text>\n</g>\n<!-- 140457702475376+&#45;&gt;140457702475376 -->\n<g id=\"edge1\" class=\"edge\">\n<title>140457702475376+&#45;&gt;140457702475376</title>\n<path fill=\"none\" stroke=\"black\" d=\"M598.29,-45.5C605.99,-45.5 614.91,-45.5 624.39,-45.5\"/>\n<polygon fill=\"black\" stroke=\"black\" points=\"624.22,-49 634.22,-45.5 624.22,-42 624.22,-49\"/>\n</g>\n<!-- 140457702475904 -->\n<g id=\"node3\" class=\"node\">\n<title>140457702475904</title>\n<polygon fill=\"none\" stroke=\"black\" points=\"317,-55.5 317,-91.5 507,-91.5 507,-55.5 317,-55.5\"/>\n<text text-anchor=\"middle\" x=\"328.5\" y=\"-69.8\" font-family=\"Times,serif\" font-size=\"14.00\">e</text>\n<polyline fill=\"none\" stroke=\"black\" points=\"340,-55.5 340,-91.5\"/>\n<text text-anchor=\"middle\" x=\"382.5\" y=\"-69.8\" font-family=\"Times,serif\" font-size=\"14.00\">data &#45;6.0000</text>\n<polyline fill=\"none\" stroke=\"black\" points=\"425,-55.5 425,-91.5\"/>\n<text text-anchor=\"middle\" x=\"466\" y=\"-69.8\" font-family=\"Times,serif\" font-size=\"14.00\">grad 0.0000</text>\n</g>\n<!-- 140457702475904&#45;&gt;140457702475376+ -->\n<g id=\"edge9\" class=\"edge\">\n<title>140457702475904&#45;&gt;140457702475376+</title>\n<path fill=\"none\" stroke=\"black\" d=\"M506.59,-56.81C516.06,-55.12 525.22,-53.49 533.49,-52.01\"/>\n<polygon fill=\"black\" stroke=\"black\" points=\"533.82,-55.51 543.05,-50.31 532.59,-48.62 533.82,-55.51\"/>\n</g>\n<!-- 140457702475904* -->\n<g id=\"node4\" class=\"node\">\n<title>140457702475904*</title>\n<ellipse fill=\"none\" stroke=\"black\" cx=\"253\" cy=\"-73.5\" rx=\"27\" ry=\"18\"/>\n<text text-anchor=\"middle\" x=\"253\" y=\"-69.8\" font-family=\"Times,serif\" font-size=\"14.00\">*</text>\n</g>\n<!-- 140457702475904*&#45;&gt;140457702475904 -->\n<g id=\"edge2\" class=\"edge\">\n<title>140457702475904*&#45;&gt;140457702475904</title>\n<path fill=\"none\" stroke=\"black\" d=\"M280.28,-73.5C287.79,-73.5 296.46,-73.5 305.7,-73.5\"/>\n<polygon fill=\"black\" stroke=\"black\" points=\"305.7,-77 315.7,-73.5 305.7,-70 305.7,-77\"/>\n</g>\n<!-- 140457702475424 -->\n<g id=\"node5\" class=\"node\">\n<title>140457702475424</title>\n<polygon fill=\"none\" stroke=\"black\" points=\"316,-0.5 316,-36.5 508,-36.5 508,-0.5 316,-0.5\"/>\n<text text-anchor=\"middle\" x=\"327.5\" y=\"-14.8\" font-family=\"Times,serif\" font-size=\"14.00\">c</text>\n<polyline fill=\"none\" stroke=\"black\" points=\"339,-0.5 339,-36.5\"/>\n<text text-anchor=\"middle\" x=\"382.5\" y=\"-14.8\" font-family=\"Times,serif\" font-size=\"14.00\">data 10.0000</text>\n<polyline fill=\"none\" stroke=\"black\" points=\"426,-0.5 426,-36.5\"/>\n<text text-anchor=\"middle\" x=\"467\" y=\"-14.8\" font-family=\"Times,serif\" font-size=\"14.00\">grad 0.0000</text>\n</g>\n<!-- 140457702475424&#45;&gt;140457702475376+ -->\n<g id=\"edge4\" class=\"edge\">\n<title>140457702475424&#45;&gt;140457702475376+</title>\n<path fill=\"none\" stroke=\"black\" d=\"M507.95,-34.83C516.87,-36.36 525.49,-37.85 533.33,-39.19\"/>\n<polygon fill=\"black\" stroke=\"black\" points=\"532.62,-42.62 543.07,-40.87 533.8,-35.72 532.62,-42.62\"/>\n</g>\n<!-- 140457702476480 -->\n<g id=\"node6\" class=\"node\">\n<title>140457702476480</title>\n<polygon fill=\"none\" stroke=\"black\" points=\"948,-54.5 948,-90.5 1140,-90.5 1140,-54.5 948,-54.5\"/>\n<text text-anchor=\"middle\" x=\"960.5\" y=\"-68.8\" font-family=\"Times,serif\" font-size=\"14.00\">L</text>\n<polyline fill=\"none\" stroke=\"black\" points=\"973,-54.5 973,-90.5\"/>\n<text text-anchor=\"middle\" x=\"1015.5\" y=\"-68.8\" font-family=\"Times,serif\" font-size=\"14.00\">data &#45;8.0000</text>\n<polyline fill=\"none\" stroke=\"black\" points=\"1058,-54.5 1058,-90.5\"/>\n<text text-anchor=\"middle\" x=\"1099\" y=\"-68.8\" font-family=\"Times,serif\" font-size=\"14.00\">grad 0.0000</text>\n</g>\n<!-- 140457702476480*&#45;&gt;140457702476480 -->\n<g id=\"edge3\" class=\"edge\">\n<title>140457702476480*&#45;&gt;140457702476480</title>\n<path fill=\"none\" stroke=\"black\" d=\"M912.28,-72.5C919.52,-72.5 927.85,-72.5 936.72,-72.5\"/>\n<polygon fill=\"black\" stroke=\"black\" points=\"936.69,-76 946.69,-72.5 936.69,-69 936.69,-76\"/>\n</g>\n<!-- 140457702475136 -->\n<g id=\"node8\" class=\"node\">\n<title>140457702475136</title>\n<polygon fill=\"none\" stroke=\"black\" points=\"2.5,-83.5 2.5,-119.5 187.5,-119.5 187.5,-83.5 2.5,-83.5\"/>\n<text text-anchor=\"middle\" x=\"14\" y=\"-97.8\" font-family=\"Times,serif\" font-size=\"14.00\">a</text>\n<polyline fill=\"none\" stroke=\"black\" points=\"25.5,-83.5 25.5,-119.5\"/>\n<text text-anchor=\"middle\" x=\"65.5\" y=\"-97.8\" font-family=\"Times,serif\" font-size=\"14.00\">data 2.0000</text>\n<polyline fill=\"none\" stroke=\"black\" points=\"105.5,-83.5 105.5,-119.5\"/>\n<text text-anchor=\"middle\" x=\"146.5\" y=\"-97.8\" font-family=\"Times,serif\" font-size=\"14.00\">grad 0.0000</text>\n</g>\n<!-- 140457702475136&#45;&gt;140457702475904* -->\n<g id=\"edge7\" class=\"edge\">\n<title>140457702475136&#45;&gt;140457702475904*</title>\n<path fill=\"none\" stroke=\"black\" d=\"M187.2,-85.13C197.1,-83.35 206.71,-81.63 215.36,-80.08\"/>\n<polygon fill=\"black\" stroke=\"black\" points=\"215.79,-83.55 225.02,-78.34 214.56,-76.66 215.79,-83.55\"/>\n</g>\n<!-- 140457702476192 -->\n<g id=\"node9\" class=\"node\">\n<title>140457702476192</title>\n<polygon fill=\"none\" stroke=\"black\" points=\"634,-82.5 634,-118.5 822,-118.5 822,-82.5 634,-82.5\"/>\n<text text-anchor=\"middle\" x=\"644.5\" y=\"-96.8\" font-family=\"Times,serif\" font-size=\"14.00\">f</text>\n<polyline fill=\"none\" stroke=\"black\" points=\"655,-82.5 655,-118.5\"/>\n<text text-anchor=\"middle\" x=\"697.5\" y=\"-96.8\" font-family=\"Times,serif\" font-size=\"14.00\">data &#45;2.0000</text>\n<polyline fill=\"none\" stroke=\"black\" points=\"740,-82.5 740,-118.5\"/>\n<text text-anchor=\"middle\" x=\"781\" y=\"-96.8\" font-family=\"Times,serif\" font-size=\"14.00\">grad 0.0000</text>\n</g>\n<!-- 140457702476192&#45;&gt;140457702476480* -->\n<g id=\"edge5\" class=\"edge\">\n<title>140457702476192&#45;&gt;140457702476480*</title>\n<path fill=\"none\" stroke=\"black\" d=\"M821.85,-83.73C830.75,-82.12 839.38,-80.56 847.22,-79.14\"/>\n<polygon fill=\"black\" stroke=\"black\" points=\"847.76,-82.6 856.98,-77.38 846.52,-75.71 847.76,-82.6\"/>\n</g>\n<!-- 140457702475232 -->\n<g id=\"node10\" class=\"node\">\n<title>140457702475232</title>\n<polygon fill=\"none\" stroke=\"black\" points=\"0,-28.5 0,-64.5 190,-64.5 190,-28.5 0,-28.5\"/>\n<text text-anchor=\"middle\" x=\"11.5\" y=\"-42.8\" font-family=\"Times,serif\" font-size=\"14.00\">b</text>\n<polyline fill=\"none\" stroke=\"black\" points=\"23,-28.5 23,-64.5\"/>\n<text text-anchor=\"middle\" x=\"65.5\" y=\"-42.8\" font-family=\"Times,serif\" font-size=\"14.00\">data &#45;3.0000</text>\n<polyline fill=\"none\" stroke=\"black\" points=\"108,-28.5 108,-64.5\"/>\n<text text-anchor=\"middle\" x=\"149\" y=\"-42.8\" font-family=\"Times,serif\" font-size=\"14.00\">grad 0.0000</text>\n</g>\n<!-- 140457702475232&#45;&gt;140457702475904* -->\n<g id=\"edge8\" class=\"edge\">\n<title>140457702475232&#45;&gt;140457702475904*</title>\n<path fill=\"none\" stroke=\"black\" d=\"M189.9,-62.75C198.81,-64.29 207.43,-65.79 215.28,-67.14\"/>\n<polygon fill=\"black\" stroke=\"black\" points=\"214.57,-70.57 225.02,-68.83 215.76,-63.68 214.57,-70.57\"/>\n</g>\n</g>\n</svg>\n",
      "text/plain": [
       "<graphviz.graphs.Digraph at 0x7fbedb4d5c10>"
      ]
     },
     "execution_count": 261,
     "metadata": {},
     "output_type": "execute_result"
    }
   ],
   "source": [
    "draw_dot(L)"
   ]
  },
  {
   "cell_type": "code",
   "execution_count": 262,
   "metadata": {},
   "outputs": [
    {
     "name": "stdout",
     "output_type": "stream",
     "text": [
      "-8.0\n"
     ]
    }
   ],
   "source": [
    "a.data += 0.01 * a.grad\n",
    "b.data += 0.01 * b.grad\n",
    "c.data += 0.01 * c.grad\n",
    "f.data += 0.01 * f.grad\n",
    "\n",
    "e = a * b\n",
    "d = e + c\n",
    "L = d * f\n",
    "\n",
    "print(L.data)\n"
   ]
  },
  {
   "cell_type": "code",
   "execution_count": null,
   "metadata": {},
   "outputs": [],
   "source": []
  },
  {
   "cell_type": "code",
   "execution_count": 263,
   "metadata": {},
   "outputs": [
    {
     "data": {
      "image/png": "[encoded data removed]",
      "text/plain": [
       "<Figure size 640x480 with 1 Axes>"
      ]
     },
     "metadata": {},
     "output_type": "display_data"
    }
   ],
   "source": [
    "plt.plot(np.arange(-5,5,0.2), np.tanh(np.arange(-5,5,0.2))); plt.grid();"
   ]
  },
  {
   "cell_type": "code",
   "execution_count": 264,
   "metadata": {},
   "outputs": [],
   "source": [
    "# inputs x1,x2\n",
    "x1 = Value(2.0, label='x1')\n",
    "x2 = Value(0.0, label='x2')\n",
    "# weights w1,w2\n",
    "w1 = Value(-3.0, label='w1')\n",
    "w2 = Value(1.0, label='w2')\n",
    "# bias of the neuron\n",
    "b = Value(6.8813735870195432, label='b')\n",
    "# x1*w1 + x2*w2 + b\n",
    "x1w1 = x1*w1; x1w1.label = 'x1*w1'\n",
    "x2w2 = x2*w2; x2w2.label = 'x2*w2'\n",
    "x1w1x2w2 = x1w1 + x2w2; x1w1x2w2.label = 'x1*w1 + x2*w2'\n",
    "n = x1w1x2w2 + b; n.label = 'n'\n",
    "o = n.tanh(); o.label = 'o'"
   ]
  },
  {
   "cell_type": "code",
   "execution_count": 265,
   "metadata": {},
   "outputs": [
    {
     "data": {
      "image/svg+xml": "<?xml version=\"1.0\" encoding=\"UTF-8\" standalone=\"no\"?>\n<!DOCTYPE svg PUBLIC \"-//W3C//DTD SVG 1.1//EN\"\n \"http://www.w3.org/Graphics/SVG/1.1/DTD/svg11.dtd\">\n<!-- Generated by graphviz version 7.1.0 (20230121.1956)\n -->\n<!-- Pages: 1 -->\n<svg width=\"1575pt\" height=\"210pt\"\n viewBox=\"0.00 0.00 1575.00 210.00\" xmlns=\"http://www.w3.org/2000/svg\" xmlns:xlink=\"http://www.w3.org/1999/xlink\">\n<g id=\"graph0\" class=\"graph\" transform=\"scale(1 1) rotate(0) translate(4 206)\">\n<polygon fill=\"white\" stroke=\"none\" points=\"-4,4 -4,-206 1571,-206 1571,4 -4,4\"/>\n<!-- 140457702812160 -->\n<g id=\"node1\" class=\"node\">\n<title>140457702812160</title>\n<polygon fill=\"none\" stroke=\"black\" points=\"326,-55.5 326,-91.5 546,-91.5 546,-55.5 326,-55.5\"/>\n<text text-anchor=\"middle\" x=\"352.5\" y=\"-69.8\" font-family=\"Times,serif\" font-size=\"14.00\">x1*w1</text>\n<polyline fill=\"none\" stroke=\"black\" points=\"379,-55.5 379,-91.5\"/>\n<text text-anchor=\"middle\" x=\"421.5\" y=\"-69.8\" font-family=\"Times,serif\" font-size=\"14.00\">data &#45;6.0000</text>\n<polyline fill=\"none\" stroke=\"black\" points=\"464,-55.5 464,-91.5\"/>\n<text text-anchor=\"middle\" x=\"505\" y=\"-69.8\" font-family=\"Times,serif\" font-size=\"14.00\">grad 0.0000</text>\n</g>\n<!-- 140457702812208+ -->\n<g id=\"node4\" class=\"node\">\n<title>140457702812208+</title>\n<ellipse fill=\"none\" stroke=\"black\" cx=\"609\" cy=\"-100.5\" rx=\"27\" ry=\"18\"/>\n<text text-anchor=\"middle\" x=\"609\" y=\"-96.8\" font-family=\"Times,serif\" font-size=\"14.00\">+</text>\n</g>\n<!-- 140457702812160&#45;&gt;140457702812208+ -->\n<g id=\"edge8\" class=\"edge\">\n<title>140457702812160&#45;&gt;140457702812208+</title>\n<path fill=\"none\" stroke=\"black\" d=\"M545.78,-90.68C554.79,-92.1 563.43,-93.46 571.25,-94.7\"/>\n<polygon fill=\"black\" stroke=\"black\" points=\"570.51,-98.12 580.94,-96.23 571.61,-91.21 570.51,-98.12\"/>\n</g>\n<!-- 140457702812160* -->\n<g id=\"node2\" class=\"node\">\n<title>140457702812160*</title>\n<ellipse fill=\"none\" stroke=\"black\" cx=\"263\" cy=\"-73.5\" rx=\"27\" ry=\"18\"/>\n<text text-anchor=\"middle\" x=\"263\" y=\"-69.8\" font-family=\"Times,serif\" font-size=\"14.00\">*</text>\n</g>\n<!-- 140457702812160*&#45;&gt;140457702812160 -->\n<g id=\"edge1\" class=\"edge\">\n<title>140457702812160*&#45;&gt;140457702812160</title>\n<path fill=\"none\" stroke=\"black\" d=\"M290.34,-73.5C297.6,-73.5 305.98,-73.5 314.97,-73.5\"/>\n<polygon fill=\"black\" stroke=\"black\" points=\"314.69,-77 324.69,-73.5 314.69,-70 314.69,-77\"/>\n</g>\n<!-- 140457702812208 -->\n<g id=\"node3\" class=\"node\">\n<title>140457702812208</title>\n<polygon fill=\"none\" stroke=\"black\" points=\"672,-82.5 672,-118.5 945,-118.5 945,-82.5 672,-82.5\"/>\n<text text-anchor=\"middle\" x=\"725\" y=\"-96.8\" font-family=\"Times,serif\" font-size=\"14.00\">x1*w1 + x2*w2</text>\n<polyline fill=\"none\" stroke=\"black\" points=\"778,-82.5 778,-118.5\"/>\n<text text-anchor=\"middle\" x=\"820.5\" y=\"-96.8\" font-family=\"Times,serif\" font-size=\"14.00\">data &#45;6.0000</text>\n<polyline fill=\"none\" stroke=\"black\" points=\"863,-82.5 863,-118.5\"/>\n<text text-anchor=\"middle\" x=\"904\" y=\"-96.8\" font-family=\"Times,serif\" font-size=\"14.00\">grad 0.0000</text>\n</g>\n<!-- 140457702812400+ -->\n<g id=\"node11\" class=\"node\">\n<title>140457702812400+</title>\n<ellipse fill=\"none\" stroke=\"black\" cx=\"1008\" cy=\"-127.5\" rx=\"27\" ry=\"18\"/>\n<text text-anchor=\"middle\" x=\"1008\" y=\"-123.8\" font-family=\"Times,serif\" font-size=\"14.00\">+</text>\n</g>\n<!-- 140457702812208&#45;&gt;140457702812400+ -->\n<g id=\"edge9\" class=\"edge\">\n<title>140457702812208&#45;&gt;140457702812400+</title>\n<path fill=\"none\" stroke=\"black\" d=\"M940.96,-118.47C951.31,-119.89 961.12,-121.23 969.85,-122.42\"/>\n<polygon fill=\"black\" stroke=\"black\" points=\"969.17,-125.86 979.56,-123.75 970.12,-118.93 969.17,-125.86\"/>\n</g>\n<!-- 140457702812208+&#45;&gt;140457702812208 -->\n<g id=\"edge2\" class=\"edge\">\n<title>140457702812208+&#45;&gt;140457702812208</title>\n<path fill=\"none\" stroke=\"black\" d=\"M636.23,-100.5C643.46,-100.5 651.86,-100.5 660.97,-100.5\"/>\n<polygon fill=\"black\" stroke=\"black\" points=\"660.89,-104 670.89,-100.5 660.89,-97 660.89,-104\"/>\n</g>\n<!-- 140457702811728 -->\n<g id=\"node5\" class=\"node\">\n<title>140457702811728</title>\n<polygon fill=\"none\" stroke=\"black\" points=\"4,-165.5 4,-201.5 196,-201.5 196,-165.5 4,-165.5\"/>\n<text text-anchor=\"middle\" x=\"19\" y=\"-179.8\" font-family=\"Times,serif\" font-size=\"14.00\">x2</text>\n<polyline fill=\"none\" stroke=\"black\" points=\"34,-165.5 34,-201.5\"/>\n<text text-anchor=\"middle\" x=\"74\" y=\"-179.8\" font-family=\"Times,serif\" font-size=\"14.00\">data 0.0000</text>\n<polyline fill=\"none\" stroke=\"black\" points=\"114,-165.5 114,-201.5\"/>\n<text text-anchor=\"middle\" x=\"155\" y=\"-179.8\" font-family=\"Times,serif\" font-size=\"14.00\">grad 0.0000</text>\n</g>\n<!-- 140457702812064* -->\n<g id=\"node13\" class=\"node\">\n<title>140457702812064*</title>\n<ellipse fill=\"none\" stroke=\"black\" cx=\"263\" cy=\"-128.5\" rx=\"27\" ry=\"18\"/>\n<text text-anchor=\"middle\" x=\"263\" y=\"-124.8\" font-family=\"Times,serif\" font-size=\"14.00\">*</text>\n</g>\n<!-- 140457702811728&#45;&gt;140457702812064* -->\n<g id=\"edge11\" class=\"edge\">\n<title>140457702811728&#45;&gt;140457702812064*</title>\n<path fill=\"none\" stroke=\"black\" d=\"M172.27,-165.52C181.67,-162.72 191.12,-159.7 200,-156.5 210.09,-152.87 220.83,-148.29 230.48,-143.89\"/>\n<polygon fill=\"black\" stroke=\"black\" points=\"231.87,-147.11 239.45,-139.71 228.91,-140.76 231.87,-147.11\"/>\n</g>\n<!-- 140457702811248 -->\n<g id=\"node6\" class=\"node\">\n<title>140457702811248</title>\n<polygon fill=\"none\" stroke=\"black\" points=\"2.5,-110.5 2.5,-146.5 197.5,-146.5 197.5,-110.5 2.5,-110.5\"/>\n<text text-anchor=\"middle\" x=\"19\" y=\"-124.8\" font-family=\"Times,serif\" font-size=\"14.00\">w2</text>\n<polyline fill=\"none\" stroke=\"black\" points=\"35.5,-110.5 35.5,-146.5\"/>\n<text text-anchor=\"middle\" x=\"75.5\" y=\"-124.8\" font-family=\"Times,serif\" font-size=\"14.00\">data 1.0000</text>\n<polyline fill=\"none\" stroke=\"black\" points=\"115.5,-110.5 115.5,-146.5\"/>\n<text text-anchor=\"middle\" x=\"156.5\" y=\"-124.8\" font-family=\"Times,serif\" font-size=\"14.00\">grad 0.0000</text>\n</g>\n<!-- 140457702811248&#45;&gt;140457702812064* -->\n<g id=\"edge13\" class=\"edge\">\n<title>140457702811248&#45;&gt;140457702812064*</title>\n<path fill=\"none\" stroke=\"black\" d=\"M197.44,-128.5C206.89,-128.5 216.04,-128.5 224.32,-128.5\"/>\n<polygon fill=\"black\" stroke=\"black\" points=\"224.28,-132 234.28,-128.5 224.28,-125 224.28,-132\"/>\n</g>\n<!-- 140457702811776 -->\n<g id=\"node7\" class=\"node\">\n<title>140457702811776</title>\n<polygon fill=\"none\" stroke=\"black\" points=\"4,-55.5 4,-91.5 196,-91.5 196,-55.5 4,-55.5\"/>\n<text text-anchor=\"middle\" x=\"19\" y=\"-69.8\" font-family=\"Times,serif\" font-size=\"14.00\">x1</text>\n<polyline fill=\"none\" stroke=\"black\" points=\"34,-55.5 34,-91.5\"/>\n<text text-anchor=\"middle\" x=\"74\" y=\"-69.8\" font-family=\"Times,serif\" font-size=\"14.00\">data 2.0000</text>\n<polyline fill=\"none\" stroke=\"black\" points=\"114,-55.5 114,-91.5\"/>\n<text text-anchor=\"middle\" x=\"155\" y=\"-69.8\" font-family=\"Times,serif\" font-size=\"14.00\">grad 0.0000</text>\n</g>\n<!-- 140457702811776&#45;&gt;140457702812160* -->\n<g id=\"edge6\" class=\"edge\">\n<title>140457702811776&#45;&gt;140457702812160*</title>\n<path fill=\"none\" stroke=\"black\" d=\"M195.59,-73.5C205.66,-73.5 215.42,-73.5 224.23,-73.5\"/>\n<polygon fill=\"black\" stroke=\"black\" points=\"224.07,-77 234.07,-73.5 224.07,-70 224.07,-77\"/>\n</g>\n<!-- 140457702811824 -->\n<g id=\"node8\" class=\"node\">\n<title>140457702811824</title>\n<polygon fill=\"none\" stroke=\"black\" points=\"0,-0.5 0,-36.5 200,-36.5 200,-0.5 0,-0.5\"/>\n<text text-anchor=\"middle\" x=\"16.5\" y=\"-14.8\" font-family=\"Times,serif\" font-size=\"14.00\">w1</text>\n<polyline fill=\"none\" stroke=\"black\" points=\"33,-0.5 33,-36.5\"/>\n<text text-anchor=\"middle\" x=\"75.5\" y=\"-14.8\" font-family=\"Times,serif\" font-size=\"14.00\">data &#45;3.0000</text>\n<polyline fill=\"none\" stroke=\"black\" points=\"118,-0.5 118,-36.5\"/>\n<text text-anchor=\"middle\" x=\"159\" y=\"-14.8\" font-family=\"Times,serif\" font-size=\"14.00\">grad 0.0000</text>\n</g>\n<!-- 140457702811824&#45;&gt;140457702812160* -->\n<g id=\"edge10\" class=\"edge\">\n<title>140457702811824&#45;&gt;140457702812160*</title>\n<path fill=\"none\" stroke=\"black\" d=\"M169.02,-36.42C179.47,-39.56 190.08,-42.95 200,-46.5 209.96,-50.06 220.59,-54.46 230.18,-58.66\"/>\n<polygon fill=\"black\" stroke=\"black\" points=\"228.54,-61.76 239.1,-62.66 231.4,-55.37 228.54,-61.76\"/>\n</g>\n<!-- 140457702811872 -->\n<g id=\"node9\" class=\"node\">\n<title>140457702811872</title>\n<polygon fill=\"none\" stroke=\"black\" points=\"716,-137.5 716,-173.5 901,-173.5 901,-137.5 716,-137.5\"/>\n<text text-anchor=\"middle\" x=\"727.5\" y=\"-151.8\" font-family=\"Times,serif\" font-size=\"14.00\">b</text>\n<polyline fill=\"none\" stroke=\"black\" points=\"739,-137.5 739,-173.5\"/>\n<text text-anchor=\"middle\" x=\"779\" y=\"-151.8\" font-family=\"Times,serif\" font-size=\"14.00\">data 6.8814</text>\n<polyline fill=\"none\" stroke=\"black\" points=\"819,-137.5 819,-173.5\"/>\n<text text-anchor=\"middle\" x=\"860\" y=\"-151.8\" font-family=\"Times,serif\" font-size=\"14.00\">grad 0.0000</text>\n</g>\n<!-- 140457702811872&#45;&gt;140457702812400+ -->\n<g id=\"edge7\" class=\"edge\">\n<title>140457702811872&#45;&gt;140457702812400+</title>\n<path fill=\"none\" stroke=\"black\" d=\"M900.73,-142.57C925.29,-139.08 950.47,-135.51 970.15,-132.72\"/>\n<polygon fill=\"black\" stroke=\"black\" points=\"970.44,-136.22 979.85,-131.35 969.46,-129.29 970.44,-136.22\"/>\n</g>\n<!-- 140457702812400 -->\n<g id=\"node10\" class=\"node\">\n<title>140457702812400</title>\n<polygon fill=\"none\" stroke=\"black\" points=\"1071,-109.5 1071,-145.5 1256,-145.5 1256,-109.5 1071,-109.5\"/>\n<text text-anchor=\"middle\" x=\"1082.5\" y=\"-123.8\" font-family=\"Times,serif\" font-size=\"14.00\">n</text>\n<polyline fill=\"none\" stroke=\"black\" points=\"1094,-109.5 1094,-145.5\"/>\n<text text-anchor=\"middle\" x=\"1134\" y=\"-123.8\" font-family=\"Times,serif\" font-size=\"14.00\">data 0.8814</text>\n<polyline fill=\"none\" stroke=\"black\" points=\"1174,-109.5 1174,-145.5\"/>\n<text text-anchor=\"middle\" x=\"1215\" y=\"-123.8\" font-family=\"Times,serif\" font-size=\"14.00\">grad 0.0000</text>\n</g>\n<!-- 140457702812640tanh -->\n<g id=\"node15\" class=\"node\">\n<title>140457702812640tanh</title>\n<ellipse fill=\"none\" stroke=\"black\" cx=\"1319\" cy=\"-127.5\" rx=\"27\" ry=\"18\"/>\n<text text-anchor=\"middle\" x=\"1319\" y=\"-123.8\" font-family=\"Times,serif\" font-size=\"14.00\">tanh</text>\n</g>\n<!-- 140457702812400&#45;&gt;140457702812640tanh -->\n<g id=\"edge12\" class=\"edge\">\n<title>140457702812400&#45;&gt;140457702812640tanh</title>\n<path fill=\"none\" stroke=\"black\" d=\"M1255.57,-127.5C1264.21,-127.5 1272.6,-127.5 1280.28,-127.5\"/>\n<polygon fill=\"black\" stroke=\"black\" points=\"1280.19,-131 1290.19,-127.5 1280.19,-124 1280.19,-131\"/>\n</g>\n<!-- 140457702812400+&#45;&gt;140457702812400 -->\n<g id=\"edge3\" class=\"edge\">\n<title>140457702812400+&#45;&gt;140457702812400</title>\n<path fill=\"none\" stroke=\"black\" d=\"M1035.39,-127.5C1042.62,-127.5 1050.92,-127.5 1059.74,-127.5\"/>\n<polygon fill=\"black\" stroke=\"black\" points=\"1059.64,-131 1069.64,-127.5 1059.64,-124 1059.64,-131\"/>\n</g>\n<!-- 140457702812064 -->\n<g id=\"node12\" class=\"node\">\n<title>140457702812064</title>\n<polygon fill=\"none\" stroke=\"black\" points=\"328.5,-110.5 328.5,-146.5 543.5,-146.5 543.5,-110.5 328.5,-110.5\"/>\n<text text-anchor=\"middle\" x=\"355\" y=\"-124.8\" font-family=\"Times,serif\" font-size=\"14.00\">x2*w2</text>\n<polyline fill=\"none\" stroke=\"black\" points=\"381.5,-110.5 381.5,-146.5\"/>\n<text text-anchor=\"middle\" x=\"421.5\" y=\"-124.8\" font-family=\"Times,serif\" font-size=\"14.00\">data 0.0000</text>\n<polyline fill=\"none\" stroke=\"black\" points=\"461.5,-110.5 461.5,-146.5\"/>\n<text text-anchor=\"middle\" x=\"502.5\" y=\"-124.8\" font-family=\"Times,serif\" font-size=\"14.00\">grad 0.0000</text>\n</g>\n<!-- 140457702812064&#45;&gt;140457702812208+ -->\n<g id=\"edge14\" class=\"edge\">\n<title>140457702812064&#45;&gt;140457702812208+</title>\n<path fill=\"none\" stroke=\"black\" d=\"M543.35,-111.09C553.14,-109.48 562.54,-107.94 570.99,-106.56\"/>\n<polygon fill=\"black\" stroke=\"black\" points=\"571.46,-110.03 580.76,-104.96 570.33,-103.12 571.46,-110.03\"/>\n</g>\n<!-- 140457702812064*&#45;&gt;140457702812064 -->\n<g id=\"edge4\" class=\"edge\">\n<title>140457702812064*&#45;&gt;140457702812064</title>\n<path fill=\"none\" stroke=\"black\" d=\"M290.34,-128.5C298.24,-128.5 307.46,-128.5 317.34,-128.5\"/>\n<polygon fill=\"black\" stroke=\"black\" points=\"317.24,-132 327.24,-128.5 317.24,-125 317.24,-132\"/>\n</g>\n<!-- 140457702812640 -->\n<g id=\"node14\" class=\"node\">\n<title>140457702812640</title>\n<polygon fill=\"none\" stroke=\"black\" points=\"1382,-109.5 1382,-145.5 1567,-145.5 1567,-109.5 1382,-109.5\"/>\n<text text-anchor=\"middle\" x=\"1393.5\" y=\"-123.8\" font-family=\"Times,serif\" font-size=\"14.00\">o</text>\n<polyline fill=\"none\" stroke=\"black\" points=\"1405,-109.5 1405,-145.5\"/>\n<text text-anchor=\"middle\" x=\"1445\" y=\"-123.8\" font-family=\"Times,serif\" font-size=\"14.00\">data 0.7071</text>\n<polyline fill=\"none\" stroke=\"black\" points=\"1485,-109.5 1485,-145.5\"/>\n<text text-anchor=\"middle\" x=\"1526\" y=\"-123.8\" font-family=\"Times,serif\" font-size=\"14.00\">grad 0.0000</text>\n</g>\n<!-- 140457702812640tanh&#45;&gt;140457702812640 -->\n<g id=\"edge5\" class=\"edge\">\n<title>140457702812640tanh&#45;&gt;140457702812640</title>\n<path fill=\"none\" stroke=\"black\" d=\"M1346.39,-127.5C1353.62,-127.5 1361.92,-127.5 1370.74,-127.5\"/>\n<polygon fill=\"black\" stroke=\"black\" points=\"1370.64,-131 1380.64,-127.5 1370.64,-124 1370.64,-131\"/>\n</g>\n</g>\n</svg>\n",
      "text/plain": [
       "<graphviz.graphs.Digraph at 0x7fbedb79fe80>"
      ]
     },
     "execution_count": 265,
     "metadata": {},
     "output_type": "execute_result"
    }
   ],
   "source": [
    "draw_dot(o)"
   ]
  },
  {
   "cell_type": "code",
   "execution_count": 266,
   "metadata": {},
   "outputs": [],
   "source": [
    "o.backward()"
   ]
  },
  {
   "cell_type": "code",
   "execution_count": 267,
   "metadata": {},
   "outputs": [
    {
     "data": {
      "text/plain": [
       "[Value(data=2.0),\n",
       " Value(data=-3.0),\n",
       " Value(data=-6.0),\n",
       " Value(data=0.0),\n",
       " Value(data=1.0),\n",
       " Value(data=0.0),\n",
       " Value(data=-6.0),\n",
       " Value(data=6.881373587019543),\n",
       " Value(data=0.8813735870195432),\n",
       " Value(data=0.7071067811865476)]"
      ]
     },
     "execution_count": 267,
     "metadata": {},
     "output_type": "execute_result"
    }
   ],
   "source": [
    "topo = []\n",
    "visited = set()\n",
    "def build_topo(v):\n",
    "  if v not in visited:\n",
    "    visited.add(v)\n",
    "    for child in v._prev:\n",
    "      build_topo(child)\n",
    "    topo.append(v)\n",
    "build_topo(o)\n",
    "topo"
   ]
  },
  {
   "cell_type": "code",
   "execution_count": 268,
   "metadata": {},
   "outputs": [],
   "source": [
    "o.grad = 1.0"
   ]
  },
  {
   "cell_type": "code",
   "execution_count": 269,
   "metadata": {},
   "outputs": [],
   "source": [
    "o._backward()"
   ]
  },
  {
   "cell_type": "code",
   "execution_count": 270,
   "metadata": {},
   "outputs": [],
   "source": [
    "n._backward()"
   ]
  },
  {
   "cell_type": "code",
   "execution_count": 271,
   "metadata": {},
   "outputs": [],
   "source": [
    "b._backward()"
   ]
  },
  {
   "cell_type": "code",
   "execution_count": 272,
   "metadata": {},
   "outputs": [],
   "source": [
    "x1w1x2w2._backward()"
   ]
  },
  {
   "cell_type": "code",
   "execution_count": 273,
   "metadata": {},
   "outputs": [],
   "source": [
    "x2w2._backward()\n",
    "x1w1._backward()"
   ]
  },
  {
   "cell_type": "code",
   "execution_count": 274,
   "metadata": {},
   "outputs": [],
   "source": [
    "x1.grad = w1.data * x1w1.grad\n",
    "w1.grad = x1.data * x1w1.grad"
   ]
  },
  {
   "cell_type": "code",
   "execution_count": 275,
   "metadata": {},
   "outputs": [],
   "source": [
    "x2.grad = w2.data * x2w2.grad\n",
    "w2.grad = x2.data * x2w2.grad"
   ]
  },
  {
   "cell_type": "code",
   "execution_count": 276,
   "metadata": {},
   "outputs": [],
   "source": [
    "x1w1.grad = 0.5\n",
    "x2w2.grad = 0.5"
   ]
  },
  {
   "cell_type": "code",
   "execution_count": 277,
   "metadata": {},
   "outputs": [],
   "source": [
    "x1w1x2w2.grad = 0.5\n",
    "b.grad = 0.5"
   ]
  },
  {
   "cell_type": "code",
   "execution_count": 278,
   "metadata": {},
   "outputs": [],
   "source": [
    "n.grad = 0.5"
   ]
  },
  {
   "cell_type": "code",
   "execution_count": 279,
   "metadata": {},
   "outputs": [],
   "source": [
    "o.grad = 1.0"
   ]
  },
  {
   "cell_type": "code",
   "execution_count": 280,
   "metadata": {},
   "outputs": [
    {
     "data": {
      "text/plain": [
       "0.4999999999999999"
      ]
     },
     "execution_count": 280,
     "metadata": {},
     "output_type": "execute_result"
    }
   ],
   "source": [
    "1 - o.data**2"
   ]
  },
  {
   "cell_type": "code",
   "execution_count": 281,
   "metadata": {},
   "outputs": [],
   "source": [
    "# o = tanh(n)\n",
    "# do/dn = 1 - o**2"
   ]
  },
  {
   "cell_type": "code",
   "execution_count": 282,
   "metadata": {},
   "outputs": [
    {
     "data": {
      "image/svg+xml": "<?xml version=\"1.0\" encoding=\"UTF-8\" standalone=\"no\"?>\n<!DOCTYPE svg PUBLIC \"-//W3C//DTD SVG 1.1//EN\"\n \"http://www.w3.org/Graphics/SVG/1.1/DTD/svg11.dtd\">\n<!-- Generated by graphviz version 7.1.0 (20230121.1956)\n -->\n<!-- Pages: 1 -->\n<svg width=\"504pt\" height=\"45pt\"\n viewBox=\"0.00 0.00 504.00 45.00\" xmlns=\"http://www.w3.org/2000/svg\" xmlns:xlink=\"http://www.w3.org/1999/xlink\">\n<g id=\"graph0\" class=\"graph\" transform=\"scale(1 1) rotate(0) translate(4 41)\">\n<polygon fill=\"white\" stroke=\"none\" points=\"-4,4 -4,-41 500,-41 500,4 -4,4\"/>\n<!-- 140457702348976 -->\n<g id=\"node1\" class=\"node\">\n<title>140457702348976</title>\n<polygon fill=\"none\" stroke=\"black\" points=\"311,-0.5 311,-36.5 496,-36.5 496,-0.5 311,-0.5\"/>\n<text text-anchor=\"middle\" x=\"322.5\" y=\"-14.8\" font-family=\"Times,serif\" font-size=\"14.00\">b</text>\n<polyline fill=\"none\" stroke=\"black\" points=\"334,-0.5 334,-36.5\"/>\n<text text-anchor=\"middle\" x=\"374\" y=\"-14.8\" font-family=\"Times,serif\" font-size=\"14.00\">data 6.0000</text>\n<polyline fill=\"none\" stroke=\"black\" points=\"414,-0.5 414,-36.5\"/>\n<text text-anchor=\"middle\" x=\"455\" y=\"-14.8\" font-family=\"Times,serif\" font-size=\"14.00\">grad 1.0000</text>\n</g>\n<!-- 140457702348976+ -->\n<g id=\"node2\" class=\"node\">\n<title>140457702348976+</title>\n<ellipse fill=\"none\" stroke=\"black\" cx=\"248\" cy=\"-18.5\" rx=\"27\" ry=\"18\"/>\n<text text-anchor=\"middle\" x=\"248\" y=\"-14.8\" font-family=\"Times,serif\" font-size=\"14.00\">+</text>\n</g>\n<!-- 140457702348976+&#45;&gt;140457702348976 -->\n<g id=\"edge1\" class=\"edge\">\n<title>140457702348976+&#45;&gt;140457702348976</title>\n<path fill=\"none\" stroke=\"black\" d=\"M275.39,-18.5C282.62,-18.5 290.92,-18.5 299.74,-18.5\"/>\n<polygon fill=\"black\" stroke=\"black\" points=\"299.64,-22 309.64,-18.5 299.64,-15 299.64,-22\"/>\n</g>\n<!-- 140457702349264 -->\n<g id=\"node3\" class=\"node\">\n<title>140457702349264</title>\n<polygon fill=\"none\" stroke=\"black\" points=\"0,-0.5 0,-36.5 185,-36.5 185,-0.5 0,-0.5\"/>\n<text text-anchor=\"middle\" x=\"11.5\" y=\"-14.8\" font-family=\"Times,serif\" font-size=\"14.00\">a</text>\n<polyline fill=\"none\" stroke=\"black\" points=\"23,-0.5 23,-36.5\"/>\n<text text-anchor=\"middle\" x=\"63\" y=\"-14.8\" font-family=\"Times,serif\" font-size=\"14.00\">data 3.0000</text>\n<polyline fill=\"none\" stroke=\"black\" points=\"103,-0.5 103,-36.5\"/>\n<text text-anchor=\"middle\" x=\"144\" y=\"-14.8\" font-family=\"Times,serif\" font-size=\"14.00\">grad 2.0000</text>\n</g>\n<!-- 140457702349264&#45;&gt;140457702348976+ -->\n<g id=\"edge2\" class=\"edge\">\n<title>140457702349264&#45;&gt;140457702348976+</title>\n<path fill=\"none\" stroke=\"black\" d=\"M184.57,-18.5C193.21,-18.5 201.6,-18.5 209.28,-18.5\"/>\n<polygon fill=\"black\" stroke=\"black\" points=\"209.19,-22 219.19,-18.5 209.19,-15 209.19,-22\"/>\n</g>\n</g>\n</svg>\n",
      "text/plain": [
       "<graphviz.graphs.Digraph at 0x7fbedb7455e0>"
      ]
     },
     "execution_count": 282,
     "metadata": {},
     "output_type": "execute_result"
    }
   ],
   "source": [
    "a = Value(3.0, label='a')\n",
    "b = a + a   ; b.label = 'b'\n",
    "b.backward()\n",
    "draw_dot(b)"
   ]
  },
  {
   "cell_type": "code",
   "execution_count": 283,
   "metadata": {},
   "outputs": [
    {
     "data": {
      "image/svg+xml": "<?xml version=\"1.0\" encoding=\"UTF-8\" standalone=\"no\"?>\n<!DOCTYPE svg PUBLIC \"-//W3C//DTD SVG 1.1//EN\"\n \"http://www.w3.org/Graphics/SVG/1.1/DTD/svg11.dtd\">\n<!-- Generated by graphviz version 7.1.0 (20230121.1956)\n -->\n<!-- Pages: 1 -->\n<svg width=\"832pt\" height=\"100pt\"\n viewBox=\"0.00 0.00 832.00 100.00\" xmlns=\"http://www.w3.org/2000/svg\" xmlns:xlink=\"http://www.w3.org/1999/xlink\">\n<g id=\"graph0\" class=\"graph\" transform=\"scale(1 1) rotate(0) translate(4 96)\">\n<polygon fill=\"white\" stroke=\"none\" points=\"-4,4 -4,-96 828,-96 828,4 -4,4\"/>\n<!-- 140457702718144 -->\n<g id=\"node1\" class=\"node\">\n<title>140457702718144</title>\n<polygon fill=\"none\" stroke=\"black\" points=\"636,-27.5 636,-63.5 824,-63.5 824,-27.5 636,-27.5\"/>\n<text text-anchor=\"middle\" x=\"646.5\" y=\"-41.8\" font-family=\"Times,serif\" font-size=\"14.00\">f</text>\n<polyline fill=\"none\" stroke=\"black\" points=\"657,-27.5 657,-63.5\"/>\n<text text-anchor=\"middle\" x=\"699.5\" y=\"-41.8\" font-family=\"Times,serif\" font-size=\"14.00\">data &#45;6.0000</text>\n<polyline fill=\"none\" stroke=\"black\" points=\"742,-27.5 742,-63.5\"/>\n<text text-anchor=\"middle\" x=\"783\" y=\"-41.8\" font-family=\"Times,serif\" font-size=\"14.00\">grad 1.0000</text>\n</g>\n<!-- 140457702718144* -->\n<g id=\"node2\" class=\"node\">\n<title>140457702718144*</title>\n<ellipse fill=\"none\" stroke=\"black\" cx=\"573\" cy=\"-45.5\" rx=\"27\" ry=\"18\"/>\n<text text-anchor=\"middle\" x=\"573\" y=\"-41.8\" font-family=\"Times,serif\" font-size=\"14.00\">*</text>\n</g>\n<!-- 140457702718144*&#45;&gt;140457702718144 -->\n<g id=\"edge1\" class=\"edge\">\n<title>140457702718144*&#45;&gt;140457702718144</title>\n<path fill=\"none\" stroke=\"black\" d=\"M600.29,-45.5C607.52,-45.5 615.82,-45.5 624.66,-45.5\"/>\n<polygon fill=\"black\" stroke=\"black\" points=\"624.57,-49 634.57,-45.5 624.57,-42 624.57,-49\"/>\n</g>\n<!-- 140457702681808 -->\n<g id=\"node3\" class=\"node\">\n<title>140457702681808</title>\n<polygon fill=\"none\" stroke=\"black\" points=\"320,-55.5 320,-91.5 510,-91.5 510,-55.5 320,-55.5\"/>\n<text text-anchor=\"middle\" x=\"331.5\" y=\"-69.8\" font-family=\"Times,serif\" font-size=\"14.00\">d</text>\n<polyline fill=\"none\" stroke=\"black\" points=\"343,-55.5 343,-91.5\"/>\n<text text-anchor=\"middle\" x=\"385.5\" y=\"-69.8\" font-family=\"Times,serif\" font-size=\"14.00\">data &#45;6.0000</text>\n<polyline fill=\"none\" stroke=\"black\" points=\"428,-55.5 428,-91.5\"/>\n<text text-anchor=\"middle\" x=\"469\" y=\"-69.8\" font-family=\"Times,serif\" font-size=\"14.00\">grad 1.0000</text>\n</g>\n<!-- 140457702681808&#45;&gt;140457702718144* -->\n<g id=\"edge9\" class=\"edge\">\n<title>140457702681808&#45;&gt;140457702718144*</title>\n<path fill=\"none\" stroke=\"black\" d=\"M509.9,-56.65C518.81,-55.05 527.43,-53.5 535.28,-52.09\"/>\n<polygon fill=\"black\" stroke=\"black\" points=\"535.8,-55.55 545.02,-50.34 534.56,-48.66 535.8,-55.55\"/>\n</g>\n<!-- 140457702681808* -->\n<g id=\"node4\" class=\"node\">\n<title>140457702681808*</title>\n<ellipse fill=\"none\" stroke=\"black\" cx=\"257\" cy=\"-73.5\" rx=\"27\" ry=\"18\"/>\n<text text-anchor=\"middle\" x=\"257\" y=\"-69.8\" font-family=\"Times,serif\" font-size=\"14.00\">*</text>\n</g>\n<!-- 140457702681808*&#45;&gt;140457702681808 -->\n<g id=\"edge2\" class=\"edge\">\n<title>140457702681808*&#45;&gt;140457702681808</title>\n<path fill=\"none\" stroke=\"black\" d=\"M284.46,-73.5C291.68,-73.5 299.95,-73.5 308.76,-73.5\"/>\n<polygon fill=\"black\" stroke=\"black\" points=\"308.64,-77 318.64,-73.5 308.64,-70 308.64,-77\"/>\n</g>\n<!-- 140457702813408 -->\n<g id=\"node5\" class=\"node\">\n<title>140457702813408</title>\n<polygon fill=\"none\" stroke=\"black\" points=\"0,-55.5 0,-91.5 194,-91.5 194,-55.5 0,-55.5\"/>\n<text text-anchor=\"middle\" x=\"11.5\" y=\"-69.8\" font-family=\"Times,serif\" font-size=\"14.00\">a</text>\n<polyline fill=\"none\" stroke=\"black\" points=\"23,-55.5 23,-91.5\"/>\n<text text-anchor=\"middle\" x=\"65.5\" y=\"-69.8\" font-family=\"Times,serif\" font-size=\"14.00\">data &#45;2.0000</text>\n<polyline fill=\"none\" stroke=\"black\" points=\"108,-55.5 108,-91.5\"/>\n<text text-anchor=\"middle\" x=\"151\" y=\"-69.8\" font-family=\"Times,serif\" font-size=\"14.00\">grad &#45;3.0000</text>\n</g>\n<!-- 140457702813408&#45;&gt;140457702681808* -->\n<g id=\"edge5\" class=\"edge\">\n<title>140457702813408&#45;&gt;140457702681808*</title>\n<path fill=\"none\" stroke=\"black\" d=\"M193.55,-73.5C202.25,-73.5 210.67,-73.5 218.37,-73.5\"/>\n<polygon fill=\"black\" stroke=\"black\" points=\"218.27,-77 228.27,-73.5 218.27,-70 218.27,-77\"/>\n</g>\n<!-- 140457702680416+ -->\n<g id=\"node8\" class=\"node\">\n<title>140457702680416+</title>\n<ellipse fill=\"none\" stroke=\"black\" cx=\"257\" cy=\"-18.5\" rx=\"27\" ry=\"18\"/>\n<text text-anchor=\"middle\" x=\"257\" y=\"-14.8\" font-family=\"Times,serif\" font-size=\"14.00\">+</text>\n</g>\n<!-- 140457702813408&#45;&gt;140457702680416+ -->\n<g id=\"edge7\" class=\"edge\">\n<title>140457702813408&#45;&gt;140457702680416+</title>\n<path fill=\"none\" stroke=\"black\" d=\"M166.58,-55.57C175.86,-52.75 185.22,-49.7 194,-46.5 204.08,-42.83 214.81,-38.24 224.46,-33.84\"/>\n<polygon fill=\"black\" stroke=\"black\" points=\"225.85,-37.06 233.44,-29.66 222.89,-30.71 225.85,-37.06\"/>\n</g>\n<!-- 140457702813504 -->\n<g id=\"node6\" class=\"node\">\n<title>140457702813504</title>\n<polygon fill=\"none\" stroke=\"black\" points=\"2.5,-0.5 2.5,-36.5 191.5,-36.5 191.5,-0.5 2.5,-0.5\"/>\n<text text-anchor=\"middle\" x=\"14\" y=\"-14.8\" font-family=\"Times,serif\" font-size=\"14.00\">b</text>\n<polyline fill=\"none\" stroke=\"black\" points=\"25.5,-0.5 25.5,-36.5\"/>\n<text text-anchor=\"middle\" x=\"65.5\" y=\"-14.8\" font-family=\"Times,serif\" font-size=\"14.00\">data 3.0000</text>\n<polyline fill=\"none\" stroke=\"black\" points=\"105.5,-0.5 105.5,-36.5\"/>\n<text text-anchor=\"middle\" x=\"148.5\" y=\"-14.8\" font-family=\"Times,serif\" font-size=\"14.00\">grad &#45;8.0000</text>\n</g>\n<!-- 140457702813504&#45;&gt;140457702681808* -->\n<g id=\"edge6\" class=\"edge\">\n<title>140457702813504&#45;&gt;140457702681808*</title>\n<path fill=\"none\" stroke=\"black\" d=\"M163.68,-36.45C173.9,-39.59 184.29,-42.98 194,-46.5 203.87,-50.07 214.4,-54.44 223.93,-58.61\"/>\n<polygon fill=\"black\" stroke=\"black\" points=\"222.24,-61.69 232.8,-62.57 225.09,-55.3 222.24,-61.69\"/>\n</g>\n<!-- 140457702813504&#45;&gt;140457702680416+ -->\n<g id=\"edge8\" class=\"edge\">\n<title>140457702813504&#45;&gt;140457702680416+</title>\n<path fill=\"none\" stroke=\"black\" d=\"M191.28,-18.5C200.71,-18.5 209.85,-18.5 218.16,-18.5\"/>\n<polygon fill=\"black\" stroke=\"black\" points=\"218.14,-22 228.14,-18.5 218.14,-15 218.14,-22\"/>\n</g>\n<!-- 140457702680416 -->\n<g id=\"node7\" class=\"node\">\n<title>140457702680416</title>\n<polygon fill=\"none\" stroke=\"black\" points=\"320.5,-0.5 320.5,-36.5 509.5,-36.5 509.5,-0.5 320.5,-0.5\"/>\n<text text-anchor=\"middle\" x=\"332\" y=\"-14.8\" font-family=\"Times,serif\" font-size=\"14.00\">e</text>\n<polyline fill=\"none\" stroke=\"black\" points=\"343.5,-0.5 343.5,-36.5\"/>\n<text text-anchor=\"middle\" x=\"383.5\" y=\"-14.8\" font-family=\"Times,serif\" font-size=\"14.00\">data 1.0000</text>\n<polyline fill=\"none\" stroke=\"black\" points=\"423.5,-0.5 423.5,-36.5\"/>\n<text text-anchor=\"middle\" x=\"466.5\" y=\"-14.8\" font-family=\"Times,serif\" font-size=\"14.00\">grad &#45;6.0000</text>\n</g>\n<!-- 140457702680416&#45;&gt;140457702718144* -->\n<g id=\"edge4\" class=\"edge\">\n<title>140457702680416&#45;&gt;140457702718144*</title>\n<path fill=\"none\" stroke=\"black\" d=\"M509.45,-34.67C518.6,-36.26 527.46,-37.79 535.49,-39.18\"/>\n<polygon fill=\"black\" stroke=\"black\" points=\"534.67,-42.59 545.12,-40.85 535.86,-35.69 534.67,-42.59\"/>\n</g>\n<!-- 140457702680416+&#45;&gt;140457702680416 -->\n<g id=\"edge3\" class=\"edge\">\n<title>140457702680416+&#45;&gt;140457702680416</title>\n<path fill=\"none\" stroke=\"black\" d=\"M284.46,-18.5C291.88,-18.5 300.42,-18.5 309.51,-18.5\"/>\n<polygon fill=\"black\" stroke=\"black\" points=\"309.31,-22 319.31,-18.5 309.31,-15 309.31,-22\"/>\n</g>\n</g>\n</svg>\n",
      "text/plain": [
       "<graphviz.graphs.Digraph at 0x7fbedb7b6e80>"
      ]
     },
     "execution_count": 283,
     "metadata": {},
     "output_type": "execute_result"
    }
   ],
   "source": [
    "a = Value(-2.0, label='a')\n",
    "b = Value(3.0, label='b')\n",
    "d = a * b    ; d.label = 'd'\n",
    "e = a + b    ; e.label = 'e'\n",
    "f = d * e    ; f.label = 'f'\n",
    "\n",
    "f.backward()\n",
    "\n",
    "draw_dot(f)"
   ]
  },
  {
   "cell_type": "code",
   "execution_count": null,
   "metadata": {},
   "outputs": [],
   "source": []
  }
 ],
 "metadata": {
  "kernelspec": {
   "display_name": "gaohn",
   "language": "python",
   "name": "python3"
  },
  "language_info": {
   "codemirror_mode": {
    "name": "ipython",
    "version": 3
   },
   "file_extension": ".py",
   "mimetype": "text/x-python",
   "name": "python",
   "nbconvert_exporter": "python",
   "pygments_lexer": "ipython3",
   "version": "3.8.15"
  },
  "vscode": {
   "interpreter": {
    "hash": "dcd450edf2a38ed593ba5af012e093d4d4ca63d14078fa56cd9563b2046eb57e"
   }
  }
 },
 "nbformat": 4,
 "nbformat_minor": 4
}
