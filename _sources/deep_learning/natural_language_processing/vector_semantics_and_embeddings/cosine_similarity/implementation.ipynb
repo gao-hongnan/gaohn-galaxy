{
 "cells": [
  {
   "attachments": {},
   "cell_type": "markdown",
   "metadata": {},
   "source": [
    "# Implementation"
   ]
  },
  {
   "cell_type": "code",
   "execution_count": 17,
   "metadata": {},
   "outputs": [],
   "source": [
    "import numpy as np\n",
    "from rich.pretty import pprint\n",
    "from rich import print"
   ]
  },
  {
   "cell_type": "code",
   "execution_count": 18,
   "metadata": {},
   "outputs": [],
   "source": [
    "def euclidean_distance(\n",
    "    x_1: np.ndarray, x_2: np.ndarray, squared: bool = False\n",
    ") -> float:\n",
    "    if not squared:\n",
    "        _euclidean_distance = np.sum(np.square(x_1 - x_2))\n",
    "    else:\n",
    "        _euclidean_distance = np.sqrt(np.sum(np.square(x_1 - x_2)))\n",
    "    return _euclidean_distance"
   ]
  },
  {
   "cell_type": "code",
   "execution_count": 19,
   "metadata": {},
   "outputs": [],
   "source": [
    "def cosine_similarity(x_1: np.ndarray, x_2: np.ndarray) -> float:\n",
    "    numerator = np.dot(x_1, x_2)\n",
    "    origin = np.zeros(shape=(x_1.shape))  # origin is a vector of zeros\n",
    "    norm_x1 = np.linalg.norm(x_1)\n",
    "    norm_x2 = np.linalg.norm(x_2)\n",
    "    \n",
    "    np.testing.assert_allclose(norm_x1, euclidean_distance(x_1, origin, squared=True))\n",
    "    \n",
    "    denominator = norm_x1 * norm_x2\n",
    "    _cosine_similarity = numerator / denominator\n",
    "    return _cosine_similarity"
   ]
  },
  {
   "cell_type": "code",
   "execution_count": 20,
   "metadata": {},
   "outputs": [
    {
     "data": {
      "text/html": [
       "<pre style=\"white-space:pre;overflow-x:auto;line-height:normal;font-family:Menlo,'DejaVu Sans Mono',consolas,'Courier New',monospace\">My cosine similarity: <span style=\"color: #008080; text-decoration-color: #008080; font-weight: bold\">0.9827076298239908</span>\n",
       "</pre>\n"
      ],
      "text/plain": [
       "My cosine similarity: \u001b[1;36m0.9827076298239908\u001b[0m\n"
      ]
     },
     "metadata": {},
     "output_type": "display_data"
    }
   ],
   "source": [
    "x1 = np.asarray([1, 2, 3])\n",
    "x2 = np.asarray([3, 4, 5])\n",
    "\n",
    "my_cosine_sim = cosine_similarity(x1, x2)\n",
    "print(f\"My cosine similarity: {my_cosine_sim}\")"
   ]
  },
  {
   "cell_type": "code",
   "execution_count": 21,
   "metadata": {},
   "outputs": [],
   "source": [
    "from sklearn.metrics.pairwise import cosine_similarity"
   ]
  },
  {
   "cell_type": "code",
   "execution_count": 24,
   "metadata": {},
   "outputs": [
    {
     "data": {
      "text/html": [
       "<pre style=\"white-space:pre;overflow-x:auto;line-height:normal;font-family:Menlo,'DejaVu Sans Mono',consolas,'Courier New',monospace\">Sklearn cosine similarity: <span style=\"font-weight: bold\">[[</span><span style=\"color: #008080; text-decoration-color: #008080; font-weight: bold\">0.98270763</span><span style=\"font-weight: bold\">]]</span>\n",
       "</pre>\n"
      ],
      "text/plain": [
       "Sklearn cosine similarity: \u001b[1m[\u001b[0m\u001b[1m[\u001b[0m\u001b[1;36m0.98270763\u001b[0m\u001b[1m]\u001b[0m\u001b[1m]\u001b[0m\n"
      ]
     },
     "metadata": {},
     "output_type": "display_data"
    }
   ],
   "source": [
    "sklearn_cosine_sim = cosine_similarity(x1.reshape(1, -1), x2.reshape(1, -1))\n",
    "print(f\"Sklearn cosine similarity: {sklearn_cosine_sim}\")"
   ]
  },
  {
   "attachments": {},
   "cell_type": "markdown",
   "metadata": {},
   "source": [
    "Scikit-learn's implementation returns the kernel matrix, which is a matrix of the pairwise cosine similarities between the vectors in the input matrix."
   ]
  },
  {
   "cell_type": "code",
   "execution_count": 33,
   "metadata": {},
   "outputs": [
    {
     "data": {
      "text/html": [
       "<pre style=\"white-space:pre;overflow-x:auto;line-height:normal;font-family:Menlo,'DejaVu Sans Mono',consolas,'Courier New',monospace\"><span style=\"color: #800080; text-decoration-color: #800080; font-weight: bold\">array</span><span style=\"font-weight: bold\">([[</span><span style=\"color: #008080; text-decoration-color: #008080; font-weight: bold\">0.98270763</span>, <span style=\"color: #008080; text-decoration-color: #008080; font-weight: bold\">0.65985027</span><span style=\"font-weight: bold\">]</span>,\n",
       "<span style=\"color: #7fbf7f; text-decoration-color: #7fbf7f\">│      </span><span style=\"font-weight: bold\">[</span><span style=\"color: #008080; text-decoration-color: #008080; font-weight: bold\">0.9778523</span> , <span style=\"color: #008080; text-decoration-color: #008080; font-weight: bold\">0.55522241</span><span style=\"font-weight: bold\">]])</span>\n",
       "</pre>\n"
      ],
      "text/plain": [
       "\u001b[1;35marray\u001b[0m\u001b[1m(\u001b[0m\u001b[1m[\u001b[0m\u001b[1m[\u001b[0m\u001b[1;36m0.98270763\u001b[0m, \u001b[1;36m0.65985027\u001b[0m\u001b[1m]\u001b[0m,\n",
       "\u001b[2;32m│      \u001b[0m\u001b[1m[\u001b[0m\u001b[1;36m0.9778523\u001b[0m , \u001b[1;36m0.55522241\u001b[0m\u001b[1m]\u001b[0m\u001b[1m]\u001b[0m\u001b[1m)\u001b[0m\n"
      ]
     },
     "metadata": {},
     "output_type": "display_data"
    }
   ],
   "source": [
    "X1 = np.asarray([[1, 2, 3], [5, 6, 12]])\n",
    "X2 = np.asarray([[3, 4, 5], [111, 2222, 333]])\n",
    "sklearn_cosine_sim = cosine_similarity(X1, X2)\n",
    "pprint(sklearn_cosine_sim)"
   ]
  }
 ],
 "metadata": {
  "kernelspec": {
   "display_name": "gaohn",
   "language": "python",
   "name": "python3"
  },
  "language_info": {
   "codemirror_mode": {
    "name": "ipython",
    "version": 3
   },
   "file_extension": ".py",
   "mimetype": "text/x-python",
   "name": "python",
   "nbconvert_exporter": "python",
   "pygments_lexer": "ipython3",
   "version": "3.8.15"
  },
  "orig_nbformat": 4,
  "vscode": {
   "interpreter": {
    "hash": "dcd450edf2a38ed593ba5af012e093d4d4ca63d14078fa56cd9563b2046eb57e"
   }
  }
 },
 "nbformat": 4,
 "nbformat_minor": 2
}
