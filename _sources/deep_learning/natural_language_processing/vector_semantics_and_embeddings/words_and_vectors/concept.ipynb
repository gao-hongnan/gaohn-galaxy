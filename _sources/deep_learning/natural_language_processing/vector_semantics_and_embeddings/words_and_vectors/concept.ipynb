{
 "cells": [
  {
   "attachments": {},
   "cell_type": "markdown",
   "metadata": {},
   "source": [
    "# Concept"
   ]
  },
  {
   "attachments": {},
   "cell_type": "markdown",
   "metadata": {},
   "source": [
    "(term-document-matrix)=\n",
    "## Term-Document Matrix\n",
    "\n",
    "In a **term-document matrix**, each row represents a **word** in the vocabulary, and each column represents a **document** from a collection of **documents/corpus**.\n",
    "\n",
    "In {numref}`term-document-table`, we construct a simple $4 \\times 4$ **term-document matrix** for four Shakespeare plays.\n",
    "\n",
    "```{list-table} Number of occurrences of selected words in four Shakespeare plays.\n",
    ":header-rows: 1\n",
    ":name: term-document-table\n",
    ":class: align-center\n",
    "\n",
    "* - \n",
    "  - As You Like It\n",
    "  - Twelfth Night\n",
    "  - Julius Caesar\n",
    "  - Henry V\n",
    "* - battle\n",
    "  - 1\n",
    "  - 0\n",
    "  - 7\n",
    "  - 13\n",
    "* - good\n",
    "  - 114\n",
    "  - 80\n",
    "  - 62\n",
    "  - 89\n",
    "* - fool\n",
    "  - 36\n",
    "  - 58\n",
    "  - 1\n",
    "  - 4\n",
    "* - wit\n",
    "  - 20\n",
    "  - 15\n",
    "  - 2\n",
    "  - 3\n",
    "```\n",
    "\n",
    "Each cell in the table is the number of times that word $t$ appears in document $d$.\n",
    "We present the **term-document matrix** in {numref}`term-document-table` as a colored\n",
    "table below, highlighting the columns of the table."
   ]
  },
  {
   "attachments": {},
   "cell_type": "markdown",
   "metadata": {},
   "source": [
    "```{list-table} Number of occurrences of selected words in four Shakespeare plays\n",
    ":header-rows: 1\n",
    ":name: term-document-table-color\n",
    ":class: align-center\n",
    "\n",
    "* - \n",
    "  - As You Like It\n",
    "  - Twelfth Night\n",
    "  - Julius Caesar\n",
    "  - Henry V\n",
    "* - battle\n",
    "  - <div style=\"background-color: #FF3D00; border-radius: 50%; padding: 5px;\">1</div>\n",
    "  - <div style=\"background-color: #008000; border-radius: 50%; padding: 5px;\">0</div>\n",
    "  - <div style=\"background-color: #0000FF; border-radius: 50%; padding: 5px;\">7</div>\n",
    "  - <div style=\"background-color: #FFA500; border-radius: 50%; padding: 5px;\">13</div>\n",
    "* - good\n",
    "  - <div style=\"background-color: #FF3D00; border-radius: 50%; padding: 5px;\">114</div>\n",
    "  - <div style=\"background-color: #008000; border-radius: 50%; padding: 5px;\">80</div>\n",
    "  - <div style=\"background-color: #0000FF; border-radius: 50%; padding: 5px;\">62</div>\n",
    "  - <div style=\"background-color: #FFA500; border-radius: 50%; padding: 5px;\">89</div>\n",
    "* - fool\n",
    "  - <div style=\"background-color: #FF3D00; border-radius: 50%; padding: 5px;\">36</div>\n",
    "  - <div style=\"background-color: #008000; border-radius: 50%; padding: 5px;\">58</div>\n",
    "  - <div style=\"background-color: #0000FF; border-radius: 50%; padding: 5px;\">62</div>\n",
    "  - <div style=\"background-color: #FFA500; border-radius: 50%; padding: 5px;\">4</div>\n",
    "* - wit\n",
    "  - <div style=\"background-color: #FF3D00; border-radius: 50%; padding: 5px;\">20</div>\n",
    "  - <div style=\"background-color: #008000; border-radius: 50%; padding: 5px;\">15</div>\n",
    "  - <div style=\"background-color: #0000FF; border-radius: 50%; padding: 5px;\">2</div>\n",
    "  - <div style=\"background-color: #FFA500; border-radius: 50%; padding: 5px;\">3</div>\n",
    "```"
   ]
  },
  {
   "attachments": {},
   "cell_type": "markdown",
   "metadata": {},
   "source": [
    "We can represent this table as a matrix:\n",
    "\n",
    "$$\n",
    "\\begin{equation*}\n",
    "\\mathbf{X} = \\begin{bmatrix}\n",
    "\\textcolor{red}{1} & \\textcolor{green}{0} & \\textcolor{blue}{7} & \\textcolor{orange}{13} \\\\\n",
    "\\textcolor{red}{114} & \\textcolor{green}{80} & \\textcolor{blue}{62} & \\textcolor{orange}{89} \\\\\n",
    "\\textcolor{red}{36} & \\textcolor{green}{58} & \\textcolor{blue}{1} & \\textcolor{orange}{4} \\\\\n",
    "\\textcolor{red}{20} & \\textcolor{green}{15} & \\textcolor{blue}{2} & \\textcolor{orange}{3}\n",
    "\\end{bmatrix}_{4 \\times 4} \\in \\mathbb{R}^{4 \\times 4}\n",
    "\\end{equation*}\n",
    "$$ (eq:term-document-matrix)\n",
    "\n",
    "Then we can define each column as a sample represented as a document, and each value in the column to be the\n",
    "feature as the number of times a word appears in a document.\n",
    "\n",
    "More concretely, the term-document matrix of {numref}`term-document-table` was first defined as part of the vector\n",
    "space model of information retrieval (Salton, 1971). In this model, a document is vector space\n",
    "model\n",
    "represented as a count vector, a column in {numref}`term-document-table-color` {cite}`jurafsky_martin_2022`.\n",
    "\n",
    "Readers who are familiar with Machine Learning will start to notice that this matrix has very similar representation to the\n",
    "[Design Matrix](https://en.wikipedia.org/wiki/Design_matrix)."
   ]
  },
  {
   "attachments": {},
   "cell_type": "markdown",
   "metadata": {},
   "source": [
    "```{prf:remark} Number of Features\n",
    ":label: term-document-remark\n",
    "\n",
    "The authors remarked that this example has only 4 dimensions (words), and 4 samples (documents). However, in practice, the\n",
    "there can be $D$ documents and $T$ words. Consequently, $\\mathbf{X}$ will have $D$ rows and $T$ columns.\n",
    "\n",
    "Each document is treated as a sample $\\mathbf{x}^{(d)} \\in \\mathbb{R}^{D}$, where $d$ is the index of the sample. But \n",
    "each document may have different amount of vocabulary, and how do we fix the number of features $T$?\n",
    "\n",
    "First, we define the number of features to be the number of unique vocabulary (words) in the entire corpus of documents being analyzed.\n",
    "Each word represents a feature, and the size of the feature space is determined by the number of unique terms that are present in the corpus.\n",
    "\n",
    "For example, if we have a corpus of $100$ documents and $1000$ unique words across all documents, then the feature space will have $1000$ features.\n",
    "```"
   ]
  },
  {
   "attachments": {},
   "cell_type": "markdown",
   "metadata": {},
   "source": [
    "### Motivation"
   ]
  },
  {
   "attachments": {},
   "cell_type": "markdown",
   "metadata": {},
   "source": [
    "The motivation of the **term-document matrix** is to represent the number of occurrences of each word in a document.\n",
    "It's original purpose is [**Information Retrieval**](https://en.wikipedia.org/wiki/Information_retrieval#:~:text=Information%20retrieval%20is%20the%20science,of%20texts%2C%20images%20or%20sounds.). The idea is that we can use the **term-document matrix** to find **similar** documents\n",
    "based on the number of occurrences of each word.\n",
    "\n",
    "```{prf:example} Information Retrieval\n",
    ":label: term-document-example-info-retrieval\n",
    "\n",
    "The idea is that if two documents have similar number of occurrences of a word, then they are likely to be similar.\n",
    "Imagine two documents that talks about sports, then words such as \"ball\", \"basketball\", \"football\", \"soccer\", \"goal\", \"score\", \"win\", \"lose\", etc\n",
    "will be common in both documents. Therefore, we can say that two documents that are similar will tend to have similar words {cite}`jurafsky_martin_2022`.\n",
    "\n",
    "In our example, *As You Like It* and *Twelfth Night* are similar in the sense that they are both comedies. Therefore, they will tend\n",
    "to have similar words such as \"good\", \"fool\", \"wit\", etc. Less formally, their column vectors will be similar than that of\n",
    "*Julius Caesar* and *Henry V*.\n",
    "\n",
    "$$\n",
    "\\begin{align*}\n",
    "\\mathbf{x}^{(1)} = \\begin{bmatrix}\n",
    "1 \\\\ 114 \\\\ 36 \\\\ 20\n",
    "\\end{bmatrix} \\approx \\mathbf{x}^{(2)} = \\begin{bmatrix}\n",
    "0 \\\\ 80 \\\\ 58 \\\\ 15\n",
    "\\end{bmatrix}\n",
    "\\end{align*}\n",
    "$$\n",
    "\n",
    "From the above vectors comparison, if we just take 2 dimensions, say dimensions of `fool` and `battle`,\n",
    "we can see that there are 36 and 58 occurences of `fool` in *As You Like It* and *Twelfth Night* respectively, \n",
    "but only a mere 1 and 4 occurences in *Julius Caesar* and *Henry V* respectively. \n",
    "Intuitively, we expect a comedy to have more `fool` than that of other genres. And from the\n",
    "raw absolute numbers, we can see that 36 and 58 are *closer* when compared to 1 and 4.\n",
    "\n",
    "Similarly, for the word `battle`, there are 7 and 13 occurences in *Julius Caesar* and *Henry V* respectively,\n",
    "but only 1 and 0 occurences in *As You Like It* and *Twelfth Night* respectively. And we also can\n",
    "conclude that 7 and 13 are *closer* than 1 and 0.\n",
    "\n",
    "Therefore, we can say that *As You Like It* and *Twelfth Night* are more similar than *Julius Caesar* and *Henry V*.\n",
    "\n",
    "Note that we have yet to define the notion of *closeness*. We will formalize this intuition later.\n",
    "```"
   ]
  },
  {
   "attachments": {},
   "cell_type": "markdown",
   "metadata": {},
   "source": [
    "### Visualizations\n",
    "\n",
    "Let's plot out on the 2D plane to have a better visualization."
   ]
  },
  {
   "cell_type": "code",
   "execution_count": 8,
   "metadata": {},
   "outputs": [],
   "source": [
    "import matplotlib.pyplot as plt\n",
    "from matplotlib.quiver import Quiver\n",
    "import numpy as np\n",
    "from typing import Any, Dict\n",
    "from rich import print\n",
    "from rich.pretty import pprint"
   ]
  },
  {
   "attachments": {},
   "cell_type": "markdown",
   "metadata": {},
   "source": [
    "Consider the following numpy array `X` representing the one defined in equation\n",
    "{eq}`eq:term-document-matrix`.\n"
   ]
  },
  {
   "cell_type": "code",
   "execution_count": 9,
   "metadata": {},
   "outputs": [],
   "source": [
    "X = np.array(\n",
    "    [\n",
    "        [1, 0, 7, 13],\n",
    "        [114, 80, 62, 89],\n",
    "        [36, 58, 1, 4],\n",
    "        [20, 15, 2, 3],\n",
    "    ]\n",
    ")"
   ]
  },
  {
   "attachments": {},
   "cell_type": "markdown",
   "metadata": {},
   "source": [
    "Define a function `plot_quiver` to plot out each vector in the matrix."
   ]
  },
  {
   "cell_type": "code",
   "execution_count": 10,
   "metadata": {},
   "outputs": [],
   "source": [
    "def plot_quiver(\n",
    "    ax: plt.Axes,\n",
    "    x: np.ndarray,\n",
    "    y: np.ndarray,\n",
    "    u: np.ndarray,\n",
    "    v: np.ndarray,\n",
    "    angles: str = \"xy\",\n",
    "    scale_units: str = \"xy\",\n",
    "    scale: float = 1,\n",
    "    **kwargs: Dict[str, Any]\n",
    ") -> Quiver:\n",
    "    \"\"\"Plot quiver.\"\"\"\n",
    "    return ax.quiver(\n",
    "        x, y, u, v, angles=angles, scale_units=scale_units, scale=scale, **kwargs\n",
    "    )"
   ]
  },
  {
   "attachments": {},
   "cell_type": "markdown",
   "metadata": {},
   "source": [
    "Let's create a 2d-matrix with only the features `fool` and `battle`, as follows."
   ]
  },
  {
   "cell_type": "code",
   "execution_count": 11,
   "metadata": {},
   "outputs": [
    {
     "data": {
      "text/html": [
       "<pre style=\"white-space:pre;overflow-x:auto;line-height:normal;font-family:Menlo,'DejaVu Sans Mono',consolas,'Courier New',monospace\"><span style=\"color: #800080; text-decoration-color: #800080; font-weight: bold\">array</span><span style=\"font-weight: bold\">([[</span> <span style=\"color: #008080; text-decoration-color: #008080; font-weight: bold\">4</span>, <span style=\"color: #008080; text-decoration-color: #008080; font-weight: bold\">13</span><span style=\"font-weight: bold\">]</span>,\n",
       "<span style=\"color: #7fbf7f; text-decoration-color: #7fbf7f\">│      </span><span style=\"font-weight: bold\">[</span> <span style=\"color: #008080; text-decoration-color: #008080; font-weight: bold\">1</span>,  <span style=\"color: #008080; text-decoration-color: #008080; font-weight: bold\">7</span><span style=\"font-weight: bold\">]</span>,\n",
       "<span style=\"color: #7fbf7f; text-decoration-color: #7fbf7f\">│      </span><span style=\"font-weight: bold\">[</span><span style=\"color: #008080; text-decoration-color: #008080; font-weight: bold\">36</span>,  <span style=\"color: #008080; text-decoration-color: #008080; font-weight: bold\">1</span><span style=\"font-weight: bold\">]</span>,\n",
       "<span style=\"color: #7fbf7f; text-decoration-color: #7fbf7f\">│      </span><span style=\"font-weight: bold\">[</span><span style=\"color: #008080; text-decoration-color: #008080; font-weight: bold\">58</span>,  <span style=\"color: #008080; text-decoration-color: #008080; font-weight: bold\">0</span><span style=\"font-weight: bold\">]])</span>\n",
       "</pre>\n"
      ],
      "text/plain": [
       "\u001b[1;35marray\u001b[0m\u001b[1m(\u001b[0m\u001b[1m[\u001b[0m\u001b[1m[\u001b[0m \u001b[1;36m4\u001b[0m, \u001b[1;36m13\u001b[0m\u001b[1m]\u001b[0m,\n",
       "\u001b[2;32m│      \u001b[0m\u001b[1m[\u001b[0m \u001b[1;36m1\u001b[0m,  \u001b[1;36m7\u001b[0m\u001b[1m]\u001b[0m,\n",
       "\u001b[2;32m│      \u001b[0m\u001b[1m[\u001b[0m\u001b[1;36m36\u001b[0m,  \u001b[1;36m1\u001b[0m\u001b[1m]\u001b[0m,\n",
       "\u001b[2;32m│      \u001b[0m\u001b[1m[\u001b[0m\u001b[1;36m58\u001b[0m,  \u001b[1;36m0\u001b[0m\u001b[1m]\u001b[0m\u001b[1m]\u001b[0m\u001b[1m)\u001b[0m\n"
      ]
     },
     "metadata": {},
     "output_type": "display_data"
    }
   ],
   "source": [
    "X_2d = np.array(\n",
    "    [\n",
    "        [4, 13],\n",
    "        [1, 7],\n",
    "        [36, 1],\n",
    "        [58, 0],\n",
    "    ]\n",
    ")\n",
    "pprint(X_2d)"
   ]
  },
  {
   "cell_type": "code",
   "execution_count": 12,
   "metadata": {},
   "outputs": [],
   "source": [
    "documents = [\n",
    "    \"Henry V\",\n",
    "    \"Julius Caesar\",\n",
    "    \"As You Like It\",\n",
    "    \"Twelfth Night\",\n",
    "]"
   ]
  },
  {
   "cell_type": "code",
   "execution_count": 13,
   "metadata": {},
   "outputs": [
    {
     "data": {
      "image/png": "[encoded data removed]",
      "text/plain": [
       "<Figure size 640x480 with 1 Axes>"
      ]
     },
     "metadata": {},
     "output_type": "display_data"
    }
   ],
   "source": [
    "fig, ax = plt.subplots()\n",
    "\n",
    "# set x and y limits to display only the first quadrant\n",
    "ax.set_xlim([0, X_2d[:, 0].max() + 10])\n",
    "ax.set_ylim([0, X_2d[:, 1].max() + 10])\n",
    "\n",
    "# plot the quiver arrows\n",
    "quiver = plot_quiver(\n",
    "    ax,\n",
    "    np.zeros(X_2d.shape[0]),\n",
    "    np.zeros(X_2d.shape[0]),\n",
    "    X_2d[:, 0],\n",
    "    X_2d[:, 1],\n",
    "    angles=\"xy\",\n",
    "    scale_units=\"xy\",\n",
    "    scale=1,\n",
    "    color=[\"r\", \"b\", \"g\", \"y\"],\n",
    ")\n",
    "# annotate the arrows with the words\n",
    "for i, word in enumerate(documents):\n",
    "    word_vector = f\"{word}: [{X_2d[i, 0]}, {X_2d[i, 1]}]\"\n",
    "    ax.annotate(word_vector, (X_2d[i, 0], X_2d[i, 1]))\n",
    "plt.show();"
   ]
  },
  {
   "attachments": {},
   "cell_type": "markdown",
   "metadata": {},
   "source": [
    "Even though the notion of closeness is\n",
    "not defined, one can just treat the angle between two vectors as a measure of closeness.\n",
    "We see that indeed the vectors are closer to each other for the two comedy plays\n",
    "and further apart for the two tragedy plays. "
   ]
  },
  {
   "attachments": {},
   "cell_type": "markdown",
   "metadata": {},
   "source": [
    "### Similar Documents have Similar Words\n",
    "\n",
    "The quote below summarizes the intuition of the term-document matrix. \n",
    "\n",
    "> **Similar documents have similar words.**"
   ]
  },
  {
   "attachments": {},
   "cell_type": "markdown",
   "metadata": {},
   "source": [
    "(words-as-vectors-document-dimensions)=\n",
    "## Words as Vectors: Document Dimensions\n",
    "\n",
    "In the previous section, we represented each document $d$ as a vector $\\mathbf{x}^{(d)}$ of dimension $T$ (number of words in the vocabulary).\n",
    "\n",
    "Now, we can turn the tables and represent each word as a vector instead. Define the number of \n",
    "total words in the vocabulary as $T$, and the number of documents as $D$ (essentially swapping the notations).\n",
    "Then, we see that each word $t$ is represented as a vector $\\mathbf{x}^{(t)}$ of dimension $D$.\n",
    "\n",
    "The {numref}`term-document-table-color-doc-dimensions` below shows the new level changes in the term-document table\n",
    "when compared to the {numref}`term-document-table-color` table.\n",
    "\n",
    "```{list-table}  Number of occurrences of selected words in four Shakespeare plays\n",
    ":header-rows: 1\n",
    ":name: term-document-table-color-doc-dimensions\n",
    ":class: align-center\n",
    "\n",
    "* - \n",
    "  - As You Like It\n",
    "  - Twelfth Night\n",
    "  - Julius Caesar\n",
    "  - Henry V\n",
    "* - battle\n",
    "  - <div style=\"background-color: #FF3D00; border-radius: 50%; padding: 5px;\">1</div>\n",
    "  - <div style=\"background-color: #FF3D00; border-radius: 50%; padding: 5px;\">0</div>\n",
    "  - <div style=\"background-color: #FF3D00; border-radius: 50%; padding: 5px;\">7</div>\n",
    "  - <div style=\"background-color: #FF3D00; border-radius: 50%; padding: 5px;\">13</div>\n",
    "* - good\n",
    "  - <div style=\"background-color: #0000FF; border-radius: 50%; padding: 5px;\">114</div>\n",
    "  - <div style=\"background-color: #0000FF; border-radius: 50%; padding: 5px;\">80</div>\n",
    "  - <div style=\"background-color: #0000FF; border-radius: 50%; padding: 5px;\">62</div>\n",
    "  - <div style=\"background-color: #0000FF; border-radius: 50%; padding: 5px;\">89</div>\n",
    "* - fool\n",
    "  - <div style=\"background-color: #008000; border-radius: 50%; padding: 5px;\">36</div>\n",
    "  - <div style=\"background-color: #008000; border-radius: 50%; padding: 5px;\">58</div>\n",
    "  - <div style=\"background-color: #008000; border-radius: 50%; padding: 5px;\">62</div>\n",
    "  - <div style=\"background-color: #008000; border-radius: 50%; padding: 5px;\">4</div>\n",
    "* - wit\n",
    "  - <div style=\"background-color: #FFA500; border-radius: 50%; padding: 5px;\">20</div>\n",
    "  - <div style=\"background-color: #FFA500; border-radius: 50%; padding: 5px;\">15</div>\n",
    "  - <div style=\"background-color: #FFA500; border-radius: 50%; padding: 5px;\">2</div>\n",
    "  - <div style=\"background-color: #FFA500; border-radius: 50%; padding: 5px;\">3</div>\n",
    "```\n",
    "\n",
    "Let's see how the new matrix look.\n",
    "\n",
    "$$\n",
    "\\begin{equation*}\n",
    "\\mathbf{X} = \\begin{bmatrix}\n",
    "\\textcolor{red}{1} & \\textcolor{red}{0} & \\textcolor{red}{7} & \\textcolor{red}{13} \\\\\n",
    "\\textcolor{green}{114} & \\textcolor{green}{80} & \\textcolor{green}{62} & \\textcolor{green}{89} \\\\\n",
    "\\textcolor{blue}{36} & \\textcolor{blue}{58} & \\textcolor{blue}{1} & \\textcolor{blue}{4} \\\\\n",
    "\\textcolor{orange}{20} & \\textcolor{orange}{15} & \\textcolor{orange}{2} & \\textcolor{orange}{3}\n",
    "\\end{bmatrix}_{4 \\times 4} \\in \\mathbb{R}^{4 \\times 4}\n",
    "\\end{equation*}\n",
    "$$ (eq:term-document-matrix-doc-dimensions)\n",
    "\n",
    "\n",
    "And each row is now a sample corresponding to a word, with each value now the feature corresponding to the document.\n",
    "\n",
    "Simiarly, similar documents tend to have similar words, and similar words tend to appear in similar documents.\n",
    "So this format of term-document matrix allows us to represent the meaning of a word by the document it tends to \n",
    "appear in {cite}`jurafsky_martin_2022`. \n",
    "\n",
    "For example, let's look at the word `fool`, now it is $\\begin{bmatrix} 36 & 58 & 1 & 4 \\end{bmatrix}$,\n",
    "and we see that it appears more in *As You Like It* and *Twelfth Night* than in *Julius Caesar* and *Henry V*.\n",
    "\n",
    "The distinction is that we are comparing words similarity instead of documents similarity."
   ]
  },
  {
   "attachments": {},
   "cell_type": "markdown",
   "metadata": {},
   "source": [
    "### Similar Words have Similar Documents\n",
    "\n",
    "The quote below summarizes the intuition of the term-document matrix with words as vectors.\n",
    "\n",
    "> **Similar words have similar documents.**"
   ]
  },
  {
   "attachments": {},
   "cell_type": "markdown",
   "metadata": {},
   "source": [
    "## Words as Vectors: Word Dimensions (Term-Term Matrix)\n",
    "\n",
    "An alternative to using the term-document matrix to represent words as vectors of document counts, is to use the term-term matrix, also called the word-word matrix or the term-context matrix, in which the columns are labeled by words rather than documents. This matrix is thus of dimensionality $|V| \\times|V|$ and each cell records the number of times the row (target) word and the column (context) word co-occur in some context in some training corpus. The context could be the document, in which case the cell represents the number of times the two words appear in the same document. It is most common, however, to use smaller contexts, generally a window around the word, for example of 4 words to the left and 4 words to the right, in which case the cell represents the number of times (in some training corpus) the column word occurs in such a $\\pm 4$ word window around the row word. For example here is one example each of some words in their windows:\n",
    "\n",
    "- after dinner we had **cherry** pie, a traditional dessert \n",
    "- often mixed, such as **strawberry** rhubarb pie. Apple pie \n",
    "- computer peripherals and personal **digital** assistants. These devices usually\n",
    "- a computer. This includes **information** available on the internet\n",
    "\n",
    "If we then take every occurrence of each word (say **strawberry**) and count the context words around it, we get a word-word co-occurrence matrix. {numref}`term-term-table` shows a simplified subset of the word-word co-occurrence matrix for these four words computed from the Wikipedia corpus (Davies, 2015).\n",
    "\n",
    "```{list-table} Co-occurence vectors for four words in the Wikipedia corpus.  showing six ofthe dimensions (hand-picked for pedagogical purposes). The vector for digital is outlined in red. Note that a real vector would have vastly more dimensions and thus be much sparser.\n",
    ":header-rows: 1\n",
    ":name: term-term-table\n",
    "\n",
    "* - \n",
    "  - aardvark\n",
    "  - ...\n",
    "  - computer\n",
    "  - data\n",
    "  - result\n",
    "  - pie\n",
    "  - sugar\n",
    "  - ...\n",
    "* - cherry\n",
    "  - 0\n",
    "  - ...\n",
    "  - 2\n",
    "  - 8\n",
    "  - 9\n",
    "  - 442\n",
    "  - 25\n",
    "  - ...\n",
    "* - strawberry\n",
    "  - 0\n",
    "  - ...\n",
    "  - 0\n",
    "  - 0\n",
    "  - 1\n",
    "  - 60\n",
    "  - 19\n",
    "  - ...\n",
    "* - digital\n",
    "  - $\\textcolor{red}{0}$\n",
    "  - $\\textcolor{red}{\\ldots}$\n",
    "  - $\\textcolor{red}{1670}$\n",
    "  - $\\textcolor{red}{1683}$\n",
    "  - $\\textcolor{red}{85}$\n",
    "  - $\\textcolor{red}{5}$\n",
    "  - $\\textcolor{red}{4}$\n",
    "  - $\\textcolor{red}{\\ldots}$\n",
    "* - information\n",
    "  - 0\n",
    "  - ...\n",
    "  - 3325\n",
    "  - 3982\n",
    "  - 378\n",
    "  - 5\n",
    "  - 13\n",
    "  - ...\n",
    "```\n",
    "\n",
    "Note that this matrix is in fact $\\left|V\\right| \\times \\left|V\\right|$ in size, where $\\left|V\\right|$ is the size of the vocabulary,\n",
    "but it shows only 4 rows for illustrative purposes.\n"
   ]
  },
  {
   "attachments": {},
   "cell_type": "markdown",
   "metadata": {},
   "source": [
    "Note in {numref}`term-term-table` that the two words *cherry* and *strawberry* are more similar to\n",
    "each other (both pie and sugar tend to occur in their window) than they are to other\n",
    "words like digital; conversely, digital and information are more similar to each other\n",
    "than, say, to strawberry. \n",
    "\n",
    "Let's plot them out and see the spatial distance of the vectors corresponding to the row\n",
    "`digital` and `information` in the matrix. Note we are only taking two features (dimensions)\n",
    "for visualization purposes (`data` and `computer` column)."
   ]
  },
  {
   "cell_type": "code",
   "execution_count": 19,
   "metadata": {},
   "outputs": [
    {
     "data": {
      "image/png": "[encoded data removed]",
      "text/plain": [
       "<Figure size 640x480 with 1 Axes>"
      ]
     },
     "metadata": {},
     "output_type": "display_data"
    }
   ],
   "source": [
    "digital = np.array([1683, 1670])\n",
    "information = np.array([3982, 3325])\n",
    "annotations = [\"digital\", \"information\"]\n",
    "X_2d = np.array([digital, information])\n",
    "\n",
    "fig, ax = plt.subplots()\n",
    "\n",
    "# set x and y limits to display only the first quadrant\n",
    "ax.set_xlim([0, X_2d[:, 0].max() + 10])\n",
    "ax.set_ylim([0, X_2d[:, 1].max() + 10])\n",
    "\n",
    "# plot the quiver arrows\n",
    "quiver = plot_quiver(\n",
    "    ax,\n",
    "    np.zeros(X_2d.shape[0]),\n",
    "    np.zeros(X_2d.shape[0]),\n",
    "    X_2d[:, 0],\n",
    "    X_2d[:, 1],\n",
    "    angles=\"xy\",\n",
    "    scale_units=\"xy\",\n",
    "    scale=1,\n",
    "    color=[\"r\", \"b\", \"g\", \"y\"],\n",
    ")\n",
    "ax.set_xlabel(\"data\")\n",
    "ax.set_ylabel(\"computer\")\n",
    "# annotate the arrows with the words\n",
    "for i, word in enumerate(annotations):\n",
    "    word_vector = f\"{word}: [{X_2d[i, 0]}, {X_2d[i, 1]}]\"\n",
    "    ax.annotate(word_vector, (X_2d[i, 0], X_2d[i, 1]))\n",
    "plt.show();"
   ]
  },
  {
   "attachments": {},
   "cell_type": "markdown",
   "metadata": {},
   "source": [
    "## References and Further Readings\n",
    "\n",
    "- Jurafsky, Dan, and James H. Martin. \"Chapter 6.3. Words and Vectors.\" In Speech and Language Processing: An Introduction to Natural Language Processing, Computational Linguistics, and Speech Recognition. Pearson, 2022."
   ]
  }
 ],
 "metadata": {
  "kernelspec": {
   "display_name": "gaohn",
   "language": "python",
   "name": "python3"
  },
  "language_info": {
   "codemirror_mode": {
    "name": "ipython",
    "version": 3
   },
   "file_extension": ".py",
   "mimetype": "text/x-python",
   "name": "python",
   "nbconvert_exporter": "python",
   "pygments_lexer": "ipython3",
   "version": "3.8.13"
  },
  "orig_nbformat": 4,
  "vscode": {
   "interpreter": {
    "hash": "dcd450edf2a38ed593ba5af012e093d4d4ca63d14078fa56cd9563b2046eb57e"
   }
  }
 },
 "nbformat": 4,
 "nbformat_minor": 2
}
