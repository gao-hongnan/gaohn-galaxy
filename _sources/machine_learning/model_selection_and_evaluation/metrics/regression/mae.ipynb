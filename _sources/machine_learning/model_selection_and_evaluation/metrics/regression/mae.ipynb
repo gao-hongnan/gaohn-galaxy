{
 "cells": [
  {
   "attachments": {},
   "cell_type": "markdown",
   "metadata": {},
   "source": [
    "$$\n",
    "\\newcommand{\\F}{\\mathbb{F}}\n",
    "\\newcommand{\\R}{\\mathbb{R}}\n",
    "\\newcommand{\\v}{\\mathbf{v}}\n",
    "\\newcommand{\\a}{\\mathbf{a}}\n",
    "\\newcommand{\\b}{\\mathbf{b}}\n",
    "\\newcommand{\\c}{\\mathbf{c}}\n",
    "\\newcommand{\\x}{\\mathbf{x}}\n",
    "\\newcommand{\\y}{\\mathbf{y}}\n",
    "\\newcommand{\\yhat}{\\mathbf{\\hat{y}}}\n",
    "\\newcommand{\\0}{\\mathbf{0}}\n",
    "\\newcommand{\\1}{\\mathbf{1}}\n",
    "$$"
   ]
  },
  {
   "attachments": {},
   "cell_type": "markdown",
   "metadata": {},
   "source": [
    "# Mean Absolute Error\n",
    "\n",
    "Mean Absolute Error is a risk metric corresponding to the *expected* value of the absolute error loss or $l1$-norm loss."
   ]
  },
  {
   "attachments": {},
   "cell_type": "markdown",
   "metadata": {},
   "source": [
    "## Definition (Mean Absolute Error)\n",
    "\n",
    "Given a dataset of $n$ samples indexed by the tuple pair $(x_i, y_i)$, the **mean absolute error (MAE)** is defined as:\n",
    "\n",
    "$$\n",
    "\\textbf{MAE} = \\dfrac{\\sum_{i=1}^n |\\hat{y}_i - y_i|}{n}\n",
    "$$"
   ]
  },
  {
   "attachments": {},
   "cell_type": "markdown",
   "metadata": {},
   "source": [
    "## Theorem (Optimality)\n",
    "\n",
    "In simple words, this is the property of **the median minimizes the sum of absolute error (${\\ell}_{1}$ loss).** This is important that one realises this when doing linear regression, and in complement to **the mean minimizes the root mean squared error**.\n",
    "\n",
    "For some proofs:\n",
    "\n",
    "- https://en.wikipedia.org/wiki/Mean_absolute_error\n",
    "- https://math.stackexchange.com/questions/113270/the-median-minimizes-the-sum-of-absolute-deviations-the-ell-1-norm"
   ]
  },
  {
   "attachments": {},
   "cell_type": "markdown",
   "metadata": {},
   "source": [
    "## Implementation of MAE"
   ]
  },
  {
   "cell_type": "code",
   "execution_count": 1,
   "metadata": {},
   "outputs": [],
   "source": [
    "import numpy as np\n",
    "\n",
    "def mean_absolute_error_(y_true: np.ndarray, y_pred: np.ndarray) -> float:\n",
    "    \"\"\"Mean absolute error regression loss.\n",
    "\n",
    "    Args:\n",
    "        y_true (np.ndarray): Ground truth (correct) target values.\n",
    "        y_pred (np.ndarray): Estimated target values.\n",
    "\n",
    "    Shape:\n",
    "        y_true: (n_samples, )\n",
    "        y_pred: (n_samples, )\n",
    "\n",
    "    Returns:\n",
    "        loss (float): The mean absolute error.\n",
    "\n",
    "    Examples:\n",
    "        >>> y_true = [3, -0.5, 2, 7]\n",
    "        >>> y_pred = [2.5, 0.0, 2, 8]\n",
    "        >>> mean_absolute_error_(y_true, y_pred)\n",
    "        0.5\n",
    "    \"\"\"\n",
    "    y_true = np.asarray(y_true).flatten()\n",
    "    y_pred = np.asarray(y_pred).flatten()\n",
    "    loss = np.mean(np.abs(y_true - y_pred))\n",
    "    return loss"
   ]
  },
  {
   "cell_type": "code",
   "execution_count": 2,
   "metadata": {},
   "outputs": [
    {
     "data": {
      "text/plain": [
       "0.5"
      ]
     },
     "execution_count": 2,
     "metadata": {},
     "output_type": "execute_result"
    }
   ],
   "source": [
    ">>> y_true = [3, -0.5, 2, 7]\n",
    ">>> y_pred = [2.5, 0.0, 2, 8]\n",
    ">>> mean_absolute_error_(y_true, y_pred)"
   ]
  }
 ],
 "metadata": {
  "kernelspec": {
   "display_name": "gaohn",
   "language": "python",
   "name": "python3"
  },
  "language_info": {
   "codemirror_mode": {
    "name": "ipython",
    "version": 3
   },
   "file_extension": ".py",
   "mimetype": "text/x-python",
   "name": "python",
   "nbconvert_exporter": "python",
   "pygments_lexer": "ipython3",
   "version": "3.8.15"
  },
  "orig_nbformat": 4,
  "vscode": {
   "interpreter": {
    "hash": "dcd450edf2a38ed593ba5af012e093d4d4ca63d14078fa56cd9563b2046eb57e"
   }
  }
 },
 "nbformat": 4,
 "nbformat_minor": 2
}
