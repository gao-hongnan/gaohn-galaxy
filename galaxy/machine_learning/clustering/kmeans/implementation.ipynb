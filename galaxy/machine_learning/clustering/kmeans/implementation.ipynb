{
    "cells": [
        {
            "attachments": {},
            "cell_type": "markdown",
            "metadata": {},
            "source": [
                "# Implementation: K-Means (Lloyd)"
            ]
        },
        {
            "attachments": {},
            "cell_type": "markdown",
            "metadata": {},
            "source": [
                "## Imports and Dependencies"
            ]
        },
        {
            "cell_type": "code",
            "execution_count": 1,
            "metadata": {},
            "outputs": [],
            "source": [
                "\"\"\"K-Means.\"\"\"\n",
                "from __future__ import annotations\n",
                "\n",
                "from functools import partial\n",
                "from typing import Tuple, Union, Dict, Any\n",
                "from rich.pretty import pprint\n",
                "from rich import print\n",
                "import numpy as np\n",
                "from sklearn.cluster import KMeans\n",
                "from sklearn.datasets import load_digits, load_iris\n",
                "from sklearn.model_selection import train_test_split\n",
                "\n",
                "import random \n",
                "from matplotlib.collections import PathCollection\n",
                "from typing import TypeVar\n",
                "import matplotlib.pyplot as plt\n",
                "import numpy as np\n",
                "import torch\n",
                "# from sklearn.metrics.cluster import contingency_matrix"
            ]
        },
        {
            "attachments": {},
            "cell_type": "markdown",
            "metadata": {},
            "source": [
                "## Utility Functions"
            ]
        },
        {
            "cell_type": "code",
            "execution_count": 2,
            "metadata": {},
            "outputs": [],
            "source": [
                "def seed_all(seed: int = 1992) -> None:\n",
                "    \"\"\"Seed all random number generators.\"\"\"\n",
                "    print(f\"Using Seed Number {seed}\")\n",
                "\n",
                "    # os.environ[\"PYTHONHASHSEED\"] = str(seed)  # set PYTHONHASHSEED env var\n",
                "    np.random.seed(seed)  # numpy pseudo-random generator\n",
                "    random.seed(seed)  # built-in pseudo-random generator\n",
                "    \n",
                "def manhattan_distance(x_1: np.ndarray, x_2: np.ndarray) -> float:\n",
                "    _manhattan_distance = np.sum(np.abs(x_1 - x_2))\n",
                "    return _manhattan_distance\n",
                "\n",
                "def euclidean_distance(\n",
                "    x_1: np.ndarray, x_2: np.ndarray, squared: bool = False\n",
                ") -> float:\n",
                "    if not squared:\n",
                "        _euclidean_distance = np.sum(np.square(x_1 - x_2))\n",
                "    else:\n",
                "        _euclidean_distance = np.sqrt(np.sum(np.square(x_1 - x_2)))\n",
                "    return _euclidean_distance"
            ]
        },
        {
            "attachments": {},
            "cell_type": "markdown",
            "metadata": {},
            "source": [
                "## Type Hint"
            ]
        },
        {
            "cell_type": "code",
            "execution_count": 3,
            "metadata": {},
            "outputs": [],
            "source": [
                "T = TypeVar(\"T\", np.ndarray, torch.Tensor)"
            ]
        },
        {
            "attachments": {},
            "cell_type": "markdown",
            "metadata": {},
            "source": [
                "## Python Implementation of K-Means\n",
                "\n",
                "We present a non-vectorized version of K-Means. I find it easier to code an algorithm\n",
                "from scratch using for-loops and then vectorize it after."
            ]
        },
        {
            "cell_type": "code",
            "execution_count": 4,
            "metadata": {},
            "outputs": [],
            "source": [
                "class KMeansLloyd:\n",
                "    \"\"\"K-Means Lloyd's algorithm.\n",
                "\n",
                "    Parameters\n",
                "    ----------\n",
                "    num_clusters : int, optional, default: 3\n",
                "        The number of clusters to form as well as the number of\n",
                "        centroids to generate.\n",
                "\n",
                "    init : str, optional, default: \"random\"\n",
                "        Method for initialization, either 'random' or 'k-means++'.\n",
                "\n",
                "    max_iter : int, optional, default: 100\n",
                "        Maximum number of iterations of the k-means algorithm for\n",
                "        a single run.\n",
                "\n",
                "    metric : str, optional, default: \"euclidean\"\n",
                "        The distance metric used to calculate the distance between each\n",
                "        sample and the centroid.\n",
                "\n",
                "    tol : float, optional, default: 1e-8\n",
                "        The tolerance with regards to the change in the within-cluster\n",
                "        sum-squared-error to declare convergence.\n",
                "\n",
                "    random_state : int, optional, default: 42\n",
                "        Seed for the random number generator used during the\n",
                "        initialization of the centroids.\n",
                "    \"\"\"\n",
                "\n",
                "    def __init__(\n",
                "        self,\n",
                "        num_clusters: int = 3,\n",
                "        init: str = \"random\",\n",
                "        max_iter: int = 100,\n",
                "        metric: str = \"euclidean\",\n",
                "        tol: float = 1e-8,\n",
                "        random_state: int = 42,\n",
                "    ) -> None:\n",
                "        self._K = num_clusters  # K\n",
                "        self.init = init  # random init\n",
                "        self.max_iter = max_iter\n",
                "\n",
                "        self.metric = metric\n",
                "        self.distance = self._get_distance_metric()  # get distance fn based on metric\n",
                "\n",
                "        self.tol = tol\n",
                "\n",
                "        self.random_state = random_state\n",
                "        seed_all(self.random_state)\n",
                "\n",
                "        self._reset_clusters()  # initializes self._C = {C_1=[], C_2=[], ..., C_k=[]}\n",
                "\n",
                "        self._N: int\n",
                "        self._D: int\n",
                "        self.t: int  # iteration counter\n",
                "        self._labels: T  # N labels np.zeros(shape=(self._N))\n",
                "        self._centroids: T  # np.zeros(shape=(self._K, self.num_features)) KxD matrix\n",
                "        self._inertia: T\n",
                "        self._inertias: T  # np.zeros(shape=(self._N)) N inertias\n",
                "\n",
                "    @property\n",
                "    def num_clusters(self) -> int:\n",
                "        \"\"\"Property to get the number of clusters K.\"\"\"\n",
                "        return self._K\n",
                "\n",
                "    @property\n",
                "    def num_features(self) -> int:\n",
                "        \"\"\"Property to get the number of features D.\"\"\"\n",
                "        return self._D\n",
                "\n",
                "    @property\n",
                "    def num_samples(self) -> int:\n",
                "        \"\"\"Property to get the number of samples N.\"\"\"\n",
                "        return self._N\n",
                "\n",
                "    @property\n",
                "    def clusters(self) -> T:\n",
                "        \"\"\"Property to get the clusters, this is our C.\"\"\"\n",
                "        return self._C\n",
                "\n",
                "    @property\n",
                "    def labels(self) -> T:\n",
                "        \"\"\"Property to get the labels of the samples.\"\"\"\n",
                "        return self._labels.astype(int)\n",
                "\n",
                "    @property\n",
                "    def centroids(self) -> T:\n",
                "        \"\"\"Property to get the centroids.\"\"\"\n",
                "        return self._centroids\n",
                "\n",
                "    @property\n",
                "    def inertia(self) -> T:\n",
                "        \"\"\"Property to get the inertia.\"\"\"\n",
                "        return self._inertia\n",
                "\n",
                "    def _reset_clusters(self) -> None:\n",
                "        \"\"\"Reset clusters.\"\"\"\n",
                "        self._C = {k: [] for k in range(self._K)}\n",
                "\n",
                "    def _reset_inertias(self) -> None:\n",
                "        \"\"\"Reset inertias.\n",
                "\n",
                "        This initializes self._inertias, and has shape N as it is the outer summation\n",
                "        of our cost function J. We sum over all samples N to get self._inertia.\n",
                "        \"\"\"\n",
                "        self._inertias = np.zeros(self._N)  # reset mechanism so don't accumulate\n",
                "\n",
                "    def _reset_labels(self) -> None:\n",
                "        \"\"\"Reset labels.\"\"\"\n",
                "        self._labels = np.zeros(self._N)  # reset mechanism so don't accumulate\n",
                "\n",
                "    def _init_centroids(self, X: T) -> None:\n",
                "        self._centroids = np.zeros(shape=(self._K, self._D))  # KxD matrix\n",
                "        if self.init == \"random\":\n",
                "            for k in range(self._K):\n",
                "                self._centroids[k] = X[np.random.choice(range(self._N))]\n",
                "        else:\n",
                "            raise ValueError(f\"{self.init} is not supported.\")\n",
                "\n",
                "    def _get_distance_metric(self) -> Union[euclidean_distance, manhattan_distance]:\n",
                "        if self.metric == \"euclidean\":\n",
                "            return partial(euclidean_distance, squared=False)\n",
                "        if self.metric == \"manhattan\":\n",
                "            return manhattan_distance\n",
                "        raise ValueError(f\"{self.metric} is not supported.\")\n",
                "\n",
                "    def _compute_argmin_assignment(self, x: T, centroids: T) -> Tuple[int, float]:\n",
                "        min_index = None\n",
                "        min_distance = np.inf\n",
                "        for k, centroid in enumerate(centroids):\n",
                "            distance = self.distance(x, centroid)\n",
                "            if distance < min_distance:\n",
                "                # now min_distance is the best distance between x and mu_k\n",
                "                min_index = k\n",
                "                min_distance = distance\n",
                "        return min_index, min_distance\n",
                "\n",
                "    def _assign_samples(self, X: T, centroids: T) -> None:\n",
                "        self._reset_inertias()  # reset the inertias to [0, 0, ..., 0]\n",
                "        self._reset_labels()  # reset the labels to [0, 0, ..., 0]\n",
                "        for sample_index, x in enumerate(X):\n",
                "            min_index, min_distance = self._compute_argmin_assignment(x, centroids)\n",
                "            # fmt: off\n",
                "            self._C[min_index].append(x) # here means append the data point x to the cluster C_k\n",
                "            self._inertias[sample_index] = min_distance  # the cost of the sample x\n",
                "            self._labels[sample_index] = int(min_index)  # the label of the sample x\n",
                "            # fmt: on\n",
                "\n",
                "    def _update_centroids(self, centroids: T) -> T:\n",
                "        \"\"\"Update step: update the centroid with new cluster mean.\"\"\"\n",
                "        for k, cluster in self._C.items():  # for k and the corresponding cluster C_k\n",
                "            mu_k = np.mean(cluster, axis=0)  # compute the mean of the cluster\n",
                "            centroids[k] = mu_k  # update the centroid mu_k\n",
                "        return centroids\n",
                "\n",
                "    def _has_converged(self, old_centroids: T, updated_centroids: T) -> bool:\n",
                "        return np.allclose(updated_centroids, old_centroids, atol=self.tol)\n",
                "\n",
                "    def fit(self, X: T) -> None:\n",
                "        \"\"\"Fits K-Means to the data, after which the model will have\n",
                "        centroids and labels.\"\"\"\n",
                "        # fmt: off\n",
                "        self._N, self._D = X.shape  # N=num_samples, D=num_features\n",
                "\n",
                "        # step 1. Initialize self._centroids of shape KxD.\n",
                "        self._init_centroids(X)\n",
                "\n",
                "        # enter iteration of step 2-3 until convergence\n",
                "        for t in range(self.max_iter):\n",
                "            old_centroids = self._centroids.copy()\n",
                "\n",
                "            # step 2: assignment step\n",
                "            self._assign_samples(X, old_centroids)\n",
                "\n",
                "            # step 3: update step (careful of mutation without copy because I am doing centroids[k] = mu_k)\n",
                "            self._centroids = self._update_centroids(old_centroids.copy())\n",
                "\n",
                "            # step 4: check convergence\n",
                "            if self._has_converged(old_centroids, self._centroids):\n",
                "                print(f\"Converged at iteration {t}\")\n",
                "                self.t = t  # assign iteration index, used for logging\n",
                "                break\n",
                "\n",
                "            self._reset_clusters()  # reset the clusters if not converged\n",
                "\n",
                "        # step 5: compute the final cost on the converged centroids\n",
                "        self._inertia = np.sum(self._inertias)\n",
                "        # fmt: on\n",
                "\n",
                "    def predict(self, X: T) -> T:\n",
                "        \"\"\"Predict cluster labels for samples in X where X can be new data or training data.\"\"\"\n",
                "        y_preds = np.array(\n",
                "            [self._compute_argmin_assignment(x, self._centroids)[0] for x in X]\n",
                "        )\n",
                "        return y_preds"
            ]
        },
        {
            "attachments": {},
            "cell_type": "markdown",
            "metadata": {},
            "source": [
                "Let's use [scikit-learn's toy example](https://scikit-learn.org/stable/modules/generated/sklearn.cluster.KMeans.html#sklearn.cluster.KMeans.predict) to check sanity of our implementation."
            ]
        },
        {
            "cell_type": "code",
            "execution_count": 40,
            "metadata": {},
            "outputs": [
                {
                    "data": {
                        "text/html": [
                            "<pre style=\"white-space:pre;overflow-x:auto;line-height:normal;font-family:Menlo,'DejaVu Sans Mono',consolas,'Courier New',monospace\">Using Seed Number <span style=\"color: #008080; text-decoration-color: #008080; font-weight: bold\">1992</span>\n",
                            "</pre>\n"
                        ],
                        "text/plain": [
                            "Using Seed Number \u001b[1;36m1992\u001b[0m\n"
                        ]
                    },
                    "metadata": {},
                    "output_type": "display_data"
                },
                {
                    "data": {
                        "text/html": [
                            "<pre style=\"white-space:pre;overflow-x:auto;line-height:normal;font-family:Menlo,'DejaVu Sans Mono',consolas,'Courier New',monospace\">Converged at iteration <span style=\"color: #008080; text-decoration-color: #008080; font-weight: bold\">1</span>\n",
                            "</pre>\n"
                        ],
                        "text/plain": [
                            "Converged at iteration \u001b[1;36m1\u001b[0m\n"
                        ]
                    },
                    "metadata": {},
                    "output_type": "display_data"
                }
            ],
            "source": [
                "# sklearn example\n",
                "X = np.array(\n",
                "    [\n",
                "        [1, 2],\n",
                "        [1, 4],\n",
                "        [1, 0],\n",
                "        [10, 2],\n",
                "        [10, 4],\n",
                "        [10, 0],\n",
                "    ]\n",
                ")\n",
                "\n",
                "kmeans = KMeansLloyd(num_clusters=2, init=\"random\", max_iter=500, random_state=1992)\n",
                "kmeans.fit(X)"
            ]
        },
        {
            "cell_type": "code",
            "execution_count": 46,
            "metadata": {},
            "outputs": [
                {
                    "data": {
                        "text/html": [
                            "<pre style=\"white-space:pre;overflow-x:auto;line-height:normal;font-family:Menlo,'DejaVu Sans Mono',consolas,'Courier New',monospace\">There are <span style=\"color: #008080; text-decoration-color: #008080; font-weight: bold\">2</span> clusters.\n",
                            "</pre>\n"
                        ],
                        "text/plain": [
                            "There are \u001b[1;36m2\u001b[0m clusters.\n"
                        ]
                    },
                    "metadata": {},
                    "output_type": "display_data"
                },
                {
                    "data": {
                        "text/html": [
                            "<pre style=\"white-space:pre;overflow-x:auto;line-height:normal;font-family:Menlo,'DejaVu Sans Mono',consolas,'Courier New',monospace\">The centroids are\n",
                            "<span style=\"font-weight: bold\">[[</span> <span style=\"color: #008080; text-decoration-color: #008080; font-weight: bold\">1</span>.  <span style=\"color: #008080; text-decoration-color: #008080; font-weight: bold\">2</span>.<span style=\"font-weight: bold\">]</span>\n",
                            " <span style=\"font-weight: bold\">[</span><span style=\"color: #008080; text-decoration-color: #008080; font-weight: bold\">10</span>.  <span style=\"color: #008080; text-decoration-color: #008080; font-weight: bold\">2</span>.<span style=\"font-weight: bold\">]]</span>.\n",
                            "</pre>\n"
                        ],
                        "text/plain": [
                            "The centroids are\n",
                            "\u001b[1m[\u001b[0m\u001b[1m[\u001b[0m \u001b[1;36m1\u001b[0m.  \u001b[1;36m2\u001b[0m.\u001b[1m]\u001b[0m\n",
                            " \u001b[1m[\u001b[0m\u001b[1;36m10\u001b[0m.  \u001b[1;36m2\u001b[0m.\u001b[1m]\u001b[0m\u001b[1m]\u001b[0m.\n"
                        ]
                    },
                    "metadata": {},
                    "output_type": "display_data"
                },
                {
                    "data": {
                        "text/html": [
                            "<pre style=\"white-space:pre;overflow-x:auto;line-height:normal;font-family:Menlo,'DejaVu Sans Mono',consolas,'Courier New',monospace\">The labels predicted are <span style=\"font-weight: bold\">[</span><span style=\"color: #008080; text-decoration-color: #008080; font-weight: bold\">0</span> <span style=\"color: #008080; text-decoration-color: #008080; font-weight: bold\">0</span> <span style=\"color: #008080; text-decoration-color: #008080; font-weight: bold\">0</span> <span style=\"color: #008080; text-decoration-color: #008080; font-weight: bold\">1</span> <span style=\"color: #008080; text-decoration-color: #008080; font-weight: bold\">1</span> <span style=\"color: #008080; text-decoration-color: #008080; font-weight: bold\">1</span><span style=\"font-weight: bold\">]</span>.\n",
                            "</pre>\n"
                        ],
                        "text/plain": [
                            "The labels predicted are \u001b[1m[\u001b[0m\u001b[1;36m0\u001b[0m \u001b[1;36m0\u001b[0m \u001b[1;36m0\u001b[0m \u001b[1;36m1\u001b[0m \u001b[1;36m1\u001b[0m \u001b[1;36m1\u001b[0m\u001b[1m]\u001b[0m.\n"
                        ]
                    },
                    "metadata": {},
                    "output_type": "display_data"
                },
                {
                    "data": {
                        "text/html": [
                            "<pre style=\"white-space:pre;overflow-x:auto;line-height:normal;font-family:Menlo,'DejaVu Sans Mono',consolas,'Courier New',monospace\">The inertia is <span style=\"color: #008080; text-decoration-color: #008080; font-weight: bold\">16.0</span>.\n",
                            "</pre>\n"
                        ],
                        "text/plain": [
                            "The inertia is \u001b[1;36m16.0\u001b[0m.\n"
                        ]
                    },
                    "metadata": {},
                    "output_type": "display_data"
                },
                {
                    "data": {
                        "text/html": [
                            "<pre style=\"white-space:pre;overflow-x:auto;line-height:normal;font-family:Menlo,'DejaVu Sans Mono',consolas,'Courier New',monospace\">The clusters are\n",
                            "</pre>\n"
                        ],
                        "text/plain": [
                            "The clusters are\n"
                        ]
                    },
                    "metadata": {},
                    "output_type": "display_data"
                },
                {
                    "data": {
                        "text/html": [
                            "<pre style=\"white-space:pre;overflow-x:auto;line-height:normal;font-family:Menlo,'DejaVu Sans Mono',consolas,'Courier New',monospace\"><span style=\"font-weight: bold\">{</span><span style=\"color: #008080; text-decoration-color: #008080; font-weight: bold\">0</span>: <span style=\"font-weight: bold\">[</span><span style=\"color: #800080; text-decoration-color: #800080; font-weight: bold\">array</span><span style=\"font-weight: bold\">([</span><span style=\"color: #008080; text-decoration-color: #008080; font-weight: bold\">1</span>, <span style=\"color: #008080; text-decoration-color: #008080; font-weight: bold\">2</span><span style=\"font-weight: bold\">])</span>, <span style=\"color: #800080; text-decoration-color: #800080; font-weight: bold\">array</span><span style=\"font-weight: bold\">([</span><span style=\"color: #008080; text-decoration-color: #008080; font-weight: bold\">1</span>, <span style=\"color: #008080; text-decoration-color: #008080; font-weight: bold\">4</span><span style=\"font-weight: bold\">])</span>, <span style=\"color: #800080; text-decoration-color: #800080; font-weight: bold\">array</span><span style=\"font-weight: bold\">([</span><span style=\"color: #008080; text-decoration-color: #008080; font-weight: bold\">1</span>, <span style=\"color: #008080; text-decoration-color: #008080; font-weight: bold\">0</span><span style=\"font-weight: bold\">])]</span>, <span style=\"color: #008080; text-decoration-color: #008080; font-weight: bold\">1</span>: <span style=\"font-weight: bold\">[</span><span style=\"color: #800080; text-decoration-color: #800080; font-weight: bold\">array</span><span style=\"font-weight: bold\">([</span><span style=\"color: #008080; text-decoration-color: #008080; font-weight: bold\">10</span>,  <span style=\"color: #008080; text-decoration-color: #008080; font-weight: bold\">2</span><span style=\"font-weight: bold\">])</span>, <span style=\"color: #800080; text-decoration-color: #800080; font-weight: bold\">array</span><span style=\"font-weight: bold\">([</span><span style=\"color: #008080; text-decoration-color: #008080; font-weight: bold\">10</span>,  <span style=\"color: #008080; text-decoration-color: #008080; font-weight: bold\">4</span><span style=\"font-weight: bold\">])</span>, <span style=\"color: #800080; text-decoration-color: #800080; font-weight: bold\">array</span><span style=\"font-weight: bold\">([</span><span style=\"color: #008080; text-decoration-color: #008080; font-weight: bold\">10</span>,  <span style=\"color: #008080; text-decoration-color: #008080; font-weight: bold\">0</span><span style=\"font-weight: bold\">])]}</span>\n",
                            "</pre>\n"
                        ],
                        "text/plain": [
                            "\u001b[1m{\u001b[0m\u001b[1;36m0\u001b[0m: \u001b[1m[\u001b[0m\u001b[1;35marray\u001b[0m\u001b[1m(\u001b[0m\u001b[1m[\u001b[0m\u001b[1;36m1\u001b[0m, \u001b[1;36m2\u001b[0m\u001b[1m]\u001b[0m\u001b[1m)\u001b[0m, \u001b[1;35marray\u001b[0m\u001b[1m(\u001b[0m\u001b[1m[\u001b[0m\u001b[1;36m1\u001b[0m, \u001b[1;36m4\u001b[0m\u001b[1m]\u001b[0m\u001b[1m)\u001b[0m, \u001b[1;35marray\u001b[0m\u001b[1m(\u001b[0m\u001b[1m[\u001b[0m\u001b[1;36m1\u001b[0m, \u001b[1;36m0\u001b[0m\u001b[1m]\u001b[0m\u001b[1m)\u001b[0m\u001b[1m]\u001b[0m, \u001b[1;36m1\u001b[0m: \u001b[1m[\u001b[0m\u001b[1;35marray\u001b[0m\u001b[1m(\u001b[0m\u001b[1m[\u001b[0m\u001b[1;36m10\u001b[0m,  \u001b[1;36m2\u001b[0m\u001b[1m]\u001b[0m\u001b[1m)\u001b[0m, \u001b[1;35marray\u001b[0m\u001b[1m(\u001b[0m\u001b[1m[\u001b[0m\u001b[1;36m10\u001b[0m,  \u001b[1;36m4\u001b[0m\u001b[1m]\u001b[0m\u001b[1m)\u001b[0m, \u001b[1;35marray\u001b[0m\u001b[1m(\u001b[0m\u001b[1m[\u001b[0m\u001b[1;36m10\u001b[0m,  \u001b[1;36m0\u001b[0m\u001b[1m]\u001b[0m\u001b[1m)\u001b[0m\u001b[1m]\u001b[0m\u001b[1m}\u001b[0m\n"
                        ]
                    },
                    "metadata": {},
                    "output_type": "display_data"
                },
                {
                    "data": {
                        "text/html": [
                            "<pre style=\"white-space:pre;overflow-x:auto;line-height:normal;font-family:Menlo,'DejaVu Sans Mono',consolas,'Courier New',monospace\">The predicted labels for new data are <span style=\"font-weight: bold\">[</span><span style=\"color: #008080; text-decoration-color: #008080; font-weight: bold\">0</span> <span style=\"color: #008080; text-decoration-color: #008080; font-weight: bold\">1</span><span style=\"font-weight: bold\">]</span>.\n",
                            "</pre>\n"
                        ],
                        "text/plain": [
                            "The predicted labels for new data are \u001b[1m[\u001b[0m\u001b[1;36m0\u001b[0m \u001b[1;36m1\u001b[0m\u001b[1m]\u001b[0m.\n"
                        ]
                    },
                    "metadata": {},
                    "output_type": "display_data"
                }
            ],
            "source": [
                "print(f\"There are {kmeans.num_clusters} clusters.\")\n",
                "print(f\"The centroids are\\n{kmeans.centroids}.\")\n",
                "print(f\"The labels predicted are {kmeans.labels}.\")\n",
                "print(f\"The inertia is {kmeans.inertia}.\")\n",
                "print(\"The clusters are\")\n",
                "pprint(kmeans.clusters)\n",
                "\n",
                "y_preds = kmeans.predict([[0, 0], [12, 3]])\n",
                "print(f\"The predicted labels for new data are {y_preds}.\")"
            ]
        },
        {
            "attachments": {},
            "cell_type": "markdown",
            "metadata": {},
            "source": [
                "Compare the results of our implementation with scikit-learn's implementation."
            ]
        },
        {
            "cell_type": "code",
            "execution_count": 7,
            "metadata": {},
            "outputs": [
                {
                    "data": {
                        "text/html": [
                            "<style>#sk-container-id-1 {color: black;background-color: white;}#sk-container-id-1 pre{padding: 0;}#sk-container-id-1 div.sk-toggleable {background-color: white;}#sk-container-id-1 label.sk-toggleable__label {cursor: pointer;display: block;width: 100%;margin-bottom: 0;padding: 0.3em;box-sizing: border-box;text-align: center;}#sk-container-id-1 label.sk-toggleable__label-arrow:before {content: \"▸\";float: left;margin-right: 0.25em;color: #696969;}#sk-container-id-1 label.sk-toggleable__label-arrow:hover:before {color: black;}#sk-container-id-1 div.sk-estimator:hover label.sk-toggleable__label-arrow:before {color: black;}#sk-container-id-1 div.sk-toggleable__content {max-height: 0;max-width: 0;overflow: hidden;text-align: left;background-color: #f0f8ff;}#sk-container-id-1 div.sk-toggleable__content pre {margin: 0.2em;color: black;border-radius: 0.25em;background-color: #f0f8ff;}#sk-container-id-1 input.sk-toggleable__control:checked~div.sk-toggleable__content {max-height: 200px;max-width: 100%;overflow: auto;}#sk-container-id-1 input.sk-toggleable__control:checked~label.sk-toggleable__label-arrow:before {content: \"▾\";}#sk-container-id-1 div.sk-estimator input.sk-toggleable__control:checked~label.sk-toggleable__label {background-color: #d4ebff;}#sk-container-id-1 div.sk-label input.sk-toggleable__control:checked~label.sk-toggleable__label {background-color: #d4ebff;}#sk-container-id-1 input.sk-hidden--visually {border: 0;clip: rect(1px 1px 1px 1px);clip: rect(1px, 1px, 1px, 1px);height: 1px;margin: -1px;overflow: hidden;padding: 0;position: absolute;width: 1px;}#sk-container-id-1 div.sk-estimator {font-family: monospace;background-color: #f0f8ff;border: 1px dotted black;border-radius: 0.25em;box-sizing: border-box;margin-bottom: 0.5em;}#sk-container-id-1 div.sk-estimator:hover {background-color: #d4ebff;}#sk-container-id-1 div.sk-parallel-item::after {content: \"\";width: 100%;border-bottom: 1px solid gray;flex-grow: 1;}#sk-container-id-1 div.sk-label:hover label.sk-toggleable__label {background-color: #d4ebff;}#sk-container-id-1 div.sk-serial::before {content: \"\";position: absolute;border-left: 1px solid gray;box-sizing: border-box;top: 0;bottom: 0;left: 50%;z-index: 0;}#sk-container-id-1 div.sk-serial {display: flex;flex-direction: column;align-items: center;background-color: white;padding-right: 0.2em;padding-left: 0.2em;position: relative;}#sk-container-id-1 div.sk-item {position: relative;z-index: 1;}#sk-container-id-1 div.sk-parallel {display: flex;align-items: stretch;justify-content: center;background-color: white;position: relative;}#sk-container-id-1 div.sk-item::before, #sk-container-id-1 div.sk-parallel-item::before {content: \"\";position: absolute;border-left: 1px solid gray;box-sizing: border-box;top: 0;bottom: 0;left: 50%;z-index: -1;}#sk-container-id-1 div.sk-parallel-item {display: flex;flex-direction: column;z-index: 1;position: relative;background-color: white;}#sk-container-id-1 div.sk-parallel-item:first-child::after {align-self: flex-end;width: 50%;}#sk-container-id-1 div.sk-parallel-item:last-child::after {align-self: flex-start;width: 50%;}#sk-container-id-1 div.sk-parallel-item:only-child::after {width: 0;}#sk-container-id-1 div.sk-dashed-wrapped {border: 1px dashed gray;margin: 0 0.4em 0.5em 0.4em;box-sizing: border-box;padding-bottom: 0.4em;background-color: white;}#sk-container-id-1 div.sk-label label {font-family: monospace;font-weight: bold;display: inline-block;line-height: 1.2em;}#sk-container-id-1 div.sk-label-container {text-align: center;}#sk-container-id-1 div.sk-container {/* jupyter's `normalize.less` sets `[hidden] { display: none; }` but bootstrap.min.css set `[hidden] { display: none !important; }` so we also need the `!important` here to be able to override the default hidden behavior on the sphinx rendered scikit-learn.org. See: https://github.com/scikit-learn/scikit-learn/issues/21755 */display: inline-block !important;position: relative;}#sk-container-id-1 div.sk-text-repr-fallback {display: none;}</style><div id=\"sk-container-id-1\" class=\"sk-top-container\"><div class=\"sk-text-repr-fallback\"><pre>KMeans(max_iter=500, n_clusters=2, n_init=&#x27;auto&#x27;, random_state=1992)</pre><b>In a Jupyter environment, please rerun this cell to show the HTML representation or trust the notebook. <br />On GitHub, the HTML representation is unable to render, please try loading this page with nbviewer.org.</b></div><div class=\"sk-container\" hidden><div class=\"sk-item\"><div class=\"sk-estimator sk-toggleable\"><input class=\"sk-toggleable__control sk-hidden--visually\" id=\"sk-estimator-id-1\" type=\"checkbox\" checked><label for=\"sk-estimator-id-1\" class=\"sk-toggleable__label sk-toggleable__label-arrow\">KMeans</label><div class=\"sk-toggleable__content\"><pre>KMeans(max_iter=500, n_clusters=2, n_init=&#x27;auto&#x27;, random_state=1992)</pre></div></div></div></div></div>"
                        ],
                        "text/plain": [
                            "KMeans(max_iter=500, n_clusters=2, n_init='auto', random_state=1992)"
                        ]
                    },
                    "execution_count": 7,
                    "metadata": {},
                    "output_type": "execute_result"
                }
            ],
            "source": [
                "sk_kmeans = KMeans(\n",
                "    n_clusters=2, random_state=1992, n_init=\"auto\", algorithm=\"lloyd\", max_iter=500\n",
                ")\n",
                "sk_kmeans.fit(X)"
            ]
        },
        {
            "cell_type": "code",
            "execution_count": 8,
            "metadata": {},
            "outputs": [
                {
                    "data": {
                        "text/html": [
                            "<pre style=\"white-space:pre;overflow-x:auto;line-height:normal;font-family:Menlo,'DejaVu Sans Mono',consolas,'Courier New',monospace\">The centroids are\n",
                            "<span style=\"font-weight: bold\">[[</span> <span style=\"color: #008080; text-decoration-color: #008080; font-weight: bold\">1</span>.  <span style=\"color: #008080; text-decoration-color: #008080; font-weight: bold\">2</span>.<span style=\"font-weight: bold\">]</span>\n",
                            " <span style=\"font-weight: bold\">[</span><span style=\"color: #008080; text-decoration-color: #008080; font-weight: bold\">10</span>.  <span style=\"color: #008080; text-decoration-color: #008080; font-weight: bold\">2</span>.<span style=\"font-weight: bold\">]]</span>.\n",
                            "</pre>\n"
                        ],
                        "text/plain": [
                            "The centroids are\n",
                            "\u001b[1m[\u001b[0m\u001b[1m[\u001b[0m \u001b[1;36m1\u001b[0m.  \u001b[1;36m2\u001b[0m.\u001b[1m]\u001b[0m\n",
                            " \u001b[1m[\u001b[0m\u001b[1;36m10\u001b[0m.  \u001b[1;36m2\u001b[0m.\u001b[1m]\u001b[0m\u001b[1m]\u001b[0m.\n"
                        ]
                    },
                    "metadata": {},
                    "output_type": "display_data"
                },
                {
                    "data": {
                        "text/html": [
                            "<pre style=\"white-space:pre;overflow-x:auto;line-height:normal;font-family:Menlo,'DejaVu Sans Mono',consolas,'Courier New',monospace\">The labels predicted are <span style=\"font-weight: bold\">[</span><span style=\"color: #008080; text-decoration-color: #008080; font-weight: bold\">0</span> <span style=\"color: #008080; text-decoration-color: #008080; font-weight: bold\">0</span> <span style=\"color: #008080; text-decoration-color: #008080; font-weight: bold\">0</span> <span style=\"color: #008080; text-decoration-color: #008080; font-weight: bold\">1</span> <span style=\"color: #008080; text-decoration-color: #008080; font-weight: bold\">1</span> <span style=\"color: #008080; text-decoration-color: #008080; font-weight: bold\">1</span><span style=\"font-weight: bold\">]</span>.\n",
                            "</pre>\n"
                        ],
                        "text/plain": [
                            "The labels predicted are \u001b[1m[\u001b[0m\u001b[1;36m0\u001b[0m \u001b[1;36m0\u001b[0m \u001b[1;36m0\u001b[0m \u001b[1;36m1\u001b[0m \u001b[1;36m1\u001b[0m \u001b[1;36m1\u001b[0m\u001b[1m]\u001b[0m.\n"
                        ]
                    },
                    "metadata": {},
                    "output_type": "display_data"
                },
                {
                    "data": {
                        "text/html": [
                            "<pre style=\"white-space:pre;overflow-x:auto;line-height:normal;font-family:Menlo,'DejaVu Sans Mono',consolas,'Courier New',monospace\">The inertia is <span style=\"color: #008080; text-decoration-color: #008080; font-weight: bold\">16.0</span>.\n",
                            "</pre>\n"
                        ],
                        "text/plain": [
                            "The inertia is \u001b[1;36m16.0\u001b[0m.\n"
                        ]
                    },
                    "metadata": {},
                    "output_type": "display_data"
                },
                {
                    "data": {
                        "text/html": [
                            "<pre style=\"white-space:pre;overflow-x:auto;line-height:normal;font-family:Menlo,'DejaVu Sans Mono',consolas,'Courier New',monospace\">The predicted labels for new data are <span style=\"font-weight: bold\">[</span><span style=\"color: #008080; text-decoration-color: #008080; font-weight: bold\">0</span> <span style=\"color: #008080; text-decoration-color: #008080; font-weight: bold\">1</span><span style=\"font-weight: bold\">]</span>.\n",
                            "</pre>\n"
                        ],
                        "text/plain": [
                            "The predicted labels for new data are \u001b[1m[\u001b[0m\u001b[1;36m0\u001b[0m \u001b[1;36m1\u001b[0m\u001b[1m]\u001b[0m.\n"
                        ]
                    },
                    "metadata": {},
                    "output_type": "display_data"
                }
            ],
            "source": [
                "print(f\"The centroids are\\n{sk_kmeans.cluster_centers_}.\")\n",
                "print(f\"The labels predicted are {sk_kmeans.labels_}.\")\n",
                "print(f\"The inertia is {sk_kmeans.inertia_}.\")\n",
                "\n",
                "y_preds = sk_kmeans.predict([[0, 0], [12, 3]])\n",
                "print(f\"The predicted labels for new data are {y_preds}.\")"
            ]
        },
        {
            "attachments": {},
            "cell_type": "markdown",
            "metadata": {},
            "source": [
                "## Contigency Matrix and Purity Score"
            ]
        },
        {
            "attachments": {},
            "cell_type": "markdown",
            "metadata": {},
            "source": [
                "Now we code up purity score with helper functions `contingency_matrix` and `purity_score`. What are they?\n",
                "\n",
                "Let's consider a dataset with $N$ samples and $K$ classes. The contingency matrix $C$ is an $K \\times K$ matrix that represents the number of samples in the true class labels and the predicted class labels. For example, if the true class label of sample $i$ is $j$ and the predicted class label of sample $i$ is $k$, then $C_{j,k}$ is incremented by 1.\n",
                "\n",
                "The contingency matrix $C$ can be used to calculate the Rand index, also known as the purity score, which measures the similarity between the true class labels and the predicted class labels. The Rand index is defined as the ratio of the number of pairs of samples that are either both in the same cluster or in different clusters in the predicted result and in the true class labels, to the total number of pairs of samples. Mathematically, the Rand index can be defined as:\n",
                "\n",
                "$$R = \\frac{(a + d)}{(a + b + c + d)}$$\n",
                "\n",
                "where:\n",
                "\n",
                "$a$ is the number of pairs of samples that are in the same cluster in both the predicted result and the true class labels.\n",
                "\n",
                "$b$ is the number of pairs of samples that are in the same cluster in the predicted result and in different clusters in the true class labels.\n",
                "\n",
                "$c$ is the number of pairs of samples that are in different clusters in the predicted result and in the same cluster in the true class labels.\n",
                "\n",
                "$d$ is the number of pairs of samples that are in different clusters in both the predicted result and the true class labels.\n",
                "\n",
                "The Rand index ranges from 0, indicating a poor match between the true class labels and the predicted class labels, to 1, indicating a perfect match. The Rand index is a widely used evaluation metric for clustering algorithms, and is often used to compare the performance of different clustering algorithms on a given dataset."
            ]
        },
        {
            "cell_type": "code",
            "execution_count": 9,
            "metadata": {},
            "outputs": [],
            "source": [
                "from typing import Union\n",
                "import pandas as pd\n",
                "\n",
                "def contingency_matrix(\n",
                "    y_trues: np.ndarray, y_preds: np.ndarray, as_dataframe: bool = False\n",
                ") -> Union[pd.DataFrame, np.ndarray]:\n",
                "    \"\"\"Contingency matrix for clustering. Similar to confusion matrix for classification.\n",
                "\n",
                "    Note:\n",
                "        One immediate problem is it does not ensure that each predicted cluster\n",
                "        label is assigned only once to a true label.\n",
                "    \"\"\"\n",
                "    # fmt: off\n",
                "    classes, class_idx = np.unique(y_trues, return_inverse=True)     # get the unique classes and their indices\n",
                "    clusters, cluster_idx = np.unique(y_preds, return_inverse=True)  # get the unique clusters and their indices\n",
                "    num_classes, num_clusters = classes.shape[0], clusters.shape[0] # get the number of classes and clusters\n",
                "    # fmt: on\n",
                "\n",
                "    # initialize the contingency matrix with shape num_classes x num_clusters\n",
                "    # exactly the same as the confusion matrix but in confusion matrix\n",
                "    # the rows are the true labels and the columns are the predicted labels\n",
                "    # and hence is num_classes x num_classes instead of num_classes x num_clusters\n",
                "    # however in kmeans for example it is possible to have len(np.unique(y_true)) != len(np.unique(y_pred)\n",
                "    # i.e. the number of clusters is not equal to the number of classes\n",
                "    contingency_matrix = np.zeros((num_classes, num_clusters), dtype=np.int64)\n",
                "\n",
                "    # note however y_true and y_pred are same sequence of samples\n",
                "    for i in range(class_idx.shape[0]):\n",
                "        # loop through each sample and increment the contingency matrix\n",
                "        # at the row corresponding to the true label and column corresponding to the predicted label\n",
                "        # so if the sample index is i = 0, and class_idx[i] = 1 and cluster_idx[i] = 2\n",
                "        # this means the gt label is 1 and the predicted label is 2\n",
                "        # so we increment the contingency matrix at row 1 and column 2 by 1\n",
                "        # then for each row, which is the row for each gt label,\n",
                "        # we see which cluster has the highest number of samples and that is the cluster\n",
                "        # that the gt label is most likely to belong to.\n",
                "        # in other words since kmeans permutes the labels, we can't just compare the labels\n",
                "        # directly.\n",
                "        contingency_matrix[class_idx[i], cluster_idx[i]] += 1\n",
                "\n",
                "    # row is the true label and column is the predicted label\n",
                "    if as_dataframe:\n",
                "        return pd.DataFrame(\n",
                "            contingency_matrix,\n",
                "            index=[f\"true={c}\" for c in classes],\n",
                "            columns=[f\"pred={c}\" for c in clusters],\n",
                "        )\n",
                "    return contingency_matrix\n",
                "\n",
                "\n",
                "def purity_score(\n",
                "    y_trues: np.ndarray, y_preds: np.ndarray, per_cluster: bool = False\n",
                ") -> float:\n",
                "    \"\"\"Computes the purity score for clustering.\n",
                "\n",
                "    Note:\n",
                "        Potentially misleading score just like accuracy.\n",
                "        Imbalanced datasets will give high scores.\n",
                "    \"\"\"\n",
                "    # compute contingency matrix (also called confusion matrix)\n",
                "    contingency_matrix_ = contingency_matrix(y_trues, y_preds, as_dataframe=False)\n",
                "\n",
                "    # total purity is the max value in each column divided by the sum of the matrix\n",
                "    # this means for each cluster k, we find the gt label that has the most samples in that cluster\n",
                "    # and then sum up all clusters and we divide by the total number of samples in all clusters\n",
                "\n",
                "    # if per_cluster is True, we return the purity for each cluster\n",
                "    # this means instead of sum up all clusters, we return the purity for each cluster.\n",
                "    if per_cluster:\n",
                "        return np.amax(contingency_matrix_, axis=0) / np.sum(\n",
                "            contingency_matrix_, axis=0\n",
                "        )\n",
                "    # return purity which is the sum of the max values in each column divided by the sum of the matrix\n",
                "    return np.sum(np.amax(contingency_matrix_, axis=0)) / np.sum(contingency_matrix_)\n"
            ]
        },
        {
            "cell_type": "code",
            "execution_count": 10,
            "metadata": {},
            "outputs": [],
            "source": [
                "def display_contingency_and_purity(\n",
                "    y_trues: np.ndarray,\n",
                "    y_preds: np.ndarray,\n",
                "    as_dataframe: bool = True,\n",
                "    per_cluster: bool = False,\n",
                ") -> None:\n",
                "    \"\"\"Display contingency matrix and purity score for clustering.\"\"\"\n",
                "    # compute contingency matrix\n",
                "    contingency_matrix_ = contingency_matrix(\n",
                "        y_trues, y_preds, as_dataframe=as_dataframe\n",
                "    )\n",
                "    display(contingency_matrix_)\n",
                "\n",
                "    purity = purity_score(y_trues, y_preds, per_cluster=per_cluster)\n",
                "    print(f\"Purity score: {purity:.4f}\")"
            ]
        },
        {
            "attachments": {},
            "cell_type": "markdown",
            "metadata": {},
            "source": [
                "## K-Means Algorithm on IRIS"
            ]
        },
        {
            "attachments": {},
            "cell_type": "markdown",
            "metadata": {},
            "source": [
                "We use first two features of IRIS dataset to visualize the clusters."
            ]
        },
        {
            "cell_type": "code",
            "execution_count": 11,
            "metadata": {},
            "outputs": [],
            "source": [
                "X, y = load_iris(return_X_y=True)\n",
                "X = X[:, :2] # only use the first two features\n",
                "\n",
                "X_train, X_test, y_train, y_test = train_test_split(X, y, test_size=0.2)"
            ]
        },
        {
            "cell_type": "code",
            "execution_count": 12,
            "metadata": {},
            "outputs": [
                {
                    "data": {
                        "text/html": [
                            "<pre style=\"white-space:pre;overflow-x:auto;line-height:normal;font-family:Menlo,'DejaVu Sans Mono',consolas,'Courier New',monospace\">Using Seed Number <span style=\"color: #008080; text-decoration-color: #008080; font-weight: bold\">2023</span>\n",
                            "</pre>\n"
                        ],
                        "text/plain": [
                            "Using Seed Number \u001b[1;36m2023\u001b[0m\n"
                        ]
                    },
                    "metadata": {},
                    "output_type": "display_data"
                },
                {
                    "data": {
                        "text/html": [
                            "<pre style=\"white-space:pre;overflow-x:auto;line-height:normal;font-family:Menlo,'DejaVu Sans Mono',consolas,'Courier New',monospace\">Converged at iteration <span style=\"color: #008080; text-decoration-color: #008080; font-weight: bold\">8</span>\n",
                            "</pre>\n"
                        ],
                        "text/plain": [
                            "Converged at iteration \u001b[1;36m8\u001b[0m\n"
                        ]
                    },
                    "metadata": {},
                    "output_type": "display_data"
                }
            ],
            "source": [
                "kmeans = KMeansLloyd(num_clusters=3, init=\"random\", max_iter=500, random_state=2023)\n",
                "kmeans.fit(X_train)"
            ]
        },
        {
            "cell_type": "code",
            "execution_count": 13,
            "metadata": {},
            "outputs": [
                {
                    "data": {
                        "text/html": [
                            "<pre style=\"white-space:pre;overflow-x:auto;line-height:normal;font-family:Menlo,'DejaVu Sans Mono',consolas,'Courier New',monospace\">There are <span style=\"color: #008080; text-decoration-color: #008080; font-weight: bold\">3</span> clusters.\n",
                            "</pre>\n"
                        ],
                        "text/plain": [
                            "There are \u001b[1;36m3\u001b[0m clusters.\n"
                        ]
                    },
                    "metadata": {},
                    "output_type": "display_data"
                },
                {
                    "data": {
                        "text/html": [
                            "<pre style=\"white-space:pre;overflow-x:auto;line-height:normal;font-family:Menlo,'DejaVu Sans Mono',consolas,'Courier New',monospace\">The centroids are\n",
                            "<span style=\"font-weight: bold\">[[</span><span style=\"color: #008080; text-decoration-color: #008080; font-weight: bold\">7.06153846</span> <span style=\"color: #008080; text-decoration-color: #008080; font-weight: bold\">3.08461538</span><span style=\"font-weight: bold\">]</span>\n",
                            " <span style=\"font-weight: bold\">[</span><span style=\"color: #008080; text-decoration-color: #008080; font-weight: bold\">4.99423077</span> <span style=\"color: #008080; text-decoration-color: #008080; font-weight: bold\">3.31346154</span><span style=\"font-weight: bold\">]</span>\n",
                            " <span style=\"font-weight: bold\">[</span><span style=\"color: #008080; text-decoration-color: #008080; font-weight: bold\">6.01428571</span> <span style=\"color: #008080; text-decoration-color: #008080; font-weight: bold\">2.88095238</span><span style=\"font-weight: bold\">]]</span>.\n",
                            "</pre>\n"
                        ],
                        "text/plain": [
                            "The centroids are\n",
                            "\u001b[1m[\u001b[0m\u001b[1m[\u001b[0m\u001b[1;36m7.06153846\u001b[0m \u001b[1;36m3.08461538\u001b[0m\u001b[1m]\u001b[0m\n",
                            " \u001b[1m[\u001b[0m\u001b[1;36m4.99423077\u001b[0m \u001b[1;36m3.31346154\u001b[0m\u001b[1m]\u001b[0m\n",
                            " \u001b[1m[\u001b[0m\u001b[1;36m6.01428571\u001b[0m \u001b[1;36m2.88095238\u001b[0m\u001b[1m]\u001b[0m\u001b[1m]\u001b[0m.\n"
                        ]
                    },
                    "metadata": {},
                    "output_type": "display_data"
                },
                {
                    "data": {
                        "text/html": [
                            "<pre style=\"white-space:pre;overflow-x:auto;line-height:normal;font-family:Menlo,'DejaVu Sans Mono',consolas,'Courier New',monospace\">The labels predicted are <span style=\"font-weight: bold\">[</span><span style=\"color: #008080; text-decoration-color: #008080; font-weight: bold\">2</span> <span style=\"color: #008080; text-decoration-color: #008080; font-weight: bold\">1</span> <span style=\"color: #008080; text-decoration-color: #008080; font-weight: bold\">0</span> <span style=\"color: #008080; text-decoration-color: #008080; font-weight: bold\">1</span> <span style=\"color: #008080; text-decoration-color: #008080; font-weight: bold\">2</span> <span style=\"color: #008080; text-decoration-color: #008080; font-weight: bold\">2</span> <span style=\"color: #008080; text-decoration-color: #008080; font-weight: bold\">2</span> <span style=\"color: #008080; text-decoration-color: #008080; font-weight: bold\">2</span> <span style=\"color: #008080; text-decoration-color: #008080; font-weight: bold\">1</span> <span style=\"color: #008080; text-decoration-color: #008080; font-weight: bold\">0</span> <span style=\"color: #008080; text-decoration-color: #008080; font-weight: bold\">1</span> <span style=\"color: #008080; text-decoration-color: #008080; font-weight: bold\">1</span> <span style=\"color: #008080; text-decoration-color: #008080; font-weight: bold\">1</span> <span style=\"color: #008080; text-decoration-color: #008080; font-weight: bold\">1</span> <span style=\"color: #008080; text-decoration-color: #008080; font-weight: bold\">0</span> <span style=\"color: #008080; text-decoration-color: #008080; font-weight: bold\">1</span> <span style=\"color: #008080; text-decoration-color: #008080; font-weight: bold\">0</span> <span style=\"color: #008080; text-decoration-color: #008080; font-weight: bold\">1</span> <span style=\"color: #008080; text-decoration-color: #008080; font-weight: bold\">1</span> <span style=\"color: #008080; text-decoration-color: #008080; font-weight: bold\">1</span> <span style=\"color: #008080; text-decoration-color: #008080; font-weight: bold\">0</span> <span style=\"color: #008080; text-decoration-color: #008080; font-weight: bold\">2</span> <span style=\"color: #008080; text-decoration-color: #008080; font-weight: bold\">1</span> <span style=\"color: #008080; text-decoration-color: #008080; font-weight: bold\">2</span> <span style=\"color: #008080; text-decoration-color: #008080; font-weight: bold\">0</span> <span style=\"color: #008080; text-decoration-color: #008080; font-weight: bold\">2</span> <span style=\"color: #008080; text-decoration-color: #008080; font-weight: bold\">1</span> <span style=\"color: #008080; text-decoration-color: #008080; font-weight: bold\">1</span> <span style=\"color: #008080; text-decoration-color: #008080; font-weight: bold\">1</span> <span style=\"color: #008080; text-decoration-color: #008080; font-weight: bold\">2</span> <span style=\"color: #008080; text-decoration-color: #008080; font-weight: bold\">1</span> <span style=\"color: #008080; text-decoration-color: #008080; font-weight: bold\">1</span> <span style=\"color: #008080; text-decoration-color: #008080; font-weight: bold\">2</span> <span style=\"color: #008080; text-decoration-color: #008080; font-weight: bold\">1</span> <span style=\"color: #008080; text-decoration-color: #008080; font-weight: bold\">1</span> <span style=\"color: #008080; text-decoration-color: #008080; font-weight: bold\">2</span> <span style=\"color: #008080; text-decoration-color: #008080; font-weight: bold\">0</span>\n",
                            " <span style=\"color: #008080; text-decoration-color: #008080; font-weight: bold\">0</span> <span style=\"color: #008080; text-decoration-color: #008080; font-weight: bold\">2</span> <span style=\"color: #008080; text-decoration-color: #008080; font-weight: bold\">2</span> <span style=\"color: #008080; text-decoration-color: #008080; font-weight: bold\">2</span> <span style=\"color: #008080; text-decoration-color: #008080; font-weight: bold\">0</span> <span style=\"color: #008080; text-decoration-color: #008080; font-weight: bold\">0</span> <span style=\"color: #008080; text-decoration-color: #008080; font-weight: bold\">2</span> <span style=\"color: #008080; text-decoration-color: #008080; font-weight: bold\">0</span> <span style=\"color: #008080; text-decoration-color: #008080; font-weight: bold\">2</span> <span style=\"color: #008080; text-decoration-color: #008080; font-weight: bold\">1</span> <span style=\"color: #008080; text-decoration-color: #008080; font-weight: bold\">2</span> <span style=\"color: #008080; text-decoration-color: #008080; font-weight: bold\">0</span> <span style=\"color: #008080; text-decoration-color: #008080; font-weight: bold\">0</span> <span style=\"color: #008080; text-decoration-color: #008080; font-weight: bold\">1</span> <span style=\"color: #008080; text-decoration-color: #008080; font-weight: bold\">1</span> <span style=\"color: #008080; text-decoration-color: #008080; font-weight: bold\">2</span> <span style=\"color: #008080; text-decoration-color: #008080; font-weight: bold\">1</span> <span style=\"color: #008080; text-decoration-color: #008080; font-weight: bold\">2</span> <span style=\"color: #008080; text-decoration-color: #008080; font-weight: bold\">2</span> <span style=\"color: #008080; text-decoration-color: #008080; font-weight: bold\">2</span> <span style=\"color: #008080; text-decoration-color: #008080; font-weight: bold\">1</span> <span style=\"color: #008080; text-decoration-color: #008080; font-weight: bold\">1</span> <span style=\"color: #008080; text-decoration-color: #008080; font-weight: bold\">2</span> <span style=\"color: #008080; text-decoration-color: #008080; font-weight: bold\">1</span> <span style=\"color: #008080; text-decoration-color: #008080; font-weight: bold\">2</span> <span style=\"color: #008080; text-decoration-color: #008080; font-weight: bold\">0</span> <span style=\"color: #008080; text-decoration-color: #008080; font-weight: bold\">1</span> <span style=\"color: #008080; text-decoration-color: #008080; font-weight: bold\">1</span> <span style=\"color: #008080; text-decoration-color: #008080; font-weight: bold\">1</span> <span style=\"color: #008080; text-decoration-color: #008080; font-weight: bold\">1</span> <span style=\"color: #008080; text-decoration-color: #008080; font-weight: bold\">1</span> <span style=\"color: #008080; text-decoration-color: #008080; font-weight: bold\">2</span> <span style=\"color: #008080; text-decoration-color: #008080; font-weight: bold\">1</span> <span style=\"color: #008080; text-decoration-color: #008080; font-weight: bold\">0</span> <span style=\"color: #008080; text-decoration-color: #008080; font-weight: bold\">2</span> <span style=\"color: #008080; text-decoration-color: #008080; font-weight: bold\">1</span> <span style=\"color: #008080; text-decoration-color: #008080; font-weight: bold\">1</span>\n",
                            " <span style=\"color: #008080; text-decoration-color: #008080; font-weight: bold\">0</span> <span style=\"color: #008080; text-decoration-color: #008080; font-weight: bold\">1</span> <span style=\"color: #008080; text-decoration-color: #008080; font-weight: bold\">0</span> <span style=\"color: #008080; text-decoration-color: #008080; font-weight: bold\">2</span> <span style=\"color: #008080; text-decoration-color: #008080; font-weight: bold\">2</span> <span style=\"color: #008080; text-decoration-color: #008080; font-weight: bold\">2</span> <span style=\"color: #008080; text-decoration-color: #008080; font-weight: bold\">0</span> <span style=\"color: #008080; text-decoration-color: #008080; font-weight: bold\">2</span> <span style=\"color: #008080; text-decoration-color: #008080; font-weight: bold\">1</span> <span style=\"color: #008080; text-decoration-color: #008080; font-weight: bold\">1</span> <span style=\"color: #008080; text-decoration-color: #008080; font-weight: bold\">2</span> <span style=\"color: #008080; text-decoration-color: #008080; font-weight: bold\">1</span> <span style=\"color: #008080; text-decoration-color: #008080; font-weight: bold\">0</span> <span style=\"color: #008080; text-decoration-color: #008080; font-weight: bold\">0</span> <span style=\"color: #008080; text-decoration-color: #008080; font-weight: bold\">1</span> <span style=\"color: #008080; text-decoration-color: #008080; font-weight: bold\">2</span> <span style=\"color: #008080; text-decoration-color: #008080; font-weight: bold\">0</span> <span style=\"color: #008080; text-decoration-color: #008080; font-weight: bold\">2</span> <span style=\"color: #008080; text-decoration-color: #008080; font-weight: bold\">1</span> <span style=\"color: #008080; text-decoration-color: #008080; font-weight: bold\">2</span> <span style=\"color: #008080; text-decoration-color: #008080; font-weight: bold\">1</span> <span style=\"color: #008080; text-decoration-color: #008080; font-weight: bold\">0</span> <span style=\"color: #008080; text-decoration-color: #008080; font-weight: bold\">2</span> <span style=\"color: #008080; text-decoration-color: #008080; font-weight: bold\">2</span> <span style=\"color: #008080; text-decoration-color: #008080; font-weight: bold\">2</span> <span style=\"color: #008080; text-decoration-color: #008080; font-weight: bold\">1</span> <span style=\"color: #008080; text-decoration-color: #008080; font-weight: bold\">1</span> <span style=\"color: #008080; text-decoration-color: #008080; font-weight: bold\">0</span> <span style=\"color: #008080; text-decoration-color: #008080; font-weight: bold\">1</span> <span style=\"color: #008080; text-decoration-color: #008080; font-weight: bold\">1</span> <span style=\"color: #008080; text-decoration-color: #008080; font-weight: bold\">2</span> <span style=\"color: #008080; text-decoration-color: #008080; font-weight: bold\">1</span> <span style=\"color: #008080; text-decoration-color: #008080; font-weight: bold\">2</span> <span style=\"color: #008080; text-decoration-color: #008080; font-weight: bold\">2</span> <span style=\"color: #008080; text-decoration-color: #008080; font-weight: bold\">2</span> <span style=\"color: #008080; text-decoration-color: #008080; font-weight: bold\">0</span> <span style=\"color: #008080; text-decoration-color: #008080; font-weight: bold\">1</span>\n",
                            " <span style=\"color: #008080; text-decoration-color: #008080; font-weight: bold\">1</span> <span style=\"color: #008080; text-decoration-color: #008080; font-weight: bold\">2</span> <span style=\"color: #008080; text-decoration-color: #008080; font-weight: bold\">1</span> <span style=\"color: #008080; text-decoration-color: #008080; font-weight: bold\">0</span> <span style=\"color: #008080; text-decoration-color: #008080; font-weight: bold\">2</span> <span style=\"color: #008080; text-decoration-color: #008080; font-weight: bold\">1</span> <span style=\"color: #008080; text-decoration-color: #008080; font-weight: bold\">0</span> <span style=\"color: #008080; text-decoration-color: #008080; font-weight: bold\">1</span> <span style=\"color: #008080; text-decoration-color: #008080; font-weight: bold\">1</span><span style=\"font-weight: bold\">]</span>.\n",
                            "</pre>\n"
                        ],
                        "text/plain": [
                            "The labels predicted are \u001b[1m[\u001b[0m\u001b[1;36m2\u001b[0m \u001b[1;36m1\u001b[0m \u001b[1;36m0\u001b[0m \u001b[1;36m1\u001b[0m \u001b[1;36m2\u001b[0m \u001b[1;36m2\u001b[0m \u001b[1;36m2\u001b[0m \u001b[1;36m2\u001b[0m \u001b[1;36m1\u001b[0m \u001b[1;36m0\u001b[0m \u001b[1;36m1\u001b[0m \u001b[1;36m1\u001b[0m \u001b[1;36m1\u001b[0m \u001b[1;36m1\u001b[0m \u001b[1;36m0\u001b[0m \u001b[1;36m1\u001b[0m \u001b[1;36m0\u001b[0m \u001b[1;36m1\u001b[0m \u001b[1;36m1\u001b[0m \u001b[1;36m1\u001b[0m \u001b[1;36m0\u001b[0m \u001b[1;36m2\u001b[0m \u001b[1;36m1\u001b[0m \u001b[1;36m2\u001b[0m \u001b[1;36m0\u001b[0m \u001b[1;36m2\u001b[0m \u001b[1;36m1\u001b[0m \u001b[1;36m1\u001b[0m \u001b[1;36m1\u001b[0m \u001b[1;36m2\u001b[0m \u001b[1;36m1\u001b[0m \u001b[1;36m1\u001b[0m \u001b[1;36m2\u001b[0m \u001b[1;36m1\u001b[0m \u001b[1;36m1\u001b[0m \u001b[1;36m2\u001b[0m \u001b[1;36m0\u001b[0m\n",
                            " \u001b[1;36m0\u001b[0m \u001b[1;36m2\u001b[0m \u001b[1;36m2\u001b[0m \u001b[1;36m2\u001b[0m \u001b[1;36m0\u001b[0m \u001b[1;36m0\u001b[0m \u001b[1;36m2\u001b[0m \u001b[1;36m0\u001b[0m \u001b[1;36m2\u001b[0m \u001b[1;36m1\u001b[0m \u001b[1;36m2\u001b[0m \u001b[1;36m0\u001b[0m \u001b[1;36m0\u001b[0m \u001b[1;36m1\u001b[0m \u001b[1;36m1\u001b[0m \u001b[1;36m2\u001b[0m \u001b[1;36m1\u001b[0m \u001b[1;36m2\u001b[0m \u001b[1;36m2\u001b[0m \u001b[1;36m2\u001b[0m \u001b[1;36m1\u001b[0m \u001b[1;36m1\u001b[0m \u001b[1;36m2\u001b[0m \u001b[1;36m1\u001b[0m \u001b[1;36m2\u001b[0m \u001b[1;36m0\u001b[0m \u001b[1;36m1\u001b[0m \u001b[1;36m1\u001b[0m \u001b[1;36m1\u001b[0m \u001b[1;36m1\u001b[0m \u001b[1;36m1\u001b[0m \u001b[1;36m2\u001b[0m \u001b[1;36m1\u001b[0m \u001b[1;36m0\u001b[0m \u001b[1;36m2\u001b[0m \u001b[1;36m1\u001b[0m \u001b[1;36m1\u001b[0m\n",
                            " \u001b[1;36m0\u001b[0m \u001b[1;36m1\u001b[0m \u001b[1;36m0\u001b[0m \u001b[1;36m2\u001b[0m \u001b[1;36m2\u001b[0m \u001b[1;36m2\u001b[0m \u001b[1;36m0\u001b[0m \u001b[1;36m2\u001b[0m \u001b[1;36m1\u001b[0m \u001b[1;36m1\u001b[0m \u001b[1;36m2\u001b[0m \u001b[1;36m1\u001b[0m \u001b[1;36m0\u001b[0m \u001b[1;36m0\u001b[0m \u001b[1;36m1\u001b[0m \u001b[1;36m2\u001b[0m \u001b[1;36m0\u001b[0m \u001b[1;36m2\u001b[0m \u001b[1;36m1\u001b[0m \u001b[1;36m2\u001b[0m \u001b[1;36m1\u001b[0m \u001b[1;36m0\u001b[0m \u001b[1;36m2\u001b[0m \u001b[1;36m2\u001b[0m \u001b[1;36m2\u001b[0m \u001b[1;36m1\u001b[0m \u001b[1;36m1\u001b[0m \u001b[1;36m0\u001b[0m \u001b[1;36m1\u001b[0m \u001b[1;36m1\u001b[0m \u001b[1;36m2\u001b[0m \u001b[1;36m1\u001b[0m \u001b[1;36m2\u001b[0m \u001b[1;36m2\u001b[0m \u001b[1;36m2\u001b[0m \u001b[1;36m0\u001b[0m \u001b[1;36m1\u001b[0m\n",
                            " \u001b[1;36m1\u001b[0m \u001b[1;36m2\u001b[0m \u001b[1;36m1\u001b[0m \u001b[1;36m0\u001b[0m \u001b[1;36m2\u001b[0m \u001b[1;36m1\u001b[0m \u001b[1;36m0\u001b[0m \u001b[1;36m1\u001b[0m \u001b[1;36m1\u001b[0m\u001b[1m]\u001b[0m.\n"
                        ]
                    },
                    "metadata": {},
                    "output_type": "display_data"
                },
                {
                    "data": {
                        "text/html": [
                            "<pre style=\"white-space:pre;overflow-x:auto;line-height:normal;font-family:Menlo,'DejaVu Sans Mono',consolas,'Courier New',monospace\">The inertia is <span style=\"color: #008080; text-decoration-color: #008080; font-weight: bold\">29.54042124542125</span>.\n",
                            "</pre>\n"
                        ],
                        "text/plain": [
                            "The inertia is \u001b[1;36m29.54042124542125\u001b[0m.\n"
                        ]
                    },
                    "metadata": {},
                    "output_type": "display_data"
                }
            ],
            "source": [
                "print(f\"There are {kmeans.num_clusters} clusters.\")\n",
                "print(f\"The centroids are\\n{kmeans.centroids}.\")\n",
                "print(f\"The labels predicted are {kmeans.labels}.\")\n",
                "print(f\"The inertia is {kmeans.inertia}.\")"
            ]
        },
        {
            "cell_type": "code",
            "execution_count": 14,
            "metadata": {},
            "outputs": [
                {
                    "data": {
                        "text/html": [
                            "<div>\n",
                            "<style scoped>\n",
                            "    .dataframe tbody tr th:only-of-type {\n",
                            "        vertical-align: middle;\n",
                            "    }\n",
                            "\n",
                            "    .dataframe tbody tr th {\n",
                            "        vertical-align: top;\n",
                            "    }\n",
                            "\n",
                            "    .dataframe thead th {\n",
                            "        text-align: right;\n",
                            "    }\n",
                            "</style>\n",
                            "<table border=\"1\" class=\"dataframe\">\n",
                            "  <thead>\n",
                            "    <tr style=\"text-align: right;\">\n",
                            "      <th></th>\n",
                            "      <th>pred=0</th>\n",
                            "      <th>pred=1</th>\n",
                            "      <th>pred=2</th>\n",
                            "    </tr>\n",
                            "  </thead>\n",
                            "  <tbody>\n",
                            "    <tr>\n",
                            "      <th>true=0</th>\n",
                            "      <td>0</td>\n",
                            "      <td>4</td>\n",
                            "      <td>0</td>\n",
                            "    </tr>\n",
                            "    <tr>\n",
                            "      <th>true=1</th>\n",
                            "      <td>1</td>\n",
                            "      <td>0</td>\n",
                            "      <td>12</td>\n",
                            "    </tr>\n",
                            "    <tr>\n",
                            "      <th>true=2</th>\n",
                            "      <td>4</td>\n",
                            "      <td>1</td>\n",
                            "      <td>8</td>\n",
                            "    </tr>\n",
                            "  </tbody>\n",
                            "</table>\n",
                            "</div>"
                        ],
                        "text/plain": [
                            "        pred=0  pred=1  pred=2\n",
                            "true=0       0       4       0\n",
                            "true=1       1       0      12\n",
                            "true=2       4       1       8"
                        ]
                    },
                    "metadata": {},
                    "output_type": "display_data"
                },
                {
                    "data": {
                        "text/html": [
                            "<pre style=\"white-space:pre;overflow-x:auto;line-height:normal;font-family:Menlo,'DejaVu Sans Mono',consolas,'Courier New',monospace\">Purity score: <span style=\"color: #008080; text-decoration-color: #008080; font-weight: bold\">0.6667</span>\n",
                            "</pre>\n"
                        ],
                        "text/plain": [
                            "Purity score: \u001b[1;36m0.6667\u001b[0m\n"
                        ]
                    },
                    "metadata": {},
                    "output_type": "display_data"
                }
            ],
            "source": [
                "y_preds = kmeans.predict(X_test)\n",
                "display_contingency_and_purity(y_test, y_preds, per_cluster=False)"
            ]
        },
        {
            "attachments": {},
            "cell_type": "markdown",
            "metadata": {},
            "source": [
                "Let's visualize where the centroids are."
            ]
        },
        {
            "cell_type": "code",
            "execution_count": 15,
            "metadata": {},
            "outputs": [],
            "source": [
                "def plot_scatter(\n",
                "    ax: plt.Axes, x: np.ndarray, y: np.ndarray, **kwargs: Dict[str, Any]\n",
                ") -> PathCollection:\n",
                "    \"\"\"Plot scatter plot.\"\"\"\n",
                "    return ax.scatter(x, y, **kwargs)"
            ]
        },
        {
            "cell_type": "code",
            "execution_count": 16,
            "metadata": {},
            "outputs": [
                {
                    "data": {
                        "image/png": "[encoded data removed]",
                        "text/plain": [
                            "<Figure size 1000x600 with 1 Axes>"
                        ]
                    },
                    "metadata": {},
                    "output_type": "display_data"
                }
            ],
            "source": [
                "fig, ax = plt.subplots(figsize=(10, 6))\n",
                "\n",
                "labels = kmeans.labels\n",
                "\n",
                "# Note: X_train[y_train == 0] is NOT the same as X_train[labels == 0]\n",
                "cluster_1 = X_train[labels == 0]  # cluster 1\n",
                "cluster_2 = X_train[labels == 1]  # cluster 2\n",
                "cluster_3 = X_train[labels == 2]  # cluster 3\n",
                "\n",
                "scatter_1 = plot_scatter(\n",
                "    ax,\n",
                "    cluster_1[:, 0],\n",
                "    cluster_1[:, 1],\n",
                "    s=50,\n",
                "    c=\"lightgreen\",\n",
                "    marker=\"s\",\n",
                "    edgecolor=\"black\",\n",
                "    label=\"Cluster 1\",\n",
                ")\n",
                "scatter_2 = plot_scatter(\n",
                "    ax,\n",
                "    cluster_2[:, 0],\n",
                "    cluster_2[:, 1],\n",
                "    s=50,\n",
                "    c=\"orange\",\n",
                "    marker=\"o\",\n",
                "    edgecolor=\"black\",\n",
                "    label=\"Cluster 2\",\n",
                ")\n",
                "scatter_3 = plot_scatter(\n",
                "    ax,\n",
                "    cluster_3[:, 0],\n",
                "    cluster_3[:, 1],\n",
                "    s=50,\n",
                "    c=\"lightblue\",\n",
                "    marker=\"v\",\n",
                "    edgecolor=\"black\",\n",
                "    label=\"Cluster 3\",\n",
                ")\n",
                "\n",
                "centroids = kmeans.centroids\n",
                "\n",
                "plot_scatter(\n",
                "    ax,\n",
                "    centroids[:, 0],\n",
                "    centroids[:, 1],\n",
                "    s=250,\n",
                "    marker=\"*\",\n",
                "    c=\"red\",\n",
                "    edgecolor=\"black\",\n",
                "    label=\"Centroids\",\n",
                ")\n",
                "\n",
                "plt.legend(handles=[scatter_1, scatter_2, scatter_3])\n",
                "plt.grid()\n",
                "plt.tight_layout()\n",
                "plt.show()"
            ]
        },
        {
            "cell_type": "code",
            "execution_count": 17,
            "metadata": {},
            "outputs": [
                {
                    "data": {
                        "text/html": [
                            "<style>#sk-container-id-2 {color: black;background-color: white;}#sk-container-id-2 pre{padding: 0;}#sk-container-id-2 div.sk-toggleable {background-color: white;}#sk-container-id-2 label.sk-toggleable__label {cursor: pointer;display: block;width: 100%;margin-bottom: 0;padding: 0.3em;box-sizing: border-box;text-align: center;}#sk-container-id-2 label.sk-toggleable__label-arrow:before {content: \"▸\";float: left;margin-right: 0.25em;color: #696969;}#sk-container-id-2 label.sk-toggleable__label-arrow:hover:before {color: black;}#sk-container-id-2 div.sk-estimator:hover label.sk-toggleable__label-arrow:before {color: black;}#sk-container-id-2 div.sk-toggleable__content {max-height: 0;max-width: 0;overflow: hidden;text-align: left;background-color: #f0f8ff;}#sk-container-id-2 div.sk-toggleable__content pre {margin: 0.2em;color: black;border-radius: 0.25em;background-color: #f0f8ff;}#sk-container-id-2 input.sk-toggleable__control:checked~div.sk-toggleable__content {max-height: 200px;max-width: 100%;overflow: auto;}#sk-container-id-2 input.sk-toggleable__control:checked~label.sk-toggleable__label-arrow:before {content: \"▾\";}#sk-container-id-2 div.sk-estimator input.sk-toggleable__control:checked~label.sk-toggleable__label {background-color: #d4ebff;}#sk-container-id-2 div.sk-label input.sk-toggleable__control:checked~label.sk-toggleable__label {background-color: #d4ebff;}#sk-container-id-2 input.sk-hidden--visually {border: 0;clip: rect(1px 1px 1px 1px);clip: rect(1px, 1px, 1px, 1px);height: 1px;margin: -1px;overflow: hidden;padding: 0;position: absolute;width: 1px;}#sk-container-id-2 div.sk-estimator {font-family: monospace;background-color: #f0f8ff;border: 1px dotted black;border-radius: 0.25em;box-sizing: border-box;margin-bottom: 0.5em;}#sk-container-id-2 div.sk-estimator:hover {background-color: #d4ebff;}#sk-container-id-2 div.sk-parallel-item::after {content: \"\";width: 100%;border-bottom: 1px solid gray;flex-grow: 1;}#sk-container-id-2 div.sk-label:hover label.sk-toggleable__label {background-color: #d4ebff;}#sk-container-id-2 div.sk-serial::before {content: \"\";position: absolute;border-left: 1px solid gray;box-sizing: border-box;top: 0;bottom: 0;left: 50%;z-index: 0;}#sk-container-id-2 div.sk-serial {display: flex;flex-direction: column;align-items: center;background-color: white;padding-right: 0.2em;padding-left: 0.2em;position: relative;}#sk-container-id-2 div.sk-item {position: relative;z-index: 1;}#sk-container-id-2 div.sk-parallel {display: flex;align-items: stretch;justify-content: center;background-color: white;position: relative;}#sk-container-id-2 div.sk-item::before, #sk-container-id-2 div.sk-parallel-item::before {content: \"\";position: absolute;border-left: 1px solid gray;box-sizing: border-box;top: 0;bottom: 0;left: 50%;z-index: -1;}#sk-container-id-2 div.sk-parallel-item {display: flex;flex-direction: column;z-index: 1;position: relative;background-color: white;}#sk-container-id-2 div.sk-parallel-item:first-child::after {align-self: flex-end;width: 50%;}#sk-container-id-2 div.sk-parallel-item:last-child::after {align-self: flex-start;width: 50%;}#sk-container-id-2 div.sk-parallel-item:only-child::after {width: 0;}#sk-container-id-2 div.sk-dashed-wrapped {border: 1px dashed gray;margin: 0 0.4em 0.5em 0.4em;box-sizing: border-box;padding-bottom: 0.4em;background-color: white;}#sk-container-id-2 div.sk-label label {font-family: monospace;font-weight: bold;display: inline-block;line-height: 1.2em;}#sk-container-id-2 div.sk-label-container {text-align: center;}#sk-container-id-2 div.sk-container {/* jupyter's `normalize.less` sets `[hidden] { display: none; }` but bootstrap.min.css set `[hidden] { display: none !important; }` so we also need the `!important` here to be able to override the default hidden behavior on the sphinx rendered scikit-learn.org. See: https://github.com/scikit-learn/scikit-learn/issues/21755 */display: inline-block !important;position: relative;}#sk-container-id-2 div.sk-text-repr-fallback {display: none;}</style><div id=\"sk-container-id-2\" class=\"sk-top-container\"><div class=\"sk-text-repr-fallback\"><pre>KMeans(init=&#x27;random&#x27;, max_iter=1000, n_clusters=3, n_init=1, random_state=2023)</pre><b>In a Jupyter environment, please rerun this cell to show the HTML representation or trust the notebook. <br />On GitHub, the HTML representation is unable to render, please try loading this page with nbviewer.org.</b></div><div class=\"sk-container\" hidden><div class=\"sk-item\"><div class=\"sk-estimator sk-toggleable\"><input class=\"sk-toggleable__control sk-hidden--visually\" id=\"sk-estimator-id-2\" type=\"checkbox\" checked><label for=\"sk-estimator-id-2\" class=\"sk-toggleable__label sk-toggleable__label-arrow\">KMeans</label><div class=\"sk-toggleable__content\"><pre>KMeans(init=&#x27;random&#x27;, max_iter=1000, n_clusters=3, n_init=1, random_state=2023)</pre></div></div></div></div></div>"
                        ],
                        "text/plain": [
                            "KMeans(init='random', max_iter=1000, n_clusters=3, n_init=1, random_state=2023)"
                        ]
                    },
                    "execution_count": 17,
                    "metadata": {},
                    "output_type": "execute_result"
                }
            ],
            "source": [
                "sk_kmeans = KMeans(\n",
                "    n_clusters=3,\n",
                "    random_state=2023,\n",
                "    n_init=1,\n",
                "    algorithm=\"lloyd\",\n",
                "    max_iter=1000,\n",
                "    init=\"random\",\n",
                ")\n",
                "sk_kmeans.fit(X_train)"
            ]
        },
        {
            "cell_type": "code",
            "execution_count": 18,
            "metadata": {},
            "outputs": [
                {
                    "data": {
                        "text/html": [
                            "<pre style=\"white-space:pre;overflow-x:auto;line-height:normal;font-family:Menlo,'DejaVu Sans Mono',consolas,'Courier New',monospace\">The labels predicted are <span style=\"font-weight: bold\">[</span><span style=\"color: #008080; text-decoration-color: #008080; font-weight: bold\">1</span> <span style=\"color: #008080; text-decoration-color: #008080; font-weight: bold\">0</span> <span style=\"color: #008080; text-decoration-color: #008080; font-weight: bold\">2</span> <span style=\"color: #008080; text-decoration-color: #008080; font-weight: bold\">0</span> <span style=\"color: #008080; text-decoration-color: #008080; font-weight: bold\">1</span> <span style=\"color: #008080; text-decoration-color: #008080; font-weight: bold\">2</span> <span style=\"color: #008080; text-decoration-color: #008080; font-weight: bold\">2</span> <span style=\"color: #008080; text-decoration-color: #008080; font-weight: bold\">1</span> <span style=\"color: #008080; text-decoration-color: #008080; font-weight: bold\">0</span> <span style=\"color: #008080; text-decoration-color: #008080; font-weight: bold\">2</span> <span style=\"color: #008080; text-decoration-color: #008080; font-weight: bold\">0</span> <span style=\"color: #008080; text-decoration-color: #008080; font-weight: bold\">0</span> <span style=\"color: #008080; text-decoration-color: #008080; font-weight: bold\">0</span> <span style=\"color: #008080; text-decoration-color: #008080; font-weight: bold\">1</span> <span style=\"color: #008080; text-decoration-color: #008080; font-weight: bold\">2</span> <span style=\"color: #008080; text-decoration-color: #008080; font-weight: bold\">0</span> <span style=\"color: #008080; text-decoration-color: #008080; font-weight: bold\">2</span> <span style=\"color: #008080; text-decoration-color: #008080; font-weight: bold\">0</span> <span style=\"color: #008080; text-decoration-color: #008080; font-weight: bold\">0</span> <span style=\"color: #008080; text-decoration-color: #008080; font-weight: bold\">1</span> <span style=\"color: #008080; text-decoration-color: #008080; font-weight: bold\">2</span> <span style=\"color: #008080; text-decoration-color: #008080; font-weight: bold\">1</span> <span style=\"color: #008080; text-decoration-color: #008080; font-weight: bold\">0</span> <span style=\"color: #008080; text-decoration-color: #008080; font-weight: bold\">1</span> <span style=\"color: #008080; text-decoration-color: #008080; font-weight: bold\">2</span> <span style=\"color: #008080; text-decoration-color: #008080; font-weight: bold\">1</span> <span style=\"color: #008080; text-decoration-color: #008080; font-weight: bold\">1</span> <span style=\"color: #008080; text-decoration-color: #008080; font-weight: bold\">0</span> <span style=\"color: #008080; text-decoration-color: #008080; font-weight: bold\">0</span> <span style=\"color: #008080; text-decoration-color: #008080; font-weight: bold\">2</span> <span style=\"color: #008080; text-decoration-color: #008080; font-weight: bold\">0</span> <span style=\"color: #008080; text-decoration-color: #008080; font-weight: bold\">0</span> <span style=\"color: #008080; text-decoration-color: #008080; font-weight: bold\">2</span> <span style=\"color: #008080; text-decoration-color: #008080; font-weight: bold\">0</span> <span style=\"color: #008080; text-decoration-color: #008080; font-weight: bold\">0</span> <span style=\"color: #008080; text-decoration-color: #008080; font-weight: bold\">1</span> <span style=\"color: #008080; text-decoration-color: #008080; font-weight: bold\">2</span>\n",
                            " <span style=\"color: #008080; text-decoration-color: #008080; font-weight: bold\">2</span> <span style=\"color: #008080; text-decoration-color: #008080; font-weight: bold\">1</span> <span style=\"color: #008080; text-decoration-color: #008080; font-weight: bold\">1</span> <span style=\"color: #008080; text-decoration-color: #008080; font-weight: bold\">1</span> <span style=\"color: #008080; text-decoration-color: #008080; font-weight: bold\">2</span> <span style=\"color: #008080; text-decoration-color: #008080; font-weight: bold\">2</span> <span style=\"color: #008080; text-decoration-color: #008080; font-weight: bold\">1</span> <span style=\"color: #008080; text-decoration-color: #008080; font-weight: bold\">2</span> <span style=\"color: #008080; text-decoration-color: #008080; font-weight: bold\">1</span> <span style=\"color: #008080; text-decoration-color: #008080; font-weight: bold\">0</span> <span style=\"color: #008080; text-decoration-color: #008080; font-weight: bold\">1</span> <span style=\"color: #008080; text-decoration-color: #008080; font-weight: bold\">2</span> <span style=\"color: #008080; text-decoration-color: #008080; font-weight: bold\">2</span> <span style=\"color: #008080; text-decoration-color: #008080; font-weight: bold\">0</span> <span style=\"color: #008080; text-decoration-color: #008080; font-weight: bold\">0</span> <span style=\"color: #008080; text-decoration-color: #008080; font-weight: bold\">1</span> <span style=\"color: #008080; text-decoration-color: #008080; font-weight: bold\">0</span> <span style=\"color: #008080; text-decoration-color: #008080; font-weight: bold\">1</span> <span style=\"color: #008080; text-decoration-color: #008080; font-weight: bold\">1</span> <span style=\"color: #008080; text-decoration-color: #008080; font-weight: bold\">1</span> <span style=\"color: #008080; text-decoration-color: #008080; font-weight: bold\">0</span> <span style=\"color: #008080; text-decoration-color: #008080; font-weight: bold\">0</span> <span style=\"color: #008080; text-decoration-color: #008080; font-weight: bold\">1</span> <span style=\"color: #008080; text-decoration-color: #008080; font-weight: bold\">1</span> <span style=\"color: #008080; text-decoration-color: #008080; font-weight: bold\">1</span> <span style=\"color: #008080; text-decoration-color: #008080; font-weight: bold\">2</span> <span style=\"color: #008080; text-decoration-color: #008080; font-weight: bold\">0</span> <span style=\"color: #008080; text-decoration-color: #008080; font-weight: bold\">0</span> <span style=\"color: #008080; text-decoration-color: #008080; font-weight: bold\">0</span> <span style=\"color: #008080; text-decoration-color: #008080; font-weight: bold\">0</span> <span style=\"color: #008080; text-decoration-color: #008080; font-weight: bold\">0</span> <span style=\"color: #008080; text-decoration-color: #008080; font-weight: bold\">1</span> <span style=\"color: #008080; text-decoration-color: #008080; font-weight: bold\">0</span> <span style=\"color: #008080; text-decoration-color: #008080; font-weight: bold\">2</span> <span style=\"color: #008080; text-decoration-color: #008080; font-weight: bold\">1</span> <span style=\"color: #008080; text-decoration-color: #008080; font-weight: bold\">0</span> <span style=\"color: #008080; text-decoration-color: #008080; font-weight: bold\">0</span>\n",
                            " <span style=\"color: #008080; text-decoration-color: #008080; font-weight: bold\">2</span> <span style=\"color: #008080; text-decoration-color: #008080; font-weight: bold\">1</span> <span style=\"color: #008080; text-decoration-color: #008080; font-weight: bold\">2</span> <span style=\"color: #008080; text-decoration-color: #008080; font-weight: bold\">1</span> <span style=\"color: #008080; text-decoration-color: #008080; font-weight: bold\">2</span> <span style=\"color: #008080; text-decoration-color: #008080; font-weight: bold\">2</span> <span style=\"color: #008080; text-decoration-color: #008080; font-weight: bold\">2</span> <span style=\"color: #008080; text-decoration-color: #008080; font-weight: bold\">1</span> <span style=\"color: #008080; text-decoration-color: #008080; font-weight: bold\">0</span> <span style=\"color: #008080; text-decoration-color: #008080; font-weight: bold\">0</span> <span style=\"color: #008080; text-decoration-color: #008080; font-weight: bold\">1</span> <span style=\"color: #008080; text-decoration-color: #008080; font-weight: bold\">0</span> <span style=\"color: #008080; text-decoration-color: #008080; font-weight: bold\">2</span> <span style=\"color: #008080; text-decoration-color: #008080; font-weight: bold\">2</span> <span style=\"color: #008080; text-decoration-color: #008080; font-weight: bold\">0</span> <span style=\"color: #008080; text-decoration-color: #008080; font-weight: bold\">2</span> <span style=\"color: #008080; text-decoration-color: #008080; font-weight: bold\">2</span> <span style=\"color: #008080; text-decoration-color: #008080; font-weight: bold\">1</span> <span style=\"color: #008080; text-decoration-color: #008080; font-weight: bold\">0</span> <span style=\"color: #008080; text-decoration-color: #008080; font-weight: bold\">2</span> <span style=\"color: #008080; text-decoration-color: #008080; font-weight: bold\">1</span> <span style=\"color: #008080; text-decoration-color: #008080; font-weight: bold\">2</span> <span style=\"color: #008080; text-decoration-color: #008080; font-weight: bold\">1</span> <span style=\"color: #008080; text-decoration-color: #008080; font-weight: bold\">1</span> <span style=\"color: #008080; text-decoration-color: #008080; font-weight: bold\">1</span> <span style=\"color: #008080; text-decoration-color: #008080; font-weight: bold\">0</span> <span style=\"color: #008080; text-decoration-color: #008080; font-weight: bold\">0</span> <span style=\"color: #008080; text-decoration-color: #008080; font-weight: bold\">2</span> <span style=\"color: #008080; text-decoration-color: #008080; font-weight: bold\">0</span> <span style=\"color: #008080; text-decoration-color: #008080; font-weight: bold\">0</span> <span style=\"color: #008080; text-decoration-color: #008080; font-weight: bold\">1</span> <span style=\"color: #008080; text-decoration-color: #008080; font-weight: bold\">0</span> <span style=\"color: #008080; text-decoration-color: #008080; font-weight: bold\">1</span> <span style=\"color: #008080; text-decoration-color: #008080; font-weight: bold\">1</span> <span style=\"color: #008080; text-decoration-color: #008080; font-weight: bold\">1</span> <span style=\"color: #008080; text-decoration-color: #008080; font-weight: bold\">2</span> <span style=\"color: #008080; text-decoration-color: #008080; font-weight: bold\">0</span>\n",
                            " <span style=\"color: #008080; text-decoration-color: #008080; font-weight: bold\">0</span> <span style=\"color: #008080; text-decoration-color: #008080; font-weight: bold\">2</span> <span style=\"color: #008080; text-decoration-color: #008080; font-weight: bold\">0</span> <span style=\"color: #008080; text-decoration-color: #008080; font-weight: bold\">2</span> <span style=\"color: #008080; text-decoration-color: #008080; font-weight: bold\">2</span> <span style=\"color: #008080; text-decoration-color: #008080; font-weight: bold\">0</span> <span style=\"color: #008080; text-decoration-color: #008080; font-weight: bold\">2</span> <span style=\"color: #008080; text-decoration-color: #008080; font-weight: bold\">0</span> <span style=\"color: #008080; text-decoration-color: #008080; font-weight: bold\">0</span><span style=\"font-weight: bold\">]</span>.\n",
                            "</pre>\n"
                        ],
                        "text/plain": [
                            "The labels predicted are \u001b[1m[\u001b[0m\u001b[1;36m1\u001b[0m \u001b[1;36m0\u001b[0m \u001b[1;36m2\u001b[0m \u001b[1;36m0\u001b[0m \u001b[1;36m1\u001b[0m \u001b[1;36m2\u001b[0m \u001b[1;36m2\u001b[0m \u001b[1;36m1\u001b[0m \u001b[1;36m0\u001b[0m \u001b[1;36m2\u001b[0m \u001b[1;36m0\u001b[0m \u001b[1;36m0\u001b[0m \u001b[1;36m0\u001b[0m \u001b[1;36m1\u001b[0m \u001b[1;36m2\u001b[0m \u001b[1;36m0\u001b[0m \u001b[1;36m2\u001b[0m \u001b[1;36m0\u001b[0m \u001b[1;36m0\u001b[0m \u001b[1;36m1\u001b[0m \u001b[1;36m2\u001b[0m \u001b[1;36m1\u001b[0m \u001b[1;36m0\u001b[0m \u001b[1;36m1\u001b[0m \u001b[1;36m2\u001b[0m \u001b[1;36m1\u001b[0m \u001b[1;36m1\u001b[0m \u001b[1;36m0\u001b[0m \u001b[1;36m0\u001b[0m \u001b[1;36m2\u001b[0m \u001b[1;36m0\u001b[0m \u001b[1;36m0\u001b[0m \u001b[1;36m2\u001b[0m \u001b[1;36m0\u001b[0m \u001b[1;36m0\u001b[0m \u001b[1;36m1\u001b[0m \u001b[1;36m2\u001b[0m\n",
                            " \u001b[1;36m2\u001b[0m \u001b[1;36m1\u001b[0m \u001b[1;36m1\u001b[0m \u001b[1;36m1\u001b[0m \u001b[1;36m2\u001b[0m \u001b[1;36m2\u001b[0m \u001b[1;36m1\u001b[0m \u001b[1;36m2\u001b[0m \u001b[1;36m1\u001b[0m \u001b[1;36m0\u001b[0m \u001b[1;36m1\u001b[0m \u001b[1;36m2\u001b[0m \u001b[1;36m2\u001b[0m \u001b[1;36m0\u001b[0m \u001b[1;36m0\u001b[0m \u001b[1;36m1\u001b[0m \u001b[1;36m0\u001b[0m \u001b[1;36m1\u001b[0m \u001b[1;36m1\u001b[0m \u001b[1;36m1\u001b[0m \u001b[1;36m0\u001b[0m \u001b[1;36m0\u001b[0m \u001b[1;36m1\u001b[0m \u001b[1;36m1\u001b[0m \u001b[1;36m1\u001b[0m \u001b[1;36m2\u001b[0m \u001b[1;36m0\u001b[0m \u001b[1;36m0\u001b[0m \u001b[1;36m0\u001b[0m \u001b[1;36m0\u001b[0m \u001b[1;36m0\u001b[0m \u001b[1;36m1\u001b[0m \u001b[1;36m0\u001b[0m \u001b[1;36m2\u001b[0m \u001b[1;36m1\u001b[0m \u001b[1;36m0\u001b[0m \u001b[1;36m0\u001b[0m\n",
                            " \u001b[1;36m2\u001b[0m \u001b[1;36m1\u001b[0m \u001b[1;36m2\u001b[0m \u001b[1;36m1\u001b[0m \u001b[1;36m2\u001b[0m \u001b[1;36m2\u001b[0m \u001b[1;36m2\u001b[0m \u001b[1;36m1\u001b[0m \u001b[1;36m0\u001b[0m \u001b[1;36m0\u001b[0m \u001b[1;36m1\u001b[0m \u001b[1;36m0\u001b[0m \u001b[1;36m2\u001b[0m \u001b[1;36m2\u001b[0m \u001b[1;36m0\u001b[0m \u001b[1;36m2\u001b[0m \u001b[1;36m2\u001b[0m \u001b[1;36m1\u001b[0m \u001b[1;36m0\u001b[0m \u001b[1;36m2\u001b[0m \u001b[1;36m1\u001b[0m \u001b[1;36m2\u001b[0m \u001b[1;36m1\u001b[0m \u001b[1;36m1\u001b[0m \u001b[1;36m1\u001b[0m \u001b[1;36m0\u001b[0m \u001b[1;36m0\u001b[0m \u001b[1;36m2\u001b[0m \u001b[1;36m0\u001b[0m \u001b[1;36m0\u001b[0m \u001b[1;36m1\u001b[0m \u001b[1;36m0\u001b[0m \u001b[1;36m1\u001b[0m \u001b[1;36m1\u001b[0m \u001b[1;36m1\u001b[0m \u001b[1;36m2\u001b[0m \u001b[1;36m0\u001b[0m\n",
                            " \u001b[1;36m0\u001b[0m \u001b[1;36m2\u001b[0m \u001b[1;36m0\u001b[0m \u001b[1;36m2\u001b[0m \u001b[1;36m2\u001b[0m \u001b[1;36m0\u001b[0m \u001b[1;36m2\u001b[0m \u001b[1;36m0\u001b[0m \u001b[1;36m0\u001b[0m\u001b[1m]\u001b[0m.\n"
                        ]
                    },
                    "metadata": {},
                    "output_type": "display_data"
                },
                {
                    "data": {
                        "text/html": [
                            "<pre style=\"white-space:pre;overflow-x:auto;line-height:normal;font-family:Menlo,'DejaVu Sans Mono',consolas,'Courier New',monospace\">The inertia is <span style=\"color: #008080; text-decoration-color: #008080; font-weight: bold\">29.560184337655734</span>.\n",
                            "</pre>\n"
                        ],
                        "text/plain": [
                            "The inertia is \u001b[1;36m29.560184337655734\u001b[0m.\n"
                        ]
                    },
                    "metadata": {},
                    "output_type": "display_data"
                }
            ],
            "source": [
                "print(f\"The labels predicted are {sk_kmeans.labels_}.\")\n",
                "print(f\"The inertia is {sk_kmeans.inertia_}.\")"
            ]
        },
        {
            "cell_type": "code",
            "execution_count": 19,
            "metadata": {
                "tags": []
            },
            "outputs": [
                {
                    "data": {
                        "text/html": [
                            "<div>\n",
                            "<style scoped>\n",
                            "    .dataframe tbody tr th:only-of-type {\n",
                            "        vertical-align: middle;\n",
                            "    }\n",
                            "\n",
                            "    .dataframe tbody tr th {\n",
                            "        vertical-align: top;\n",
                            "    }\n",
                            "\n",
                            "    .dataframe thead th {\n",
                            "        text-align: right;\n",
                            "    }\n",
                            "</style>\n",
                            "<table border=\"1\" class=\"dataframe\">\n",
                            "  <thead>\n",
                            "    <tr style=\"text-align: right;\">\n",
                            "      <th></th>\n",
                            "      <th>pred=0</th>\n",
                            "      <th>pred=1</th>\n",
                            "      <th>pred=2</th>\n",
                            "    </tr>\n",
                            "  </thead>\n",
                            "  <tbody>\n",
                            "    <tr>\n",
                            "      <th>true=0</th>\n",
                            "      <td>4</td>\n",
                            "      <td>0</td>\n",
                            "      <td>0</td>\n",
                            "    </tr>\n",
                            "    <tr>\n",
                            "      <th>true=1</th>\n",
                            "      <td>0</td>\n",
                            "      <td>12</td>\n",
                            "      <td>1</td>\n",
                            "    </tr>\n",
                            "    <tr>\n",
                            "      <th>true=2</th>\n",
                            "      <td>0</td>\n",
                            "      <td>4</td>\n",
                            "      <td>9</td>\n",
                            "    </tr>\n",
                            "  </tbody>\n",
                            "</table>\n",
                            "</div>"
                        ],
                        "text/plain": [
                            "        pred=0  pred=1  pred=2\n",
                            "true=0       4       0       0\n",
                            "true=1       0      12       1\n",
                            "true=2       0       4       9"
                        ]
                    },
                    "metadata": {},
                    "output_type": "display_data"
                },
                {
                    "data": {
                        "text/html": [
                            "<pre style=\"white-space:pre;overflow-x:auto;line-height:normal;font-family:Menlo,'DejaVu Sans Mono',consolas,'Courier New',monospace\">Purity score: <span style=\"color: #008080; text-decoration-color: #008080; font-weight: bold\">0.8333</span>\n",
                            "</pre>\n"
                        ],
                        "text/plain": [
                            "Purity score: \u001b[1;36m0.8333\u001b[0m\n"
                        ]
                    },
                    "metadata": {},
                    "output_type": "display_data"
                }
            ],
            "source": [
                "y_preds = sk_kmeans.predict(X_test)\n",
                "display_contingency_and_purity(y_test, y_preds, per_cluster=False)"
            ]
        },
        {
            "attachments": {},
            "cell_type": "markdown",
            "metadata": {},
            "source": [
                "Let's try use elbow method. We fix the same seed but change the number of clusters in\n",
                "each run. For example, if I want to test 2, 3, 4, 5, 6, 7, 8, 9, 10 clusters, I will\n",
                "define `max_clusters = 10` and the code will loop through 2 to 10 clusters.\n",
                "\n",
                "Note that the code will auto start from 2 clusters and end at `max_clusters` clusters\n",
                "as it does not make sense to have 1 cluster."
            ]
        },
        {
            "cell_type": "code",
            "execution_count": 20,
            "metadata": {},
            "outputs": [],
            "source": [
                "def elbow_method(X: T, min_clusters: int = 1, max_clusters: int = 10) -> None:\n",
                "    \"\"\"Elbow method to find the optimal number of clusters.\n",
                "    The optimal number of clusters is where the elbow occurs.\n",
                "    The elbow is where the SSE starts to decrease in a linear fashion.\"\"\"\n",
                "    inertias = []\n",
                "    for k in range(min_clusters, max_clusters + 1):\n",
                "        print(f\"Running K-Means with {k} clusters\")\n",
                "        kmeans = KMeansLloyd(\n",
                "            num_clusters=k, init=\"random\", max_iter=500, random_state=1992\n",
                "        )\n",
                "        kmeans.fit(X)\n",
                "        inertias.append(kmeans.inertia)\n",
                "    plt.plot(range(min_clusters, max_clusters + 1), inertias, marker=\"o\")\n",
                "    plt.title(\"Elbow Method\")\n",
                "    plt.xlabel(\"Number of clusters\")\n",
                "    plt.ylabel(\"Intertia/Distortion/SSE\")\n",
                "    plt.tight_layout()\n",
                "    plt.show()"
            ]
        },
        {
            "cell_type": "code",
            "execution_count": 21,
            "metadata": {},
            "outputs": [
                {
                    "data": {
                        "text/html": [
                            "<pre style=\"white-space:pre;overflow-x:auto;line-height:normal;font-family:Menlo,'DejaVu Sans Mono',consolas,'Courier New',monospace\">Running K-Means with <span style=\"color: #008080; text-decoration-color: #008080; font-weight: bold\">1</span> clusters\n",
                            "</pre>\n"
                        ],
                        "text/plain": [
                            "Running K-Means with \u001b[1;36m1\u001b[0m clusters\n"
                        ]
                    },
                    "metadata": {},
                    "output_type": "display_data"
                },
                {
                    "data": {
                        "text/html": [
                            "<pre style=\"white-space:pre;overflow-x:auto;line-height:normal;font-family:Menlo,'DejaVu Sans Mono',consolas,'Courier New',monospace\">Using Seed Number <span style=\"color: #008080; text-decoration-color: #008080; font-weight: bold\">1992</span>\n",
                            "</pre>\n"
                        ],
                        "text/plain": [
                            "Using Seed Number \u001b[1;36m1992\u001b[0m\n"
                        ]
                    },
                    "metadata": {},
                    "output_type": "display_data"
                },
                {
                    "data": {
                        "text/html": [
                            "<pre style=\"white-space:pre;overflow-x:auto;line-height:normal;font-family:Menlo,'DejaVu Sans Mono',consolas,'Courier New',monospace\">Converged at iteration <span style=\"color: #008080; text-decoration-color: #008080; font-weight: bold\">1</span>\n",
                            "</pre>\n"
                        ],
                        "text/plain": [
                            "Converged at iteration \u001b[1;36m1\u001b[0m\n"
                        ]
                    },
                    "metadata": {},
                    "output_type": "display_data"
                },
                {
                    "data": {
                        "text/html": [
                            "<pre style=\"white-space:pre;overflow-x:auto;line-height:normal;font-family:Menlo,'DejaVu Sans Mono',consolas,'Courier New',monospace\">Running K-Means with <span style=\"color: #008080; text-decoration-color: #008080; font-weight: bold\">2</span> clusters\n",
                            "</pre>\n"
                        ],
                        "text/plain": [
                            "Running K-Means with \u001b[1;36m2\u001b[0m clusters\n"
                        ]
                    },
                    "metadata": {},
                    "output_type": "display_data"
                },
                {
                    "data": {
                        "text/html": [
                            "<pre style=\"white-space:pre;overflow-x:auto;line-height:normal;font-family:Menlo,'DejaVu Sans Mono',consolas,'Courier New',monospace\">Using Seed Number <span style=\"color: #008080; text-decoration-color: #008080; font-weight: bold\">1992</span>\n",
                            "</pre>\n"
                        ],
                        "text/plain": [
                            "Using Seed Number \u001b[1;36m1992\u001b[0m\n"
                        ]
                    },
                    "metadata": {},
                    "output_type": "display_data"
                },
                {
                    "data": {
                        "text/html": [
                            "<pre style=\"white-space:pre;overflow-x:auto;line-height:normal;font-family:Menlo,'DejaVu Sans Mono',consolas,'Courier New',monospace\">Converged at iteration <span style=\"color: #008080; text-decoration-color: #008080; font-weight: bold\">6</span>\n",
                            "</pre>\n"
                        ],
                        "text/plain": [
                            "Converged at iteration \u001b[1;36m6\u001b[0m\n"
                        ]
                    },
                    "metadata": {},
                    "output_type": "display_data"
                },
                {
                    "data": {
                        "text/html": [
                            "<pre style=\"white-space:pre;overflow-x:auto;line-height:normal;font-family:Menlo,'DejaVu Sans Mono',consolas,'Courier New',monospace\">Running K-Means with <span style=\"color: #008080; text-decoration-color: #008080; font-weight: bold\">3</span> clusters\n",
                            "</pre>\n"
                        ],
                        "text/plain": [
                            "Running K-Means with \u001b[1;36m3\u001b[0m clusters\n"
                        ]
                    },
                    "metadata": {},
                    "output_type": "display_data"
                },
                {
                    "data": {
                        "text/html": [
                            "<pre style=\"white-space:pre;overflow-x:auto;line-height:normal;font-family:Menlo,'DejaVu Sans Mono',consolas,'Courier New',monospace\">Using Seed Number <span style=\"color: #008080; text-decoration-color: #008080; font-weight: bold\">1992</span>\n",
                            "</pre>\n"
                        ],
                        "text/plain": [
                            "Using Seed Number \u001b[1;36m1992\u001b[0m\n"
                        ]
                    },
                    "metadata": {},
                    "output_type": "display_data"
                },
                {
                    "data": {
                        "text/html": [
                            "<pre style=\"white-space:pre;overflow-x:auto;line-height:normal;font-family:Menlo,'DejaVu Sans Mono',consolas,'Courier New',monospace\">Converged at iteration <span style=\"color: #008080; text-decoration-color: #008080; font-weight: bold\">4</span>\n",
                            "</pre>\n"
                        ],
                        "text/plain": [
                            "Converged at iteration \u001b[1;36m4\u001b[0m\n"
                        ]
                    },
                    "metadata": {},
                    "output_type": "display_data"
                },
                {
                    "data": {
                        "text/html": [
                            "<pre style=\"white-space:pre;overflow-x:auto;line-height:normal;font-family:Menlo,'DejaVu Sans Mono',consolas,'Courier New',monospace\">Running K-Means with <span style=\"color: #008080; text-decoration-color: #008080; font-weight: bold\">4</span> clusters\n",
                            "</pre>\n"
                        ],
                        "text/plain": [
                            "Running K-Means with \u001b[1;36m4\u001b[0m clusters\n"
                        ]
                    },
                    "metadata": {},
                    "output_type": "display_data"
                },
                {
                    "data": {
                        "text/html": [
                            "<pre style=\"white-space:pre;overflow-x:auto;line-height:normal;font-family:Menlo,'DejaVu Sans Mono',consolas,'Courier New',monospace\">Using Seed Number <span style=\"color: #008080; text-decoration-color: #008080; font-weight: bold\">1992</span>\n",
                            "</pre>\n"
                        ],
                        "text/plain": [
                            "Using Seed Number \u001b[1;36m1992\u001b[0m\n"
                        ]
                    },
                    "metadata": {},
                    "output_type": "display_data"
                },
                {
                    "data": {
                        "text/html": [
                            "<pre style=\"white-space:pre;overflow-x:auto;line-height:normal;font-family:Menlo,'DejaVu Sans Mono',consolas,'Courier New',monospace\">Converged at iteration <span style=\"color: #008080; text-decoration-color: #008080; font-weight: bold\">7</span>\n",
                            "</pre>\n"
                        ],
                        "text/plain": [
                            "Converged at iteration \u001b[1;36m7\u001b[0m\n"
                        ]
                    },
                    "metadata": {},
                    "output_type": "display_data"
                },
                {
                    "data": {
                        "text/html": [
                            "<pre style=\"white-space:pre;overflow-x:auto;line-height:normal;font-family:Menlo,'DejaVu Sans Mono',consolas,'Courier New',monospace\">Running K-Means with <span style=\"color: #008080; text-decoration-color: #008080; font-weight: bold\">5</span> clusters\n",
                            "</pre>\n"
                        ],
                        "text/plain": [
                            "Running K-Means with \u001b[1;36m5\u001b[0m clusters\n"
                        ]
                    },
                    "metadata": {},
                    "output_type": "display_data"
                },
                {
                    "data": {
                        "text/html": [
                            "<pre style=\"white-space:pre;overflow-x:auto;line-height:normal;font-family:Menlo,'DejaVu Sans Mono',consolas,'Courier New',monospace\">Using Seed Number <span style=\"color: #008080; text-decoration-color: #008080; font-weight: bold\">1992</span>\n",
                            "</pre>\n"
                        ],
                        "text/plain": [
                            "Using Seed Number \u001b[1;36m1992\u001b[0m\n"
                        ]
                    },
                    "metadata": {},
                    "output_type": "display_data"
                },
                {
                    "data": {
                        "text/html": [
                            "<pre style=\"white-space:pre;overflow-x:auto;line-height:normal;font-family:Menlo,'DejaVu Sans Mono',consolas,'Courier New',monospace\">Converged at iteration <span style=\"color: #008080; text-decoration-color: #008080; font-weight: bold\">9</span>\n",
                            "</pre>\n"
                        ],
                        "text/plain": [
                            "Converged at iteration \u001b[1;36m9\u001b[0m\n"
                        ]
                    },
                    "metadata": {},
                    "output_type": "display_data"
                },
                {
                    "data": {
                        "text/html": [
                            "<pre style=\"white-space:pre;overflow-x:auto;line-height:normal;font-family:Menlo,'DejaVu Sans Mono',consolas,'Courier New',monospace\">Running K-Means with <span style=\"color: #008080; text-decoration-color: #008080; font-weight: bold\">6</span> clusters\n",
                            "</pre>\n"
                        ],
                        "text/plain": [
                            "Running K-Means with \u001b[1;36m6\u001b[0m clusters\n"
                        ]
                    },
                    "metadata": {},
                    "output_type": "display_data"
                },
                {
                    "data": {
                        "text/html": [
                            "<pre style=\"white-space:pre;overflow-x:auto;line-height:normal;font-family:Menlo,'DejaVu Sans Mono',consolas,'Courier New',monospace\">Using Seed Number <span style=\"color: #008080; text-decoration-color: #008080; font-weight: bold\">1992</span>\n",
                            "</pre>\n"
                        ],
                        "text/plain": [
                            "Using Seed Number \u001b[1;36m1992\u001b[0m\n"
                        ]
                    },
                    "metadata": {},
                    "output_type": "display_data"
                },
                {
                    "data": {
                        "text/html": [
                            "<pre style=\"white-space:pre;overflow-x:auto;line-height:normal;font-family:Menlo,'DejaVu Sans Mono',consolas,'Courier New',monospace\">Converged at iteration <span style=\"color: #008080; text-decoration-color: #008080; font-weight: bold\">4</span>\n",
                            "</pre>\n"
                        ],
                        "text/plain": [
                            "Converged at iteration \u001b[1;36m4\u001b[0m\n"
                        ]
                    },
                    "metadata": {},
                    "output_type": "display_data"
                },
                {
                    "data": {
                        "text/html": [
                            "<pre style=\"white-space:pre;overflow-x:auto;line-height:normal;font-family:Menlo,'DejaVu Sans Mono',consolas,'Courier New',monospace\">Running K-Means with <span style=\"color: #008080; text-decoration-color: #008080; font-weight: bold\">7</span> clusters\n",
                            "</pre>\n"
                        ],
                        "text/plain": [
                            "Running K-Means with \u001b[1;36m7\u001b[0m clusters\n"
                        ]
                    },
                    "metadata": {},
                    "output_type": "display_data"
                },
                {
                    "data": {
                        "text/html": [
                            "<pre style=\"white-space:pre;overflow-x:auto;line-height:normal;font-family:Menlo,'DejaVu Sans Mono',consolas,'Courier New',monospace\">Using Seed Number <span style=\"color: #008080; text-decoration-color: #008080; font-weight: bold\">1992</span>\n",
                            "</pre>\n"
                        ],
                        "text/plain": [
                            "Using Seed Number \u001b[1;36m1992\u001b[0m\n"
                        ]
                    },
                    "metadata": {},
                    "output_type": "display_data"
                },
                {
                    "data": {
                        "text/html": [
                            "<pre style=\"white-space:pre;overflow-x:auto;line-height:normal;font-family:Menlo,'DejaVu Sans Mono',consolas,'Courier New',monospace\">Converged at iteration <span style=\"color: #008080; text-decoration-color: #008080; font-weight: bold\">3</span>\n",
                            "</pre>\n"
                        ],
                        "text/plain": [
                            "Converged at iteration \u001b[1;36m3\u001b[0m\n"
                        ]
                    },
                    "metadata": {},
                    "output_type": "display_data"
                },
                {
                    "data": {
                        "text/html": [
                            "<pre style=\"white-space:pre;overflow-x:auto;line-height:normal;font-family:Menlo,'DejaVu Sans Mono',consolas,'Courier New',monospace\">Running K-Means with <span style=\"color: #008080; text-decoration-color: #008080; font-weight: bold\">8</span> clusters\n",
                            "</pre>\n"
                        ],
                        "text/plain": [
                            "Running K-Means with \u001b[1;36m8\u001b[0m clusters\n"
                        ]
                    },
                    "metadata": {},
                    "output_type": "display_data"
                },
                {
                    "data": {
                        "text/html": [
                            "<pre style=\"white-space:pre;overflow-x:auto;line-height:normal;font-family:Menlo,'DejaVu Sans Mono',consolas,'Courier New',monospace\">Using Seed Number <span style=\"color: #008080; text-decoration-color: #008080; font-weight: bold\">1992</span>\n",
                            "</pre>\n"
                        ],
                        "text/plain": [
                            "Using Seed Number \u001b[1;36m1992\u001b[0m\n"
                        ]
                    },
                    "metadata": {},
                    "output_type": "display_data"
                },
                {
                    "data": {
                        "text/html": [
                            "<pre style=\"white-space:pre;overflow-x:auto;line-height:normal;font-family:Menlo,'DejaVu Sans Mono',consolas,'Courier New',monospace\">Converged at iteration <span style=\"color: #008080; text-decoration-color: #008080; font-weight: bold\">3</span>\n",
                            "</pre>\n"
                        ],
                        "text/plain": [
                            "Converged at iteration \u001b[1;36m3\u001b[0m\n"
                        ]
                    },
                    "metadata": {},
                    "output_type": "display_data"
                },
                {
                    "data": {
                        "text/html": [
                            "<pre style=\"white-space:pre;overflow-x:auto;line-height:normal;font-family:Menlo,'DejaVu Sans Mono',consolas,'Courier New',monospace\">Running K-Means with <span style=\"color: #008080; text-decoration-color: #008080; font-weight: bold\">9</span> clusters\n",
                            "</pre>\n"
                        ],
                        "text/plain": [
                            "Running K-Means with \u001b[1;36m9\u001b[0m clusters\n"
                        ]
                    },
                    "metadata": {},
                    "output_type": "display_data"
                },
                {
                    "data": {
                        "text/html": [
                            "<pre style=\"white-space:pre;overflow-x:auto;line-height:normal;font-family:Menlo,'DejaVu Sans Mono',consolas,'Courier New',monospace\">Using Seed Number <span style=\"color: #008080; text-decoration-color: #008080; font-weight: bold\">1992</span>\n",
                            "</pre>\n"
                        ],
                        "text/plain": [
                            "Using Seed Number \u001b[1;36m1992\u001b[0m\n"
                        ]
                    },
                    "metadata": {},
                    "output_type": "display_data"
                },
                {
                    "data": {
                        "text/html": [
                            "<pre style=\"white-space:pre;overflow-x:auto;line-height:normal;font-family:Menlo,'DejaVu Sans Mono',consolas,'Courier New',monospace\">Converged at iteration <span style=\"color: #008080; text-decoration-color: #008080; font-weight: bold\">4</span>\n",
                            "</pre>\n"
                        ],
                        "text/plain": [
                            "Converged at iteration \u001b[1;36m4\u001b[0m\n"
                        ]
                    },
                    "metadata": {},
                    "output_type": "display_data"
                },
                {
                    "data": {
                        "text/html": [
                            "<pre style=\"white-space:pre;overflow-x:auto;line-height:normal;font-family:Menlo,'DejaVu Sans Mono',consolas,'Courier New',monospace\">Running K-Means with <span style=\"color: #008080; text-decoration-color: #008080; font-weight: bold\">10</span> clusters\n",
                            "</pre>\n"
                        ],
                        "text/plain": [
                            "Running K-Means with \u001b[1;36m10\u001b[0m clusters\n"
                        ]
                    },
                    "metadata": {},
                    "output_type": "display_data"
                },
                {
                    "data": {
                        "text/html": [
                            "<pre style=\"white-space:pre;overflow-x:auto;line-height:normal;font-family:Menlo,'DejaVu Sans Mono',consolas,'Courier New',monospace\">Using Seed Number <span style=\"color: #008080; text-decoration-color: #008080; font-weight: bold\">1992</span>\n",
                            "</pre>\n"
                        ],
                        "text/plain": [
                            "Using Seed Number \u001b[1;36m1992\u001b[0m\n"
                        ]
                    },
                    "metadata": {},
                    "output_type": "display_data"
                },
                {
                    "name": "stderr",
                    "output_type": "stream",
                    "text": [
                        "/usr/local/Caskroom/miniforge/base/envs/gaohn-galaxy/lib/python3.9/site-packages/numpy/core/fromnumeric.py:3432: RuntimeWarning: Mean of empty slice.\n",
                        "  return _methods._mean(a, axis=axis, dtype=dtype,\n",
                        "/usr/local/Caskroom/miniforge/base/envs/gaohn-galaxy/lib/python3.9/site-packages/numpy/core/_methods.py:190: RuntimeWarning: invalid value encountered in double_scalars\n",
                        "  ret = ret.dtype.type(ret / rcount)\n"
                    ]
                },
                {
                    "data": {
                        "image/png": "[encoded data removed]",
                        "text/plain": [
                            "<Figure size 640x480 with 1 Axes>"
                        ]
                    },
                    "metadata": {},
                    "output_type": "display_data"
                }
            ],
            "source": [
                "_ = elbow_method(X_train, min_clusters=1, max_clusters=10)"
            ]
        },
        {
            "attachments": {},
            "cell_type": "markdown",
            "metadata": {},
            "source": [
                "What happened here?\n",
                "\n",
                "```bash\n",
                "/usr/local/Caskroom/miniforge/base/envs/gaohn/lib/python3.8/site-packages/numpy/core/fromnumeric.py:3440: RuntimeWarning: Mean of empty slice.\n",
                "  return _methods._mean(a, axis=axis, dtype=dtype,\n",
                "/usr/local/Caskroom/miniforge/base/envs/gaohn/lib/python3.8/site-packages/numpy/core/_methods.py:189: RuntimeWarning: invalid value encountered in double_scalars\n",
                "  ret = ret.dtype.type(ret / rcount)\n",
                "```\n",
                "\n",
                "This means \n",
                "\n",
                "```python\n",
                "mu_k = np.mean(cluster, axis=0)  # compute the mean of the cluster\n",
                "```\n",
                "\n",
                "is returning `nan` because the cluster is empty. This is because for that cluster in\n",
                "the previous iteration, there is no data point assigned to it. This can happen because\n",
                "no data points are close enough to the centroid of that cluster. In this case, this\n",
                "is likely a case of [bad initialization](https://datascience.stackexchange.com/questions/44897/k-means-clustering-what-to-do-if-a-cluster-has-0-elements), and to solve this, either you\n",
                "reduce the number of clusters or you re-run the algorithm with different seed. Of course,\n",
                "if you initialize data points to be far apart (e.g. K-Means++), this will be less likely\n",
                "to happen.\n",
                "\n",
                "Sometimes people also just decrement the number of clusters by 1 and continue the\n",
                "program but it really must depend on the use case."
            ]
        },
        {
            "attachments": {},
            "cell_type": "markdown",
            "metadata": {},
            "source": [
                "We decrease the `max_clusters` to 6 and re-run the code. "
            ]
        },
        {
            "cell_type": "code",
            "execution_count": 22,
            "metadata": {},
            "outputs": [
                {
                    "data": {
                        "text/html": [
                            "<pre style=\"white-space:pre;overflow-x:auto;line-height:normal;font-family:Menlo,'DejaVu Sans Mono',consolas,'Courier New',monospace\">Running K-Means with <span style=\"color: #008080; text-decoration-color: #008080; font-weight: bold\">1</span> clusters\n",
                            "</pre>\n"
                        ],
                        "text/plain": [
                            "Running K-Means with \u001b[1;36m1\u001b[0m clusters\n"
                        ]
                    },
                    "metadata": {},
                    "output_type": "display_data"
                },
                {
                    "data": {
                        "text/html": [
                            "<pre style=\"white-space:pre;overflow-x:auto;line-height:normal;font-family:Menlo,'DejaVu Sans Mono',consolas,'Courier New',monospace\">Using Seed Number <span style=\"color: #008080; text-decoration-color: #008080; font-weight: bold\">1992</span>\n",
                            "</pre>\n"
                        ],
                        "text/plain": [
                            "Using Seed Number \u001b[1;36m1992\u001b[0m\n"
                        ]
                    },
                    "metadata": {},
                    "output_type": "display_data"
                },
                {
                    "data": {
                        "text/html": [
                            "<pre style=\"white-space:pre;overflow-x:auto;line-height:normal;font-family:Menlo,'DejaVu Sans Mono',consolas,'Courier New',monospace\">Converged at iteration <span style=\"color: #008080; text-decoration-color: #008080; font-weight: bold\">1</span>\n",
                            "</pre>\n"
                        ],
                        "text/plain": [
                            "Converged at iteration \u001b[1;36m1\u001b[0m\n"
                        ]
                    },
                    "metadata": {},
                    "output_type": "display_data"
                },
                {
                    "data": {
                        "text/html": [
                            "<pre style=\"white-space:pre;overflow-x:auto;line-height:normal;font-family:Menlo,'DejaVu Sans Mono',consolas,'Courier New',monospace\">Running K-Means with <span style=\"color: #008080; text-decoration-color: #008080; font-weight: bold\">2</span> clusters\n",
                            "</pre>\n"
                        ],
                        "text/plain": [
                            "Running K-Means with \u001b[1;36m2\u001b[0m clusters\n"
                        ]
                    },
                    "metadata": {},
                    "output_type": "display_data"
                },
                {
                    "data": {
                        "text/html": [
                            "<pre style=\"white-space:pre;overflow-x:auto;line-height:normal;font-family:Menlo,'DejaVu Sans Mono',consolas,'Courier New',monospace\">Using Seed Number <span style=\"color: #008080; text-decoration-color: #008080; font-weight: bold\">1992</span>\n",
                            "</pre>\n"
                        ],
                        "text/plain": [
                            "Using Seed Number \u001b[1;36m1992\u001b[0m\n"
                        ]
                    },
                    "metadata": {},
                    "output_type": "display_data"
                },
                {
                    "data": {
                        "text/html": [
                            "<pre style=\"white-space:pre;overflow-x:auto;line-height:normal;font-family:Menlo,'DejaVu Sans Mono',consolas,'Courier New',monospace\">Converged at iteration <span style=\"color: #008080; text-decoration-color: #008080; font-weight: bold\">6</span>\n",
                            "</pre>\n"
                        ],
                        "text/plain": [
                            "Converged at iteration \u001b[1;36m6\u001b[0m\n"
                        ]
                    },
                    "metadata": {},
                    "output_type": "display_data"
                },
                {
                    "data": {
                        "text/html": [
                            "<pre style=\"white-space:pre;overflow-x:auto;line-height:normal;font-family:Menlo,'DejaVu Sans Mono',consolas,'Courier New',monospace\">Running K-Means with <span style=\"color: #008080; text-decoration-color: #008080; font-weight: bold\">3</span> clusters\n",
                            "</pre>\n"
                        ],
                        "text/plain": [
                            "Running K-Means with \u001b[1;36m3\u001b[0m clusters\n"
                        ]
                    },
                    "metadata": {},
                    "output_type": "display_data"
                },
                {
                    "data": {
                        "text/html": [
                            "<pre style=\"white-space:pre;overflow-x:auto;line-height:normal;font-family:Menlo,'DejaVu Sans Mono',consolas,'Courier New',monospace\">Using Seed Number <span style=\"color: #008080; text-decoration-color: #008080; font-weight: bold\">1992</span>\n",
                            "</pre>\n"
                        ],
                        "text/plain": [
                            "Using Seed Number \u001b[1;36m1992\u001b[0m\n"
                        ]
                    },
                    "metadata": {},
                    "output_type": "display_data"
                },
                {
                    "data": {
                        "text/html": [
                            "<pre style=\"white-space:pre;overflow-x:auto;line-height:normal;font-family:Menlo,'DejaVu Sans Mono',consolas,'Courier New',monospace\">Converged at iteration <span style=\"color: #008080; text-decoration-color: #008080; font-weight: bold\">4</span>\n",
                            "</pre>\n"
                        ],
                        "text/plain": [
                            "Converged at iteration \u001b[1;36m4\u001b[0m\n"
                        ]
                    },
                    "metadata": {},
                    "output_type": "display_data"
                },
                {
                    "data": {
                        "text/html": [
                            "<pre style=\"white-space:pre;overflow-x:auto;line-height:normal;font-family:Menlo,'DejaVu Sans Mono',consolas,'Courier New',monospace\">Running K-Means with <span style=\"color: #008080; text-decoration-color: #008080; font-weight: bold\">4</span> clusters\n",
                            "</pre>\n"
                        ],
                        "text/plain": [
                            "Running K-Means with \u001b[1;36m4\u001b[0m clusters\n"
                        ]
                    },
                    "metadata": {},
                    "output_type": "display_data"
                },
                {
                    "data": {
                        "text/html": [
                            "<pre style=\"white-space:pre;overflow-x:auto;line-height:normal;font-family:Menlo,'DejaVu Sans Mono',consolas,'Courier New',monospace\">Using Seed Number <span style=\"color: #008080; text-decoration-color: #008080; font-weight: bold\">1992</span>\n",
                            "</pre>\n"
                        ],
                        "text/plain": [
                            "Using Seed Number \u001b[1;36m1992\u001b[0m\n"
                        ]
                    },
                    "metadata": {},
                    "output_type": "display_data"
                },
                {
                    "data": {
                        "text/html": [
                            "<pre style=\"white-space:pre;overflow-x:auto;line-height:normal;font-family:Menlo,'DejaVu Sans Mono',consolas,'Courier New',monospace\">Converged at iteration <span style=\"color: #008080; text-decoration-color: #008080; font-weight: bold\">7</span>\n",
                            "</pre>\n"
                        ],
                        "text/plain": [
                            "Converged at iteration \u001b[1;36m7\u001b[0m\n"
                        ]
                    },
                    "metadata": {},
                    "output_type": "display_data"
                },
                {
                    "data": {
                        "text/html": [
                            "<pre style=\"white-space:pre;overflow-x:auto;line-height:normal;font-family:Menlo,'DejaVu Sans Mono',consolas,'Courier New',monospace\">Running K-Means with <span style=\"color: #008080; text-decoration-color: #008080; font-weight: bold\">5</span> clusters\n",
                            "</pre>\n"
                        ],
                        "text/plain": [
                            "Running K-Means with \u001b[1;36m5\u001b[0m clusters\n"
                        ]
                    },
                    "metadata": {},
                    "output_type": "display_data"
                },
                {
                    "data": {
                        "text/html": [
                            "<pre style=\"white-space:pre;overflow-x:auto;line-height:normal;font-family:Menlo,'DejaVu Sans Mono',consolas,'Courier New',monospace\">Using Seed Number <span style=\"color: #008080; text-decoration-color: #008080; font-weight: bold\">1992</span>\n",
                            "</pre>\n"
                        ],
                        "text/plain": [
                            "Using Seed Number \u001b[1;36m1992\u001b[0m\n"
                        ]
                    },
                    "metadata": {},
                    "output_type": "display_data"
                },
                {
                    "data": {
                        "text/html": [
                            "<pre style=\"white-space:pre;overflow-x:auto;line-height:normal;font-family:Menlo,'DejaVu Sans Mono',consolas,'Courier New',monospace\">Converged at iteration <span style=\"color: #008080; text-decoration-color: #008080; font-weight: bold\">9</span>\n",
                            "</pre>\n"
                        ],
                        "text/plain": [
                            "Converged at iteration \u001b[1;36m9\u001b[0m\n"
                        ]
                    },
                    "metadata": {},
                    "output_type": "display_data"
                },
                {
                    "data": {
                        "text/html": [
                            "<pre style=\"white-space:pre;overflow-x:auto;line-height:normal;font-family:Menlo,'DejaVu Sans Mono',consolas,'Courier New',monospace\">Running K-Means with <span style=\"color: #008080; text-decoration-color: #008080; font-weight: bold\">6</span> clusters\n",
                            "</pre>\n"
                        ],
                        "text/plain": [
                            "Running K-Means with \u001b[1;36m6\u001b[0m clusters\n"
                        ]
                    },
                    "metadata": {},
                    "output_type": "display_data"
                },
                {
                    "data": {
                        "text/html": [
                            "<pre style=\"white-space:pre;overflow-x:auto;line-height:normal;font-family:Menlo,'DejaVu Sans Mono',consolas,'Courier New',monospace\">Using Seed Number <span style=\"color: #008080; text-decoration-color: #008080; font-weight: bold\">1992</span>\n",
                            "</pre>\n"
                        ],
                        "text/plain": [
                            "Using Seed Number \u001b[1;36m1992\u001b[0m\n"
                        ]
                    },
                    "metadata": {},
                    "output_type": "display_data"
                },
                {
                    "data": {
                        "text/html": [
                            "<pre style=\"white-space:pre;overflow-x:auto;line-height:normal;font-family:Menlo,'DejaVu Sans Mono',consolas,'Courier New',monospace\">Converged at iteration <span style=\"color: #008080; text-decoration-color: #008080; font-weight: bold\">4</span>\n",
                            "</pre>\n"
                        ],
                        "text/plain": [
                            "Converged at iteration \u001b[1;36m4\u001b[0m\n"
                        ]
                    },
                    "metadata": {},
                    "output_type": "display_data"
                },
                {
                    "data": {
                        "image/png": "[encoded data removed]",
                        "text/plain": [
                            "<Figure size 640x480 with 1 Axes>"
                        ]
                    },
                    "metadata": {},
                    "output_type": "display_data"
                }
            ],
            "source": [
                "_ = elbow_method(X_train, min_clusters=1, max_clusters=6)"
            ]
        },
        {
            "attachments": {},
            "cell_type": "markdown",
            "metadata": {},
            "source": [
                "## K-Means Algorithm on MNIST"
            ]
        },
        {
            "cell_type": "code",
            "execution_count": 23,
            "metadata": {},
            "outputs": [],
            "source": [
                "# X, y = load_digits(return_X_y=True)\n",
                "# (num_samples, num_features), num_classes = X.shape, np.unique(y).size\n",
                "# print(f\"There are {num_samples} samples and {num_features} features.\")\n",
                "# print(f\"Shape of X is {X.shape} and shape of y is {y.shape}.\")"
            ]
        },
        {
            "cell_type": "code",
            "execution_count": 24,
            "metadata": {},
            "outputs": [
                {
                    "name": "stderr",
                    "output_type": "stream",
                    "text": [
                        "2023-03-07 21:11:53.451959: I tensorflow/core/platform/cpu_feature_guard.cc:193] This TensorFlow binary is optimized with oneAPI Deep Neural Network Library (oneDNN) to use the following CPU instructions in performance-critical operations:  AVX2 FMA\n",
                        "To enable them in other operations, rebuild TensorFlow with the appropriate compiler flags.\n"
                    ]
                }
            ],
            "source": [
                "import tensorflow as tf"
            ]
        },
        {
            "cell_type": "code",
            "execution_count": 25,
            "metadata": {},
            "outputs": [],
            "source": [
                "(X_train, y_train), (X_test, y_test) = tf.keras.datasets.mnist.load_data()\n",
                "assert X_train.shape == (60000, 28, 28)\n",
                "assert X_test.shape == (10000, 28, 28)\n",
                "assert y_train.shape == (60000,)\n",
                "assert y_test.shape == (10000,)"
            ]
        },
        {
            "cell_type": "code",
            "execution_count": 26,
            "metadata": {},
            "outputs": [
                {
                    "data": {
                        "text/html": [
                            "<pre style=\"white-space:pre;overflow-x:auto;line-height:normal;font-family:Menlo,'DejaVu Sans Mono',consolas,'Courier New',monospace\">Shape of X_train is <span style=\"font-weight: bold\">(</span><span style=\"color: #008080; text-decoration-color: #008080; font-weight: bold\">60000</span>, <span style=\"color: #008080; text-decoration-color: #008080; font-weight: bold\">784</span><span style=\"font-weight: bold\">)</span> and shape of X_test is <span style=\"font-weight: bold\">(</span><span style=\"color: #008080; text-decoration-color: #008080; font-weight: bold\">10000</span>, <span style=\"color: #008080; text-decoration-color: #008080; font-weight: bold\">784</span><span style=\"font-weight: bold\">)</span>.\n",
                            "</pre>\n"
                        ],
                        "text/plain": [
                            "Shape of X_train is \u001b[1m(\u001b[0m\u001b[1;36m60000\u001b[0m, \u001b[1;36m784\u001b[0m\u001b[1m)\u001b[0m and shape of X_test is \u001b[1m(\u001b[0m\u001b[1;36m10000\u001b[0m, \u001b[1;36m784\u001b[0m\u001b[1m)\u001b[0m.\n"
                        ]
                    },
                    "metadata": {},
                    "output_type": "display_data"
                }
            ],
            "source": [
                "num_classes = np.unique(y_train).size\n",
                "\n",
                "X_train = X_train.reshape(-1, 28 * 28)\n",
                "X_test = X_test.reshape(-1, 28 * 28)\n",
                "\n",
                "# Do not run this multiple times in jupyter notebook\n",
                "X_train = X_train / 255.0\n",
                "X_test = X_test / 255.0\n",
                "\n",
                "print(f\"Shape of X_train is {X_train.shape} and shape of X_test is {X_test.shape}.\")"
            ]
        },
        {
            "attachments": {},
            "cell_type": "markdown",
            "metadata": {},
            "source": [
                "ATTENTION: due to the implementation, vectorization is not fully\n",
                "optimized and hence we train on `X_test` instead of `X_train` to\n",
                "quickly get some results."
            ]
        },
        {
            "cell_type": "code",
            "execution_count": 27,
            "metadata": {},
            "outputs": [
                {
                    "data": {
                        "text/html": [
                            "<pre style=\"white-space:pre;overflow-x:auto;line-height:normal;font-family:Menlo,'DejaVu Sans Mono',consolas,'Courier New',monospace\">Using Seed Number <span style=\"color: #008080; text-decoration-color: #008080; font-weight: bold\">42</span>\n",
                            "</pre>\n"
                        ],
                        "text/plain": [
                            "Using Seed Number \u001b[1;36m42\u001b[0m\n"
                        ]
                    },
                    "metadata": {},
                    "output_type": "display_data"
                }
            ],
            "source": [
                "kmeans = KMeansLloyd(\n",
                "    num_clusters=num_classes, init=\"random\", max_iter=20, random_state=42\n",
                ")\n",
                "\n",
                "kmeans.fit(X_test)"
            ]
        },
        {
            "cell_type": "code",
            "execution_count": 28,
            "metadata": {},
            "outputs": [
                {
                    "data": {
                        "text/html": [
                            "<pre style=\"white-space:pre;overflow-x:auto;line-height:normal;font-family:Menlo,'DejaVu Sans Mono',consolas,'Courier New',monospace\">The inertia is <span style=\"color: #008080; text-decoration-color: #008080; font-weight: bold\">391367.5505466436</span>.\n",
                            "</pre>\n"
                        ],
                        "text/plain": [
                            "The inertia is \u001b[1;36m391367.5505466436\u001b[0m.\n"
                        ]
                    },
                    "metadata": {},
                    "output_type": "display_data"
                }
            ],
            "source": [
                "print(f\"The inertia is {kmeans.inertia}.\")"
            ]
        },
        {
            "cell_type": "code",
            "execution_count": 29,
            "metadata": {},
            "outputs": [
                {
                    "data": {
                        "text/html": [
                            "<style>#sk-container-id-3 {color: black;background-color: white;}#sk-container-id-3 pre{padding: 0;}#sk-container-id-3 div.sk-toggleable {background-color: white;}#sk-container-id-3 label.sk-toggleable__label {cursor: pointer;display: block;width: 100%;margin-bottom: 0;padding: 0.3em;box-sizing: border-box;text-align: center;}#sk-container-id-3 label.sk-toggleable__label-arrow:before {content: \"▸\";float: left;margin-right: 0.25em;color: #696969;}#sk-container-id-3 label.sk-toggleable__label-arrow:hover:before {color: black;}#sk-container-id-3 div.sk-estimator:hover label.sk-toggleable__label-arrow:before {color: black;}#sk-container-id-3 div.sk-toggleable__content {max-height: 0;max-width: 0;overflow: hidden;text-align: left;background-color: #f0f8ff;}#sk-container-id-3 div.sk-toggleable__content pre {margin: 0.2em;color: black;border-radius: 0.25em;background-color: #f0f8ff;}#sk-container-id-3 input.sk-toggleable__control:checked~div.sk-toggleable__content {max-height: 200px;max-width: 100%;overflow: auto;}#sk-container-id-3 input.sk-toggleable__control:checked~label.sk-toggleable__label-arrow:before {content: \"▾\";}#sk-container-id-3 div.sk-estimator input.sk-toggleable__control:checked~label.sk-toggleable__label {background-color: #d4ebff;}#sk-container-id-3 div.sk-label input.sk-toggleable__control:checked~label.sk-toggleable__label {background-color: #d4ebff;}#sk-container-id-3 input.sk-hidden--visually {border: 0;clip: rect(1px 1px 1px 1px);clip: rect(1px, 1px, 1px, 1px);height: 1px;margin: -1px;overflow: hidden;padding: 0;position: absolute;width: 1px;}#sk-container-id-3 div.sk-estimator {font-family: monospace;background-color: #f0f8ff;border: 1px dotted black;border-radius: 0.25em;box-sizing: border-box;margin-bottom: 0.5em;}#sk-container-id-3 div.sk-estimator:hover {background-color: #d4ebff;}#sk-container-id-3 div.sk-parallel-item::after {content: \"\";width: 100%;border-bottom: 1px solid gray;flex-grow: 1;}#sk-container-id-3 div.sk-label:hover label.sk-toggleable__label {background-color: #d4ebff;}#sk-container-id-3 div.sk-serial::before {content: \"\";position: absolute;border-left: 1px solid gray;box-sizing: border-box;top: 0;bottom: 0;left: 50%;z-index: 0;}#sk-container-id-3 div.sk-serial {display: flex;flex-direction: column;align-items: center;background-color: white;padding-right: 0.2em;padding-left: 0.2em;position: relative;}#sk-container-id-3 div.sk-item {position: relative;z-index: 1;}#sk-container-id-3 div.sk-parallel {display: flex;align-items: stretch;justify-content: center;background-color: white;position: relative;}#sk-container-id-3 div.sk-item::before, #sk-container-id-3 div.sk-parallel-item::before {content: \"\";position: absolute;border-left: 1px solid gray;box-sizing: border-box;top: 0;bottom: 0;left: 50%;z-index: -1;}#sk-container-id-3 div.sk-parallel-item {display: flex;flex-direction: column;z-index: 1;position: relative;background-color: white;}#sk-container-id-3 div.sk-parallel-item:first-child::after {align-self: flex-end;width: 50%;}#sk-container-id-3 div.sk-parallel-item:last-child::after {align-self: flex-start;width: 50%;}#sk-container-id-3 div.sk-parallel-item:only-child::after {width: 0;}#sk-container-id-3 div.sk-dashed-wrapped {border: 1px dashed gray;margin: 0 0.4em 0.5em 0.4em;box-sizing: border-box;padding-bottom: 0.4em;background-color: white;}#sk-container-id-3 div.sk-label label {font-family: monospace;font-weight: bold;display: inline-block;line-height: 1.2em;}#sk-container-id-3 div.sk-label-container {text-align: center;}#sk-container-id-3 div.sk-container {/* jupyter's `normalize.less` sets `[hidden] { display: none; }` but bootstrap.min.css set `[hidden] { display: none !important; }` so we also need the `!important` here to be able to override the default hidden behavior on the sphinx rendered scikit-learn.org. See: https://github.com/scikit-learn/scikit-learn/issues/21755 */display: inline-block !important;position: relative;}#sk-container-id-3 div.sk-text-repr-fallback {display: none;}</style><div id=\"sk-container-id-3\" class=\"sk-top-container\"><div class=\"sk-text-repr-fallback\"><pre>KMeans(init=&#x27;random&#x27;, max_iter=500, n_clusters=10, n_init=1, random_state=42)</pre><b>In a Jupyter environment, please rerun this cell to show the HTML representation or trust the notebook. <br />On GitHub, the HTML representation is unable to render, please try loading this page with nbviewer.org.</b></div><div class=\"sk-container\" hidden><div class=\"sk-item\"><div class=\"sk-estimator sk-toggleable\"><input class=\"sk-toggleable__control sk-hidden--visually\" id=\"sk-estimator-id-3\" type=\"checkbox\" checked><label for=\"sk-estimator-id-3\" class=\"sk-toggleable__label sk-toggleable__label-arrow\">KMeans</label><div class=\"sk-toggleable__content\"><pre>KMeans(init=&#x27;random&#x27;, max_iter=500, n_clusters=10, n_init=1, random_state=42)</pre></div></div></div></div></div>"
                        ],
                        "text/plain": [
                            "KMeans(init='random', max_iter=500, n_clusters=10, n_init=1, random_state=42)"
                        ]
                    },
                    "execution_count": 29,
                    "metadata": {},
                    "output_type": "execute_result"
                }
            ],
            "source": [
                "sk_kmeans = KMeans(\n",
                "    n_clusters=num_classes,\n",
                "    random_state=42,\n",
                "    n_init=1,\n",
                "    init=\"random\",\n",
                "    max_iter=500,\n",
                "    algorithm=\"lloyd\",\n",
                ")\n",
                "\n",
                "sk_kmeans.fit(X_test)"
            ]
        },
        {
            "attachments": {},
            "cell_type": "markdown",
            "metadata": {},
            "source": [
                "The inertia looks frighteningly high because of the large number of samples.\n",
                "Since our cost function is SSE, it sums all errors over all samples. Average SSE\n",
                "will tells us roughly the loss per sample."
            ]
        },
        {
            "cell_type": "code",
            "execution_count": 30,
            "metadata": {},
            "outputs": [
                {
                    "data": {
                        "text/html": [
                            "<pre style=\"white-space:pre;overflow-x:auto;line-height:normal;font-family:Menlo,'DejaVu Sans Mono',consolas,'Courier New',monospace\">The inertia is <span style=\"color: #008080; text-decoration-color: #008080; font-weight: bold\">390846.1005761042</span>.\n",
                            "</pre>\n"
                        ],
                        "text/plain": [
                            "The inertia is \u001b[1;36m390846.1005761042\u001b[0m.\n"
                        ]
                    },
                    "metadata": {},
                    "output_type": "display_data"
                }
            ],
            "source": [
                "print(f\"The inertia is {sk_kmeans.inertia_}.\")"
            ]
        },
        {
            "cell_type": "code",
            "execution_count": 31,
            "metadata": {
                "tags": [
                    "output_scroll"
                ]
            },
            "outputs": [
                {
                    "data": {
                        "text/html": [
                            "<div>\n",
                            "<style scoped>\n",
                            "    .dataframe tbody tr th:only-of-type {\n",
                            "        vertical-align: middle;\n",
                            "    }\n",
                            "\n",
                            "    .dataframe tbody tr th {\n",
                            "        vertical-align: top;\n",
                            "    }\n",
                            "\n",
                            "    .dataframe thead th {\n",
                            "        text-align: right;\n",
                            "    }\n",
                            "</style>\n",
                            "<table border=\"1\" class=\"dataframe\">\n",
                            "  <thead>\n",
                            "    <tr style=\"text-align: right;\">\n",
                            "      <th></th>\n",
                            "      <th>pred=0</th>\n",
                            "      <th>pred=1</th>\n",
                            "      <th>pred=2</th>\n",
                            "      <th>pred=3</th>\n",
                            "      <th>pred=4</th>\n",
                            "      <th>pred=5</th>\n",
                            "      <th>pred=6</th>\n",
                            "      <th>pred=7</th>\n",
                            "      <th>pred=8</th>\n",
                            "      <th>pred=9</th>\n",
                            "    </tr>\n",
                            "  </thead>\n",
                            "  <tbody>\n",
                            "    <tr>\n",
                            "      <th>true=0</th>\n",
                            "      <td>3</td>\n",
                            "      <td>23</td>\n",
                            "      <td>2</td>\n",
                            "      <td>321</td>\n",
                            "      <td>2</td>\n",
                            "      <td>12</td>\n",
                            "      <td>31</td>\n",
                            "      <td>2</td>\n",
                            "      <td>42</td>\n",
                            "      <td>542</td>\n",
                            "    </tr>\n",
                            "    <tr>\n",
                            "      <th>true=1</th>\n",
                            "      <td>1102</td>\n",
                            "      <td>2</td>\n",
                            "      <td>23</td>\n",
                            "      <td>0</td>\n",
                            "      <td>0</td>\n",
                            "      <td>1</td>\n",
                            "      <td>4</td>\n",
                            "      <td>0</td>\n",
                            "      <td>3</td>\n",
                            "      <td>0</td>\n",
                            "    </tr>\n",
                            "    <tr>\n",
                            "      <th>true=2</th>\n",
                            "      <td>142</td>\n",
                            "      <td>16</td>\n",
                            "      <td>716</td>\n",
                            "      <td>3</td>\n",
                            "      <td>17</td>\n",
                            "      <td>16</td>\n",
                            "      <td>23</td>\n",
                            "      <td>8</td>\n",
                            "      <td>70</td>\n",
                            "      <td>21</td>\n",
                            "    </tr>\n",
                            "    <tr>\n",
                            "      <th>true=3</th>\n",
                            "      <td>62</td>\n",
                            "      <td>4</td>\n",
                            "      <td>46</td>\n",
                            "      <td>1</td>\n",
                            "      <td>12</td>\n",
                            "      <td>9</td>\n",
                            "      <td>143</td>\n",
                            "      <td>11</td>\n",
                            "      <td>718</td>\n",
                            "      <td>4</td>\n",
                            "    </tr>\n",
                            "    <tr>\n",
                            "      <th>true=4</th>\n",
                            "      <td>28</td>\n",
                            "      <td>20</td>\n",
                            "      <td>3</td>\n",
                            "      <td>8</td>\n",
                            "      <td>414</td>\n",
                            "      <td>278</td>\n",
                            "      <td>1</td>\n",
                            "      <td>229</td>\n",
                            "      <td>0</td>\n",
                            "      <td>1</td>\n",
                            "    </tr>\n",
                            "    <tr>\n",
                            "      <th>true=5</th>\n",
                            "      <td>94</td>\n",
                            "      <td>10</td>\n",
                            "      <td>6</td>\n",
                            "      <td>12</td>\n",
                            "      <td>41</td>\n",
                            "      <td>106</td>\n",
                            "      <td>315</td>\n",
                            "      <td>23</td>\n",
                            "      <td>267</td>\n",
                            "      <td>18</td>\n",
                            "    </tr>\n",
                            "    <tr>\n",
                            "      <th>true=6</th>\n",
                            "      <td>67</td>\n",
                            "      <td>697</td>\n",
                            "      <td>7</td>\n",
                            "      <td>120</td>\n",
                            "      <td>12</td>\n",
                            "      <td>0</td>\n",
                            "      <td>36</td>\n",
                            "      <td>2</td>\n",
                            "      <td>1</td>\n",
                            "      <td>16</td>\n",
                            "    </tr>\n",
                            "    <tr>\n",
                            "      <th>true=7</th>\n",
                            "      <td>68</td>\n",
                            "      <td>0</td>\n",
                            "      <td>14</td>\n",
                            "      <td>5</td>\n",
                            "      <td>118</td>\n",
                            "      <td>361</td>\n",
                            "      <td>1</td>\n",
                            "      <td>461</td>\n",
                            "      <td>0</td>\n",
                            "      <td>0</td>\n",
                            "    </tr>\n",
                            "    <tr>\n",
                            "      <th>true=8</th>\n",
                            "      <td>81</td>\n",
                            "      <td>8</td>\n",
                            "      <td>13</td>\n",
                            "      <td>8</td>\n",
                            "      <td>19</td>\n",
                            "      <td>54</td>\n",
                            "      <td>572</td>\n",
                            "      <td>23</td>\n",
                            "      <td>188</td>\n",
                            "      <td>8</td>\n",
                            "    </tr>\n",
                            "    <tr>\n",
                            "      <th>true=9</th>\n",
                            "      <td>23</td>\n",
                            "      <td>2</td>\n",
                            "      <td>2</td>\n",
                            "      <td>11</td>\n",
                            "      <td>336</td>\n",
                            "      <td>196</td>\n",
                            "      <td>11</td>\n",
                            "      <td>411</td>\n",
                            "      <td>7</td>\n",
                            "      <td>10</td>\n",
                            "    </tr>\n",
                            "  </tbody>\n",
                            "</table>\n",
                            "</div>"
                        ],
                        "text/plain": [
                            "        pred=0  pred=1  pred=2  pred=3  pred=4  pred=5  pred=6  pred=7  \\\n",
                            "true=0       3      23       2     321       2      12      31       2   \n",
                            "true=1    1102       2      23       0       0       1       4       0   \n",
                            "true=2     142      16     716       3      17      16      23       8   \n",
                            "true=3      62       4      46       1      12       9     143      11   \n",
                            "true=4      28      20       3       8     414     278       1     229   \n",
                            "true=5      94      10       6      12      41     106     315      23   \n",
                            "true=6      67     697       7     120      12       0      36       2   \n",
                            "true=7      68       0      14       5     118     361       1     461   \n",
                            "true=8      81       8      13       8      19      54     572      23   \n",
                            "true=9      23       2       2      11     336     196      11     411   \n",
                            "\n",
                            "        pred=8  pred=9  \n",
                            "true=0      42     542  \n",
                            "true=1       3       0  \n",
                            "true=2      70      21  \n",
                            "true=3     718       4  \n",
                            "true=4       0       1  \n",
                            "true=5     267      18  \n",
                            "true=6       1      16  \n",
                            "true=7       0       0  \n",
                            "true=8     188       8  \n",
                            "true=9       7      10  "
                        ]
                    },
                    "execution_count": 31,
                    "metadata": {},
                    "output_type": "execute_result"
                }
            ],
            "source": [
                "y_preds = kmeans.labels\n",
                "contingency_matrix_ = contingency_matrix(y_test, y_preds, as_dataframe=True)\n",
                "contingency_matrix_ "
            ]
        },
        {
            "cell_type": "code",
            "execution_count": 32,
            "metadata": {},
            "outputs": [
                {
                    "data": {
                        "text/html": [
                            "<pre style=\"white-space:pre;overflow-x:auto;line-height:normal;font-family:Menlo,'DejaVu Sans Mono',consolas,'Courier New',monospace\"><span style=\"color: #008080; text-decoration-color: #008080; font-weight: bold\">0.5904</span>\n",
                            "</pre>\n"
                        ],
                        "text/plain": [
                            "\u001b[1;36m0.5904\u001b[0m\n"
                        ]
                    },
                    "metadata": {},
                    "output_type": "display_data"
                },
                {
                    "data": {
                        "text/html": [
                            "<pre style=\"white-space:pre;overflow-x:auto;line-height:normal;font-family:Menlo,'DejaVu Sans Mono',consolas,'Courier New',monospace\"><span style=\"font-weight: bold\">[</span><span style=\"color: #008080; text-decoration-color: #008080; font-weight: bold\">0.65988024</span> <span style=\"color: #008080; text-decoration-color: #008080; font-weight: bold\">0.89130435</span> <span style=\"color: #008080; text-decoration-color: #008080; font-weight: bold\">0.86057692</span> <span style=\"color: #008080; text-decoration-color: #008080; font-weight: bold\">0.65644172</span> <span style=\"color: #008080; text-decoration-color: #008080; font-weight: bold\">0.42636457</span> <span style=\"color: #008080; text-decoration-color: #008080; font-weight: bold\">0.34946757</span>\n",
                            " <span style=\"color: #008080; text-decoration-color: #008080; font-weight: bold\">0.50307828</span> <span style=\"color: #008080; text-decoration-color: #008080; font-weight: bold\">0.39401709</span> <span style=\"color: #008080; text-decoration-color: #008080; font-weight: bold\">0.55401235</span> <span style=\"color: #008080; text-decoration-color: #008080; font-weight: bold\">0.87419355</span><span style=\"font-weight: bold\">]</span>\n",
                            "</pre>\n"
                        ],
                        "text/plain": [
                            "\u001b[1m[\u001b[0m\u001b[1;36m0.65988024\u001b[0m \u001b[1;36m0.89130435\u001b[0m \u001b[1;36m0.86057692\u001b[0m \u001b[1;36m0.65644172\u001b[0m \u001b[1;36m0.42636457\u001b[0m \u001b[1;36m0.34946757\u001b[0m\n",
                            " \u001b[1;36m0.50307828\u001b[0m \u001b[1;36m0.39401709\u001b[0m \u001b[1;36m0.55401235\u001b[0m \u001b[1;36m0.87419355\u001b[0m\u001b[1m]\u001b[0m\n"
                        ]
                    },
                    "metadata": {},
                    "output_type": "display_data"
                }
            ],
            "source": [
                "purity = purity_score(y_test, y_preds)\n",
                "print(purity)\n",
                "purity_per_cluster = purity_score(y_test, y_preds, per_cluster=True)\n",
                "print(purity_per_cluster)"
            ]
        },
        {
            "cell_type": "code",
            "execution_count": 33,
            "metadata": {
                "tags": [
                    "output_scroll"
                ]
            },
            "outputs": [
                {
                    "data": {
                        "text/html": [
                            "<div>\n",
                            "<style scoped>\n",
                            "    .dataframe tbody tr th:only-of-type {\n",
                            "        vertical-align: middle;\n",
                            "    }\n",
                            "\n",
                            "    .dataframe tbody tr th {\n",
                            "        vertical-align: top;\n",
                            "    }\n",
                            "\n",
                            "    .dataframe thead th {\n",
                            "        text-align: right;\n",
                            "    }\n",
                            "</style>\n",
                            "<table border=\"1\" class=\"dataframe\">\n",
                            "  <thead>\n",
                            "    <tr style=\"text-align: right;\">\n",
                            "      <th></th>\n",
                            "      <th>pred=0</th>\n",
                            "      <th>pred=1</th>\n",
                            "      <th>pred=2</th>\n",
                            "      <th>pred=3</th>\n",
                            "      <th>pred=4</th>\n",
                            "      <th>pred=5</th>\n",
                            "      <th>pred=6</th>\n",
                            "      <th>pred=7</th>\n",
                            "      <th>pred=8</th>\n",
                            "      <th>pred=9</th>\n",
                            "    </tr>\n",
                            "  </thead>\n",
                            "  <tbody>\n",
                            "    <tr>\n",
                            "      <th>true=0</th>\n",
                            "      <td>16</td>\n",
                            "      <td>1</td>\n",
                            "      <td>435</td>\n",
                            "      <td>1</td>\n",
                            "      <td>15</td>\n",
                            "      <td>1</td>\n",
                            "      <td>43</td>\n",
                            "      <td>3</td>\n",
                            "      <td>1</td>\n",
                            "      <td>464</td>\n",
                            "    </tr>\n",
                            "    <tr>\n",
                            "      <th>true=1</th>\n",
                            "      <td>2</td>\n",
                            "      <td>491</td>\n",
                            "      <td>0</td>\n",
                            "      <td>638</td>\n",
                            "      <td>0</td>\n",
                            "      <td>0</td>\n",
                            "      <td>4</td>\n",
                            "      <td>0</td>\n",
                            "      <td>0</td>\n",
                            "      <td>0</td>\n",
                            "    </tr>\n",
                            "    <tr>\n",
                            "      <th>true=2</th>\n",
                            "      <td>20</td>\n",
                            "      <td>109</td>\n",
                            "      <td>4</td>\n",
                            "      <td>58</td>\n",
                            "      <td>21</td>\n",
                            "      <td>704</td>\n",
                            "      <td>55</td>\n",
                            "      <td>24</td>\n",
                            "      <td>11</td>\n",
                            "      <td>26</td>\n",
                            "    </tr>\n",
                            "    <tr>\n",
                            "      <th>true=3</th>\n",
                            "      <td>5</td>\n",
                            "      <td>3</td>\n",
                            "      <td>1</td>\n",
                            "      <td>72</td>\n",
                            "      <td>37</td>\n",
                            "      <td>51</td>\n",
                            "      <td>791</td>\n",
                            "      <td>11</td>\n",
                            "      <td>11</td>\n",
                            "      <td>28</td>\n",
                            "    </tr>\n",
                            "    <tr>\n",
                            "      <th>true=4</th>\n",
                            "      <td>21</td>\n",
                            "      <td>10</td>\n",
                            "      <td>4</td>\n",
                            "      <td>32</td>\n",
                            "      <td>313</td>\n",
                            "      <td>1</td>\n",
                            "      <td>0</td>\n",
                            "      <td>574</td>\n",
                            "      <td>26</td>\n",
                            "      <td>1</td>\n",
                            "    </tr>\n",
                            "    <tr>\n",
                            "      <th>true=5</th>\n",
                            "      <td>10</td>\n",
                            "      <td>18</td>\n",
                            "      <td>18</td>\n",
                            "      <td>51</td>\n",
                            "      <td>273</td>\n",
                            "      <td>3</td>\n",
                            "      <td>382</td>\n",
                            "      <td>53</td>\n",
                            "      <td>12</td>\n",
                            "      <td>72</td>\n",
                            "    </tr>\n",
                            "    <tr>\n",
                            "      <th>true=6</th>\n",
                            "      <td>753</td>\n",
                            "      <td>8</td>\n",
                            "      <td>29</td>\n",
                            "      <td>57</td>\n",
                            "      <td>24</td>\n",
                            "      <td>8</td>\n",
                            "      <td>13</td>\n",
                            "      <td>9</td>\n",
                            "      <td>0</td>\n",
                            "      <td>57</td>\n",
                            "    </tr>\n",
                            "    <tr>\n",
                            "      <th>true=7</th>\n",
                            "      <td>0</td>\n",
                            "      <td>50</td>\n",
                            "      <td>2</td>\n",
                            "      <td>37</td>\n",
                            "      <td>137</td>\n",
                            "      <td>9</td>\n",
                            "      <td>0</td>\n",
                            "      <td>156</td>\n",
                            "      <td>636</td>\n",
                            "      <td>1</td>\n",
                            "    </tr>\n",
                            "    <tr>\n",
                            "      <th>true=8</th>\n",
                            "      <td>10</td>\n",
                            "      <td>29</td>\n",
                            "      <td>8</td>\n",
                            "      <td>28</td>\n",
                            "      <td>365</td>\n",
                            "      <td>14</td>\n",
                            "      <td>449</td>\n",
                            "      <td>28</td>\n",
                            "      <td>18</td>\n",
                            "      <td>25</td>\n",
                            "    </tr>\n",
                            "    <tr>\n",
                            "      <th>true=9</th>\n",
                            "      <td>4</td>\n",
                            "      <td>4</td>\n",
                            "      <td>7</td>\n",
                            "      <td>24</td>\n",
                            "      <td>199</td>\n",
                            "      <td>2</td>\n",
                            "      <td>13</td>\n",
                            "      <td>485</td>\n",
                            "      <td>259</td>\n",
                            "      <td>12</td>\n",
                            "    </tr>\n",
                            "  </tbody>\n",
                            "</table>\n",
                            "</div>"
                        ],
                        "text/plain": [
                            "        pred=0  pred=1  pred=2  pred=3  pred=4  pred=5  pred=6  pred=7  \\\n",
                            "true=0      16       1     435       1      15       1      43       3   \n",
                            "true=1       2     491       0     638       0       0       4       0   \n",
                            "true=2      20     109       4      58      21     704      55      24   \n",
                            "true=3       5       3       1      72      37      51     791      11   \n",
                            "true=4      21      10       4      32     313       1       0     574   \n",
                            "true=5      10      18      18      51     273       3     382      53   \n",
                            "true=6     753       8      29      57      24       8      13       9   \n",
                            "true=7       0      50       2      37     137       9       0     156   \n",
                            "true=8      10      29       8      28     365      14     449      28   \n",
                            "true=9       4       4       7      24     199       2      13     485   \n",
                            "\n",
                            "        pred=8  pred=9  \n",
                            "true=0       1     464  \n",
                            "true=1       0       0  \n",
                            "true=2      11      26  \n",
                            "true=3      11      28  \n",
                            "true=4      26       1  \n",
                            "true=5      12      72  \n",
                            "true=6       0      57  \n",
                            "true=7     636       1  \n",
                            "true=8      18      25  \n",
                            "true=9     259      12  "
                        ]
                    },
                    "execution_count": 33,
                    "metadata": {},
                    "output_type": "execute_result"
                }
            ],
            "source": [
                "sk_y_preds = sk_kmeans.labels_\n",
                "sk_contingency_matrix_ = contingency_matrix(y_test, sk_y_preds, as_dataframe=True)\n",
                "sk_contingency_matrix_"
            ]
        },
        {
            "cell_type": "code",
            "execution_count": 34,
            "metadata": {},
            "outputs": [
                {
                    "data": {
                        "text/html": [
                            "<pre style=\"white-space:pre;overflow-x:auto;line-height:normal;font-family:Menlo,'DejaVu Sans Mono',consolas,'Courier New',monospace\"><span style=\"color: #008080; text-decoration-color: #008080; font-weight: bold\">0.5851</span>\n",
                            "</pre>\n"
                        ],
                        "text/plain": [
                            "\u001b[1;36m0.5851\u001b[0m\n"
                        ]
                    },
                    "metadata": {},
                    "output_type": "display_data"
                },
                {
                    "data": {
                        "text/html": [
                            "<pre style=\"white-space:pre;overflow-x:auto;line-height:normal;font-family:Menlo,'DejaVu Sans Mono',consolas,'Courier New',monospace\"><span style=\"font-weight: bold\">[</span><span style=\"color: #008080; text-decoration-color: #008080; font-weight: bold\">0.89536266</span> <span style=\"color: #008080; text-decoration-color: #008080; font-weight: bold\">0.6791148</span>  <span style=\"color: #008080; text-decoration-color: #008080; font-weight: bold\">0.85629921</span> <span style=\"color: #008080; text-decoration-color: #008080; font-weight: bold\">0.63927856</span> <span style=\"color: #008080; text-decoration-color: #008080; font-weight: bold\">0.26372832</span> <span style=\"color: #008080; text-decoration-color: #008080; font-weight: bold\">0.88776797</span>\n",
                            " <span style=\"color: #008080; text-decoration-color: #008080; font-weight: bold\">0.452</span>      <span style=\"color: #008080; text-decoration-color: #008080; font-weight: bold\">0.42740134</span> <span style=\"color: #008080; text-decoration-color: #008080; font-weight: bold\">0.65297741</span> <span style=\"color: #008080; text-decoration-color: #008080; font-weight: bold\">0.67638484</span><span style=\"font-weight: bold\">]</span>\n",
                            "</pre>\n"
                        ],
                        "text/plain": [
                            "\u001b[1m[\u001b[0m\u001b[1;36m0.89536266\u001b[0m \u001b[1;36m0.6791148\u001b[0m  \u001b[1;36m0.85629921\u001b[0m \u001b[1;36m0.63927856\u001b[0m \u001b[1;36m0.26372832\u001b[0m \u001b[1;36m0.88776797\u001b[0m\n",
                            " \u001b[1;36m0.452\u001b[0m      \u001b[1;36m0.42740134\u001b[0m \u001b[1;36m0.65297741\u001b[0m \u001b[1;36m0.67638484\u001b[0m\u001b[1m]\u001b[0m\n"
                        ]
                    },
                    "metadata": {},
                    "output_type": "display_data"
                }
            ],
            "source": [
                "purity = purity_score(y_test, sk_y_preds)\n",
                "print(purity)\n",
                "purity_per_cluster = purity_score(y_test, sk_y_preds, per_cluster=True)\n",
                "print(purity_per_cluster)"
            ]
        },
        {
            "attachments": {},
            "cell_type": "markdown",
            "metadata": {},
            "source": [
                "Use distance metric `manhattan` instead of `euclidean` to see if we can get better results."
            ]
        },
        {
            "cell_type": "code",
            "execution_count": 35,
            "metadata": {},
            "outputs": [
                {
                    "data": {
                        "text/html": [
                            "<pre style=\"white-space:pre;overflow-x:auto;line-height:normal;font-family:Menlo,'DejaVu Sans Mono',consolas,'Courier New',monospace\">Using Seed Number <span style=\"color: #008080; text-decoration-color: #008080; font-weight: bold\">2023</span>\n",
                            "</pre>\n"
                        ],
                        "text/plain": [
                            "Using Seed Number \u001b[1;36m2023\u001b[0m\n"
                        ]
                    },
                    "metadata": {},
                    "output_type": "display_data"
                },
                {
                    "data": {
                        "text/html": [
                            "<pre style=\"white-space:pre;overflow-x:auto;line-height:normal;font-family:Menlo,'DejaVu Sans Mono',consolas,'Courier New',monospace\">Converged at iteration <span style=\"color: #008080; text-decoration-color: #008080; font-weight: bold\">46</span>\n",
                            "</pre>\n"
                        ],
                        "text/plain": [
                            "Converged at iteration \u001b[1;36m46\u001b[0m\n"
                        ]
                    },
                    "metadata": {},
                    "output_type": "display_data"
                }
            ],
            "source": [
                "kmeans = KMeansLloyd(\n",
                "    num_clusters=num_classes, init=\"random\", max_iter=150, random_state=2023, metric=\"manhattan\"\n",
                ")\n",
                "\n",
                "kmeans.fit(X_test)"
            ]
        },
        {
            "cell_type": "code",
            "execution_count": 36,
            "metadata": {},
            "outputs": [
                {
                    "data": {
                        "text/html": [
                            "<pre style=\"white-space:pre;overflow-x:auto;line-height:normal;font-family:Menlo,'DejaVu Sans Mono',consolas,'Courier New',monospace\">The inertia is <span style=\"color: #008080; text-decoration-color: #008080; font-weight: bold\">917674.1205970906</span>.\n",
                            "</pre>\n"
                        ],
                        "text/plain": [
                            "The inertia is \u001b[1;36m917674.1205970906\u001b[0m.\n"
                        ]
                    },
                    "metadata": {},
                    "output_type": "display_data"
                }
            ],
            "source": [
                "print(f\"The inertia is {kmeans.inertia}.\")"
            ]
        },
        {
            "cell_type": "code",
            "execution_count": 37,
            "metadata": {
                "tags": [
                    "output_scroll"
                ]
            },
            "outputs": [
                {
                    "data": {
                        "text/html": [
                            "<div>\n",
                            "<style scoped>\n",
                            "    .dataframe tbody tr th:only-of-type {\n",
                            "        vertical-align: middle;\n",
                            "    }\n",
                            "\n",
                            "    .dataframe tbody tr th {\n",
                            "        vertical-align: top;\n",
                            "    }\n",
                            "\n",
                            "    .dataframe thead th {\n",
                            "        text-align: right;\n",
                            "    }\n",
                            "</style>\n",
                            "<table border=\"1\" class=\"dataframe\">\n",
                            "  <thead>\n",
                            "    <tr style=\"text-align: right;\">\n",
                            "      <th></th>\n",
                            "      <th>pred=0</th>\n",
                            "      <th>pred=1</th>\n",
                            "      <th>pred=2</th>\n",
                            "      <th>pred=3</th>\n",
                            "      <th>pred=4</th>\n",
                            "      <th>pred=5</th>\n",
                            "      <th>pred=6</th>\n",
                            "      <th>pred=7</th>\n",
                            "      <th>pred=8</th>\n",
                            "      <th>pred=9</th>\n",
                            "    </tr>\n",
                            "  </thead>\n",
                            "  <tbody>\n",
                            "    <tr>\n",
                            "      <th>true=0</th>\n",
                            "      <td>2</td>\n",
                            "      <td>5</td>\n",
                            "      <td>14</td>\n",
                            "      <td>39</td>\n",
                            "      <td>44</td>\n",
                            "      <td>476</td>\n",
                            "      <td>21</td>\n",
                            "      <td>2</td>\n",
                            "      <td>30</td>\n",
                            "      <td>347</td>\n",
                            "    </tr>\n",
                            "    <tr>\n",
                            "      <th>true=1</th>\n",
                            "      <td>0</td>\n",
                            "      <td>0</td>\n",
                            "      <td>0</td>\n",
                            "      <td>0</td>\n",
                            "      <td>1</td>\n",
                            "      <td>0</td>\n",
                            "      <td>1</td>\n",
                            "      <td>0</td>\n",
                            "      <td>1133</td>\n",
                            "      <td>0</td>\n",
                            "    </tr>\n",
                            "    <tr>\n",
                            "      <th>true=2</th>\n",
                            "      <td>474</td>\n",
                            "      <td>8</td>\n",
                            "      <td>23</td>\n",
                            "      <td>2</td>\n",
                            "      <td>32</td>\n",
                            "      <td>18</td>\n",
                            "      <td>11</td>\n",
                            "      <td>52</td>\n",
                            "      <td>411</td>\n",
                            "      <td>1</td>\n",
                            "    </tr>\n",
                            "    <tr>\n",
                            "      <th>true=3</th>\n",
                            "      <td>6</td>\n",
                            "      <td>11</td>\n",
                            "      <td>24</td>\n",
                            "      <td>204</td>\n",
                            "      <td>507</td>\n",
                            "      <td>2</td>\n",
                            "      <td>2</td>\n",
                            "      <td>35</td>\n",
                            "      <td>219</td>\n",
                            "      <td>0</td>\n",
                            "    </tr>\n",
                            "    <tr>\n",
                            "      <th>true=4</th>\n",
                            "      <td>0</td>\n",
                            "      <td>463</td>\n",
                            "      <td>386</td>\n",
                            "      <td>0</td>\n",
                            "      <td>0</td>\n",
                            "      <td>1</td>\n",
                            "      <td>16</td>\n",
                            "      <td>0</td>\n",
                            "      <td>115</td>\n",
                            "      <td>1</td>\n",
                            "    </tr>\n",
                            "    <tr>\n",
                            "      <th>true=5</th>\n",
                            "      <td>1</td>\n",
                            "      <td>38</td>\n",
                            "      <td>115</td>\n",
                            "      <td>183</td>\n",
                            "      <td>200</td>\n",
                            "      <td>7</td>\n",
                            "      <td>8</td>\n",
                            "      <td>50</td>\n",
                            "      <td>286</td>\n",
                            "      <td>4</td>\n",
                            "    </tr>\n",
                            "    <tr>\n",
                            "      <th>true=6</th>\n",
                            "      <td>0</td>\n",
                            "      <td>12</td>\n",
                            "      <td>1</td>\n",
                            "      <td>2</td>\n",
                            "      <td>7</td>\n",
                            "      <td>16</td>\n",
                            "      <td>682</td>\n",
                            "      <td>0</td>\n",
                            "      <td>223</td>\n",
                            "      <td>15</td>\n",
                            "    </tr>\n",
                            "    <tr>\n",
                            "      <th>true=7</th>\n",
                            "      <td>5</td>\n",
                            "      <td>189</td>\n",
                            "      <td>704</td>\n",
                            "      <td>0</td>\n",
                            "      <td>0</td>\n",
                            "      <td>0</td>\n",
                            "      <td>0</td>\n",
                            "      <td>1</td>\n",
                            "      <td>129</td>\n",
                            "      <td>0</td>\n",
                            "    </tr>\n",
                            "    <tr>\n",
                            "      <th>true=8</th>\n",
                            "      <td>0</td>\n",
                            "      <td>14</td>\n",
                            "      <td>88</td>\n",
                            "      <td>83</td>\n",
                            "      <td>34</td>\n",
                            "      <td>6</td>\n",
                            "      <td>3</td>\n",
                            "      <td>424</td>\n",
                            "      <td>317</td>\n",
                            "      <td>5</td>\n",
                            "    </tr>\n",
                            "    <tr>\n",
                            "      <th>true=9</th>\n",
                            "      <td>1</td>\n",
                            "      <td>428</td>\n",
                            "      <td>498</td>\n",
                            "      <td>5</td>\n",
                            "      <td>4</td>\n",
                            "      <td>8</td>\n",
                            "      <td>3</td>\n",
                            "      <td>6</td>\n",
                            "      <td>55</td>\n",
                            "      <td>1</td>\n",
                            "    </tr>\n",
                            "  </tbody>\n",
                            "</table>\n",
                            "</div>"
                        ],
                        "text/plain": [
                            "        pred=0  pred=1  pred=2  pred=3  pred=4  pred=5  pred=6  pred=7  \\\n",
                            "true=0       2       5      14      39      44     476      21       2   \n",
                            "true=1       0       0       0       0       1       0       1       0   \n",
                            "true=2     474       8      23       2      32      18      11      52   \n",
                            "true=3       6      11      24     204     507       2       2      35   \n",
                            "true=4       0     463     386       0       0       1      16       0   \n",
                            "true=5       1      38     115     183     200       7       8      50   \n",
                            "true=6       0      12       1       2       7      16     682       0   \n",
                            "true=7       5     189     704       0       0       0       0       1   \n",
                            "true=8       0      14      88      83      34       6       3     424   \n",
                            "true=9       1     428     498       5       4       8       3       6   \n",
                            "\n",
                            "        pred=8  pred=9  \n",
                            "true=0      30     347  \n",
                            "true=1    1133       0  \n",
                            "true=2     411       1  \n",
                            "true=3     219       0  \n",
                            "true=4     115       1  \n",
                            "true=5     286       4  \n",
                            "true=6     223      15  \n",
                            "true=7     129       0  \n",
                            "true=8     317       5  \n",
                            "true=9      55       1  "
                        ]
                    },
                    "execution_count": 37,
                    "metadata": {},
                    "output_type": "execute_result"
                }
            ],
            "source": [
                "y_preds = kmeans.labels\n",
                "contingency_matrix_ = contingency_matrix(y_test, y_preds, as_dataframe=True)\n",
                "contingency_matrix_ "
            ]
        },
        {
            "cell_type": "code",
            "execution_count": 38,
            "metadata": {},
            "outputs": [
                {
                    "data": {
                        "text/html": [
                            "<pre style=\"white-space:pre;overflow-x:auto;line-height:normal;font-family:Menlo,'DejaVu Sans Mono',consolas,'Courier New',monospace\"><span style=\"color: #008080; text-decoration-color: #008080; font-weight: bold\">0.5414</span>\n",
                            "</pre>\n"
                        ],
                        "text/plain": [
                            "\u001b[1;36m0.5414\u001b[0m\n"
                        ]
                    },
                    "metadata": {},
                    "output_type": "display_data"
                },
                {
                    "data": {
                        "text/html": [
                            "<pre style=\"white-space:pre;overflow-x:auto;line-height:normal;font-family:Menlo,'DejaVu Sans Mono',consolas,'Courier New',monospace\"><span style=\"font-weight: bold\">[</span><span style=\"color: #008080; text-decoration-color: #008080; font-weight: bold\">0.96932515</span> <span style=\"color: #008080; text-decoration-color: #008080; font-weight: bold\">0.39640411</span> <span style=\"color: #008080; text-decoration-color: #008080; font-weight: bold\">0.37992445</span> <span style=\"color: #008080; text-decoration-color: #008080; font-weight: bold\">0.39382239</span> <span style=\"color: #008080; text-decoration-color: #008080; font-weight: bold\">0.61158022</span> <span style=\"color: #008080; text-decoration-color: #008080; font-weight: bold\">0.89138577</span>\n",
                            " <span style=\"color: #008080; text-decoration-color: #008080; font-weight: bold\">0.91298527</span> <span style=\"color: #008080; text-decoration-color: #008080; font-weight: bold\">0.74385965</span> <span style=\"color: #008080; text-decoration-color: #008080; font-weight: bold\">0.38827964</span> <span style=\"color: #008080; text-decoration-color: #008080; font-weight: bold\">0.92780749</span><span style=\"font-weight: bold\">]</span>\n",
                            "</pre>\n"
                        ],
                        "text/plain": [
                            "\u001b[1m[\u001b[0m\u001b[1;36m0.96932515\u001b[0m \u001b[1;36m0.39640411\u001b[0m \u001b[1;36m0.37992445\u001b[0m \u001b[1;36m0.39382239\u001b[0m \u001b[1;36m0.61158022\u001b[0m \u001b[1;36m0.89138577\u001b[0m\n",
                            " \u001b[1;36m0.91298527\u001b[0m \u001b[1;36m0.74385965\u001b[0m \u001b[1;36m0.38827964\u001b[0m \u001b[1;36m0.92780749\u001b[0m\u001b[1m]\u001b[0m\n"
                        ]
                    },
                    "metadata": {},
                    "output_type": "display_data"
                }
            ],
            "source": [
                "purity = purity_score(y_test, y_preds)\n",
                "print(purity)\n",
                "purity_per_cluster = purity_score(y_test, y_preds, per_cluster=True)\n",
                "print(purity_per_cluster)"
            ]
        },
        {
            "attachments": {},
            "cell_type": "markdown",
            "metadata": {},
            "source": [
                "Try cosine distance since vectors lie in a unit sphere?"
            ]
        }
    ],
    "metadata": {
        "kernelspec": {
            "display_name": "gaohn",
            "language": "python",
            "name": "python3"
        },
        "language_info": {
            "codemirror_mode": {
                "name": "ipython",
                "version": 3
            },
            "file_extension": ".py",
            "mimetype": "text/x-python",
            "name": "python",
            "nbconvert_exporter": "python",
            "pygments_lexer": "ipython3",
            "version": "3.9.16"
        },
        "orig_nbformat": 4,
        "vscode": {
            "interpreter": {
                "hash": "dcd450edf2a38ed593ba5af012e093d4d4ca63d14078fa56cd9563b2046eb57e"
            }
        }
    },
    "nbformat": 4,
    "nbformat_minor": 2
}
