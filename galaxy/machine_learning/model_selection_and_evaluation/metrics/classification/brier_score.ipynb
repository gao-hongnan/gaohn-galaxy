{
 "cells": [
  {
   "attachments": {},
   "cell_type": "markdown",
   "metadata": {},
   "source": [
    "# Brier Score\n",
    "\n",
    "The Brier score is a metric for evaluating the accuracy of probabilistic predictions. It is calculated by comparing the predicted probabilities of a model to the actual outcomes. The Brier score is a measure of the mean squared difference between the predicted probabilities and the actual outcomes. The lower the Brier score, the better the model is at predicting the actual outcomes.\n",
    "\n",
    "It is a proper scoring rule."
   ]
  }
 ],
 "metadata": {
  "language_info": {
   "name": "python"
  },
  "orig_nbformat": 4
 },
 "nbformat": 4,
 "nbformat_minor": 2
}
