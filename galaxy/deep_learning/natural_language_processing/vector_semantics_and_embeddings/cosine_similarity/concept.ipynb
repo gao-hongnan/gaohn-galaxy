{
 "cells": [
  {
   "attachments": {},
   "cell_type": "markdown",
   "metadata": {},
   "source": [
    "# Concept"
   ]
  },
  {
   "attachments": {},
   "cell_type": "markdown",
   "metadata": {},
   "source": [
    "## Definition\n",
    "\n",
    "```{prf:definition} Cosine Similarity\n",
    ":label: cosine-similarity-definition\n",
    "\n",
    "Given two vectors $\\mathbf{u}$ and $\\mathbf{v}$ defined as:\n",
    "\n",
    "$$\n",
    "\\mathbf{u}=\\begin{bmatrix}u_{1} \\\\ u_{2} \\\\ \\vdots \\\\ u_{n}\\end{bmatrix}, \\quad \\mathbf{v}=\\begin{bmatrix}v_{1} \\\\ v_{2} \\\\ \\vdots \\\\ v_{n}\\end{bmatrix}\n",
    "$$\n",
    "\n",
    "The **cosine** of two non-zero **vectors** can be derived by using the [**Euclidean dot product**](https://en.wikipedia.org/wiki/Dot_product#:~:text=Algebraically%2C%20the%20dot%20product%20is,equivalent%20when%20using%20Cartesian%20coordinates.) formula:\n",
    "\n",
    "$$\n",
    "\\mathbf{u} \\cdot \\mathbf{v}=\\|\\mathbf{u}\\|\\|\\mathbf{v}\\| \\cos \\theta\n",
    "$$\n",
    "\n",
    "where $\\theta$ is the angle between the two vectors.\n",
    "\n",
    "Given two $n$-dimensional vectors of attributes, $\\mathbf{u}$ and $\\mathbf{v}$, the $\\operatorname{cosine}$ similarity, $\\cos (\\theta)$, is represented using a dot product and magnitude as\n",
    "\n",
    "$$\n",
    "\\text { cosine similarity }=S_C(\\mathbf{u} , \\mathbf{v}):=\\cos (\\theta)=\\frac{\\mathbf{u} \\cdot \\mathbf{v}}{\\|\\mathbf{u}\\|\\|\\mathbf{v}\\|}=\\frac{\\sum_{i=1}^n u_i v_i}{\\sqrt{\\sum_{i=1}^n u_i^2} \\sqrt{\\sum_{i=1}^n v_i^2}},\n",
    "$$\n",
    "\n",
    "where $u_i$ and $v_i$ are the $i$ th components of vectors $\\mathbf{u}$ and $\\mathbf{v}$, respectively.\n",
    "```"
   ]
  },
  {
   "attachments": {},
   "cell_type": "markdown",
   "metadata": {},
   "source": [
    "## Cosine Distance\n",
    "\n",
    "The term cosine distance is commonly used for the complement of cosine similarity in positive space, that is\n",
    "\n",
    "$$\n",
    "\\text { cosine distance }=D_C(u, v):=1-S_C(u, v) .\n",
    "$$\n",
    "\n",
    "It is important to note that the cosine distance is not a true distance metric as it does not exhibit the triangle inequality property-or, more formally, the Schwarz inequality-and it violates the coincidence axiom. One way to see this is to note that the cosine distance is half of the squared Euclidean distance of the $L_2$ normalization of the vectors, and squared Euclidean distance does not satisfy the triangle inequality either. To repair the triangle inequality property while maintaining the same ordering, it is necessary to convert to angular distance or Euclidean distance. Alternatively, the triangular inequality that does work for angular distances can be expressed directly in terms of the cosines; see below."
   ]
  },
  {
   "attachments": {},
   "cell_type": "markdown",
   "metadata": {},
   "source": [
    "## Properties\n",
    "\n",
    "### Interpretation of Angles\n",
    "\n",
    "The following properties are adapted from [Wikipedia: Cosine Similarity](https://en.wikipedia.org/wiki/Cosine_similarity).\n",
    "\n",
    "The resulting similarity ranges from -1 meaning exactly opposite, to 1 meaning exactly the same, with 0 indicating orthogonality or decorrelation, while inbetween values indicate intermediate similarity or dissimilarity.\n",
    "\n",
    "To interpet the cosine similarity, we have the follows:\n",
    "\n",
    "- If the angle between the two vectors is $0^{\\circ}$, then the cosine similarity is $1$. This means that the two vectors are identical.\n",
    "- If the angle between the two vectors is $90^{\\circ}$, then the cosine similarity is $0$. This means that the two vectors are orthogonal.\n",
    "- If the angle between the two vectors is $180^{\\circ}$, then the cosine similarity is $-1$. This means that the two vectors are exactly opposite.\n",
    "- If the angle between the two vectors is anywhere between $0^{\\circ}$ and $90^{\\circ}$, then the cosine similarity is positive. This means that the two vectors are similar to the extent of the angle between them.\n",
    "\n",
    "---\n",
    "\n",
    "**For text matching**, the attribute vectors $u$ and $v$ are usually the term frequency vectors of the documents. Cosine similarity can be seen as a method of normalizing document length during comparison. In the case of information retrieval, the cosine similarity of two documents will range from $0 \\rightarrow 1$, since the term frequencies cannot be negative. This remains true when using TF-IDF weights. The angle between two term frequency vectors cannot be greater than $90^{\\circ}$.\n",
    "\n",
    "If the attribute vectors are normalized by subtracting the vector means (e.g., $u-\\bar{u}$ ), the measure is called the centered cosine similarity and is equivalent to the Pearson correlation coefficient. For an example of centering,\n",
    "if $u=\\left[u_1, u_2\\right]^T$, then $\\bar{u}=\\left[\\frac{\\left(u_1+u_2\\right)}{2}, \\frac{\\left(u_1+u_2\\right)}{2}\\right]^T$, so $u-\\bar{u}=\\left[\\frac{\\left(u_1-u_2\\right)}{2}, \\frac{\\left(-u_1+u_2\\right)}{2}\\right]^T$.\n",
    "\n",
    "\n",
    "### Relationship to Euclidean Distance\n",
    "\n",
    "The most noteworthy property of cosine similarity is that it reflects a relative, rather than absolute, comparison of the individual vector dimensions. For any constant $a$ and vector $V$, the vectors $V$ and $a V$ are maximally similar. The measure is thus most appropriate for data where frequency is more important than absolute values; notably, term frequency in documents. However more recent metrics with a grounding in information theory, such as JensenShannon, SED, and triangular divergence have been shown to have improved semantics in at least some contexts. \n",
    "\n",
    "Cosine similarity is related to Euclidean distance as follows. Denote Euclidean distance by the usual $\\|A-B\\|$, and observe that\n",
    "\n",
    "$$\n",
    "\\|A-B\\|^2=(A-B) \\cdot(A-B)=\\|A\\|^2+\\|B\\|^2-2(A \\cdot B) \\text { (polarization identity) }\n",
    "$$\n",
    "\n",
    "by expansion. When $A$ and $B$ are normalized to unit length, $\\|A\\|^2=\\|B\\|^2=1$ so this expression is equal to\n",
    "\n",
    "$$\n",
    "2(1-\\cos (A, B)) \\text {. }\n",
    "$$\n",
    "\n",
    "In short, the cosine distance can be expressed in terms of Euclidean distance as\n",
    "\n",
    "$$\n",
    "D_C(A, B)=\\frac{\\|A-B\\|^2}{2} \\quad \\text { when } \\quad\\|A\\|^2=\\|B\\|^2=1 .\n",
    "$$\n",
    "\n",
    "The Euclidean distance is called the chord distance (because it is the length of the chord on the unit circle) and it is the Euclidean distance between the vectors which were normalized to unit sum of squared values within them."
   ]
  },
  {
   "attachments": {},
   "cell_type": "markdown",
   "metadata": {},
   "source": [
    "## Visualizations\n",
    "\n",
    "**Consider plotting out below:**"
   ]
  },
  {
   "cell_type": "code",
   "execution_count": 10,
   "metadata": {},
   "outputs": [],
   "source": [
    "import numpy as np\n",
    "from scipy.spatial.distance import cosine\n",
    "from rich import print"
   ]
  },
  {
   "attachments": {},
   "cell_type": "markdown",
   "metadata": {},
   "source": [
    "In this case, the two vectors `a` and `b` are parallel and pointing in the same direction. The cosine of the angle between them is 1, which means the cosine similarity is also 1."
   ]
  },
  {
   "cell_type": "code",
   "execution_count": 11,
   "metadata": {},
   "outputs": [
    {
     "data": {
      "text/html": [
       "<pre style=\"white-space:pre;overflow-x:auto;line-height:normal;font-family:Menlo,'DejaVu Sans Mono',consolas,'Courier New',monospace\">The two vectors are parallel: <span style=\"color: #008080; text-decoration-color: #008080; font-weight: bold\">1.00</span>.\n",
       "</pre>\n"
      ],
      "text/plain": [
       "The two vectors are parallel: \u001b[1;36m1.00\u001b[0m.\n"
      ]
     },
     "metadata": {},
     "output_type": "display_data"
    }
   ],
   "source": [
    "a = np.array([1, 2, 3])\n",
    "b = np.array([2, 4, 6])\n",
    "cos_sim = 1 - cosine(a, b)\n",
    "print(f\"The two vectors are parallel: {cos_sim:.2f}.\")"
   ]
  },
  {
   "attachments": {},
   "cell_type": "markdown",
   "metadata": {},
   "source": [
    "In this case, the two vectors a and b are parallel but pointing in opposite directions. The cosine of the angle between them is -1, which means the cosine similarity is also -1."
   ]
  },
  {
   "cell_type": "code",
   "execution_count": 12,
   "metadata": {},
   "outputs": [
    {
     "data": {
      "text/html": [
       "<pre style=\"white-space:pre;overflow-x:auto;line-height:normal;font-family:Menlo,'DejaVu Sans Mono',consolas,'Courier New',monospace\">The two vectors are parallel but point in opposite directions: <span style=\"color: #008080; text-decoration-color: #008080; font-weight: bold\">-1.00</span>.\n",
       "</pre>\n"
      ],
      "text/plain": [
       "The two vectors are parallel but point in opposite directions: \u001b[1;36m-1.00\u001b[0m.\n"
      ]
     },
     "metadata": {},
     "output_type": "display_data"
    }
   ],
   "source": [
    "a = np.array([1, 2, 3])\n",
    "b = np.array([-1, -2, -3])\n",
    "cos_sim = 1 - cosine(a, b)\n",
    "print(f\"The two vectors are parallel but point in opposite directions: {cos_sim:.2f}.\")"
   ]
  },
  {
   "attachments": {},
   "cell_type": "markdown",
   "metadata": {},
   "source": [
    "When 2 vectors are similar, then we see that the cosine similarity is high. "
   ]
  },
  {
   "cell_type": "code",
   "execution_count": 13,
   "metadata": {},
   "outputs": [
    {
     "data": {
      "text/html": [
       "<pre style=\"white-space:pre;overflow-x:auto;line-height:normal;font-family:Menlo,'DejaVu Sans Mono',consolas,'Courier New',monospace\">The two vectors are not parallel but similar: <span style=\"color: #008080; text-decoration-color: #008080; font-weight: bold\">0.98</span>.\n",
       "</pre>\n"
      ],
      "text/plain": [
       "The two vectors are not parallel but similar: \u001b[1;36m0.98\u001b[0m.\n"
      ]
     },
     "metadata": {},
     "output_type": "display_data"
    }
   ],
   "source": [
    "a = np.array([1, 2, 3])\n",
    "b = np.array([3,4,5])\n",
    "cos_sim = 1 - cosine(a, b)\n",
    "print(f\"The two vectors are not parallel but similar: {cos_sim:.2f}.\")"
   ]
  },
  {
   "attachments": {},
   "cell_type": "markdown",
   "metadata": {},
   "source": [
    "When two vectors are orthogonal, the cosine similarity is 0."
   ]
  },
  {
   "cell_type": "code",
   "execution_count": 14,
   "metadata": {},
   "outputs": [
    {
     "data": {
      "text/html": [
       "<pre style=\"white-space:pre;overflow-x:auto;line-height:normal;font-family:Menlo,'DejaVu Sans Mono',consolas,'Courier New',monospace\">The two vectors are orthogonal: <span style=\"color: #008080; text-decoration-color: #008080; font-weight: bold\">0.00</span>.\n",
       "</pre>\n"
      ],
      "text/plain": [
       "The two vectors are orthogonal: \u001b[1;36m0.00\u001b[0m.\n"
      ]
     },
     "metadata": {},
     "output_type": "display_data"
    }
   ],
   "source": [
    "a = np.array([1, 0, 0])\n",
    "b = np.array([0, 1, 0])\n",
    "cos_sim = 1 - cosine(a, b)\n",
    "print(f\"The two vectors are orthogonal: {cos_sim:.2f}.\")"
   ]
  },
  {
   "attachments": {},
   "cell_type": "markdown",
   "metadata": {},
   "source": [
    "## Conceptual Questions"
   ]
  },
  {
   "attachments": {},
   "cell_type": "markdown",
   "metadata": {},
   "source": [
    "### Why do you divide by the magnitude of the vectors in the cosine similarity formula?\n",
    "\n",
    "**PLOT OUT**\n",
    "\n",
    "Recall that the dot product of two vectors $\\mathbf{u}$ and $\\mathbf{v}$ is defined as:\n",
    "\n",
    "$$\n",
    "\\begin{aligned}\n",
    "\\mathbf{u} \\cdot \\mathbf{v}&=\\sum_{i=1}^n u_i v_i \\\\\n",
    "&= u_1 v_1 + u_2 v_2 + \\cdots + u_n v_n\n",
    "\\end{aligned}\n",
    "$$\n",
    "\n",
    "The dot product in itself roughly tells you how two vector relate to each other.\n",
    "\n",
    "Consider the examples earlier:\n",
    "\n",
    "```python\n",
    "a = np.array([1, 2, 3])\n",
    "b = np.array([-1, -2, -3])\n",
    "```\n",
    "\n",
    "These two vectors are pointing in opposite directions, and therefore the dot product is negative, \n",
    "indicating dissimilarity.\n",
    "\n",
    "If they were pointing in the same direction, the dot product would be positive, indicating similarity.\n",
    "In general, the dot product is a measure of similarity.\n",
    "\n",
    "However, this is a problem as a long vector $\\mathbf{u}$ will naturally have higher dot product,\n",
    "especially if there exists large values in the vector.\n",
    "\n",
    "The description \"long\" can be made more precise by defining the length of a vector $\\mathbf{u}$ as:\n",
    "\n",
    "$$\n",
    "\\begin{aligned}\n",
    "\\|\\mathbf{u}\\|&=\\sqrt{\\mathbf{u} \\cdot \\mathbf{u}} \\\\\n",
    "&=\\sqrt{\\sum_{i=1}^n u_i^2}\n",
    "\\end{aligned}\n",
    "$$\n",
    "\n",
    "So, long vector means a vector with large magnitude.\n",
    "\n",
    "Consider the word that is a frequent word, such as `the`, this word co-occurs with other words often, \n",
    "and also appear in many documents, and hence it has many large values in the vector. Therefore, the word vector for `the` will be dense, and have large values (large frequency).\n",
    "\n",
    "We do not want this property since we want to know how similar two words (vectors) are, regardless of the frequency of the words.\n",
    "\n",
    "Thus, if we normalize the dot product by the magnitude of the vectors, we can get a measure of similarity that is independent of the magnitude of the vectors."
   ]
  },
  {
   "attachments": {},
   "cell_type": "markdown",
   "metadata": {},
   "source": [
    "Let's define 3 words:\n",
    "\n",
    "- `a`: represents the word \"cat\";\n",
    "- `b`: represents the word \"the\";\n",
    "- `c`: represents the word \"he\"."
   ]
  },
  {
   "cell_type": "code",
   "execution_count": 15,
   "metadata": {},
   "outputs": [],
   "source": [
    "a = np.array([100, 200, 300]) # word = cat\n",
    "b = np.array([3000,4000,5000]) # word = the\n",
    "c = np.array([2500, 4000, 6000]) # word = he"
   ]
  },
  {
   "attachments": {},
   "cell_type": "markdown",
   "metadata": {},
   "source": [
    "Each vector represents a 3-dimensional vector where each dimensional corresponds to the frequency of the word across $3$ documents, `doc1`, `doc2`, and `doc3`.\n",
    "\n",
    "We see that the word `the` and `he` is **long** because they have large magnitude, and the word `cat` is **short** because it has small magnitude.\n",
    "\n",
    "Let's compute the dot product between each pair."
   ]
  },
  {
   "cell_type": "code",
   "execution_count": 16,
   "metadata": {},
   "outputs": [
    {
     "data": {
      "text/html": [
       "<pre style=\"white-space:pre;overflow-x:auto;line-height:normal;font-family:Menlo,'DejaVu Sans Mono',consolas,'Courier New',monospace\"><span style=\"color: #008080; text-decoration-color: #008080; font-weight: bold\">2600000</span>\n",
       "</pre>\n"
      ],
      "text/plain": [
       "\u001b[1;36m2600000\u001b[0m\n"
      ]
     },
     "metadata": {},
     "output_type": "display_data"
    },
    {
     "data": {
      "text/html": [
       "<pre style=\"white-space:pre;overflow-x:auto;line-height:normal;font-family:Menlo,'DejaVu Sans Mono',consolas,'Courier New',monospace\"><span style=\"color: #008080; text-decoration-color: #008080; font-weight: bold\">2850000</span>\n",
       "</pre>\n"
      ],
      "text/plain": [
       "\u001b[1;36m2850000\u001b[0m\n"
      ]
     },
     "metadata": {},
     "output_type": "display_data"
    },
    {
     "data": {
      "text/html": [
       "<pre style=\"white-space:pre;overflow-x:auto;line-height:normal;font-family:Menlo,'DejaVu Sans Mono',consolas,'Courier New',monospace\"><span style=\"color: #008080; text-decoration-color: #008080; font-weight: bold\">53500000</span>\n",
       "</pre>\n"
      ],
      "text/plain": [
       "\u001b[1;36m53500000\u001b[0m\n"
      ]
     },
     "metadata": {},
     "output_type": "display_data"
    }
   ],
   "source": [
    "dot_ab = np.dot(a, b)\n",
    "dot_ac = np.dot(a, c)\n",
    "dot_bc = np.dot(b, c)\n",
    "print(dot_ab)  # Output: 26000000\n",
    "print(dot_ac)  # Output: 28000000\n",
    "print(dot_bc)  # Output: 52000000"
   ]
  },
  {
   "attachments": {},
   "cell_type": "markdown",
   "metadata": {},
   "source": [
    "So the word `cat` and `the` are similar, but `the` and `he` are even more similar, by a much larger scale as\n",
    "can be seen. This is purely because `the` is a very frequent word, and hence it has a very large magnitude (long)\n",
    "and so is `he`, but this does not diminish the importance of the similarity between `the` and `cat` for example.\n",
    "So dot product does not take this into account."
   ]
  },
  {
   "attachments": {},
   "cell_type": "markdown",
   "metadata": {},
   "source": [
    "Let's use the cosine similarity formula to measure the similarity between the words,\n",
    "and now the scale difference is not as large since we are looking at the angles between two vectors,\n",
    "regarless of the magnitude of the vectors."
   ]
  },
  {
   "cell_type": "code",
   "execution_count": 17,
   "metadata": {},
   "outputs": [
    {
     "data": {
      "text/html": [
       "<pre style=\"white-space:pre;overflow-x:auto;line-height:normal;font-family:Menlo,'DejaVu Sans Mono',consolas,'Courier New',monospace\"><span style=\"color: #008080; text-decoration-color: #008080; font-weight: bold\">0.9827076298239907</span>\n",
       "</pre>\n"
      ],
      "text/plain": [
       "\u001b[1;36m0.9827076298239907\u001b[0m\n"
      ]
     },
     "metadata": {},
     "output_type": "display_data"
    },
    {
     "data": {
      "text/html": [
       "<pre style=\"white-space:pre;overflow-x:auto;line-height:normal;font-family:Menlo,'DejaVu Sans Mono',consolas,'Courier New',monospace\"><span style=\"color: #008080; text-decoration-color: #008080; font-weight: bold\">0.9980053681713515</span>\n",
       "</pre>\n"
      ],
      "text/plain": [
       "\u001b[1;36m0.9980053681713515\u001b[0m\n"
      ]
     },
     "metadata": {},
     "output_type": "display_data"
    },
    {
     "data": {
      "text/html": [
       "<pre style=\"white-space:pre;overflow-x:auto;line-height:normal;font-family:Menlo,'DejaVu Sans Mono',consolas,'Courier New',monospace\"><span style=\"color: #008080; text-decoration-color: #008080; font-weight: bold\">0.99133585686985</span>\n",
       "</pre>\n"
      ],
      "text/plain": [
       "\u001b[1;36m0.99133585686985\u001b[0m\n"
      ]
     },
     "metadata": {},
     "output_type": "display_data"
    }
   ],
   "source": [
    "cosine_ab = 1 - cosine(a, b)\n",
    "cosine_ac = 1 - cosine(a, c)\n",
    "cosine_bc = 1 - cosine(b, c)\n",
    "print(cosine_ab)  # Output: 0.9746318461970762\n",
    "print(cosine_ac)  # Output: 0.9746318461970762\n",
    "print(cosine_bc)  # Output: 0.9746318461970762"
   ]
  },
  {
   "attachments": {},
   "cell_type": "markdown",
   "metadata": {},
   "source": [
    "If summarize in one sentence, cosine similarity takes relative angles between two vectors into account,\n",
    "regardless of the magnitude of the vectors."
   ]
  },
  {
   "attachments": {},
   "cell_type": "markdown",
   "metadata": {},
   "source": [
    "### Why can't we use the Euclidean distance as a similarity measure?\n",
    "\n",
    "\n",
    "First the Euclidean distance between two vectors\n",
    "$\\mathbf{u}$ and $\\mathbf{v}$ is defined as:\n",
    "\n",
    "$$\n",
    "\\begin{aligned}\n",
    "\\|\\mathbf{u}-\\mathbf{v}\\|&=\\sqrt{\\left(\\mathbf{u}-\\mathbf{v}\\right) \\cdot \\left(\\mathbf{u}-\\mathbf{v}\\right)} \\\\\n",
    "&=\\sqrt{\\sum_{i=1}^n \\left(u_i-v_i\\right)^2}\n",
    "\\end{aligned}\n",
    "$$\n",
    "\n",
    "Let's use the same example."
   ]
  },
  {
   "cell_type": "code",
   "execution_count": 18,
   "metadata": {},
   "outputs": [
    {
     "data": {
      "text/html": [
       "<pre style=\"white-space:pre;overflow-x:auto;line-height:normal;font-family:Menlo,'DejaVu Sans Mono',consolas,'Courier New',monospace\"><span style=\"color: #008080; text-decoration-color: #008080; font-weight: bold\">6703.730304837748</span>\n",
       "</pre>\n"
      ],
      "text/plain": [
       "\u001b[1;36m6703.730304837748\u001b[0m\n"
      ]
     },
     "metadata": {},
     "output_type": "display_data"
    },
    {
     "data": {
      "text/html": [
       "<pre style=\"white-space:pre;overflow-x:auto;line-height:normal;font-family:Menlo,'DejaVu Sans Mono',consolas,'Courier New',monospace\"><span style=\"color: #008080; text-decoration-color: #008080; font-weight: bold\">7258.787777583802</span>\n",
       "</pre>\n"
      ],
      "text/plain": [
       "\u001b[1;36m7258.787777583802\u001b[0m\n"
      ]
     },
     "metadata": {},
     "output_type": "display_data"
    },
    {
     "data": {
      "text/html": [
       "<pre style=\"white-space:pre;overflow-x:auto;line-height:normal;font-family:Menlo,'DejaVu Sans Mono',consolas,'Courier New',monospace\"><span style=\"color: #008080; text-decoration-color: #008080; font-weight: bold\">1118.033988749895</span>\n",
       "</pre>\n"
      ],
      "text/plain": [
       "\u001b[1;36m1118.033988749895\u001b[0m\n"
      ]
     },
     "metadata": {},
     "output_type": "display_data"
    }
   ],
   "source": [
    "a = np.array([100, 200, 300]) # word = cat\n",
    "b = np.array([3000,4000,5000]) # word = the\n",
    "c = np.array([2500, 4000, 6000]) # word = he\n",
    "\n",
    "euclidean_ab = np.linalg.norm(a - b)\n",
    "euclidean_ac = np.linalg.norm(a - c)\n",
    "euclidean_bc = np.linalg.norm(b - c)\n",
    "\n",
    "print(euclidean_ab)  \n",
    "print(euclidean_ac)  \n",
    "print(euclidean_bc) "
   ]
  },
  {
   "attachments": {},
   "cell_type": "markdown",
   "metadata": {},
   "source": [
    "It shows that the word `cat` is very dissimilar to `the` and `he` when compared to the word `the` and `he`, this is because the Euclidean distance is large between `cat` and `the` and `he`, and small between `the` and `he`.\n",
    "\n",
    "Once again, the magnitude of the vectors is a problem, as when a vector is large in magnitude, the Euclidean distance is naturally dominated by the magnitude of the vector."
   ]
  },
  {
   "attachments": {},
   "cell_type": "markdown",
   "metadata": {},
   "source": [
    "## References and Further Readings\n",
    "\n",
    "- Wikipedia Contributors. “Cosine Similarity.” Wikipedia. Wikimedia Foundation, February 26, 2023. https://en.wikipedia.org/wiki/Cosine_similarity.\n",
    "- Jurafsky, Dan, and James H. Martin. \"Chapter 6.4. Cosine for Measuring Similarity.\" In Speech and Language Processing: An Introduction to Natural Language Processing, Computational Linguistics, and Speech Recognition. Pearson, 2022."
   ]
  }
 ],
 "metadata": {
  "kernelspec": {
   "display_name": "gaohn",
   "language": "python",
   "name": "python3"
  },
  "language_info": {
   "codemirror_mode": {
    "name": "ipython",
    "version": 3
   },
   "file_extension": ".py",
   "mimetype": "text/x-python",
   "name": "python",
   "nbconvert_exporter": "python",
   "pygments_lexer": "ipython3",
   "version": "3.8.13"
  },
  "orig_nbformat": 4,
  "vscode": {
   "interpreter": {
    "hash": "dcd450edf2a38ed593ba5af012e093d4d4ca63d14078fa56cd9563b2046eb57e"
   }
  }
 },
 "nbformat": 4,
 "nbformat_minor": 2
}
