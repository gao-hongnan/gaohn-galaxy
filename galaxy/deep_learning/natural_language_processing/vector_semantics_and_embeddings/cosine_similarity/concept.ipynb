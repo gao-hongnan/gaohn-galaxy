{
 "cells": [
  {
   "attachments": {},
   "cell_type": "markdown",
   "metadata": {},
   "source": [
    "# Concept"
   ]
  },
  {
   "attachments": {},
   "cell_type": "markdown",
   "metadata": {},
   "source": [
    "## Definition\n",
    "\n",
    "```{prf:definition} Cosine Similarity\n",
    ":label: cosine-similarity-definition\n",
    "\n",
    "The cosine of two non-zero vectors can be derived by using the Euclidean dot product formula:\n",
    "\n",
    "$$\n",
    "\\mathbf{u} \\cdot \\mathbf{v}=\\|\\mathbf{u}\\|\\|\\mathbf{v}\\| \\cos \\theta\n",
    "$$\n",
    "\n",
    "Given two $n$-dimensional vectors of attributes, $\\mathbf{u}$ and $\\mathbf{v}$, the $\\operatorname{cosine}$ similarity, $\\cos (\\theta)$, is represented using a dot product and magnitude as\n",
    "\n",
    "$$\n",
    "\\text { cosine similarity }=S_C(\\mathbf{u} , \\mathbf{v}):=\\cos (\\theta)=\\frac{\\mathbf{u} \\cdot \\mathbf{v}}{\\|\\mathbf{u}\\|\\|\\mathbf{v}\\|}=\\frac{\\sum_{i=1}^n u_i v_i}{\\sqrt{\\sum_{i=1}^n u_i^2} \\sqrt{\\sum_{i=1}^n v_i^2}},\n",
    "$$\n",
    "\n",
    "where $u_i$ and $v_i$ are the $i$ th components of vectors $\\mathbf{u}$ and $\\mathbf{v}$, respectively.\n",
    "```"
   ]
  },
  {
   "attachments": {},
   "cell_type": "markdown",
   "metadata": {},
   "source": [
    "## Properties\n",
    "\n",
    "Following extracted from Wikipedia:\n",
    "\n",
    "The resulting similarity ranges from -1 meaning exactly opposite, to 1 meaning exactly the same, with 0 indicating orthogonality or decorrelation, while inbetween values indicate intermediate similarity or dissimilarity.\n",
    "\n",
    "For text matching, the attribute vectors $u$ and $v$ are usually the term frequency vectors of the documents. Cosine similarity can be seen as a method of normalizing document length during comparison. In the case of information retrieval, the cosine similarity of two documents will range from $0 \\rightarrow 1$, since the term frequencies cannot be negative. This remains true when using TF-IDF weights. The angle between two term frequency vectors cannot be greater than $90^{\\circ}$.\n",
    "\n",
    "If the attribute vectors are normalized by subtracting the vector means (e.g., $u-\\bar{u}$ ), the measure is called the centered cosine similarity and is equivalent to the Pearson correlation coefficient. For an example of centering,\n",
    "if $u=\\left[u_1, u_2\\right]^T$, then $\\bar{u}=\\left[\\frac{\\left(u_1+u_2\\right)}{2}, \\frac{\\left(u_1+u_2\\right)}{2}\\right]^T$, so $u-\\bar{u}=\\left[\\frac{\\left(u_1-u_2\\right)}{2}, \\frac{\\left(-u_1+u_2\\right)}{2}\\right]^T$.\n",
    "\n",
    "The term cosine distance is commonly used for the complement of cosine similarity in positive space, that is\n",
    "\n",
    "$$\n",
    "\\text { cosine distance }=D_C(u, v):=1-S_C(u, v) .\n",
    "$$\n",
    "\n",
    "It is important to note that the cosine distance is not a true distance metric as it does not exhibit the triangle inequality property-or, more formally, the Schwarz inequality-and it violates the coincidence axiom. One way to see this is to note that the cosine distance is half of the squared Euclidean distance of the $L_2$ normalization of the vectors, and squared Euclidean distance does not satisfy the triangle inequality either. To repair the triangle inequality property while maintaining the same ordering, it is necessary to convert to angular distance or Euclidean distance. Alternatively, the triangular inequality that does work for angular distances can be expressed directly in terms of the cosines; see below.\n",
    "\n",
    "The most noteworthy property of cosine similarity is that it reflects a relative, rather than absolute, comparison of the individual vector dimensions. For any constant $a$ and vector $V$, the vectors $V$ and $a V$ are maximally similar. The measure is thus most appropriate for data where frequency is more important than absolute values; notably, term frequency in documents. However more recent metrics with a grounding in information theory, such as JensenShannon, SED, and triangular divergence have been shown to have improved semantics in at least some contexts. \n",
    "\n",
    "Cosine similarity is related to Euclidean distance as follows. Denote Euclidean distance by the usual $\\|A-B\\|$, and observe that\n",
    "\n",
    "$$\n",
    "\\|A-B\\|^2=(A-B) \\cdot(A-B)=\\|A\\|^2+\\|B\\|^2-2(A \\cdot B) \\text { (polarization identity) }\n",
    "$$\n",
    "\n",
    "by expansion. When $A$ and $B$ are normalized to unit length, $\\|A\\|^2=\\|B\\|^2=1$ so this expression is equal to\n",
    "\n",
    "$$\n",
    "2(1-\\cos (A, B)) \\text {. }\n",
    "$$\n",
    "\n",
    "In short, the cosine distance can be expressed in terms of Euclidean distance as\n",
    "\n",
    "$$\n",
    "D_C(A, B)=\\frac{\\|A-B\\|^2}{2} \\quad \\text { when } \\quad\\|A\\|^2=\\|B\\|^2=1 .\n",
    "$$\n",
    "\n",
    "The Euclidean distance is called the chord distance (because it is the length of the chord on the unit circle) and it is the Euclidean distance between the vectors which were normalized to unit sum of squared values within them.\n",
    "\n",
    "Null distribution: For data which can be negative as well as positive, the null distribution for cosine similarity is the distribution of the dot product of two independent random unit vectors. This distribution has a mean of zero and a variance of $1 / n$ (where $n$ is the number of dimensions), and although the distribution is bounded between $-1$ and $+1$, as $n$ grows large the distribution is increasingly well-approximated by the normal distribution. Other types of data such as bitstreams, which only take the values 0 or 1 , the null distribution takes a different form and may have a nonzero mean."
   ]
  },
  {
   "attachments": {},
   "cell_type": "markdown",
   "metadata": {},
   "source": [
    "**Consider plotting out below:**"
   ]
  },
  {
   "cell_type": "code",
   "execution_count": 17,
   "metadata": {},
   "outputs": [],
   "source": [
    "import numpy as np\n",
    "from scipy.spatial.distance import cosine\n",
    "from rich import print"
   ]
  },
  {
   "attachments": {},
   "cell_type": "markdown",
   "metadata": {},
   "source": [
    "In this case, the two vectors `a` and `b` are parallel and pointing in the same direction. The cosine of the angle between them is 1, which means the cosine similarity is also 1."
   ]
  },
  {
   "cell_type": "code",
   "execution_count": 18,
   "metadata": {},
   "outputs": [
    {
     "data": {
      "text/html": [
       "<pre style=\"white-space:pre;overflow-x:auto;line-height:normal;font-family:Menlo,'DejaVu Sans Mono',consolas,'Courier New',monospace\"><span style=\"color: #008080; text-decoration-color: #008080; font-weight: bold\">1</span>\n",
       "</pre>\n"
      ],
      "text/plain": [
       "\u001b[1;36m1\u001b[0m\n"
      ]
     },
     "metadata": {},
     "output_type": "display_data"
    }
   ],
   "source": [
    "a = np.array([1, 2, 3])\n",
    "b = np.array([2, 4, 6])\n",
    "cos_sim = 1 - cosine(a, b)\n",
    "print(cos_sim)  # Output: 1.0"
   ]
  },
  {
   "attachments": {},
   "cell_type": "markdown",
   "metadata": {},
   "source": [
    "In this case, the two vectors a and b are parallel but pointing in opposite directions. The cosine of the angle between them is -1, which means the cosine similarity is also -1."
   ]
  },
  {
   "cell_type": "code",
   "execution_count": 19,
   "metadata": {},
   "outputs": [
    {
     "data": {
      "text/html": [
       "<pre style=\"white-space:pre;overflow-x:auto;line-height:normal;font-family:Menlo,'DejaVu Sans Mono',consolas,'Courier New',monospace\"><span style=\"color: #008080; text-decoration-color: #008080; font-weight: bold\">-1.0</span>\n",
       "</pre>\n"
      ],
      "text/plain": [
       "\u001b[1;36m-1.0\u001b[0m\n"
      ]
     },
     "metadata": {},
     "output_type": "display_data"
    }
   ],
   "source": [
    "a = np.array([1, 2, 3])\n",
    "b = np.array([-1, -2, -3])\n",
    "cos_sim =  1 - cosine(a, b)\n",
    "print(cos_sim)  # Output: -1.0\n"
   ]
  },
  {
   "attachments": {},
   "cell_type": "markdown",
   "metadata": {},
   "source": [
    "When 2 vectors are similar, then we see that the cosine similarity is high. "
   ]
  },
  {
   "cell_type": "code",
   "execution_count": 20,
   "metadata": {},
   "outputs": [
    {
     "data": {
      "text/html": [
       "<pre style=\"white-space:pre;overflow-x:auto;line-height:normal;font-family:Menlo,'DejaVu Sans Mono',consolas,'Courier New',monospace\"><span style=\"color: #008080; text-decoration-color: #008080; font-weight: bold\">0.9827076298239907</span>\n",
       "</pre>\n"
      ],
      "text/plain": [
       "\u001b[1;36m0.9827076298239907\u001b[0m\n"
      ]
     },
     "metadata": {},
     "output_type": "display_data"
    }
   ],
   "source": [
    "a = np.array([1, 2, 3])\n",
    "b = np.array([3,4,5])\n",
    "cos_sim = 1 - cosine(a, b)\n",
    "print(cos_sim)  # Output: 0.9746318461970762\n"
   ]
  },
  {
   "attachments": {},
   "cell_type": "markdown",
   "metadata": {},
   "source": [
    "When two vectors are orthogonal, the cosine similarity is 0."
   ]
  },
  {
   "cell_type": "code",
   "execution_count": 21,
   "metadata": {},
   "outputs": [
    {
     "data": {
      "text/html": [
       "<pre style=\"white-space:pre;overflow-x:auto;line-height:normal;font-family:Menlo,'DejaVu Sans Mono',consolas,'Courier New',monospace\"><span style=\"color: #008080; text-decoration-color: #008080; font-weight: bold\">0.0</span>\n",
       "</pre>\n"
      ],
      "text/plain": [
       "\u001b[1;36m0.0\u001b[0m\n"
      ]
     },
     "metadata": {},
     "output_type": "display_data"
    }
   ],
   "source": [
    "a = np.array([1, 0, 0])\n",
    "b = np.array([0, 1, 0])\n",
    "cos_sim = 1 - cosine(a, b)\n",
    "print(cos_sim)  # Output: 0.0"
   ]
  },
  {
   "cell_type": "code",
   "execution_count": null,
   "metadata": {},
   "outputs": [],
   "source": []
  },
  {
   "attachments": {},
   "cell_type": "markdown",
   "metadata": {},
   "source": [
    "## Conceptual Questions"
   ]
  },
  {
   "attachments": {},
   "cell_type": "markdown",
   "metadata": {},
   "source": [
    "### Why do you divide by the magnitude of the vectors in the cosine similarity formula?\n",
    "\n",
    "**PLOT OUT**\n",
    "\n",
    "Recall that the dot product of two vectors $\\mathbf{u}$ and $\\mathbf{v}$ is defined as:\n",
    "\n",
    "$$\n",
    "\\begin{aligned}\n",
    "\\mathbf{u} \\cdot \\mathbf{v}&=\\sum_{i=1}^n u_i v_i \\\\\n",
    "&= u_1 v_1 + u_2 v_2 + \\cdots + u_n v_n\n",
    "\\end{aligned}\n",
    "$$\n",
    "\n",
    "The dot product in itself roughly tells you how two vector relate to each other.\n",
    "\n",
    "Consider the examples earlier:\n",
    "\n",
    "```python\n",
    "a = np.array([1, 2, 3])\n",
    "b = np.array([-1, -2, -3])\n",
    "```\n",
    "\n",
    "These two vectors are pointing in opposite directions, and therefore the dot product is negative, \n",
    "indicating dissimilarity.\n",
    "\n",
    "If they were pointing in the same direction, the dot product would be positive, indicating similarity.\n",
    "In general, the dot product is a measure of similarity.\n",
    "\n",
    "However, this is a problem as a long vector $\\mathbf{u}$ will naturally have higher dot product,\n",
    "especially if there exists large values in the vector.\n",
    "\n",
    "The description \"long\" can be made more precise by defining the length of a vector $\\mathbf{u}$ as:\n",
    "\n",
    "$$\n",
    "\\begin{aligned}\n",
    "\\|\\mathbf{u}\\|&=\\sqrt{\\mathbf{u} \\cdot \\mathbf{u}} \\\\\n",
    "&=\\sqrt{\\sum_{i=1}^n u_i^2}\n",
    "\\end{aligned}\n",
    "$$\n",
    "\n",
    "So, long vector means a vector with large magnitude.\n",
    "\n",
    "Consider the word that is a frequent word, such as `good`, this word co-occurs with other words often, \n",
    "and also appear in many documents, and hence it has many large values in the vector. Therefore, the word vector for `good` will be dense, and have large values (large frequency).\n",
    "\n",
    "We do not want this property since we want to know how similar two words (vectors) are, regardless of the frequency of the words.\n",
    "\n",
    "Thus, if we normalize the dot product by the magnitude of the vectors, we can get a measure of similarity that is independent of the magnitude of the vectors."
   ]
  },
  {
   "cell_type": "code",
   "execution_count": 25,
   "metadata": {},
   "outputs": [
    {
     "data": {
      "text/html": [
       "<pre style=\"white-space:pre;overflow-x:auto;line-height:normal;font-family:Menlo,'DejaVu Sans Mono',consolas,'Courier New',monospace\"><span style=\"color: #008080; text-decoration-color: #008080; font-weight: bold\">2600000</span>\n",
       "</pre>\n"
      ],
      "text/plain": [
       "\u001b[1;36m2600000\u001b[0m\n"
      ]
     },
     "metadata": {},
     "output_type": "display_data"
    },
    {
     "data": {
      "text/html": [
       "<pre style=\"white-space:pre;overflow-x:auto;line-height:normal;font-family:Menlo,'DejaVu Sans Mono',consolas,'Courier New',monospace\"><span style=\"color: #008080; text-decoration-color: #008080; font-weight: bold\">2850000</span>\n",
       "</pre>\n"
      ],
      "text/plain": [
       "\u001b[1;36m2850000\u001b[0m\n"
      ]
     },
     "metadata": {},
     "output_type": "display_data"
    },
    {
     "data": {
      "text/html": [
       "<pre style=\"white-space:pre;overflow-x:auto;line-height:normal;font-family:Menlo,'DejaVu Sans Mono',consolas,'Courier New',monospace\"><span style=\"color: #008080; text-decoration-color: #008080; font-weight: bold\">53500000</span>\n",
       "</pre>\n"
      ],
      "text/plain": [
       "\u001b[1;36m53500000\u001b[0m\n"
      ]
     },
     "metadata": {},
     "output_type": "display_data"
    }
   ],
   "source": [
    "a = np.array([100, 200, 300]) # word = cat\n",
    "b = np.array([3000,4000,5000]) # word = the\n",
    "c = np.array([2500, 4000, 6000]) # word = he\n",
    "dot_ab = np.dot(a, b)\n",
    "dot_ac = np.dot(a, c)\n",
    "dot_bc = np.dot(b, c)\n",
    "print(dot_ab)  # Output: 26000000\n",
    "print(dot_ac)  # Output: 28000000\n",
    "print(dot_bc)  # Output: 52000000\n",
    "\n"
   ]
  },
  {
   "attachments": {},
   "cell_type": "markdown",
   "metadata": {},
   "source": [
    "So the word `cat` and `the` are similar, but `the` and `he` are even more similar, by a much larger scale as\n",
    "can be seen. This is purely because `the` is a very frequent word, and hence it has a very large magnitude (long)\n",
    "and so is `he`, but this does not diminish the importance of the similarity between `the` and `cat` for example.\n",
    "So dot product does not take this into account."
   ]
  },
  {
   "attachments": {},
   "cell_type": "markdown",
   "metadata": {},
   "source": [
    "Let's use the cosine similarity formula to measure the similarity between the words,\n",
    "and now the scale difference is not as large since we are looking at the angles between two vectors,\n",
    "regarless of the magnitude of the vectors."
   ]
  },
  {
   "cell_type": "code",
   "execution_count": 26,
   "metadata": {},
   "outputs": [
    {
     "data": {
      "text/html": [
       "<pre style=\"white-space:pre;overflow-x:auto;line-height:normal;font-family:Menlo,'DejaVu Sans Mono',consolas,'Courier New',monospace\"><span style=\"color: #008080; text-decoration-color: #008080; font-weight: bold\">0.9827076298239907</span>\n",
       "</pre>\n"
      ],
      "text/plain": [
       "\u001b[1;36m0.9827076298239907\u001b[0m\n"
      ]
     },
     "metadata": {},
     "output_type": "display_data"
    },
    {
     "data": {
      "text/html": [
       "<pre style=\"white-space:pre;overflow-x:auto;line-height:normal;font-family:Menlo,'DejaVu Sans Mono',consolas,'Courier New',monospace\"><span style=\"color: #008080; text-decoration-color: #008080; font-weight: bold\">0.9980053681713515</span>\n",
       "</pre>\n"
      ],
      "text/plain": [
       "\u001b[1;36m0.9980053681713515\u001b[0m\n"
      ]
     },
     "metadata": {},
     "output_type": "display_data"
    },
    {
     "data": {
      "text/html": [
       "<pre style=\"white-space:pre;overflow-x:auto;line-height:normal;font-family:Menlo,'DejaVu Sans Mono',consolas,'Courier New',monospace\"><span style=\"color: #008080; text-decoration-color: #008080; font-weight: bold\">0.99133585686985</span>\n",
       "</pre>\n"
      ],
      "text/plain": [
       "\u001b[1;36m0.99133585686985\u001b[0m\n"
      ]
     },
     "metadata": {},
     "output_type": "display_data"
    }
   ],
   "source": [
    "cosine_ab = 1 - cosine(a, b)\n",
    "cosine_ac = 1 - cosine(a, c)\n",
    "cosine_bc = 1 - cosine(b, c)\n",
    "print(cosine_ab)  # Output: 0.9746318461970762\n",
    "print(cosine_ac)  # Output: 0.9746318461970762\n",
    "print(cosine_bc)  # Output: 0.9746318461970762"
   ]
  },
  {
   "attachments": {},
   "cell_type": "markdown",
   "metadata": {},
   "source": [
    "If summarize in one sentence, cosine similarity takes relative angles between two vectors into account,\n",
    "regardless of the magnitude of the vectors."
   ]
  },
  {
   "attachments": {},
   "cell_type": "markdown",
   "metadata": {},
   "source": [
    "### Why can't we use the Euclidean distance as a similarity measure?\n",
    "\n",
    "**SEE my handwritten notes**."
   ]
  },
  {
   "attachments": {},
   "cell_type": "markdown",
   "metadata": {},
   "source": [
    "## Further Readings\n",
    "\n",
    "- https://en.wikipedia.org/wiki/Cosine_similarity\n",
    "- nlp bible"
   ]
  }
 ],
 "metadata": {
  "kernelspec": {
   "display_name": "gaohn",
   "language": "python",
   "name": "python3"
  },
  "language_info": {
   "codemirror_mode": {
    "name": "ipython",
    "version": 3
   },
   "file_extension": ".py",
   "mimetype": "text/x-python",
   "name": "python",
   "nbconvert_exporter": "python",
   "pygments_lexer": "ipython3",
   "version": "3.8.15"
  },
  "orig_nbformat": 4,
  "vscode": {
   "interpreter": {
    "hash": "dcd450edf2a38ed593ba5af012e093d4d4ca63d14078fa56cd9563b2046eb57e"
   }
  }
 },
 "nbformat": 4,
 "nbformat_minor": 2
}
