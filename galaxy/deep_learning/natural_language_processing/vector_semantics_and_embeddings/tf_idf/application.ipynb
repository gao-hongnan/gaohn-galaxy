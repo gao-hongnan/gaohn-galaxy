{
    "cells": [
        {
            "attachments": {},
            "cell_type": "markdown",
            "metadata": {},
            "source": [
                "# Movie Recommender System\n",
                "\n",
                "**TF-IDF is used in [the case document is as dimension](words-as-vectors-document-dimensions)\n",
                "and [the case term document matrix](term-document-matrix).**\n",
                "\n",
                "In this section, we will use TF-IDF and cosine similarity to build a recommender system for movies. "
            ]
        },
        {
            "cell_type": "code",
            "execution_count": 4,
            "metadata": {},
            "outputs": [],
            "source": [
                "from collections import OrderedDict\n",
                "\n",
                "import numpy as np\n",
                "import pandas as pd\n",
                "from datasets import load_dataset\n",
                "from rich.pretty import pprint\n",
                "from sklearn.feature_extraction.text import TfidfVectorizer\n",
                "from sklearn.metrics.pairwise import cosine_similarity, linear_kernel\n",
                "from datetime import datetime"
            ]
        },
        {
            "attachments": {},
            "cell_type": "markdown",
            "metadata": {},
            "source": [
                "Let's load the data and take a look at it."
            ]
        },
        {
            "cell_type": "code",
            "execution_count": 5,
            "metadata": {},
            "outputs": [
                {
                    "name": "stderr",
                    "output_type": "stream",
                    "text": [
                        "Found cached dataset csv (/Users/gaohn/.cache/huggingface/datasets/SandipPalit___csv/SandipPalit--Movie_Dataset-83bb53eb261b0039/0.0.0/6b34fb8fcf56f7c8ba51dc895bfa2bfbe43546f190a60fcf74bb5e8afdcc2317)\n"
                    ]
                },
                {
                    "data": {
                        "application/vnd.jupyter.widget-view+json": {
                            "model_id": "8cc5f12aef38473f85158436a5518651",
                            "version_major": 2,
                            "version_minor": 0
                        },
                        "text/plain": [
                            "  0%|          | 0/1 [00:00<?, ?it/s]"
                        ]
                    },
                    "metadata": {},
                    "output_type": "display_data"
                }
            ],
            "source": [
                "# Load the IMDb movie reviews dataset\n",
                "dataset = load_dataset(\"SandipPalit/Movie_Dataset\")"
            ]
        },
        {
            "attachments": {},
            "cell_type": "markdown",
            "metadata": {},
            "source": [
                "Let's take all data after the `Year=2000`."
            ]
        },
        {
            "cell_type": "code",
            "execution_count": 6,
            "metadata": {},
            "outputs": [
                {
                    "name": "stderr",
                    "output_type": "stream",
                    "text": [
                        "Loading cached processed dataset at /Users/gaohn/.cache/huggingface/datasets/SandipPalit___csv/SandipPalit--Movie_Dataset-83bb53eb261b0039/0.0.0/6b34fb8fcf56f7c8ba51dc895bfa2bfbe43546f190a60fcf74bb5e8afdcc2317/cache-941befd870621f22.arrow\n"
                    ]
                },
                {
                    "data": {
                        "text/plain": [
                            "DatasetDict({\n",
                            "    train: Dataset({\n",
                            "        features: ['Release Date', 'Title', 'Overview', 'Genre', 'Vote Average', 'Vote Count'],\n",
                            "        num_rows: 46064\n",
                            "    })\n",
                            "})"
                        ]
                    },
                    "execution_count": 6,
                    "metadata": {},
                    "output_type": "execute_result"
                }
            ],
            "source": [
                "YEAR = 2000\n",
                "\n",
                "dataset_cutoff = dataset.filter(lambda example: datetime.strptime(example[\"Release Date\"], \"%Y-%m-%d\").year > YEAR)\n",
                "dataset_cutoff"
            ]
        },
        {
            "attachments": {},
            "cell_type": "markdown",
            "metadata": {},
            "source": [
                "To get the dataset, we need to call the key `train`, obtaining our `train_dataset`.\n",
                "\n",
                "We will convert the `train_dataset` to a dataframe and take a look at it."
            ]
        },
        {
            "cell_type": "code",
            "execution_count": 7,
            "metadata": {},
            "outputs": [
                {
                    "name": "stdout",
                    "output_type": "stream",
                    "text": [
                        "Number of training examples: 46064\n"
                    ]
                },
                {
                    "data": {
                        "text/html": [
                            "<div>\n",
                            "<style scoped>\n",
                            "    .dataframe tbody tr th:only-of-type {\n",
                            "        vertical-align: middle;\n",
                            "    }\n",
                            "\n",
                            "    .dataframe tbody tr th {\n",
                            "        vertical-align: top;\n",
                            "    }\n",
                            "\n",
                            "    .dataframe thead th {\n",
                            "        text-align: right;\n",
                            "    }\n",
                            "</style>\n",
                            "<table border=\"1\" class=\"dataframe\">\n",
                            "  <thead>\n",
                            "    <tr style=\"text-align: right;\">\n",
                            "      <th></th>\n",
                            "      <th>Release Date</th>\n",
                            "      <th>Title</th>\n",
                            "      <th>Overview</th>\n",
                            "      <th>Genre</th>\n",
                            "      <th>Vote Average</th>\n",
                            "      <th>Vote Count</th>\n",
                            "    </tr>\n",
                            "  </thead>\n",
                            "  <tbody>\n",
                            "    <tr>\n",
                            "      <th>0</th>\n",
                            "      <td>2001-01-01</td>\n",
                            "      <td>Slashers</td>\n",
                            "      <td>Japan's number one extreme reality show is hav...</td>\n",
                            "      <td>['Horror', 'Thriller']</td>\n",
                            "      <td>5.5</td>\n",
                            "      <td>48</td>\n",
                            "    </tr>\n",
                            "    <tr>\n",
                            "      <th>1</th>\n",
                            "      <td>2001-01-01</td>\n",
                            "      <td>Serial Killers: The Real Life Hannibal Lecters</td>\n",
                            "      <td>This documentary examines a selection of real ...</td>\n",
                            "      <td>['Documentary']</td>\n",
                            "      <td>7.0</td>\n",
                            "      <td>13</td>\n",
                            "    </tr>\n",
                            "    <tr>\n",
                            "      <th>2</th>\n",
                            "      <td>2001-01-08</td>\n",
                            "      <td>The Proposal</td>\n",
                            "      <td>An undercover cop lets his job get personal wh...</td>\n",
                            "      <td>['Drama', 'Thriller']</td>\n",
                            "      <td>6.7</td>\n",
                            "      <td>10</td>\n",
                            "    </tr>\n",
                            "    <tr>\n",
                            "      <th>3</th>\n",
                            "      <td>2001-01-18</td>\n",
                            "      <td>Super Troopers</td>\n",
                            "      <td>Five bored, occasionally high and always ineff...</td>\n",
                            "      <td>['Comedy', 'Crime', 'Mystery']</td>\n",
                            "      <td>6.6</td>\n",
                            "      <td>856</td>\n",
                            "    </tr>\n",
                            "    <tr>\n",
                            "      <th>4</th>\n",
                            "      <td>2001-01-22</td>\n",
                            "      <td>Enigma</td>\n",
                            "      <td>The story of the WWII project to crack the cod...</td>\n",
                            "      <td>['Mystery', 'Drama', 'Thriller', 'Romance', 'W...</td>\n",
                            "      <td>6.4</td>\n",
                            "      <td>222</td>\n",
                            "    </tr>\n",
                            "  </tbody>\n",
                            "</table>\n",
                            "</div>"
                        ],
                        "text/plain": [
                            "  Release Date                                           Title  \\\n",
                            "0   2001-01-01                                        Slashers   \n",
                            "1   2001-01-01  Serial Killers: The Real Life Hannibal Lecters   \n",
                            "2   2001-01-08                                    The Proposal   \n",
                            "3   2001-01-18                                  Super Troopers   \n",
                            "4   2001-01-22                                          Enigma   \n",
                            "\n",
                            "                                            Overview  \\\n",
                            "0  Japan's number one extreme reality show is hav...   \n",
                            "1  This documentary examines a selection of real ...   \n",
                            "2  An undercover cop lets his job get personal wh...   \n",
                            "3  Five bored, occasionally high and always ineff...   \n",
                            "4  The story of the WWII project to crack the cod...   \n",
                            "\n",
                            "                                               Genre  Vote Average  Vote Count  \n",
                            "0                             ['Horror', 'Thriller']           5.5          48  \n",
                            "1                                    ['Documentary']           7.0          13  \n",
                            "2                              ['Drama', 'Thriller']           6.7          10  \n",
                            "3                     ['Comedy', 'Crime', 'Mystery']           6.6         856  \n",
                            "4  ['Mystery', 'Drama', 'Thriller', 'Romance', 'W...           6.4         222  "
                        ]
                    },
                    "execution_count": 7,
                    "metadata": {},
                    "output_type": "execute_result"
                }
            ],
            "source": [
                "train_dataset = dataset_cutoff[\"train\"]\n",
                "print(f\"Number of training examples: {len(train_dataset)}\")\n",
                "\n",
                "df_train = train_dataset.to_pandas()\n",
                "df_train.head()"
            ]
        },
        {
            "attachments": {},
            "cell_type": "markdown",
            "metadata": {},
            "source": [
                "We are interested in the `Overview` column, which contains the movie description and reviews.\n",
                "\n",
                "We define `X_train` to be the array containing all the reviews (`Overview` column).\n",
                "\n",
                "We will be less pedantic and not split a validation set."
            ]
        },
        {
            "cell_type": "code",
            "execution_count": 8,
            "metadata": {},
            "outputs": [],
            "source": [
                "X_train = train_dataset[\"Overview\"]\n",
                "X_train = np.array(X_train)"
            ]
        },
        {
            "attachments": {},
            "cell_type": "markdown",
            "metadata": {},
            "source": [
                "We will use the `TfidfVectorizer` from `sklearn` to convert the text to a matrix of TF-IDF features.\n",
                "This process can be treated as a **feature extraction** step."
            ]
        },
        {
            "cell_type": "code",
            "execution_count": 10,
            "metadata": {},
            "outputs": [
                {
                    "name": "stdout",
                    "output_type": "stream",
                    "text": [
                        "(46064, 73634)\n"
                    ]
                }
            ],
            "source": [
                "# Initialize an instance of tf-idf Vectorizer\n",
                "tfidf_vectorizer = TfidfVectorizer(stop_words=\"english\")\n",
                "\n",
                "# Generate the tf-idf vectors for the corpus\n",
                "X_train_tfidf = tfidf_vectorizer.fit_transform(X_train)\n",
                "print(X_train_tfidf.shape)"
            ]
        },
        {
            "attachments": {},
            "cell_type": "markdown",
            "metadata": {},
            "source": [
                "The shape tells us we have $D = 34,552$ documents and $T = 61,460$ unique words."
            ]
        },
        {
            "cell_type": "code",
            "execution_count": 17,
            "metadata": {},
            "outputs": [
                {
                    "data": {
                        "text/plain": [
                            "73634"
                        ]
                    },
                    "execution_count": 17,
                    "metadata": {},
                    "output_type": "execute_result"
                }
            ],
            "source": [
                "len(tfidf_vectorizer.vocabulary_)"
            ]
        },
        {
            "attachments": {},
            "cell_type": "markdown",
            "metadata": {},
            "source": [
                "We will use the `cosine_similarity` function from `sklearn.metrics.pairwise` to compute the cosine similarity between all movies.\n",
                "\n",
                "This means computing the cosine similarity between each document and all other documents in the corpus.\n",
                "\n",
                "Note that `cosine_similarity` takes in a matrix of `n_samples` by `n_features` and returns a matrix of `n_samples` by `n_samples`.\n",
                "So in our example, the documents should correspond to the rows and the features should correspond to the columns."
            ]
        },
        {
            "cell_type": "code",
            "execution_count": 13,
            "metadata": {},
            "outputs": [
                {
                    "name": "stdout",
                    "output_type": "stream",
                    "text": [
                        "(46064, 46064)\n",
                        "CPU times: user 20.7 s, sys: 23 s, total: 43.6 s\n",
                        "Wall time: 1min 3s\n"
                    ]
                }
            ],
            "source": [
                "%%time\n",
                "# compute and print the cosine similarity matrix\n",
                "cosine_sim = cosine_similarity(X_train_tfidf, X_train_tfidf)\n",
                "print(cosine_sim.shape)"
            ]
        },
        {
            "cell_type": "code",
            "execution_count": 14,
            "metadata": {},
            "outputs": [
                {
                    "name": "stdout",
                    "output_type": "stream",
                    "text": [
                        "(46064, 46064)\n",
                        "CPU times: user 22.3 s, sys: 23.2 s, total: 45.5 s\n",
                        "Wall time: 1min 8s\n"
                    ]
                }
            ],
            "source": [
                "%%time\n",
                "# compute and print the cosine similarity matrix\n",
                "cosine_sim_linear_kernel = linear_kernel(X_train_tfidf, X_train_tfidf)\n",
                "print(cosine_sim_linear_kernel.shape)"
            ]
        },
        {
            "attachments": {},
            "cell_type": "markdown",
            "metadata": {},
            "source": [
                "It is also known that `linear_kernel` has faster computation for very sparse and large\n",
                "TF-IDF matrices. They produce the same results."
            ]
        },
        {
            "attachments": {},
            "cell_type": "markdown",
            "metadata": {},
            "source": [
                "Next, how to interpret the cosine similarity matrix operated on the TF-IDF matrix?\n",
                "\n",
                "As mentioned earlier, the cosine similarity assumes your input is in the shape of `n_samples` by `n_features`.\n",
                "corresponding to the number of documents the number of unique words respectively.\n",
                "\n",
                "It returns a matrix of shape `n_samples` by `n_samples`. The value at the $d$-th row and $t$-th column is\n",
                "the cosine similarity between the $d$-th document and the $t$-th document denoted by:\n",
                "\n",
                "$$\n",
                "\\text{cosine similarity}_{d, t}\n",
                "$$\n",
                "\n",
                "Consequently, the matrix's diagonal is $1$ since the cosine similarity between a document and itself is $1$."
            ]
        },
        {
            "attachments": {},
            "cell_type": "markdown",
            "metadata": {},
            "source": [
                "The `recommender` function below is adapted from [here](https://goodboychan.github.io/python/datacamp/natural_language_processing/2020/07/17/04-TF-IDF-and-similarity-scores.html)."
            ]
        },
        {
            "cell_type": "code",
            "execution_count": 40,
            "metadata": {},
            "outputs": [],
            "source": [
                "def recommender(\n",
                "    title: str, df: pd.DataFrame, cosine_similarity: np.ndarray, top_k: int = 10\n",
                ") -> pd.DataFrame:\n",
                "    \"\"\"Recommends movies based on the cosine similarity matrix.\n",
                "\n",
                "    Args:\n",
                "        title (str): Title of the movie.\n",
                "        df (pd.DataFrame): DataFrame containing the movie dataset.\n",
                "        cosine_similarity (np.ndarray): Cosine similarity matrix.\n",
                "        top_k (int, optional): Number of top recommendations to return.\n",
                "            Defaults to 10.\n",
                "\n",
                "    Returns:\n",
                "        pd.DataFrame: DataFrame containing the top-k recommendations\n",
                "    \"\"\"\n",
                "    # Get the index of the movie that matches the title\n",
                "    idx = df[df[\"Title\"] == title].index[0]\n",
                "\n",
                "    # Get the pairwsie similarity scores of all movies with that movie\n",
                "    sim_scores = cosine_similarity[idx]\n",
                "    sim_scores = list(enumerate(sim_scores))\n",
                "    \n",
                "    # Sort the movies based on the similarity scores\n",
                "    sim_scores = sorted(sim_scores, key=lambda x: x[1], reverse=True)\n",
                "    \n",
                "    # Get the scores of the top-k most similar movies\n",
                "    top_k_sim_scores = sim_scores[1 : top_k + 1]\n",
                "    print(f\"Top-k most similar movies: {top_k_sim_scores}\")\n",
                "\n",
                "    # Get the movie indices\n",
                "    movie_indices = [i[0] for i in sim_scores]\n",
                "\n",
                "    # Return the top-k most similar movies\n",
                "    return df.iloc[movie_indices]\n"
            ]
        },
        {
            "cell_type": "code",
            "execution_count": 41,
            "metadata": {},
            "outputs": [
                {
                    "name": "stdout",
                    "output_type": "stream",
                    "text": [
                        "Top-k most similar movies: [(23394, 0.29454056287554864), (20422, 0.2233061848576633), (35928, 0.22283671049064951), (10068, 0.21846897815198668), (26940, 0.19796639860021925), (43614, 0.19603520822205336), (35961, 0.18803326815435364), (981, 0.1660633919733712), (7336, 0.16418589005672793), (10152, 0.16021138874781266)]\n"
                    ]
                },
                {
                    "data": {
                        "text/html": [
                            "<div>\n",
                            "<style scoped>\n",
                            "    .dataframe tbody tr th:only-of-type {\n",
                            "        vertical-align: middle;\n",
                            "    }\n",
                            "\n",
                            "    .dataframe tbody tr th {\n",
                            "        vertical-align: top;\n",
                            "    }\n",
                            "\n",
                            "    .dataframe thead th {\n",
                            "        text-align: right;\n",
                            "    }\n",
                            "</style>\n",
                            "<table border=\"1\" class=\"dataframe\">\n",
                            "  <thead>\n",
                            "    <tr style=\"text-align: right;\">\n",
                            "      <th></th>\n",
                            "      <th>Release Date</th>\n",
                            "      <th>Title</th>\n",
                            "      <th>Overview</th>\n",
                            "      <th>Genre</th>\n",
                            "      <th>Vote Average</th>\n",
                            "      <th>Vote Count</th>\n",
                            "    </tr>\n",
                            "  </thead>\n",
                            "  <tbody>\n",
                            "    <tr>\n",
                            "      <th>5427</th>\n",
                            "      <td>2012-08-21</td>\n",
                            "      <td>Batman: The Dark Knight Returns, Part 1</td>\n",
                            "      <td>Batman has not been seen for ten years. A new ...</td>\n",
                            "      <td>['Science Fiction', 'Action', 'Animation', 'My...</td>\n",
                            "      <td>7.8</td>\n",
                            "      <td>1255</td>\n",
                            "    </tr>\n",
                            "    <tr>\n",
                            "      <th>23394</th>\n",
                            "      <td>2016-08-04</td>\n",
                            "      <td>Batman: Bad Blood</td>\n",
                            "      <td>Bruce Wayne is missing. Alfred covers for him ...</td>\n",
                            "      <td>['Science Fiction', 'Action', 'Animation']</td>\n",
                            "      <td>7.2</td>\n",
                            "      <td>604</td>\n",
                            "    </tr>\n",
                            "    <tr>\n",
                            "      <th>20422</th>\n",
                            "      <td>2015-11-27</td>\n",
                            "      <td>Red Hood: The Fallen</td>\n",
                            "      <td>Following the Death of Batman, a new vigilante...</td>\n",
                            "      <td>['Action']</td>\n",
                            "      <td>6.5</td>\n",
                            "      <td>2</td>\n",
                            "    </tr>\n",
                            "    <tr>\n",
                            "      <th>35928</th>\n",
                            "      <td>2019-07-19</td>\n",
                            "      <td>Batman: Hush</td>\n",
                            "      <td>A mysterious new villain known only as Hush us...</td>\n",
                            "      <td>['Science Fiction', 'Crime', 'Animation', 'Mys...</td>\n",
                            "      <td>7.3</td>\n",
                            "      <td>657</td>\n",
                            "    </tr>\n",
                            "    <tr>\n",
                            "      <th>10068</th>\n",
                            "      <td>2013-09-16</td>\n",
                            "      <td>The Dark Knight Legacy</td>\n",
                            "      <td>A fan film imagining the world after Batman's ...</td>\n",
                            "      <td>['Action', 'Crime', 'Drama']</td>\n",
                            "      <td>2.0</td>\n",
                            "      <td>1</td>\n",
                            "    </tr>\n",
                            "    <tr>\n",
                            "      <th>...</th>\n",
                            "      <td>...</td>\n",
                            "      <td>...</td>\n",
                            "      <td>...</td>\n",
                            "      <td>...</td>\n",
                            "      <td>...</td>\n",
                            "      <td>...</td>\n",
                            "    </tr>\n",
                            "    <tr>\n",
                            "      <th>46057</th>\n",
                            "      <td>2022-09-16</td>\n",
                            "      <td>Land of Dreams</td>\n",
                            "      <td>Simin is an Iranian woman on a journey to disc...</td>\n",
                            "      <td>['Comedy']</td>\n",
                            "      <td>0.0</td>\n",
                            "      <td>0</td>\n",
                            "    </tr>\n",
                            "    <tr>\n",
                            "      <th>46058</th>\n",
                            "      <td>2022-09-28</td>\n",
                            "      <td>Poppy Field</td>\n",
                            "      <td>Poppy Field follows the struggle of a young Ro...</td>\n",
                            "      <td>['Drama', 'Romance']</td>\n",
                            "      <td>0.0</td>\n",
                            "      <td>0</td>\n",
                            "    </tr>\n",
                            "    <tr>\n",
                            "      <th>46060</th>\n",
                            "      <td>2022-10-13</td>\n",
                            "      <td>Czyściec</td>\n",
                            "      <td>From the earliest times, people have wondered ...</td>\n",
                            "      <td>['Drama']</td>\n",
                            "      <td>0.0</td>\n",
                            "      <td>0</td>\n",
                            "    </tr>\n",
                            "    <tr>\n",
                            "      <th>46062</th>\n",
                            "      <td>2022-11-03</td>\n",
                            "      <td>Заступница</td>\n",
                            "      <td>In the center of the plot is the Vatican list ...</td>\n",
                            "      <td>['Documentary']</td>\n",
                            "      <td>0.0</td>\n",
                            "      <td>0</td>\n",
                            "    </tr>\n",
                            "    <tr>\n",
                            "      <th>46063</th>\n",
                            "      <td>2022-11-03</td>\n",
                            "      <td>Hosanna</td>\n",
                            "      <td>About the life of Elizabeth Feodorovna, sister...</td>\n",
                            "      <td>['Documentary']</td>\n",
                            "      <td>0.0</td>\n",
                            "      <td>0</td>\n",
                            "    </tr>\n",
                            "  </tbody>\n",
                            "</table>\n",
                            "<p>46064 rows × 6 columns</p>\n",
                            "</div>"
                        ],
                        "text/plain": [
                            "      Release Date                                    Title  \\\n",
                            "5427    2012-08-21  Batman: The Dark Knight Returns, Part 1   \n",
                            "23394   2016-08-04                        Batman: Bad Blood   \n",
                            "20422   2015-11-27                     Red Hood: The Fallen   \n",
                            "35928   2019-07-19                             Batman: Hush   \n",
                            "10068   2013-09-16                   The Dark Knight Legacy   \n",
                            "...            ...                                      ...   \n",
                            "46057   2022-09-16                           Land of Dreams   \n",
                            "46058   2022-09-28                              Poppy Field   \n",
                            "46060   2022-10-13                                 Czyściec   \n",
                            "46062   2022-11-03                               Заступница   \n",
                            "46063   2022-11-03                                  Hosanna   \n",
                            "\n",
                            "                                                Overview  \\\n",
                            "5427   Batman has not been seen for ten years. A new ...   \n",
                            "23394  Bruce Wayne is missing. Alfred covers for him ...   \n",
                            "20422  Following the Death of Batman, a new vigilante...   \n",
                            "35928  A mysterious new villain known only as Hush us...   \n",
                            "10068  A fan film imagining the world after Batman's ...   \n",
                            "...                                                  ...   \n",
                            "46057  Simin is an Iranian woman on a journey to disc...   \n",
                            "46058  Poppy Field follows the struggle of a young Ro...   \n",
                            "46060  From the earliest times, people have wondered ...   \n",
                            "46062  In the center of the plot is the Vatican list ...   \n",
                            "46063  About the life of Elizabeth Feodorovna, sister...   \n",
                            "\n",
                            "                                                   Genre  Vote Average  \\\n",
                            "5427   ['Science Fiction', 'Action', 'Animation', 'My...           7.8   \n",
                            "23394         ['Science Fiction', 'Action', 'Animation']           7.2   \n",
                            "20422                                         ['Action']           6.5   \n",
                            "35928  ['Science Fiction', 'Crime', 'Animation', 'Mys...           7.3   \n",
                            "10068                       ['Action', 'Crime', 'Drama']           2.0   \n",
                            "...                                                  ...           ...   \n",
                            "46057                                         ['Comedy']           0.0   \n",
                            "46058                               ['Drama', 'Romance']           0.0   \n",
                            "46060                                          ['Drama']           0.0   \n",
                            "46062                                    ['Documentary']           0.0   \n",
                            "46063                                    ['Documentary']           0.0   \n",
                            "\n",
                            "       Vote Count  \n",
                            "5427         1255  \n",
                            "23394         604  \n",
                            "20422           2  \n",
                            "35928         657  \n",
                            "10068           1  \n",
                            "...           ...  \n",
                            "46057           0  \n",
                            "46058           0  \n",
                            "46060           0  \n",
                            "46062           0  \n",
                            "46063           0  \n",
                            "\n",
                            "[46064 rows x 6 columns]"
                        ]
                    },
                    "execution_count": 41,
                    "metadata": {},
                    "output_type": "execute_result"
                }
            ],
            "source": [
                "recommender(title=\"Batman: The Dark Knight Returns, Part 1\", df = df_train, cosine_similarity=cosine_sim_linear_kernel)"
            ]
        },
        {
            "attachments": {},
            "cell_type": "markdown",
            "metadata": {},
            "source": [
                "With just TF-IDF and the cosine similiarity metric, we can already\n",
                "build a somewhat naive recommender system."
            ]
        },
        {
            "cell_type": "code",
            "execution_count": null,
            "metadata": {},
            "outputs": [],
            "source": [
                "df_train[df_train[\"Title\"].str.contains(\"Batman\")]"
            ]
        },
        {
            "attachments": {},
            "cell_type": "markdown",
            "metadata": {},
            "source": [
                "## References and Further Readings\n",
                "\n",
                "- [Goodboychan: TF-IDF and similarity scores](https://goodboychan.github.io/python/datacamp/natural_language_processing/2020/07/17/04-TF-IDF-and-similarity-scores.html)"
            ]
        }
    ],
    "metadata": {
        "kernelspec": {
            "display_name": "gaohn",
            "language": "python",
            "name": "python3"
        },
        "language_info": {
            "codemirror_mode": {
                "name": "ipython",
                "version": 3
            },
            "file_extension": ".py",
            "mimetype": "text/x-python",
            "name": "python",
            "nbconvert_exporter": "python",
            "pygments_lexer": "ipython3",
            "version": "3.9.16"
        },
        "orig_nbformat": 4,
        "vscode": {
            "interpreter": {
                "hash": "dcd450edf2a38ed593ba5af012e093d4d4ca63d14078fa56cd9563b2046eb57e"
            }
        }
    },
    "nbformat": 4,
    "nbformat_minor": 2
}
