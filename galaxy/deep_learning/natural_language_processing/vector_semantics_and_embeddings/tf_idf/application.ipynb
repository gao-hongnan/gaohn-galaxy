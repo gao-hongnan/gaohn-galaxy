{
 "cells": [
  {
   "attachments": {},
   "cell_type": "markdown",
   "metadata": {},
   "source": [
    "# Movie Recommender System\n",
    "\n",
    "**TF-IDF is used in [the case document is as dimension](words-as-vectors-document-dimensions)\n",
    "and [the case term document matrix](term-document-matrix).**\n",
    "\n",
    "In this section, we will use TF-IDF and cosine similarity to build a recommender system for movies. "
   ]
  },
  {
   "cell_type": "code",
   "execution_count": null,
   "metadata": {},
   "outputs": [],
   "source": [
    "from collections import OrderedDict\n",
    "\n",
    "import numpy as np\n",
    "import pandas as pd\n",
    "from datasets import load_dataset\n",
    "from rich.pretty import pprint\n",
    "from sklearn.feature_extraction.text import TfidfVectorizer\n",
    "from sklearn.metrics.pairwise import cosine_similarity, linear_kernel\n",
    "from datetime import datetime"
   ]
  },
  {
   "attachments": {},
   "cell_type": "markdown",
   "metadata": {},
   "source": [
    "Let's load the data and take a look at it."
   ]
  },
  {
   "cell_type": "code",
   "execution_count": null,
   "metadata": {},
   "outputs": [],
   "source": [
    "# Load the IMDb movie reviews dataset\n",
    "dataset = load_dataset(\"SandipPalit/Movie_Dataset\")"
   ]
  },
  {
   "cell_type": "code",
   "execution_count": null,
   "metadata": {},
   "outputs": [],
   "source": [
    "YEAR = 2000\n",
    "\n",
    "dataset_cutoff = dataset.filter(lambda example: datetime.strptime(example[\"Release Date\"], \"%Y-%m-%d\").year > YEAR)\n",
    "dataset_cutoff"
   ]
  },
  {
   "attachments": {},
   "cell_type": "markdown",
   "metadata": {},
   "source": [
    "To get the dataset, we need to call the key `train`, obtaining our `train_dataset`.\n",
    "\n",
    "We will convert the `train_dataset` to a dataframe and take a look at it."
   ]
  },
  {
   "cell_type": "code",
   "execution_count": null,
   "metadata": {},
   "outputs": [],
   "source": [
    "train_dataset = dataset_cutoff[\"train\"]\n",
    "print(f\"Number of training examples: {len(train_dataset)}\")\n",
    "\n",
    "df_train = train_dataset.to_pandas()\n",
    "df_train.head()"
   ]
  },
  {
   "attachments": {},
   "cell_type": "markdown",
   "metadata": {},
   "source": [
    "We are interested in the `Overview` column, which contains the movie description and reviews.\n",
    "\n",
    "We define `X_train` to be the array containing all the reviews (`Overview` column).\n",
    "\n",
    "We will be less pedantic and not split a validation set."
   ]
  },
  {
   "cell_type": "code",
   "execution_count": null,
   "metadata": {},
   "outputs": [],
   "source": [
    "X_train = train_dataset[\"Overview\"]\n",
    "X_train = np.array(X_train)"
   ]
  },
  {
   "attachments": {},
   "cell_type": "markdown",
   "metadata": {},
   "source": [
    "We will use the `TfidfVectorizer` from `sklearn` to convert the text to a matrix of TF-IDF features.\n",
    "This process can be treated as a **feature extraction** step."
   ]
  },
  {
   "cell_type": "code",
   "execution_count": null,
   "metadata": {},
   "outputs": [],
   "source": [
    "# Initialize an instance of tf-idf Vectorizer\n",
    "tfidf_vectorizer = TfidfVectorizer(stop_words=\"english\")\n",
    "\n",
    "# Generate the tf-idf vectors for the corpus\n",
    "X_train_tfidf = tfidf_vectorizer.fit_transform(X_train)\n",
    "print(X_train_tfidf.shape)"
   ]
  },
  {
   "attachments": {},
   "cell_type": "markdown",
   "metadata": {},
   "source": [
    "The shape tells us we have $D = 34,552$ documents and $T = 61,460$ unique words."
   ]
  },
  {
   "cell_type": "code",
   "execution_count": null,
   "metadata": {},
   "outputs": [],
   "source": [
    "len(tfidf_vectorizer.vocabulary_)"
   ]
  },
  {
   "attachments": {},
   "cell_type": "markdown",
   "metadata": {},
   "source": [
    "We will use the `cosine_similarity` function from `sklearn.metrics.pairwise` to compute the cosine similarity between all movies.\n",
    "\n",
    "This means computing the cosine similarity between each document and all other documents in the corpus.\n",
    "\n",
    "Note that `cosine_similarity` takes in a matrix of `n_samples` by `n_features` and returns a matrix of `n_samples` by `n_samples`.\n",
    "So in our example, the documents should correspond to the rows and the features should correspond to the columns."
   ]
  },
  {
   "cell_type": "code",
   "execution_count": null,
   "metadata": {},
   "outputs": [],
   "source": [
    "# %%time\n",
    "# compute and print the cosine similarity matrix\n",
    "cosine_sim = cosine_similarity(X_train_tfidf, X_train_tfidf)\n",
    "print(cosine_sim.shape)"
   ]
  },
  {
   "cell_type": "code",
   "execution_count": null,
   "metadata": {},
   "outputs": [],
   "source": [
    "# %%time\n",
    "# compute and print the cosine similarity matrix\n",
    "cosine_sim_linear_kernel = linear_kernel(X_train_tfidf, X_train_tfidf)\n",
    "print(cosine_sim_linear_kernel.shape)"
   ]
  },
  {
   "attachments": {},
   "cell_type": "markdown",
   "metadata": {},
   "source": [
    "It is also known that `linear_kernel` has faster computation for very sparse and large\n",
    "TF-IDF matrices. They produce the same results."
   ]
  },
  {
   "attachments": {},
   "cell_type": "markdown",
   "metadata": {},
   "source": [
    "Next, how to interpret the cosine similarity matrix operated on the TF-IDF matrix?\n",
    "\n",
    "As mentioned earlier, the cosine similarity assumes your input is in the shape of `n_samples` by `n_features`.\n",
    "corresponding to the number of documents the number of unique words respectively.\n",
    "\n",
    "It returns a matrix of shape `n_samples` by `n_samples`. The value at the $d$-th row and $t$-th column is\n",
    "the cosine similarity between the $d$-th document and the $t$-th document denoted by:\n",
    "\n",
    "$$\n",
    "\\text{cosine similarity}_{d, t}\n",
    "$$\n",
    "\n",
    "Consequently, the matrix's diagonal is $1$ since the cosine similarity between a document and itself is $1$."
   ]
  },
  {
   "attachments": {},
   "cell_type": "markdown",
   "metadata": {},
   "source": [
    "The `recommender` function below is adapted from [here](https://goodboychan.github.io/python/datacamp/natural_language_processing/2020/07/17/04-TF-IDF-and-similarity-scores.html)."
   ]
  },
  {
   "cell_type": "code",
   "execution_count": null,
   "metadata": {},
   "outputs": [],
   "source": [
    "def recommender(\n",
    "    title: str, df: pd.DataFrame, cosine_similarity: np.ndarray, top_k: int = 10\n",
    ") -> pd.DataFrame:\n",
    "    \"\"\"Recommends movies based on the cosine similarity matrix.\n",
    "\n",
    "    Args:\n",
    "        title (str): Title of the movie.\n",
    "        df (pd.DataFrame): DataFrame containing the movie dataset.\n",
    "        cosine_similarity (np.ndarray): Cosine similarity matrix.\n",
    "        top_k (int, optional): Number of top recommendations to return.\n",
    "            Defaults to 10.\n",
    "\n",
    "    Returns:\n",
    "        pd.DataFrame: DataFrame containing the top-k recommendations\n",
    "    \"\"\"\n",
    "    # Get the index of the movie that matches the title\n",
    "    idx = df[df[\"Title\"] == title].index[0]\n",
    "\n",
    "    # Get the pairwsie similarity scores of all movies with that movie\n",
    "    sim_scores = cosine_similarity[idx]\n",
    "    sim_scores = list(enumerate(sim_scores))\n",
    "    \n",
    "    # Sort the movies based on the similarity scores\n",
    "    sim_scores = sorted(sim_scores, key=lambda x: x[1], reverse=True)\n",
    "    \n",
    "    # Get the scores of the top-k most similar movies\n",
    "    top_k_sim_scores = sim_scores[1 : top_k + 1]\n",
    "    print(f\"Top-k most similar movies: {top_k_sim_scores}\")\n",
    "\n",
    "    # Get the movie indices\n",
    "    movie_indices = [i[0] for i in sim_scores]\n",
    "\n",
    "    # Return the top-k most similar movies\n",
    "    return df.iloc[movie_indices]\n"
   ]
  },
  {
   "cell_type": "code",
   "execution_count": null,
   "metadata": {},
   "outputs": [],
   "source": [
    "recommender(title=\"Batman: The Dark Knight Returns, Part 1\", df = df_train, cosine_similarity=cosine_sim_linear_kernel)"
   ]
  },
  {
   "attachments": {},
   "cell_type": "markdown",
   "metadata": {},
   "source": [
    "With just TF-IDF and the cosine similiarity metric, we can already\n",
    "build a somewhat naive recommender system."
   ]
  },
  {
   "cell_type": "code",
   "execution_count": null,
   "metadata": {},
   "outputs": [],
   "source": [
    "df_train[df_train[\"Title\"].str.contains(\"Batman\")]"
   ]
  },
  {
   "attachments": {},
   "cell_type": "markdown",
   "metadata": {},
   "source": [
    "## References and Further Readings\n",
    "\n",
    "- [Goodboychan: TF-IDF and similarity scores](https://goodboychan.github.io/python/datacamp/natural_language_processing/2020/07/17/04-TF-IDF-and-similarity-scores.html)"
   ]
  }
 ],
 "metadata": {
  "kernelspec": {
   "display_name": "gaohn-galaxy",
   "language": "python",
   "name": "python3"
  },
  "language_info": {
   "name": "python",
   "version": "3.9.16"
  },
  "orig_nbformat": 4
 },
 "nbformat": 4,
 "nbformat_minor": 2
}
